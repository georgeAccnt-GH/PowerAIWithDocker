{
 "cells": [
  {
   "cell_type": "markdown",
   "metadata": {},
   "source": [
    "### Create env for notebook that creates AML SDK docker file"
   ]
  },
  {
   "cell_type": "code",
   "execution_count": 1,
   "metadata": {},
   "outputs": [],
   "source": [
    "# Allow multiple displays per cell\n",
    "from IPython.core.interactiveshell import InteractiveShell\n",
    "InteractiveShell.ast_node_interactivity = \"all\" "
   ]
  },
  {
   "cell_type": "code",
   "execution_count": 2,
   "metadata": {},
   "outputs": [],
   "source": [
    "CONTROL_PLANE_CONDA_ENV_NAME = 'azureml_sdk_control_plane_conda_env'\n"
   ]
  },
  {
   "cell_type": "code",
   "execution_count": 3,
   "metadata": {},
   "outputs": [],
   "source": [
    "import os, subprocess, platform"
   ]
  },
  {
   "cell_type": "code",
   "execution_count": 4,
   "metadata": {},
   "outputs": [
    {
     "data": {
      "text/plain": [
       "'Linux-4.15.0-1066-azure-x86_64-with-debian-stretch-sid'"
      ]
     },
     "execution_count": 4,
     "metadata": {},
     "output_type": "execute_result"
    }
   ],
   "source": [
    "platform.platform()"
   ]
  },
  {
   "cell_type": "code",
   "execution_count": 5,
   "metadata": {},
   "outputs": [
    {
     "data": {
      "text/plain": [
       "'/datadrive01/prj/PowerAIWithDocker/amlsdk/control_plane_conda_dep_file.yml'"
      ]
     },
     "execution_count": 5,
     "metadata": {},
     "output_type": "execute_result"
    }
   ],
   "source": [
    "conda_dependency_file = 'control_plane_conda_dep_file.yml'\n",
    "conda_dependency_file_path = os.path.join(*([os.getcwd()]+[conda_dependency_file]))\n",
    "\n",
    "conda_dependency_file_path"
   ]
  },
  {
   "cell_type": "code",
   "execution_count": 6,
   "metadata": {},
   "outputs": [
    {
     "name": "stdout",
     "output_type": "stream",
     "text": [
      "Writing /datadrive01/prj/PowerAIWithDocker/amlsdk/control_plane_conda_dep_file.yml\n"
     ]
    }
   ],
   "source": [
    "%%writefile $conda_dependency_file_path\n",
    "name: azureml_sdk_control_plane_conda_env\n",
    "    \n",
    "channels:\n",
    "  - anaconda\n",
    "  - conda-forge\n",
    "dependencies:\n",
    "  - python=3.7 # 3.6 req by tf, which seems to be req by automl, not 3.7.2 \n",
    "  - pip\n",
    "  - jupytext\n",
    "  - pip:\n",
    "    - python-dotenv\n",
    "    - papermill[azure]"
   ]
  },
  {
   "cell_type": "code",
   "execution_count": 8,
   "metadata": {},
   "outputs": [
    {
     "data": {
      "text/plain": [
       "'conda env create -q --name azureml_sdk_control_plane_conda_env -f /datadrive01/prj/PowerAIWithDocker/amlsdk/control_plane_conda_dep_file.yml && conda activate azureml_sdk_control_plane_conda_env'"
      ]
     },
     "execution_count": 8,
     "metadata": {},
     "output_type": "execute_result"
    },
    {
     "data": {
      "text/plain": [
       "'Collecting package metadata (repodata.json): ...working... done\\nSolving environment: ...working... done\\nPreparing transaction: ...working... done\\nVerifying transaction: ...working... done\\nExecuting transaction: ...working... done\\nRan pip subprocess with arguments:\\n[u\\'/data/anaconda/envs/azureml_sdk_control_plane_conda_env/bin/python\\', \\'-m\\', \\'pip\\', \\'install\\', \\'-U\\', \\'-r\\', \\'/datadrive01/prj/PowerAIWithDocker/amlsdk/tmpwft2Ih.requirements.txt\\']\\nPip subprocess output:\\nCollecting python-dotenv\\n  Downloading https://files.pythonhosted.org/packages/65/16/43f00b087c7f3f20a8d8dc16d6f6e2eff4e662afcb31ec4a31535a5be244/python-dotenv-0.10.5.tar.gz\\n  Installing build dependencies: started\\n  Installing build dependencies: finished with status \\'done\\'\\n  Getting requirements to build wheel: started\\n  Getting requirements to build wheel: finished with status \\'done\\'\\n    Preparing wheel metadata: started\\n    Preparing wheel metadata: finished with status \\'done\\'\\nCollecting papermill[azure]\\n  Using cached https://files.pythonhosted.org/packages/7f/67/338f08d7950c27d6cfe580cf4d1995600e368f584469cffb8d557fe51ab5/papermill-1.2.1-py2.py3-none-any.whl\\nCollecting ansiwrap\\n  Using cached https://files.pythonhosted.org/packages/03/50/43e775a63e0d632d9be3b3fa1c9b2cbaf3b7870d203655710a3426f47c26/ansiwrap-0.8.4-py2.py3-none-any.whl\\nCollecting click\\n  Using cached https://files.pythonhosted.org/packages/fa/37/45185cb5abbc30d7257104c434fe0b07e5a195a6847506c074527aa599ec/Click-7.0-py2.py3-none-any.whl\\nCollecting jupyter-client\\n  Downloading https://files.pythonhosted.org/packages/13/81/fe0eee1bcf949851a120254b1f530ae1e01bdde2d3ab9710c6ff81525061/jupyter_client-5.3.4-py2.py3-none-any.whl (92kB)\\nRequirement already satisfied, skipping upgrade: pyyaml in /data/anaconda/envs/azureml_sdk_control_plane_conda_env/lib/python3.7/site-packages (from papermill[azure]->-r /datadrive01/prj/PowerAIWithDocker/amlsdk/tmpwft2Ih.requirements.txt (line 2)) (5.2)\\nCollecting requests\\n  Using cached https://files.pythonhosted.org/packages/51/bd/23c926cd341ea6b7dd0b2a00aba99ae0f828be89d72b2190f27c11d4b7fb/requests-2.22.0-py2.py3-none-any.whl\\nCollecting tenacity\\n  Using cached https://files.pythonhosted.org/packages/bf/d4/8cab4b5239ddb62d950243abff9e88046bb61737ce3eee8694b3d748560c/tenacity-6.0.0-py2.py3-none-any.whl\\nCollecting entrypoints\\n  Downloading https://files.pythonhosted.org/packages/ac/c6/44694103f8c221443ee6b0041f69e2740d89a25641e62fb4f2ee568f2f9c/entrypoints-0.3-py2.py3-none-any.whl\\nProcessing /home/loginvm0_1/.cache/pip/wheels/8b/99/a0/81daf51dcd359a9377b110a8a886b3895921802d2fc1b2397e/future-0.18.2-cp37-none-any.whl\\nRequirement already satisfied, skipping upgrade: six in /data/anaconda/envs/azureml_sdk_control_plane_conda_env/lib/python3.7/site-packages (from papermill[azure]->-r /datadrive01/prj/PowerAIWithDocker/amlsdk/tmpwft2Ih.requirements.txt (line 2)) (1.13.0)\\nCollecting nbconvert>=5.5\\n  Downloading https://files.pythonhosted.org/packages/79/6c/05a569e9f703d18aacb89b7ad6075b404e8a4afde2c26b73ca77bb644b14/nbconvert-5.6.1-py2.py3-none-any.whl (455kB)\\nCollecting tqdm>=4.32.2\\n  Downloading https://files.pythonhosted.org/packages/72/c9/7fc20feac72e79032a7c8138fd0d395dc6d8812b5b9edf53c3afd0b31017/tqdm-4.41.1-py2.py3-none-any.whl (56kB)\\nRequirement already satisfied, skipping upgrade: nbformat in /data/anaconda/envs/azureml_sdk_control_plane_conda_env/lib/python3.7/site-packages (from papermill[azure]->-r /datadrive01/prj/PowerAIWithDocker/amlsdk/tmpwft2Ih.requirements.txt (line 2)) (4.4.0)\\nCollecting azure-datalake-store>=0.0.30; extra == \"azure\"\\n  Using cached https://files.pythonhosted.org/packages/27/9a/e7140775b3f8f011ef5d001c12a3519310094375671950105519e30bb12b/azure_datalake_store-0.0.48-py2.py3-none-any.whl\\nCollecting azure-storage-blob; extra == \"azure\"\\n  Using cached https://files.pythonhosted.org/packages/02/16/988b90dd1506c7508bf83624daa23ad9a137a637c0094ab37fd8850b7bd1/azure_storage_blob-12.1.0-py2.py3-none-any.whl\\nCollecting textwrap3>=0.9.2\\n  Using cached https://files.pythonhosted.org/packages/77/9c/a53e561d496ee5866bbeea4d3a850b3b545ed854f8a21007c1e0d872e94d/textwrap3-0.9.2-py2.py3-none-any.whl\\nCollecting tornado>=4.1\\n  Downloading https://files.pythonhosted.org/packages/30/78/2d2823598496127b21423baffaa186b668f73cd91887fcef78b6eade136b/tornado-6.0.3.tar.gz (482kB)\\nCollecting python-dateutil>=2.1\\n  Downloading https://files.pythonhosted.org/packages/d4/70/d60450c3dd48ef87586924207ae8907090de0b306af2bce5d134d78615cb/python_dateutil-2.8.1-py2.py3-none-any.whl (227kB)\\nCollecting pyzmq>=13\\n  Downloading https://files.pythonhosted.org/packages/bf/dd/547bee2080beefe6546c332422cb0f189b3cd71cfff048146cd9ac3751cc/pyzmq-18.1.1-cp37-cp37m-manylinux1_x86_64.whl (1.1MB)\\nRequirement already satisfied, skipping upgrade: traitlets in /data/anaconda/envs/azureml_sdk_control_plane_conda_env/lib/python3.7/site-packages (from jupyter-client->papermill[azure]->-r /datadrive01/prj/PowerAIWithDocker/amlsdk/tmpwft2Ih.requirements.txt (line 2)) (4.3.3)\\nRequirement already satisfied, skipping upgrade: jupyter-core>=4.6.0 in /data/anaconda/envs/azureml_sdk_control_plane_conda_env/lib/python3.7/site-packages (from jupyter-client->papermill[azure]->-r /datadrive01/prj/PowerAIWithDocker/amlsdk/tmpwft2Ih.requirements.txt (line 2)) (4.6.1)\\nCollecting chardet<3.1.0,>=3.0.2\\n  Using cached https://files.pythonhosted.org/packages/bc/a9/01ffebfb562e4274b6487b4bb1ddec7ca55ec7510b22e4c51f14098443b8/chardet-3.0.4-py2.py3-none-any.whl\\nCollecting idna<2.9,>=2.5\\n  Using cached https://files.pythonhosted.org/packages/14/2c/cd551d81dbe15200be1cf41cd03869a46fe7226e7450af7a6545bfc474c9/idna-2.8-py2.py3-none-any.whl\\nCollecting urllib3!=1.25.0,!=1.25.1,<1.26,>=1.21.1\\n  Using cached https://files.pythonhosted.org/packages/b4/40/a9837291310ee1ccc242ceb6ebfd9eb21539649f193a7c8c86ba15b98539/urllib3-1.25.7-py2.py3-none-any.whl\\nRequirement already satisfied, skipping upgrade: certifi>=2017.4.17 in /data/anaconda/envs/azureml_sdk_control_plane_conda_env/lib/python3.7/site-packages (from requests->papermill[azure]->-r /datadrive01/prj/PowerAIWithDocker/amlsdk/tmpwft2Ih.requirements.txt (line 2)) (2019.11.28)\\nCollecting testpath\\n  Downloading https://files.pythonhosted.org/packages/1b/9e/1a170feaa54f22aeb5a5d16c9015e82234275a3c8ab630b552493f9cb8a9/testpath-0.4.4-py2.py3-none-any.whl (163kB)\\nCollecting bleach\\n  Downloading https://files.pythonhosted.org/packages/ab/05/27e1466475e816d3001efb6e0a85a819be17411420494a1e602c36f8299d/bleach-3.1.0-py2.py3-none-any.whl (157kB)\\nCollecting defusedxml\\n  Downloading https://files.pythonhosted.org/packages/06/74/9b387472866358ebc08732de3da6dc48e44b0aacd2ddaa5cb85ab7e986a2/defusedxml-0.6.0-py2.py3-none-any.whl\\nCollecting pandocfilters>=1.4.1\\n  Downloading https://files.pythonhosted.org/packages/4c/ea/236e2584af67bb6df960832731a6e5325fd4441de001767da328c33368ce/pandocfilters-1.4.2.tar.gz\\nCollecting jinja2>=2.4\\n  Downloading https://files.pythonhosted.org/packages/65/e0/eb35e762802015cab1ccee04e8a277b03f1d8e53da3ec3106882ec42558b/Jinja2-2.10.3-py2.py3-none-any.whl (125kB)\\nCollecting pygments\\n  Downloading https://files.pythonhosted.org/packages/be/39/32da3184734730c0e4d3fa3b2b5872104668ad6dc1b5a73d8e477e5fe967/Pygments-2.5.2-py2.py3-none-any.whl (896kB)\\nCollecting mistune<2,>=0.8.1\\n  Downloading https://files.pythonhosted.org/packages/09/ec/4b43dae793655b7d8a25f76119624350b4d65eb663459eb9603d7f1f0345/mistune-0.8.4-py2.py3-none-any.whl\\nRequirement already satisfied, skipping upgrade: ipython-genutils in /data/anaconda/envs/azureml_sdk_control_plane_conda_env/lib/python3.7/site-packages (from nbformat->papermill[azure]->-r /datadrive01/prj/PowerAIWithDocker/amlsdk/tmpwft2Ih.requirements.txt (line 2)) (0.2.0)\\nRequirement already satisfied, skipping upgrade: jsonschema!=2.5.0,>=2.4 in /data/anaconda/envs/azureml_sdk_control_plane_conda_env/lib/python3.7/site-packages (from nbformat->papermill[azure]->-r /datadrive01/prj/PowerAIWithDocker/amlsdk/tmpwft2Ih.requirements.txt (line 2)) (3.2.0)\\nCollecting cffi\\n  Using cached https://files.pythonhosted.org/packages/16/cd/1f4ddf6be8300713c676bb9f3a2d3b8eb8accc0a6a24f57d4f6c4cd59d34/cffi-1.13.2-cp37-cp37m-manylinux1_x86_64.whl\\nCollecting adal>=0.4.2\\n  Using cached https://files.pythonhosted.org/packages/4f/b5/3ea9ae3d1096b9ff31e8f1846c47d49f3129a12464ac0a73b602de458298/adal-1.2.2-py2.py3-none-any.whl\\nCollecting msrest>=0.6.10\\n  Using cached https://files.pythonhosted.org/packages/27/b0/c34b3ea9b2ed74b800520fbefb312cdb7f05c20b8bd42e5e7662a5614f98/msrest-0.6.10-py2.py3-none-any.whl\\nCollecting cryptography>=2.1.4\\n  Using cached https://files.pythonhosted.org/packages/ca/9a/7cece52c46546e214e10811b36b2da52ce1ea7fa203203a629b8dfadad53/cryptography-2.8-cp34-abi3-manylinux2010_x86_64.whl\\nCollecting azure-core<2.0.0,>=1.1.0\\n  Downloading https://files.pythonhosted.org/packages/ce/a9/83145b00f09f043610e2e1dd6486cf32876d137455723486348dc9abc074/azure_core-1.2.1-py2.py3-none-any.whl (104kB)\\nRequirement already satisfied, skipping upgrade: decorator in /data/anaconda/envs/azureml_sdk_control_plane_conda_env/lib/python3.7/site-packages (from traitlets->jupyter-client->papermill[azure]->-r /datadrive01/prj/PowerAIWithDocker/amlsdk/tmpwft2Ih.requirements.txt (line 2)) (4.4.1)\\nCollecting webencodings\\n  Downloading https://files.pythonhosted.org/packages/f4/24/2a3e3df732393fed8b3ebf2ec078f05546de641fe1b667ee316ec1dcf3b7/webencodings-0.5.1-py2.py3-none-any.whl\\nCollecting MarkupSafe>=0.23\\n  Downloading https://files.pythonhosted.org/packages/98/7b/ff284bd8c80654e471b769062a9b43cc5d03e7a615048d96f4619df8d420/MarkupSafe-1.1.1-cp37-cp37m-manylinux1_x86_64.whl\\nRequirement already satisfied, skipping upgrade: setuptools in /data/anaconda/envs/azureml_sdk_control_plane_conda_env/lib/python3.7/site-packages (from jsonschema!=2.5.0,>=2.4->nbformat->papermill[azure]->-r /datadrive01/prj/PowerAIWithDocker/amlsdk/tmpwft2Ih.requirements.txt (line 2)) (44.0.0.post20200106)\\nRequirement already satisfied, skipping upgrade: pyrsistent>=0.14.0 in /data/anaconda/envs/azureml_sdk_control_plane_conda_env/lib/python3.7/site-packages (from jsonschema!=2.5.0,>=2.4->nbformat->papermill[azure]->-r /datadrive01/prj/PowerAIWithDocker/amlsdk/tmpwft2Ih.requirements.txt (line 2)) (0.15.6)\\nRequirement already satisfied, skipping upgrade: importlib-metadata; python_version < \"3.8\" in /data/anaconda/envs/azureml_sdk_control_plane_conda_env/lib/python3.7/site-packages (from jsonschema!=2.5.0,>=2.4->nbformat->papermill[azure]->-r /datadrive01/prj/PowerAIWithDocker/amlsdk/tmpwft2Ih.requirements.txt (line 2)) (1.3.0)\\nRequirement already satisfied, skipping upgrade: attrs>=17.4.0 in /data/anaconda/envs/azureml_sdk_control_plane_conda_env/lib/python3.7/site-packages (from jsonschema!=2.5.0,>=2.4->nbformat->papermill[azure]->-r /datadrive01/prj/PowerAIWithDocker/amlsdk/tmpwft2Ih.requirements.txt (line 2)) (19.3.0)\\nProcessing /home/loginvm0_1/.cache/pip/wheels/f2/9a/90/de94f8556265ddc9d9c8b271b0f63e57b26fb1d67a45564511/pycparser-2.19-py2.py3-none-any.whl\\nCollecting PyJWT>=1.0.0\\n  Using cached https://files.pythonhosted.org/packages/87/8b/6a9f14b5f781697e51259d81657e6048fd31a113229cf346880bb7545565/PyJWT-1.7.1-py2.py3-none-any.whl\\nCollecting requests-oauthlib>=0.5.0\\n  Using cached https://files.pythonhosted.org/packages/a3/12/b92740d845ab62ea4edf04d2f4164d82532b5a0b03836d4d4e71c6f3d379/requests_oauthlib-1.3.0-py2.py3-none-any.whl\\nCollecting isodate>=0.6.0\\n  Using cached https://files.pythonhosted.org/packages/9b/9f/b36f7774ff5ea8e428fdcfc4bb332c39ee5b9362ddd3d40d9516a55221b2/isodate-0.6.0-py2.py3-none-any.whl\\nRequirement already satisfied, skipping upgrade: zipp>=0.5 in /data/anaconda/envs/azureml_sdk_control_plane_conda_env/lib/python3.7/site-packages (from importlib-metadata; python_version < \"3.8\"->jsonschema!=2.5.0,>=2.4->nbformat->papermill[azure]->-r /datadrive01/prj/PowerAIWithDocker/amlsdk/tmpwft2Ih.requirements.txt (line 2)) (0.6.0)\\nCollecting oauthlib>=3.0.0\\n  Using cached https://files.pythonhosted.org/packages/05/57/ce2e7a8fa7c0afb54a0581b14a65b56e62b5759dbc98e80627142b8a3704/oauthlib-3.1.0-py2.py3-none-any.whl\\nRequirement already satisfied, skipping upgrade: more-itertools in /data/anaconda/envs/azureml_sdk_control_plane_conda_env/lib/python3.7/site-packages (from zipp>=0.5->importlib-metadata; python_version < \"3.8\"->jsonschema!=2.5.0,>=2.4->nbformat->papermill[azure]->-r /datadrive01/prj/PowerAIWithDocker/amlsdk/tmpwft2Ih.requirements.txt (line 2)) (8.0.2)\\nBuilding wheels for collected packages: python-dotenv\\n  Building wheel for python-dotenv (PEP 517): started\\n  Building wheel for python-dotenv (PEP 517): finished with status \\'done\\'\\n  Created wheel for python-dotenv: filename=python_dotenv-0.10.5-cp37-none-any.whl size=17047 sha256=6303ad347cab6b33e228a949d87ef511be4d8e1a694ebe62aa84bdb13055894e\\n  Stored in directory: /home/loginvm0_1/.cache/pip/wheels/c4/f3/89/c546e8d828b3c4d1557fdacdc0141cc873753d82e000f524ee\\nSuccessfully built python-dotenv\\nBuilding wheels for collected packages: tornado, pandocfilters\\n  Building wheel for tornado (setup.py): started\\n  Building wheel for tornado (setup.py): finished with status \\'done\\'\\n  Created wheel for tornado: filename=tornado-6.0.3-cp37-cp37m-linux_x86_64.whl size=418578 sha256=b45ed17d35ce3c91838e2cba4963f787589e18c792fab71a3b210e3855ef0ff3\\n  Stored in directory: /home/loginvm0_1/.cache/pip/wheels/84/bf/40/2f6ef700f48401ca40e5e3dd7d0e3c0a90e064897b7fe5fc08\\n  Building wheel for pandocfilters (setup.py): started\\n  Building wheel for pandocfilters (setup.py): finished with status \\'done\\'\\n  Created wheel for pandocfilters: filename=pandocfilters-1.4.2-cp37-none-any.whl size=7857 sha256=01cf650decd3314ab90d3de30c0e2e7be0d391d8ff8222970b8baaac840d6868\\n  Stored in directory: /home/loginvm0_1/.cache/pip/wheels/39/01/56/f1b08a6275acc59e846fa4c1e1b65dbc1919f20157d9e66c20\\nSuccessfully built tornado pandocfilters\\nInstalling collected packages: python-dotenv, textwrap3, ansiwrap, click, tornado, python-dateutil, pyzmq, jupyter-client, chardet, idna, urllib3, requests, tenacity, entrypoints, future, testpath, webencodings, bleach, defusedxml, pandocfilters, MarkupSafe, jinja2, pygments, mistune, nbconvert, tqdm, pycparser, cffi, PyJWT, cryptography, adal, azure-datalake-store, oauthlib, requests-oauthlib, isodate, msrest, azure-core, azure-storage-blob, papermill\\nSuccessfully installed MarkupSafe-1.1.1 PyJWT-1.7.1 adal-1.2.2 ansiwrap-0.8.4 azure-core-1.2.1 azure-datalake-store-0.0.48 azure-storage-blob-12.1.0 bleach-3.1.0 cffi-1.13.2 chardet-3.0.4 click-7.0 cryptography-2.8 defusedxml-0.6.0 entrypoints-0.3 future-0.18.2 idna-2.8 isodate-0.6.0 jinja2-2.10.3 jupyter-client-5.3.4 mistune-0.8.4 msrest-0.6.10 nbconvert-5.6.1 oauthlib-3.1.0 pandocfilters-1.4.2 papermill-1.2.1 pycparser-2.19 pygments-2.5.2 python-dateutil-2.8.1 python-dotenv-0.10.5 pyzmq-18.1.1 requests-2.22.0 requests-oauthlib-1.3.0 tenacity-6.0.0 testpath-0.4.4 textwrap3-0.9.2 tornado-6.0.3 tqdm-4.41.1 urllib3-1.25.7 webencodings-0.5.1\\n\\n#\\n# To activate this environment, use\\n#\\n#     $ conda activate azureml_sdk_control_plane_conda_env\\n#\\n# To deactivate an active environment, use\\n#\\n#     $ conda deactivate\\n\\n'"
      ]
     },
     "execution_count": 8,
     "metadata": {},
     "output_type": "execute_result"
    }
   ],
   "source": [
    "cli_command = 'conda env create -q --name '+CONTROL_PLANE_CONDA_ENV_NAME+' -f '+conda_dependency_file_path+' && ' \\\n",
    "    'conda activate '+CONTROL_PLANE_CONDA_ENV_NAME \n",
    "cli_command\n",
    "\n",
    "subprocess.Popen(cli_command,shell=True,stdout=subprocess.PIPE, stderr=subprocess.PIPE).\\\n",
    "communicate()[0].decode(\"utf-8\")"
   ]
  },
  {
   "cell_type": "code",
   "execution_count": null,
   "metadata": {},
   "outputs": [],
   "source": []
  },
  {
   "cell_type": "code",
   "execution_count": null,
   "metadata": {},
   "outputs": [],
   "source": []
  }
 ],
 "metadata": {
  "kernelspec": {
   "display_name": "Python 3.5",
   "language": "python",
   "name": "python3"
  },
  "language_info": {
   "codemirror_mode": {
    "name": "ipython",
    "version": 3
   },
   "file_extension": ".py",
   "mimetype": "text/x-python",
   "name": "python",
   "nbconvert_exporter": "python",
   "pygments_lexer": "ipython3",
   "version": "3.5.5"
  }
 },
 "nbformat": 4,
 "nbformat_minor": 2
}
