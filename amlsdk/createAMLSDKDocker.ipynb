{
 "cells": [
  {
   "cell_type": "markdown",
   "metadata": {},
   "source": [
    "### Create AML SDK docker file and build and test image"
   ]
  },
  {
   "cell_type": "markdown",
   "metadata": {},
   "source": [
    "To run this notebook, start it via a plain Jupyter notebook session\n",
    "\n",
    "* login (ssh) into the VM:\n",
    "```\n",
    "loginvm0011@ghiordanXRgpuvm:/datadrive01/prj/regularR_Realtime$ jupyter notebook --notebook-dir=$(pwd) --ip='*' --port=9000 --no-browser --allow-root\n",
    "```\n",
    "\n",
    "\n",
    "\n",
    "  \n",
    "   \n",
    "* then go to:    \n",
    "http://ghiordanxrgpuvm.eastus2.cloudapp.azure.com:9000/ \n",
    "  \n",
    "  \n",
    "Note: continuumio/miniconda3:4.5.4 is the latest tag as of 9/7/2018"
   ]
  },
  {
   "cell_type": "code",
   "execution_count": 1,
   "metadata": {},
   "outputs": [],
   "source": [
    "# Allow multiple displays per cell\n",
    "from IPython.core.interactiveshell import InteractiveShell\n",
    "InteractiveShell.ast_node_interactivity = \"all\" "
   ]
  },
  {
   "cell_type": "code",
   "execution_count": 2,
   "metadata": {
    "nbpresent": {
     "id": "4ccb1b65-3d22-42d6-900b-dfcf80c59f9a"
    }
   },
   "outputs": [],
   "source": [
    "%load_ext dotenv\n",
    "# import dotenv\n",
    "# print (dir(dotenv))"
   ]
  },
  {
   "cell_type": "code",
   "execution_count": 3,
   "metadata": {
    "nbpresent": {
     "id": "799f7d9a-13d5-462d-982b-cdaf17bcbb25"
    }
   },
   "outputs": [
    {
     "name": "stdout",
     "output_type": "stream",
     "text": [
      "Writing .env\n"
     ]
    }
   ],
   "source": [
    "%%writefile .env\n",
    "\n",
    "# Your docker login and image repository name\n",
    "docker_login = 'georgedockeraccount'\n",
    "image_tag = \"/aml-sdk_docker\"\n",
    "image_version = 'sdk.v.1.0.8'"
   ]
  },
  {
   "cell_type": "code",
   "execution_count": 4,
   "metadata": {
    "nbpresent": {
     "id": "9d0e3def-da72-4a6f-934a-6aa251a2be7a"
    }
   },
   "outputs": [],
   "source": [
    "%dotenv\n",
    "docker_file_location = 'docker'\n",
    "conda_dependency_file = 'aml_sdk_conda_dep_file.yml'\n",
    "\n",
    "import os\n",
    "docker_file_name = 'dockerfile'+ '_' + os.getenv('image_version')"
   ]
  },
  {
   "cell_type": "code",
   "execution_count": 5,
   "metadata": {
    "nbpresent": {
     "id": "5df01165-3fcc-431c-89b0-a934207b1fa7"
    }
   },
   "outputs": [
    {
     "data": {
      "text/plain": [
       "'/datadrive01/prj/PowerAIWithDocker/amlsdk/docker'"
      ]
     },
     "execution_count": 5,
     "metadata": {},
     "output_type": "execute_result"
    },
    {
     "data": {
      "text/plain": [
       "'/datadrive01/prj/PowerAIWithDocker/amlsdk/docker/dockerfile_sdk.v.1.0.8'"
      ]
     },
     "execution_count": 5,
     "metadata": {},
     "output_type": "execute_result"
    },
    {
     "data": {
      "text/plain": [
       "'/datadrive01/prj/PowerAIWithDocker/amlsdk/docker/aml_sdk_conda_dep_file.yml'"
      ]
     },
     "execution_count": 5,
     "metadata": {},
     "output_type": "execute_result"
    },
    {
     "name": "stdout",
     "output_type": "stream",
     "text": [
      "total 0\r\n"
     ]
    }
   ],
   "source": [
    "local_dir = !pwd\n",
    "docker_file_dir = os.path.join(*([local_dir.s, docker_file_location]))\n",
    "docker_file_dir\n",
    " \n",
    "docker_file_path = os.path.join(*([docker_file_dir]+[docker_file_name]))\n",
    "docker_file_path\n",
    "\n",
    "conda_dependency_file_path = os.path.join(*([docker_file_dir]+[conda_dependency_file]))\n",
    "conda_dependency_file_path\n",
    "\n",
    "!mkdir -p {docker_file_dir}\n",
    "! chmod -R ugo=rwx $docker_file_dir\n",
    "!rm -rf $docker_file_dir/*\n",
    "!ls -l $docker_file_dir"
   ]
  },
  {
   "cell_type": "code",
   "execution_count": 6,
   "metadata": {
    "nbpresent": {
     "id": "5cd2704f-7ad0-445d-a0f1-ffd318e6ddca"
    }
   },
   "outputs": [
    {
     "name": "stdout",
     "output_type": "stream",
     "text": [
      "Writing /datadrive01/prj/PowerAIWithDocker/amlsdk/docker/aml_sdk_conda_dep_file.yml\n"
     ]
    }
   ],
   "source": [
    "%%writefile $conda_dependency_file_path\n",
    "name: aml_sdk_conda_env02\n",
    "    \n",
    "channels:\n",
    "  - anaconda\n",
    "dependencies:\n",
    "  - python=3.6 \n",
    "  - numpy\n",
    "  - cython\n",
    "  - notebook=5.6.0 \n",
    "  - nb_conda\n",
    "  - scikit-learn\n",
    "  - pip:\n",
    "    - python-dotenv\n",
    "#  - azureml-sdk[notebooks,automl]"
   ]
  },
  {
   "cell_type": "code",
   "execution_count": 7,
   "metadata": {
    "nbpresent": {
     "id": "3c379867-7323-40d4-b711-323f37a006a7"
    }
   },
   "outputs": [],
   "source": [
    "# %%writefile $docker_file_path \n",
    "\n",
    "# FROM debian:latest\n",
    "# MAINTAINER George Iordanescu <ghiordan@microsoft.com>\n",
    "# # https://hub.docker.com/r/continuumio/miniconda3/~/dockerfile/\n",
    "\n",
    "# ENV LANG=C.UTF-8 LC_ALL=C.UTF-8\n",
    "# ENV PATH /opt/conda/bin:$PATH\n",
    "\n",
    "# RUN apt-get update --fix-missing && apt-get install -y --no-install-recommends \\\n",
    "#     wget bzip2 ca-certificates curl git && \\\n",
    "#     apt-get clean && \\\n",
    "#     rm -rf /var/lib/apt/lists/*\n",
    "    \n",
    "# # # Install Azure CLI\n",
    "# # RUN echo \"deb [arch=amd64] https://packages.microsoft.com/repos/azure-cli/ xenial main\" | \\\n",
    "# #     tee /etc/apt/sources.list.d/azure-cli.list && \\\n",
    "# #     curl -L https://packages.microsoft.com/keys/microsoft.asc | apt-key add - && \\\n",
    "# #     apt-get update && \\\n",
    "# #     apt-get install -y --no-install-recommends \\\n",
    "# #     azure-cli\n",
    "\n",
    "\n",
    "# ADD aml_sdk_conda_dep_file.yml /tmp/aml_sdk_conda_dep_file.yml\n",
    "\n",
    "# ENV CONDA_ENV_NAME aml-sdk-conda-env\n",
    "\n",
    "# # RUN curl -o ~/miniconda.sh -O  https://repo.continuum.io/miniconda/Miniconda3-latest-Linux-x86_64.sh  && \\\n",
    "# RUN wget --quiet https://repo.anaconda.com/miniconda/Miniconda3-4.5.11-Linux-x86_64.sh -O ~/miniconda.sh && \\\n",
    "#     chmod +x ~/miniconda.sh && \\\n",
    "#     ~/miniconda.sh -b -p /opt/conda && \\\n",
    "#     rm ~/miniconda.sh \n",
    "    \n",
    "# RUN  conda env create -q --name $CONDA_ENV_NAME -f /tmp/aml_sdk_conda_dep_file.yml && \\\n",
    "#     conda clean --yes --all\n",
    "# ENV PATH /opt/conda/envs/$CONDA_ENV_NAME/bin:$PATH\n",
    "\n",
    "# RUN [ \"/bin/bash\",\"-c\",\"source activate aml-sdk-conda-env && pip install azureml-sdk[notebooks]\"]    \n",
    "# # install and enable experiment widget\n",
    "# # https://docs.microsoft.com/en-us/azure/machine-learning/service/how-to-configure-environment\n",
    "# RUN [\"/bin/bash\",\"-c\",\"source activate aml-sdk-conda-env && \\\n",
    "#                     jupyter nbextension install --py --user azureml.train.widgets  && \\\n",
    "#                     jupyter nbextension enable --py --user azureml.train.widgets\"]\n",
    "\n",
    "# WORKDIR /workspace\n",
    "\n",
    "# CMD [ \"/bin/bash\" ]"
   ]
  },
  {
   "cell_type": "code",
   "execution_count": 8,
   "metadata": {
    "nbpresent": {
     "id": "2168b1a2-9e5a-4812-be38-fd98a42a568f"
    }
   },
   "outputs": [
    {
     "name": "stdout",
     "output_type": "stream",
     "text": [
      "Writing /datadrive01/prj/PowerAIWithDocker/amlsdk/docker/dockerfile_sdk.v.1.0.8\n"
     ]
    }
   ],
   "source": [
    "%%writefile $docker_file_path \n",
    "\n",
    "FROM continuumio/miniconda3:4.5.11\n",
    "MAINTAINER George Iordanescu <ghiordan@microsoft.com>\n",
    "\n",
    "RUN apt-get update --fix-missing && apt-get install -y --no-install-recommends \\\n",
    "    wget curl  \\\n",
    "    git && \\ \n",
    "    apt-get clean && \\\n",
    "    rm -rf /var/lib/apt/lists/*\n",
    "    \n",
    "ADD aml_sdk_conda_dep_file.yml /tmp/aml_sdk_conda_dep_file.yml\n",
    "\n",
    "ENV CONDA_ENV_NAME aml-sdk-conda-env\n",
    "\n",
    "RUN  conda env create -q --name $CONDA_ENV_NAME -f /tmp/aml_sdk_conda_dep_file.yml && \\\n",
    "    conda clean --yes --all\n",
    "ENV PATH /opt/conda/envs/$CONDA_ENV_NAME/bin:$PATH\n",
    "\n",
    "#unclear if I can run pip from $CONDA_ENV_NAME env, but     \n",
    "RUN [ \"/bin/bash\",\"-c\",\"source activate aml-sdk-conda-env && pip install azureml-sdk[notebooks,automl] azureml-dataprep\"] \n",
    "\n",
    "# install and enable experiment widget\n",
    "# https://docs.microsoft.com/en-us/azure/machine-learning/service/how-to-configure-environment\n",
    "RUN [ \"/bin/bash\",\"-c\",\"source activate aml-sdk-conda-env && \\\n",
    "                        jupyter nbextension install --py --user azureml.widgets  && \\\n",
    "                        jupyter nbextension enable --py --user azureml.widgets\"]\n",
    "\n",
    "# RUN [ \"/bin/bash\",\"-c\",\"source activate aml-sdk-conda-env && \\\n",
    "#                         mkdir -p /workspace\"]\n",
    "\n",
    "CMD [ \"/bin/bash\",\"-c\",\"source activate aml-sdk-conda-env\"]"
   ]
  },
  {
   "cell_type": "code",
   "execution_count": 9,
   "metadata": {
    "nbpresent": {
     "id": "527cb6fe-fd7b-48fd-8c28-2e59ced35adc"
    }
   },
   "outputs": [
    {
     "data": {
      "text/plain": [
       "'/datadrive01/prj/PowerAIWithDocker/amlsdk/docker/dockerfile_sdk.v.1.0.8'"
      ]
     },
     "execution_count": 9,
     "metadata": {},
     "output_type": "execute_result"
    },
    {
     "data": {
      "text/plain": [
       "'georgedockeraccount/aml-sdk_docker:sdk.v.1.0.8'"
      ]
     },
     "execution_count": 9,
     "metadata": {},
     "output_type": "execute_result"
    },
    {
     "data": {
      "text/plain": [
       "'/datadrive01/prj/PowerAIWithDocker/amlsdk/docker'"
      ]
     },
     "execution_count": 9,
     "metadata": {},
     "output_type": "execute_result"
    },
    {
     "name": "stdout",
     "output_type": "stream",
     "text": [
      "total 8\r\n",
      "-rw-rw-r-- 1 loginvm001 loginvm001  218 Jan 23 19:53 aml_sdk_conda_dep_file.yml\r\n",
      "-rw-rw-r-- 1 loginvm001 loginvm001 1256 Jan 23 19:53 dockerfile_sdk.v.1.0.8\r\n"
     ]
    }
   ],
   "source": [
    "%dotenv\n",
    "\n",
    "#add docker image version info only if image_version has been set to a non-empty string, otherwise let docker increment it\n",
    "image_version_string = os.getenv('image_version')\n",
    "if image_version_string!=\"\":\n",
    "    image_version_string = ':'  + image_version_string\n",
    "    \n",
    "docker_image_name = os.getenv('docker_login') + os.getenv('image_tag') + image_version_string\n",
    "\n",
    "\n",
    "docker_file_path\n",
    "docker_image_name\n",
    "docker_file_dir\n",
    "\n",
    "working_path = docker_file_dir\n",
    "! ls -l $working_path\n"
   ]
  },
  {
   "cell_type": "code",
   "execution_count": 10,
   "metadata": {
    "nbpresent": {
     "id": "fba50410-e46c-4645-a1cc-64c390125adf"
    }
   },
   "outputs": [
    {
     "name": "stdout",
     "output_type": "stream",
     "text": [
      "docker build -t georgedockeraccount/aml-sdk_docker:sdk.v.1.0.8 -f /datadrive01/prj/PowerAIWithDocker/amlsdk/docker/dockerfile_sdk.v.1.0.8 /datadrive01/prj/PowerAIWithDocker/amlsdk/docker --no-cache\n",
      "Sending build context to Docker daemon  4.096kB\n",
      "Step 1/10 : FROM continuumio/miniconda3:4.5.11\n",
      " ---> d3c252f8727b\n",
      "Step 2/10 : MAINTAINER George Iordanescu <ghiordan@microsoft.com>\n",
      " ---> Running in 563f89a59eec\n",
      "Removing intermediate container 563f89a59eec\n",
      " ---> 05307ca074a8\n",
      "Step 3/10 : RUN apt-get update --fix-missing && apt-get install -y --no-install-recommends     wget curl      git &&     apt-get clean &&     rm -rf /var/lib/apt/lists/*\n",
      " ---> Running in 56f16dece378\n",
      "Ign:1 http://deb.debian.org/debian stretch InRelease\n",
      "Get:2 http://deb.debian.org/debian stretch-updates InRelease [91.0 kB]\n",
      "Get:3 http://deb.debian.org/debian stretch Release [118 kB]\n",
      "Get:4 http://deb.debian.org/debian stretch Release.gpg [2434 B]\n",
      "Get:5 http://security.debian.org/debian-security stretch/updates InRelease [94.3 kB]\n",
      "Get:6 http://deb.debian.org/debian stretch-updates/main amd64 Packages [5152 B]\n",
      "Get:7 http://deb.debian.org/debian stretch/main amd64 Packages [7090 kB]\n",
      "Get:8 http://security.debian.org/debian-security stretch/updates/main amd64 Packages [469 kB]\n",
      "Fetched 7869 kB in 1s (5054 kB/s)\n",
      "Reading package lists...\n",
      "Reading package lists...\n",
      "Building dependency tree...\n",
      "Reading state information...\n",
      "wget is already the newest version (1.18-5+deb9u2).\n",
      "Suggested packages:\n",
      "  gettext-base git-daemon-run | git-daemon-sysvinit git-doc git-el git-email\n",
      "  git-gui gitk gitweb git-arch git-cvs git-mediawiki git-svn\n",
      "The following packages will be upgraded:\n",
      "  curl git libcurl3\n",
      "3 upgraded, 0 newly installed, 0 to remove and 20 not upgraded.\n",
      "Need to get 4686 kB of archives.\n",
      "After this operation, 13.3 kB of additional disk space will be used.\n",
      "Get:1 http://deb.debian.org/debian stretch/main amd64 git amd64 1:2.11.0-3+deb9u4 [4167 kB]\n",
      "Get:2 http://deb.debian.org/debian stretch/main amd64 curl amd64 7.52.1-5+deb9u8 [228 kB]\n",
      "Get:3 http://deb.debian.org/debian stretch/main amd64 libcurl3 amd64 7.52.1-5+deb9u8 [292 kB]\n",
      "\u001b[91mdebconf: delaying package configuration, since apt-utils is not installed\n",
      "\u001b[0mFetched 4686 kB in 0s (61.1 MB/s)\n",
      "(Reading database ... 10360 files and directories currently installed.)\n",
      "Preparing to unpack .../git_1%3a2.11.0-3+deb9u4_amd64.deb ...\n",
      "Unpacking git (1:2.11.0-3+deb9u4) over (1:2.11.0-3+deb9u3) ...\n",
      "Preparing to unpack .../curl_7.52.1-5+deb9u8_amd64.deb ...\n",
      "Unpacking curl (7.52.1-5+deb9u8) over (7.52.1-5+deb9u7) ...\n",
      "Preparing to unpack .../libcurl3_7.52.1-5+deb9u8_amd64.deb ...\n",
      "Unpacking libcurl3:amd64 (7.52.1-5+deb9u8) over (7.52.1-5+deb9u7) ...\n",
      "Setting up libcurl3:amd64 (7.52.1-5+deb9u8) ...\n",
      "Processing triggers for libc-bin (2.24-11+deb9u3) ...\n",
      "Setting up git (1:2.11.0-3+deb9u4) ...\n",
      "Setting up curl (7.52.1-5+deb9u8) ...\n",
      "Removing intermediate container 56f16dece378\n",
      " ---> 67ae2486de60\n",
      "Step 4/10 : ADD aml_sdk_conda_dep_file.yml /tmp/aml_sdk_conda_dep_file.yml\n",
      " ---> ddb5928186fd\n",
      "Step 5/10 : ENV CONDA_ENV_NAME aml-sdk-conda-env\n",
      " ---> Running in e5e297ba9b51\n",
      "Removing intermediate container e5e297ba9b51\n",
      " ---> 1f7fe579ead4\n",
      "Step 6/10 : RUN  conda env create -q --name $CONDA_ENV_NAME -f /tmp/aml_sdk_conda_dep_file.yml &&     conda clean --yes --all\n",
      " ---> Running in 3cd344adc435\n",
      "Solving environment: ...working... done\n",
      "Preparing transaction: ...working... done\n",
      "Verifying transaction: ...working... done\n",
      "Executing transaction: ...working... + /opt/conda/envs/aml-sdk-conda-env/bin/python -m nb_conda_kernels.install --enable\n",
      "Enabling nb_conda_kernels...\n",
      "Status: enabled\n",
      "\n",
      "+ /opt/conda/envs/aml-sdk-conda-env/bin/jupyter-nbextension enable nb_conda --py --sys-prefix\n",
      "Enabling notebook extension nb_conda/main...\n",
      "      - Validating: \u001b[32mOK\u001b[0m\n",
      "Enabling tree extension nb_conda/tree...\n",
      "      - Validating: \u001b[32mOK\u001b[0m\n",
      "+ /opt/conda/envs/aml-sdk-conda-env/bin/jupyter-serverextension enable nb_conda --py --sys-prefix\n",
      "Enabling: nb_conda\n",
      "- Writing config: /opt/conda/envs/aml-sdk-conda-env/etc/jupyter\n",
      "    - Validating...\n",
      "      nb_conda 2.2.1 \u001b[32mOK\u001b[0m\n",
      "\n",
      "done\n",
      "Collecting python-dotenv (from -r /tmp/condaenv.0at6m5q2.requirements.txt (line 1))\n",
      "  Downloading https://files.pythonhosted.org/packages/8c/14/501508b016e7b1ad0eb91bba581e66ad9bfc7c66fcacbb580eaf9bc38458/python_dotenv-0.10.1-py2.py3-none-any.whl\n",
      "Installing collected packages: python-dotenv\n",
      "Successfully installed python-dotenv-0.10.1\n",
      "Cache location: /opt/conda/pkgs\n",
      "Will remove the following tarballs:\n",
      "\n",
      "/opt/conda/pkgs\n",
      "---------------\n",
      "zeromq-4.2.5-hf484d3e_1.tar.bz2              567 KB\n",
      "pickleshare-0.7.5-py36_0.tar.bz2              13 KB\n",
      "mkl_random-1.0.1-py36h4414c95_1.tar.bz2      373 KB\n",
      "numpy-1.15.4-py36h1d66e8a_0.tar.bz2           35 KB\n",
      "six-1.11.0-py36_1.tar.bz2                     21 KB\n",
      "ipython-7.2.0-py36h39e3cac_0.tar.bz2         1.0 MB\n",
      "jupyter_client-5.2.3-py36_0.tar.bz2          124 KB\n",
      "decorator-4.3.0-py36_0.tar.bz2                15 KB\n",
      "tornado-5.1.1-py36h7b6447c_0.tar.bz2         663 KB\n",
      "nb_conda_kernels-2.2.0-py36_0.tar.bz2         32 KB\n",
      "readline-7.0-h7b6447c_5.tar.bz2              392 KB\n",
      "setuptools-40.6.2-py36_0.tar.bz2             604 KB\n",
      "jupyter_core-4.4.0-py36_0.tar.bz2             63 KB\n",
      "nb_conda-2.2.1-py36_0.tar.bz2                 33 KB\n",
      "ptyprocess-0.6.0-py36_0.tar.bz2               23 KB\n",
      "libgcc-ng-8.2.0-hdf63c60_1.tar.bz2           7.6 MB\n",
      "markupsafe-1.1.0-py36h7b6447c_0.tar.bz2       26 KB\n",
      "libffi-3.2.1-h4deb6c0_3.tar.bz2               43 KB\n",
      "python-3.6.7-h0371630_0.tar.bz2             34.3 MB\n",
      "nbformat-4.4.0-py36_0.tar.bz2                141 KB\n",
      "pexpect-4.6.0-py36_0.tar.bz2                  77 KB\n",
      "backcall-0.1.0-py36_0.tar.bz2                 19 KB\n",
      "openssl-1.1.1-h7b6447c_0.tar.bz2             5.0 MB\n",
      "scipy-1.1.0-py36hfa4b5c9_1.tar.bz2          18.0 MB\n",
      "notebook-5.6.0-py36_0.tar.bz2                7.4 MB\n",
      "xz-5.2.4-h14c3975_4.tar.bz2                  366 KB\n",
      "python-dateutil-2.7.5-py36_0.tar.bz2         275 KB\n",
      "wcwidth-0.1.7-py36_0.tar.bz2                  25 KB\n",
      "mistune-0.8.4-py36h7b6447c_0.tar.bz2          54 KB\n",
      "mkl_fft-1.0.6-py36h7dd41cf_0.tar.bz2         150 KB\n",
      "send2trash-1.5.0-py36_0.tar.bz2               16 KB\n",
      "pyzmq-17.1.2-py36h14c3975_0.tar.bz2          454 KB\n",
      "pandocfilters-1.4.2-py36_1.tar.bz2            13 KB\n",
      "libsodium-1.0.16-h1bed415_0.tar.bz2          302 KB\n",
      "cython-0.29-py36he6710b0_0.tar.bz2           2.3 MB\n",
      "webencodings-0.5.1-py36_1.tar.bz2             19 KB\n",
      "wheel-0.32.3-py36_0.tar.bz2                   35 KB\n",
      "traitlets-4.3.2-py36_0.tar.bz2               133 KB\n",
      "gmp-6.1.2-hb3b607b_0.tar.bz2                 744 KB\n",
      "nbconvert-5.3.1-py36_0.tar.bz2               406 KB\n",
      "bleach-3.0.2-py36_0.tar.bz2                  220 KB\n",
      "pandoc-2.2.3.2-0.tar.bz2                    20.8 MB\n",
      "intel-openmp-2019.1-144.tar.bz2              885 KB\n",
      "ipykernel-5.1.0-py36h39e3cac_0.tar.bz2       156 KB\n",
      "sqlite-3.25.3-h7b6447c_0.tar.bz2             1.9 MB\n",
      "pip-18.1-py36_0.tar.bz2                      1.8 MB\n",
      "jedi-0.13.1-py36_0.tar.bz2                   229 KB\n",
      "libedit-3.1.20170329-h6b74fdf_2.tar.bz2      172 KB\n",
      "libgfortran-ng-7.3.0-hdf63c60_0.tar.bz2      1.3 MB\n",
      "tk-8.6.8-hbc83047_0.tar.bz2                  3.1 MB\n",
      "numpy-base-1.15.4-py36h81de0dd_0.tar.bz2     4.2 MB\n",
      "libstdcxx-ng-8.2.0-hdf63c60_1.tar.bz2        2.9 MB\n",
      "ipython_genutils-0.2.0-py36_0.tar.bz2         39 KB\n",
      "prometheus_client-0.4.2-py36_0.tar.bz2        64 KB\n",
      "ncurses-6.1-he6710b0_1.tar.bz2               958 KB\n",
      "zlib-1.2.11-h7b6447c_3.tar.bz2               120 KB\n",
      "jsonschema-2.6.0-py36_0.tar.bz2               62 KB\n",
      "certifi-2018.10.15-py36_0.tar.bz2            139 KB\n",
      "pygments-2.2.0-py36_0.tar.bz2                1.3 MB\n",
      "blas-1.0-mkl.tar.bz2                           6 KB\n",
      "parso-0.3.1-py36_0.tar.bz2                   114 KB\n",
      "jinja2-2.10-py36_0.tar.bz2                   184 KB\n",
      "ca-certificates-2018.03.07-0.tar.bz2         124 KB\n",
      "entrypoints-0.2.3-py36_2.tar.bz2               9 KB\n",
      "mkl-2019.1-144.tar.bz2                     204.6 MB\n",
      "terminado-0.8.1-py36_1.tar.bz2                21 KB\n",
      "testpath-0.4.2-py36_0.tar.bz2                 91 KB\n",
      "scikit-learn-0.20.1-py36h4989274_0.tar.bz2     5.7 MB\n",
      "prompt_toolkit-2.0.7-py36_0.tar.bz2          482 KB\n",
      "\n",
      "---------------------------------------------------\n",
      "Total:                                     333.2 MB\n",
      "\n",
      "Removed zeromq-4.2.5-hf484d3e_1.tar.bz2\n",
      "Removed pickleshare-0.7.5-py36_0.tar.bz2\n",
      "Removed mkl_random-1.0.1-py36h4414c95_1.tar.bz2\n",
      "Removed numpy-1.15.4-py36h1d66e8a_0.tar.bz2\n",
      "Removed six-1.11.0-py36_1.tar.bz2\n",
      "Removed ipython-7.2.0-py36h39e3cac_0.tar.bz2\n",
      "Removed jupyter_client-5.2.3-py36_0.tar.bz2\n",
      "Removed decorator-4.3.0-py36_0.tar.bz2\n",
      "Removed tornado-5.1.1-py36h7b6447c_0.tar.bz2\n",
      "Removed nb_conda_kernels-2.2.0-py36_0.tar.bz2\n",
      "Removed readline-7.0-h7b6447c_5.tar.bz2\n",
      "Removed setuptools-40.6.2-py36_0.tar.bz2\n",
      "Removed jupyter_core-4.4.0-py36_0.tar.bz2\n",
      "Removed nb_conda-2.2.1-py36_0.tar.bz2\n",
      "Removed ptyprocess-0.6.0-py36_0.tar.bz2\n",
      "Removed libgcc-ng-8.2.0-hdf63c60_1.tar.bz2\n",
      "Removed markupsafe-1.1.0-py36h7b6447c_0.tar.bz2\n",
      "Removed libffi-3.2.1-h4deb6c0_3.tar.bz2\n",
      "Removed python-3.6.7-h0371630_0.tar.bz2\n",
      "Removed nbformat-4.4.0-py36_0.tar.bz2\n",
      "Removed pexpect-4.6.0-py36_0.tar.bz2\n",
      "Removed backcall-0.1.0-py36_0.tar.bz2\n",
      "Removed openssl-1.1.1-h7b6447c_0.tar.bz2\n",
      "Removed scipy-1.1.0-py36hfa4b5c9_1.tar.bz2\n",
      "Removed notebook-5.6.0-py36_0.tar.bz2\n",
      "Removed xz-5.2.4-h14c3975_4.tar.bz2\n",
      "Removed python-dateutil-2.7.5-py36_0.tar.bz2\n",
      "Removed wcwidth-0.1.7-py36_0.tar.bz2\n",
      "Removed mistune-0.8.4-py36h7b6447c_0.tar.bz2\n",
      "Removed mkl_fft-1.0.6-py36h7dd41cf_0.tar.bz2\n",
      "Removed send2trash-1.5.0-py36_0.tar.bz2\n",
      "Removed pyzmq-17.1.2-py36h14c3975_0.tar.bz2\n",
      "Removed pandocfilters-1.4.2-py36_1.tar.bz2\n",
      "Removed libsodium-1.0.16-h1bed415_0.tar.bz2\n",
      "Removed cython-0.29-py36he6710b0_0.tar.bz2\n",
      "Removed webencodings-0.5.1-py36_1.tar.bz2\n",
      "Removed wheel-0.32.3-py36_0.tar.bz2\n",
      "Removed traitlets-4.3.2-py36_0.tar.bz2\n",
      "Removed gmp-6.1.2-hb3b607b_0.tar.bz2\n",
      "Removed nbconvert-5.3.1-py36_0.tar.bz2\n",
      "Removed bleach-3.0.2-py36_0.tar.bz2\n",
      "Removed pandoc-2.2.3.2-0.tar.bz2\n",
      "Removed intel-openmp-2019.1-144.tar.bz2\n",
      "Removed ipykernel-5.1.0-py36h39e3cac_0.tar.bz2\n",
      "Removed sqlite-3.25.3-h7b6447c_0.tar.bz2\n",
      "Removed pip-18.1-py36_0.tar.bz2\n",
      "Removed jedi-0.13.1-py36_0.tar.bz2\n",
      "Removed libedit-3.1.20170329-h6b74fdf_2.tar.bz2\n",
      "Removed libgfortran-ng-7.3.0-hdf63c60_0.tar.bz2\n",
      "Removed tk-8.6.8-hbc83047_0.tar.bz2\n",
      "Removed numpy-base-1.15.4-py36h81de0dd_0.tar.bz2\n",
      "Removed libstdcxx-ng-8.2.0-hdf63c60_1.tar.bz2\n",
      "Removed ipython_genutils-0.2.0-py36_0.tar.bz2\n",
      "Removed prometheus_client-0.4.2-py36_0.tar.bz2\n",
      "Removed ncurses-6.1-he6710b0_1.tar.bz2\n",
      "Removed zlib-1.2.11-h7b6447c_3.tar.bz2\n",
      "Removed jsonschema-2.6.0-py36_0.tar.bz2\n",
      "Removed certifi-2018.10.15-py36_0.tar.bz2\n",
      "Removed pygments-2.2.0-py36_0.tar.bz2\n",
      "Removed blas-1.0-mkl.tar.bz2\n",
      "Removed parso-0.3.1-py36_0.tar.bz2\n",
      "Removed jinja2-2.10-py36_0.tar.bz2\n",
      "Removed ca-certificates-2018.03.07-0.tar.bz2\n",
      "Removed entrypoints-0.2.3-py36_2.tar.bz2\n",
      "Removed mkl-2019.1-144.tar.bz2\n",
      "Removed terminado-0.8.1-py36_1.tar.bz2\n",
      "Removed testpath-0.4.2-py36_0.tar.bz2\n",
      "Removed scikit-learn-0.20.1-py36h4989274_0.tar.bz2\n",
      "Removed prompt_toolkit-2.0.7-py36_0.tar.bz2\n",
      "Cache location: /opt/conda/pkgs\n",
      "Will remove the following packages:\n",
      "/opt/conda/pkgs\n",
      "---------------\n",
      "\n",
      "numpy-1.15.4-py36h1d66e8a_0                  207 KB\n",
      "blas-1.0-mkl                                  15 KB\n",
      "\n",
      "---------------------------------------------------\n",
      "Total:                                       222 KB\n",
      "\n",
      "removing numpy-1.15.4-py36h1d66e8a_0\n",
      "removing blas-1.0-mkl\n",
      "source cache (/opt/conda/conda-bld/src_cache)\n",
      "Size:                                           0 B\n",
      "\n",
      "git cache (/opt/conda/conda-bld/git_cache)\n",
      "Size:                                           0 B\n",
      "\n",
      "hg cache (/opt/conda/conda-bld/hg_cache)\n",
      "Size:                                           0 B\n",
      "\n",
      "svn cache (/opt/conda/conda-bld/svn_cache)\n",
      "Size:                                           0 B\n",
      "\n",
      "Total:                                          0 B\n",
      "Removing /opt/conda/conda-bld/src_cache\n",
      "Removing /opt/conda/conda-bld/git_cache\n",
      "Removing /opt/conda/conda-bld/hg_cache\n",
      "Removing /opt/conda/conda-bld/svn_cache\n"
     ]
    },
    {
     "name": "stdout",
     "output_type": "stream",
     "text": [
      "Removing intermediate container 3cd344adc435\n",
      " ---> e7426a5cd4b4\n",
      "Step 7/10 : ENV PATH /opt/conda/envs/$CONDA_ENV_NAME/bin:$PATH\n",
      " ---> Running in 00982a2f9338\n",
      "Removing intermediate container 00982a2f9338\n",
      " ---> 4010274898c8\n",
      "Step 8/10 : RUN [ \"/bin/bash\",\"-c\",\"source activate aml-sdk-conda-env && pip install azureml-sdk[notebooks,automl] azureml-dataprep\"]\n",
      " ---> Running in a35ddee965d1\n",
      "Collecting azureml-sdk[automl,notebooks]\n",
      "  Downloading https://files.pythonhosted.org/packages/04/9d/092f71894e11ce40bac33d72fee342284f754fa07c4e3a33a230b69445fb/azureml_sdk-1.0.8-py3-none-any.whl\n",
      "Collecting azureml-dataprep\n",
      "  Downloading https://files.pythonhosted.org/packages/c1/61/72c884ebbe5dba9bdec77bed2fa9cab2809b0fcab6f437f51592b03aab3b/azureml_dataprep-1.0.7-py3-none-any.whl (24.7MB)\n",
      "Collecting azureml-core==1.0.8.* (from azureml-sdk[automl,notebooks])\n",
      "  Downloading https://files.pythonhosted.org/packages/31/6c/d1a7dcc76d07ab5aec38966a9d3dfb420331e1689e0571aacb2dba83e10b/azureml_core-1.0.8-py2.py3-none-any.whl (666kB)\n",
      "Collecting azureml-train==1.0.8.* (from azureml-sdk[automl,notebooks])\n",
      "  Downloading https://files.pythonhosted.org/packages/b3/ae/c6f4a086f2bd7c0fdbbda9c3b21b08bf1ed516dd01400d5d08dbc2b6508d/azureml_train-1.0.8-py3-none-any.whl\n",
      "Collecting azureml-pipeline==1.0.8.* (from azureml-sdk[automl,notebooks])\n",
      "  Downloading https://files.pythonhosted.org/packages/37/a7/2a7539e33df3eb84f061cf43a3b306a0c57f0f965f5bb5d22f22f762e383/azureml_pipeline-1.0.8-py3-none-any.whl\n",
      "Collecting azureml-train-automl==1.0.8.*; extra == \"automl\" (from azureml-sdk[automl,notebooks])\n",
      "  Downloading https://files.pythonhosted.org/packages/00/a9/df3b74592d5ca47cd61754518248ef2f76401a70bac35c041889bb4b78d0/azureml_train_automl-1.0.8-py3-none-any.whl (217kB)\n",
      "Collecting azureml-widgets==1.0.8.*; extra == \"notebooks\" (from azureml-sdk[automl,notebooks])\n",
      "  Downloading https://files.pythonhosted.org/packages/8c/36/055f787b606b23840542fef324cb79f57d6fc48368eb7c4e695b0220f664/azureml_widgets-1.0.8-py3-none-any.whl (4.6MB)\n",
      "Requirement already satisfied: numpy>=1.11.3 in /opt/conda/envs/aml-sdk-conda-env/lib/python3.6/site-packages (from azureml-dataprep) (1.15.4)\n",
      "Collecting pandas>=0.19.2 (from azureml-dataprep)\n",
      "  Downloading https://files.pythonhosted.org/packages/e1/d8/feeb346d41f181e83fba45224ab14a8d8af019b48af742e047f3845d8cff/pandas-0.23.4-cp36-cp36m-manylinux1_x86_64.whl (8.9MB)\n",
      "Collecting azureml-dataprep-native<12.0.0,>=11.2.1 (from azureml-dataprep)\n",
      "  Downloading https://files.pythonhosted.org/packages/ea/ce/e849907d0cce5022014143f12add212afdc19a11f416d3440b3f3237b682/azureml_dataprep_native-11.2.1-cp36-cp36m-manylinux1_x86_64.whl (1.3MB)\n",
      "Collecting dotnetcore2==2.1.7 (from azureml-dataprep)\n",
      "  Downloading https://files.pythonhosted.org/packages/5e/ad/563e291f291ddae9967fc6347b5240e5ee5fdb173c33e0780c30ca8cd4c2/dotnetcore2-2.1.7-py3-none-manylinux1_x86_64.whl (28.7MB)\n",
      "Requirement already satisfied: six>=1.11.0 in /opt/conda/envs/aml-sdk-conda-env/lib/python3.6/site-packages (from azureml-core==1.0.8.*->azureml-sdk[automl,notebooks]) (1.11.0)\n",
      "Collecting azure-cli-core>=2.0.38 (from azureml-core==1.0.8.*->azureml-sdk[automl,notebooks])\n",
      "  Downloading https://files.pythonhosted.org/packages/13/d9/db78eb6ca9272ab486bdf1327fdca87a8b8915654efee0ab56f3837238b1/azure_cli_core-2.0.55-py2.py3-none-any.whl (107kB)\n",
      "Collecting PyJWT (from azureml-core==1.0.8.*->azureml-sdk[automl,notebooks])\n",
      "  Downloading https://files.pythonhosted.org/packages/87/8b/6a9f14b5f781697e51259d81657e6048fd31a113229cf346880bb7545565/PyJWT-1.7.1-py2.py3-none-any.whl\n",
      "Collecting urllib3<1.24,>=1.23 (from azureml-core==1.0.8.*->azureml-sdk[automl,notebooks])\n",
      "  Downloading https://files.pythonhosted.org/packages/bd/c9/6fdd990019071a4a32a5e7cb78a1d92c53851ef4f56f62a3486e6a7d8ffb/urllib3-1.23-py2.py3-none-any.whl (133kB)\n",
      "Collecting azure-mgmt-resource>=1.2.1 (from azureml-core==1.0.8.*->azureml-sdk[automl,notebooks])\n",
      "  Downloading https://files.pythonhosted.org/packages/2b/2e/e79a278bedfc21308ab0c632759cfda5d7ff02d62260bcc4632449937dcf/azure_mgmt_resource-2.1.0-py2.py3-none-any.whl (757kB)\n",
      "Collecting azure-storage-nspkg>=3.0.0 (from azureml-core==1.0.8.*->azureml-sdk[automl,notebooks])\n",
      "  Downloading https://files.pythonhosted.org/packages/ba/f6/054ace7b01c6c21b3b95a83c3997f7d6539d939a2c08c4f27f779128a030/azure_storage_nspkg-3.1.0-py2.py3-none-any.whl\n",
      "Collecting azure-cli-profile>=2.0.26 (from azureml-core==1.0.8.*->azureml-sdk[automl,notebooks])\n",
      "  Downloading https://files.pythonhosted.org/packages/c2/d3/fdc722a1b61857250a76027d6d73a50182c6d85132ddd65600a8993574ce/azure_cli_profile-2.1.2-py2.py3-none-any.whl\n",
      "Collecting pathspec (from azureml-core==1.0.8.*->azureml-sdk[automl,notebooks])\n",
      "  Downloading https://files.pythonhosted.org/packages/84/2a/bfee636b1e2f7d6e30dd74f49201ccfa5c3cf322d44929ecc6c137c486c5/pathspec-0.5.9.tar.gz\n",
      "Collecting contextlib2 (from azureml-core==1.0.8.*->azureml-sdk[automl,notebooks])\n",
      "  Downloading https://files.pythonhosted.org/packages/a2/71/8273a7eeed0aff6a854237ab5453bc9aa67deb49df4832801c21f0ff3782/contextlib2-0.5.5-py2.py3-none-any.whl\n",
      "Collecting pytz (from azureml-core==1.0.8.*->azureml-sdk[automl,notebooks])\n",
      "  Downloading https://files.pythonhosted.org/packages/61/28/1d3920e4d1d50b19bc5d24398a7cd85cc7b9a75a490570d5a30c57622d34/pytz-2018.9-py2.py3-none-any.whl (510kB)\n",
      "Collecting msrest>=0.5.1 (from azureml-core==1.0.8.*->azureml-sdk[automl,notebooks])\n",
      "  Downloading https://files.pythonhosted.org/packages/eb/96/1cf56e4cfd221b7f6eb6ab096dc23b0d21361393f0784276531e49b0b2a1/msrest-0.6.4-py2.py3-none-any.whl (81kB)\n",
      "Requirement already satisfied: python-dateutil>=2.7.3 in /opt/conda/envs/aml-sdk-conda-env/lib/python3.6/site-packages (from azureml-core==1.0.8.*->azureml-sdk[automl,notebooks]) (2.7.5)\n",
      "Collecting SecretStorage<3.0.0 (from azureml-core==1.0.8.*->azureml-sdk[automl,notebooks])\n",
      "  Downloading https://files.pythonhosted.org/packages/a5/a5/0830cfe34a4cfd0d1c3c8b614ede1edb2aaf999091ac8548dd19cb352e79/SecretStorage-2.3.1.tar.gz\n",
      "Collecting msrestazure>=0.4.33 (from azureml-core==1.0.8.*->azureml-sdk[automl,notebooks])\n",
      "  Downloading https://files.pythonhosted.org/packages/46/ba/7870308e3d3b4b3956880eed2df20669a5690436793e6fc1442c8b73e01c/msrestazure-0.6.0-py2.py3-none-any.whl\n",
      "Collecting requests>=2.19.1 (from azureml-core==1.0.8.*->azureml-sdk[automl,notebooks])\n",
      "  Downloading https://files.pythonhosted.org/packages/7d/e3/20f3d364d6c8e5d2353c72a67778eb189176f08e873c9900e10c0287b84b/requests-2.21.0-py2.py3-none-any.whl (57kB)\n",
      "Collecting azure-mgmt-authorization>=0.40.0 (from azureml-core==1.0.8.*->azureml-sdk[automl,notebooks])\n",
      "  Downloading https://files.pythonhosted.org/packages/a1/71/9a20913e92771b3c23564f1bea54d376d09fb30a75585087c70b769d75c8/azure_mgmt_authorization-0.51.1-py2.py3-none-any.whl (111kB)\n",
      "Collecting azure-mgmt-keyvault>=0.40.0 (from azureml-core==1.0.8.*->azureml-sdk[automl,notebooks])\n",
      "  Downloading https://files.pythonhosted.org/packages/49/de/0d69aedae7c5f6428314640b65947203ab80409c12b5d4e66fb5b7a4182e/azure_mgmt_keyvault-1.1.0-py2.py3-none-any.whl (111kB)\n",
      "Collecting azure-storage-blob>=1.1.0 (from azureml-core==1.0.8.*->azureml-sdk[automl,notebooks])\n",
      "  Downloading https://files.pythonhosted.org/packages/f7/b7/9b20c39bf411e896d110d01f2551e6e7b397fde6eb06b07293fe29705d13/azure_storage_blob-1.4.0-py2.py3-none-any.whl (75kB)\n",
      "Collecting docker (from azureml-core==1.0.8.*->azureml-sdk[automl,notebooks])\n",
      "  Downloading https://files.pythonhosted.org/packages/7e/3c/b610f22b170b0f8fe4d8f78974878e116562389f666f99e6549567eb9d87/docker-3.7.0-py2.py3-none-any.whl (133kB)\n",
      "Collecting azure-storage-common>=1.1.0 (from azureml-core==1.0.8.*->azureml-sdk[automl,notebooks])\n",
      "  Downloading https://files.pythonhosted.org/packages/73/84/025ac436a6a1d5516d1a67887d7122b3b2ea04ba6b2d2c46fe949accb62b/azure_storage_common-1.4.0-py2.py3-none-any.whl (46kB)\n",
      "Collecting ndg-httpsclient (from azureml-core==1.0.8.*->azureml-sdk[automl,notebooks])\n",
      "  Downloading https://files.pythonhosted.org/packages/fb/67/c2f508c00ed2a6911541494504b7cac16fe0b0473912568df65fd1801132/ndg_httpsclient-0.5.1-py3-none-any.whl\n",
      "Collecting ruamel.yaml<=0.15.51,>=0.15.35 (from azureml-core==1.0.8.*->azureml-sdk[automl,notebooks])\n"
     ]
    },
    {
     "name": "stdout",
     "output_type": "stream",
     "text": [
      "  Downloading https://files.pythonhosted.org/packages/d2/7f/9bb3ba89ceab600c4a0ea75d638ea945215ca3458ac6528e0e39fa3254e4/ruamel.yaml-0.15.51-cp36-cp36m-manylinux1_x86_64.whl (640kB)\n",
      "Collecting azure-mgmt-containerregistry>=2.0.0 (from azureml-core==1.0.8.*->azureml-sdk[automl,notebooks])\n",
      "  Downloading https://files.pythonhosted.org/packages/4e/93/982bdd8f38379405beab963ee2abf1ab42a826a57cc2157228216cfc62e4/azure_mgmt_containerregistry-2.6.0-py2.py3-none-any.whl (501kB)\n",
      "Collecting cryptography!=1.9,!=2.0.*,!=2.1.*,!=2.2.* (from azureml-core==1.0.8.*->azureml-sdk[automl,notebooks])\n",
      "  Downloading https://files.pythonhosted.org/packages/98/71/e632e222f34632e0527dd41799f7847305e701f38f512d81bdf96009bca4/cryptography-2.5-cp34-abi3-manylinux1_x86_64.whl (2.4MB)\n",
      "Collecting azure-common>=1.1.12 (from azureml-core==1.0.8.*->azureml-sdk[automl,notebooks])\n",
      "  Downloading https://files.pythonhosted.org/packages/a5/b2/12c7c906a560e1f0171664c28cadfd989ecf874562cc9c21beea851bf7d1/azure_common-1.1.17-py2.py3-none-any.whl\n",
      "Collecting backports.tempfile (from azureml-core==1.0.8.*->azureml-sdk[automl,notebooks])\n",
      "  Downloading https://files.pythonhosted.org/packages/b4/5c/077f910632476281428fe254807952eb47ca78e720d059a46178c541e669/backports.tempfile-1.0-py2.py3-none-any.whl\n",
      "Collecting azure-mgmt-storage>=1.5.0 (from azureml-core==1.0.8.*->azureml-sdk[automl,notebooks])\n",
      "  Downloading https://files.pythonhosted.org/packages/d9/87/ab44b9d9627ff91825ba5f5a39092ebfe97a90679008609db4c479036591/azure_mgmt_storage-3.1.1-py2.py3-none-any.whl (696kB)\n",
      "Collecting azure-graphrbac>=0.40.0 (from azureml-core==1.0.8.*->azureml-sdk[automl,notebooks])\n",
      "  Downloading https://files.pythonhosted.org/packages/da/a8/3d3d6fe8458b2b07bad10195c79928ea9ba87b5cc0c08903b387dd27c6f0/azure_graphrbac-0.53.0-py2.py3-none-any.whl (108kB)\n",
      "Collecting jsonpickle (from azureml-core==1.0.8.*->azureml-sdk[automl,notebooks])\n",
      "  Downloading https://files.pythonhosted.org/packages/dc/12/8c44eabb501e2bc0aec0dd152b328074d98a50968d3a02be28f6037f0c6a/jsonpickle-1.1-py2.py3-none-any.whl\n",
      "Collecting azureml-train-core==1.0.8.* (from azureml-train==1.0.8.*->azureml-sdk[automl,notebooks])\n",
      "  Downloading https://files.pythonhosted.org/packages/e7/d8/516e09fbbc7dbaf6ab78b9fc7e33e41f9f993bf67e02a852ec86789ccb5c/azureml_train_core-1.0.8-py3-none-any.whl\n",
      "Collecting azureml-pipeline-core==1.0.8.* (from azureml-pipeline==1.0.8.*->azureml-sdk[automl,notebooks])\n",
      "  Downloading https://files.pythonhosted.org/packages/8b/b3/df4ac408b53a37dd8e49576c95d521aec2c58d0f65745668a6e4504b66e1/azureml_pipeline_core-1.0.8-py3-none-any.whl (128kB)\n",
      "Collecting azureml-pipeline-steps==1.0.8.* (from azureml-pipeline==1.0.8.*->azureml-sdk[automl,notebooks])\n",
      "  Downloading https://files.pythonhosted.org/packages/a4/e4/dae1424cac4d60251746fea691ba8e4dc0a982f84896c3b98733dfbad5d7/azureml_pipeline_steps-1.0.8-py3-none-any.whl\n",
      "Collecting azureml-telemetry==1.0.8.* (from azureml-train-automl==1.0.8.*; extra == \"automl\"->azureml-sdk[automl,notebooks])\n",
      "  Downloading https://files.pythonhosted.org/packages/d6/14/fe65407a65814da3f4cbfa3b6e1555df45b487742e18041575c21da90eba/azureml_telemetry-1.0.8-py3-none-any.whl\n",
      "Collecting tensorflow>=1.10.0 (from azureml-train-automl==1.0.8.*; extra == \"automl\"->azureml-sdk[automl,notebooks])\n",
      "  Downloading https://files.pythonhosted.org/packages/22/cc/ca70b78087015d21c5f3f93694107f34ebccb3be9624385a911d4b52ecef/tensorflow-1.12.0-cp36-cp36m-manylinux1_x86_64.whl (83.1MB)\n",
      "Collecting scikit-learn==0.19.1 (from azureml-train-automl==1.0.8.*; extra == \"automl\"->azureml-sdk[automl,notebooks])\n",
      "  Downloading https://files.pythonhosted.org/packages/3d/2d/9fbc7baa5f44bc9e88ffb7ed32721b879bfa416573e85031e16f52569bc9/scikit_learn-0.19.1-cp36-cp36m-manylinux1_x86_64.whl (12.4MB)\n",
      "Collecting wheel==0.30.0 (from azureml-train-automl==1.0.8.*; extra == \"automl\"->azureml-sdk[automl,notebooks])\n",
      "  Downloading https://files.pythonhosted.org/packages/0c/80/16a85b47702a1f47a63c104c91abdd0a6704ee8ae3b4ce4afc49bc39f9d9/wheel-0.30.0-py2.py3-none-any.whl (49kB)\n",
      "Collecting lightgbm<=2.2.1,>=2.0.11 (from azureml-train-automl==1.0.8.*; extra == \"automl\"->azureml-sdk[automl,notebooks])\n",
      "  Downloading https://files.pythonhosted.org/packages/78/7e/bc87e7951cfaa998cffaf39e6c721f5bd04efb2e139486206356edb289a5/lightgbm-2.2.1-py2.py3-none-manylinux1_x86_64.whl (1.1MB)\n",
      "Collecting resource>=0.1.8 (from azureml-train-automl==1.0.8.*; extra == \"automl\"->azureml-sdk[automl,notebooks])\n",
      "  Downloading https://files.pythonhosted.org/packages/34/ad/9cd037c01c075f9a273c23557f8e71195d773d59d3881bbb26011d396c8b/Resource-0.2.1-py2.py3-none-any.whl\n",
      "Collecting dill>=0.2.8 (from azureml-train-automl==1.0.8.*; extra == \"automl\"->azureml-sdk[automl,notebooks])\n",
      "  Downloading https://files.pythonhosted.org/packages/fe/42/bfe2e0857bc284cbe6a011d93f2a9ad58a22cb894461b199ae72cfef0f29/dill-0.2.9.tar.gz (150kB)\n",
      "Requirement already satisfied: scipy<=1.1.0,>=1.0.0 in /opt/conda/envs/aml-sdk-conda-env/lib/python3.6/site-packages (from azureml-train-automl==1.0.8.*; extra == \"automl\"->azureml-sdk[automl,notebooks]) (1.1.0)\n",
      "Collecting sklearn-pandas<=1.7.0,>=1.4.0 (from azureml-train-automl==1.0.8.*; extra == \"automl\"->azureml-sdk[automl,notebooks])\n",
      "  Downloading https://files.pythonhosted.org/packages/7e/9c/c94f46b40b86d2c77c46c4c1b858fc66c117b4390665eca28f2e0812db45/sklearn_pandas-1.7.0-py2.py3-none-any.whl\n",
      "Collecting ipywidgets>=7.0.0 (from azureml-widgets==1.0.8.*; extra == \"notebooks\"->azureml-sdk[automl,notebooks])\n",
      "  Downloading https://files.pythonhosted.org/packages/30/9a/a008c7b1183fac9e52066d80a379b3c64eab535bd9d86cdc29a0b766fd82/ipywidgets-7.4.2-py2.py3-none-any.whl (111kB)\n",
      "Collecting distro>=1.2.0 (from dotnetcore2==2.1.7->azureml-dataprep)\n",
      "  Downloading https://files.pythonhosted.org/packages/f6/b1/ba5a96bccd3496241d8908164b9502a129156443cdd5acbdbf04a90b7a09/distro-1.3.0-py2.py3-none-any.whl\n",
      "Requirement already satisfied: pip in /opt/conda/envs/aml-sdk-conda-env/lib/python3.6/site-packages (from azure-cli-core>=2.0.38->azureml-core==1.0.8.*->azureml-sdk[automl,notebooks]) (18.1)\n",
      "Collecting pyyaml>=4.2b1 (from azure-cli-core>=2.0.38->azureml-core==1.0.8.*->azureml-sdk[automl,notebooks])\n",
      "  Downloading https://files.pythonhosted.org/packages/a8/c6/a8d1555e795dbd0375c3c93b576ca13bbf139db51ea604afa19a2c35fc03/PyYAML-4.2b4.tar.gz (262kB)\n",
      "Collecting azure-cli-nspkg>=2.0.0 (from azure-cli-core>=2.0.38->azureml-core==1.0.8.*->azureml-sdk[automl,notebooks])\n",
      "  Downloading https://files.pythonhosted.org/packages/a7/85/601ef6484bf7a722daa76a4383c4ccfd4980b74ed6c2895392f53ed210d5/azure_cli_nspkg-3.0.3-py2.py3-none-any.whl\n",
      "Collecting humanfriendly>=4.7 (from azure-cli-core>=2.0.38->azureml-core==1.0.8.*->azureml-sdk[automl,notebooks])\n",
      "  Downloading https://files.pythonhosted.org/packages/79/1e/13d96248e3fcaa7777b61fa889feab44865c85e524bbd667acfa0d8b66e3/humanfriendly-4.17-py2.py3-none-any.whl (72kB)\n",
      "Collecting colorama>=0.3.9 (from azure-cli-core>=2.0.38->azureml-core==1.0.8.*->azureml-sdk[automl,notebooks])\n",
      "  Downloading https://files.pythonhosted.org/packages/4f/a6/728666f39bfff1719fc94c481890b2106837da9318031f71a8424b662e12/colorama-0.4.1-py2.py3-none-any.whl\n",
      "Collecting azure-cli-telemetry (from azure-cli-core>=2.0.38->azureml-core==1.0.8.*->azureml-sdk[automl,notebooks])\n",
      "  Downloading https://files.pythonhosted.org/packages/71/4c/da5ebe9300ecdc850031372f81229383c46a70e83dee8e77f58aa6fd0546/azure_cli_telemetry-1.0.0-py2.py3-none-any.whl\n",
      "Collecting knack==0.5.1 (from azure-cli-core>=2.0.38->azureml-core==1.0.8.*->azureml-sdk[automl,notebooks])\n",
      "  Downloading https://files.pythonhosted.org/packages/27/46/0a6d7471efcc519e392640f6933c0f644bbf602971e64797108292cb3623/knack-0.5.1-py2.py3-none-any.whl (50kB)\n",
      "Collecting adal>=1.2.0 (from azure-cli-core>=2.0.38->azureml-core==1.0.8.*->azureml-sdk[automl,notebooks])\n",
      "  Downloading https://files.pythonhosted.org/packages/2d/2f/14882b8dae0977e85577abde3065c141fb94dbb242adfb80e21797e4f7c9/adal-1.2.0-py2.py3-none-any.whl (52kB)\n",
      "Collecting argcomplete>=1.8.0 (from azure-cli-core>=2.0.38->azureml-core==1.0.8.*->azureml-sdk[automl,notebooks])\n",
      "  Downloading https://files.pythonhosted.org/packages/31/88/ba8d8684a8a27749250c66ff7c2b408fdbc29b50da61200338ff9b2607bf/argcomplete-1.9.4-py2.py3-none-any.whl\n",
      "Collecting tabulate<=0.8.2,>=0.7.7 (from azure-cli-core>=2.0.38->azureml-core==1.0.8.*->azureml-sdk[automl,notebooks])\n"
     ]
    },
    {
     "name": "stdout",
     "output_type": "stream",
     "text": [
      "  Downloading https://files.pythonhosted.org/packages/12/c2/11d6845db5edf1295bc08b2f488cf5937806586afe42936c3f34c097ebdc/tabulate-0.8.2.tar.gz (45kB)\n",
      "Collecting pyopenssl>=17.1.0 (from azure-cli-core>=2.0.38->azureml-core==1.0.8.*->azureml-sdk[automl,notebooks])\n",
      "  Downloading https://files.pythonhosted.org/packages/01/c8/ceb170d81bd3941cbeb9940fc6cc2ef2ca4288d0ca8929ea4db5905d904d/pyOpenSSL-19.0.0-py2.py3-none-any.whl (53kB)\n",
      "Collecting paramiko>=2.0.8 (from azure-cli-core>=2.0.38->azureml-core==1.0.8.*->azureml-sdk[automl,notebooks])\n",
      "  Downloading https://files.pythonhosted.org/packages/cf/ae/94e70d49044ccc234bfdba20114fa947d7ba6eb68a2e452d89b920e62227/paramiko-2.4.2-py2.py3-none-any.whl (193kB)\n",
      "Collecting futures (from azure-cli-core>=2.0.38->azureml-core==1.0.8.*->azureml-sdk[automl,notebooks])\n",
      "  Downloading https://files.pythonhosted.org/packages/cc/26/b61e3a4eb50653e8a7339d84eeaa46d1e93b92951978873c220ae64d0733/futures-3.1.1.tar.gz\n",
      "Collecting jmespath (from azure-cli-core>=2.0.38->azureml-core==1.0.8.*->azureml-sdk[automl,notebooks])\n",
      "  Downloading https://files.pythonhosted.org/packages/b7/31/05c8d001f7f87f0f07289a5fc0fc3832e9a57f2dbd4d3b0fee70e0d51365/jmespath-0.9.3-py2.py3-none-any.whl\n",
      "Collecting antlr4-python3-runtime; python_version >= \"3.0\" (from azure-cli-core>=2.0.38->azureml-core==1.0.8.*->azureml-sdk[automl,notebooks])\n",
      "  Downloading https://files.pythonhosted.org/packages/29/14/8ac135ec7cc9db3f768e2d032776718c6b23f74e63543f0974b4873500b2/antlr4-python3-runtime-4.7.2.tar.gz (112kB)\n",
      "Requirement already satisfied: pygments in /opt/conda/envs/aml-sdk-conda-env/lib/python3.6/site-packages (from azure-cli-core>=2.0.38->azureml-core==1.0.8.*->azureml-sdk[automl,notebooks]) (2.2.0)\n",
      "Collecting azure-nspkg>=2.0.0 (from azure-storage-nspkg>=3.0.0->azureml-core==1.0.8.*->azureml-sdk[automl,notebooks])\n",
      "  Downloading https://files.pythonhosted.org/packages/c4/0c/c562be95a9a2ed52454f598571cf300b1114d0db2aa27f5b8ed3bb9cd0c0/azure_nspkg-3.0.2-py3-none-any.whl\n",
      "Collecting azure-cli-command-modules-nspkg>=2.0.0 (from azure-cli-profile>=2.0.26->azureml-core==1.0.8.*->azureml-sdk[automl,notebooks])\n",
      "  Downloading https://files.pythonhosted.org/packages/e6/c9/cdeeeabc550848e2a07caa66cba28aa057d23b6feaa824ceafd32c3f2226/azure_cli_command_modules_nspkg-2.0.2-py2.py3-none-any.whl\n",
      "Requirement already satisfied: certifi>=2017.4.17 in /opt/conda/envs/aml-sdk-conda-env/lib/python3.6/site-packages (from msrest>=0.5.1->azureml-core==1.0.8.*->azureml-sdk[automl,notebooks]) (2018.10.15)\n",
      "Collecting isodate>=0.6.0 (from msrest>=0.5.1->azureml-core==1.0.8.*->azureml-sdk[automl,notebooks])\n",
      "  Downloading https://files.pythonhosted.org/packages/9b/9f/b36f7774ff5ea8e428fdcfc4bb332c39ee5b9362ddd3d40d9516a55221b2/isodate-0.6.0-py2.py3-none-any.whl (45kB)\n",
      "Collecting requests-oauthlib>=0.5.0 (from msrest>=0.5.1->azureml-core==1.0.8.*->azureml-sdk[automl,notebooks])\n",
      "  Downloading https://files.pythonhosted.org/packages/c2/e2/9fd03d55ffb70fe51f587f20bcf407a6927eb121de86928b34d162f0b1ac/requests_oauthlib-1.2.0-py2.py3-none-any.whl\n",
      "Collecting idna<2.9,>=2.5 (from requests>=2.19.1->azureml-core==1.0.8.*->azureml-sdk[automl,notebooks])\n",
      "  Downloading https://files.pythonhosted.org/packages/14/2c/cd551d81dbe15200be1cf41cd03869a46fe7226e7450af7a6545bfc474c9/idna-2.8-py2.py3-none-any.whl (58kB)\n",
      "Collecting chardet<3.1.0,>=3.0.2 (from requests>=2.19.1->azureml-core==1.0.8.*->azureml-sdk[automl,notebooks])\n",
      "  Downloading https://files.pythonhosted.org/packages/bc/a9/01ffebfb562e4274b6487b4bb1ddec7ca55ec7510b22e4c51f14098443b8/chardet-3.0.4-py2.py3-none-any.whl (133kB)\n",
      "Collecting azure-mgmt-nspkg>=2.0.0 (from azure-mgmt-keyvault>=0.40.0->azureml-core==1.0.8.*->azureml-sdk[automl,notebooks])\n",
      "  Downloading https://files.pythonhosted.org/packages/b3/c2/af4b47845f27dc7d206ed4908b9e580f8bc94a4b2f3956a0d87c40719d90/azure_mgmt_nspkg-3.0.2-py3-none-any.whl\n",
      "Collecting docker-pycreds>=0.4.0 (from docker->azureml-core==1.0.8.*->azureml-sdk[automl,notebooks])\n",
      "  Downloading https://files.pythonhosted.org/packages/f5/e8/f6bd1eee09314e7e6dee49cbe2c5e22314ccdb38db16c9fc72d2fa80d054/docker_pycreds-0.4.0-py2.py3-none-any.whl\n",
      "Collecting websocket-client>=0.32.0 (from docker->azureml-core==1.0.8.*->azureml-sdk[automl,notebooks])\n",
      "  Downloading https://files.pythonhosted.org/packages/26/2d/f749a5c82f6192d77ed061a38e02001afcba55fe8477336d26a950ab17ce/websocket_client-0.54.0-py2.py3-none-any.whl (200kB)\n",
      "Collecting pyasn1>=0.1.1 (from ndg-httpsclient->azureml-core==1.0.8.*->azureml-sdk[automl,notebooks])\n",
      "  Downloading https://files.pythonhosted.org/packages/7b/7c/c9386b82a25115cccf1903441bba3cbadcfae7b678a20167347fa8ded34c/pyasn1-0.4.5-py2.py3-none-any.whl (73kB)\n",
      "Collecting cffi!=1.11.3,>=1.8 (from cryptography!=1.9,!=2.0.*,!=2.1.*,!=2.2.*->azureml-core==1.0.8.*->azureml-sdk[automl,notebooks])\n",
      "  Downloading https://files.pythonhosted.org/packages/6d/c0/47db8f624f3e4e2f3f27be03a93379d1ba16a1450a7b1aacfa0366e2c0dd/cffi-1.11.5-cp36-cp36m-manylinux1_x86_64.whl (421kB)\n",
      "Collecting asn1crypto>=0.21.0 (from cryptography!=1.9,!=2.0.*,!=2.1.*,!=2.2.*->azureml-core==1.0.8.*->azureml-sdk[automl,notebooks])\n",
      "  Downloading https://files.pythonhosted.org/packages/ea/cd/35485615f45f30a510576f1a56d1e0a7ad7bd8ab5ed7cdc600ef7cd06222/asn1crypto-0.24.0-py2.py3-none-any.whl (101kB)\n",
      "Collecting backports.weakref (from backports.tempfile->azureml-core==1.0.8.*->azureml-sdk[automl,notebooks])\n",
      "  Downloading https://files.pythonhosted.org/packages/88/ec/f598b633c3d5ffe267aaada57d961c94fdfa183c5c3ebda2b6d151943db6/backports.weakref-1.0.post1-py2.py3-none-any.whl\n",
      "Collecting azureml-train-restclients-hyperdrive==1.0.8.* (from azureml-train-core==1.0.8.*->azureml-train==1.0.8.*->azureml-sdk[automl,notebooks])\n",
      "  Downloading https://files.pythonhosted.org/packages/39/59/bb104ed2b00810d85afc610f04d6d8d7787e7da794d5af89d0c66f5e115d/azureml_train_restclients_hyperdrive-1.0.8-py3-none-any.whl\n",
      "Collecting applicationinsights (from azureml-telemetry==1.0.8.*->azureml-train-automl==1.0.8.*; extra == \"automl\"->azureml-sdk[automl,notebooks])\n",
      "  Downloading https://files.pythonhosted.org/packages/e3/c8/7848a0dd85158930b859eb8be1e38fc76a91f0a040d491723ebb356d7358/applicationinsights-0.11.7-py2.py3-none-any.whl (56kB)\n",
      "Collecting keras-preprocessing>=1.0.5 (from tensorflow>=1.10.0->azureml-train-automl==1.0.8.*; extra == \"automl\"->azureml-sdk[automl,notebooks])\n",
      "  Downloading https://files.pythonhosted.org/packages/fc/94/74e0fa783d3fc07e41715973435dd051ca89c550881b3454233c39c73e69/Keras_Preprocessing-1.0.5-py2.py3-none-any.whl\n",
      "Collecting tensorboard<1.13.0,>=1.12.0 (from tensorflow>=1.10.0->azureml-train-automl==1.0.8.*; extra == \"automl\"->azureml-sdk[automl,notebooks])\n",
      "  Downloading https://files.pythonhosted.org/packages/07/53/8d32ce9471c18f8d99028b7cef2e5b39ea8765bd7ef250ca05b490880971/tensorboard-1.12.2-py3-none-any.whl (3.0MB)\n",
      "Collecting grpcio>=1.8.6 (from tensorflow>=1.10.0->azureml-train-automl==1.0.8.*; extra == \"automl\"->azureml-sdk[automl,notebooks])\n",
      "  Downloading https://files.pythonhosted.org/packages/51/a3/489ce6a67047263e9b0da8784b2925c4f89b688a6e33073c5bb6c4c2867f/grpcio-1.18.0-cp36-cp36m-manylinux1_x86_64.whl (10.6MB)\n",
      "Collecting keras-applications>=1.0.6 (from tensorflow>=1.10.0->azureml-train-automl==1.0.8.*; extra == \"automl\"->azureml-sdk[automl,notebooks])\n",
      "  Downloading https://files.pythonhosted.org/packages/3f/c4/2ff40221029f7098d58f8d7fb99b97e8100f3293f9856f0fb5834bef100b/Keras_Applications-1.0.6-py2.py3-none-any.whl (44kB)\n",
      "Collecting absl-py>=0.1.6 (from tensorflow>=1.10.0->azureml-train-automl==1.0.8.*; extra == \"automl\"->azureml-sdk[automl,notebooks])\n",
      "  Downloading https://files.pythonhosted.org/packages/31/bc/ab68120d1d89ae23b694a55fe2aece2f91194313b71f9b05a80b32d3c24b/absl-py-0.7.0.tar.gz (96kB)\n",
      "Collecting astor>=0.6.0 (from tensorflow>=1.10.0->azureml-train-automl==1.0.8.*; extra == \"automl\"->azureml-sdk[automl,notebooks])\n",
      "  Downloading https://files.pythonhosted.org/packages/35/6b/11530768cac581a12952a2aad00e1526b89d242d0b9f59534ef6e6a1752f/astor-0.7.1-py2.py3-none-any.whl\n",
      "Collecting termcolor>=1.1.0 (from tensorflow>=1.10.0->azureml-train-automl==1.0.8.*; extra == \"automl\"->azureml-sdk[automl,notebooks])\n",
      "  Downloading https://files.pythonhosted.org/packages/8a/48/a76be51647d0eb9f10e2a4511bf3ffb8cc1e6b14e9e4fab46173aa79f981/termcolor-1.1.0.tar.gz\n"
     ]
    },
    {
     "name": "stdout",
     "output_type": "stream",
     "text": [
      "Collecting protobuf>=3.6.1 (from tensorflow>=1.10.0->azureml-train-automl==1.0.8.*; extra == \"automl\"->azureml-sdk[automl,notebooks])\n",
      "  Downloading https://files.pythonhosted.org/packages/c2/f9/28787754923612ca9bfdffc588daa05580ed70698add063a5629d1a4209d/protobuf-3.6.1-cp36-cp36m-manylinux1_x86_64.whl (1.1MB)\n",
      "Collecting gast>=0.2.0 (from tensorflow>=1.10.0->azureml-train-automl==1.0.8.*; extra == \"automl\"->azureml-sdk[automl,notebooks])\n",
      "  Downloading https://files.pythonhosted.org/packages/4e/35/11749bf99b2d4e3cceb4d55ca22590b0d7c2c62b9de38ac4a4a7f4687421/gast-0.2.2.tar.gz\n",
      "Collecting JsonSir>=0.0.2 (from resource>=0.1.8->azureml-train-automl==1.0.8.*; extra == \"automl\"->azureml-sdk[automl,notebooks])\n",
      "  Downloading https://files.pythonhosted.org/packages/aa/bf/5c00c1dafaa3ca2c32e7641d9c2c6f9d6d76e127bde00eb600333a60c5bc/JsonSir-0.0.2.tar.gz\n",
      "Collecting JsonForm>=0.0.2 (from resource>=0.1.8->azureml-train-automl==1.0.8.*; extra == \"automl\"->azureml-sdk[automl,notebooks])\n",
      "  Downloading https://files.pythonhosted.org/packages/4f/b7/b9491ba4b709d0616fab15a89f8efe4d3a7924652e1fdd4f15303e9ecdf0/JsonForm-0.0.2.tar.gz\n",
      "Collecting python-easyconfig>=0.1.0 (from resource>=0.1.8->azureml-train-automl==1.0.8.*; extra == \"automl\"->azureml-sdk[automl,notebooks])\n",
      "  Downloading https://files.pythonhosted.org/packages/b1/86/1138081cca360a02066eedaf301d0f358c35e0e0d67572acf9d6354edca9/Python_EasyConfig-0.1.7-py2.py3-none-any.whl\n",
      "Requirement already satisfied: traitlets>=4.3.1 in /opt/conda/envs/aml-sdk-conda-env/lib/python3.6/site-packages (from ipywidgets>=7.0.0->azureml-widgets==1.0.8.*; extra == \"notebooks\"->azureml-sdk[automl,notebooks]) (4.3.2)\n",
      "Requirement already satisfied: nbformat>=4.2.0 in /opt/conda/envs/aml-sdk-conda-env/lib/python3.6/site-packages (from ipywidgets>=7.0.0->azureml-widgets==1.0.8.*; extra == \"notebooks\"->azureml-sdk[automl,notebooks]) (4.4.0)\n",
      "Requirement already satisfied: ipykernel>=4.5.1 in /opt/conda/envs/aml-sdk-conda-env/lib/python3.6/site-packages (from ipywidgets>=7.0.0->azureml-widgets==1.0.8.*; extra == \"notebooks\"->azureml-sdk[automl,notebooks]) (5.1.0)\n",
      "Requirement already satisfied: ipython>=4.0.0; python_version >= \"3.3\" in /opt/conda/envs/aml-sdk-conda-env/lib/python3.6/site-packages (from ipywidgets>=7.0.0->azureml-widgets==1.0.8.*; extra == \"notebooks\"->azureml-sdk[automl,notebooks]) (7.2.0)\n",
      "Collecting widgetsnbextension~=3.4.0 (from ipywidgets>=7.0.0->azureml-widgets==1.0.8.*; extra == \"notebooks\"->azureml-sdk[automl,notebooks])\n",
      "  Downloading https://files.pythonhosted.org/packages/8a/81/35789a3952afb48238289171728072d26d6e76649ddc8b3588657a2d78c1/widgetsnbextension-3.4.2-py2.py3-none-any.whl (2.2MB)\n",
      "Collecting portalocker==1.2.1 (from azure-cli-telemetry->azure-cli-core>=2.0.38->azureml-core==1.0.8.*->azureml-sdk[automl,notebooks])\n",
      "  Downloading https://files.pythonhosted.org/packages/57/41/05e79e5516db1cc0c967b3202388cde729f871c871b0a07bf24ff11adfcf/portalocker-1.2.1-py2.py3-none-any.whl\n",
      "Collecting bcrypt>=3.1.3 (from paramiko>=2.0.8->azure-cli-core>=2.0.38->azureml-core==1.0.8.*->azureml-sdk[automl,notebooks])\n",
      "  Downloading https://files.pythonhosted.org/packages/d0/79/79a4d167a31cc206117d9b396926615fa9c1fdbd52017bcced80937ac501/bcrypt-3.1.6-cp34-abi3-manylinux1_x86_64.whl (55kB)\n",
      "Collecting pynacl>=1.0.1 (from paramiko>=2.0.8->azure-cli-core>=2.0.38->azureml-core==1.0.8.*->azureml-sdk[automl,notebooks])\n",
      "  Downloading https://files.pythonhosted.org/packages/27/15/2cd0a203f318c2240b42cd9dd13c931ddd61067809fee3479f44f086103e/PyNaCl-1.3.0-cp34-abi3-manylinux1_x86_64.whl (759kB)\n",
      "Collecting oauthlib>=3.0.0 (from requests-oauthlib>=0.5.0->msrest>=0.5.1->azureml-core==1.0.8.*->azureml-sdk[automl,notebooks])\n",
      "  Downloading https://files.pythonhosted.org/packages/b8/03/ec2be6c125f330361afe33bff48ef7549c47da8fefc658a2df2242175b4b/oauthlib-3.0.0-py2.py3-none-any.whl (142kB)\n",
      "Collecting pycparser (from cffi!=1.11.3,>=1.8->cryptography!=1.9,!=2.0.*,!=2.1.*,!=2.2.*->azureml-core==1.0.8.*->azureml-sdk[automl,notebooks])\n",
      "  Downloading https://files.pythonhosted.org/packages/68/9e/49196946aee219aead1290e00d1e7fdeab8567783e83e1b9ab5585e6206a/pycparser-2.19.tar.gz (158kB)\n",
      "Collecting markdown>=2.6.8 (from tensorboard<1.13.0,>=1.12.0->tensorflow>=1.10.0->azureml-train-automl==1.0.8.*; extra == \"automl\"->azureml-sdk[automl,notebooks])\n",
      "  Downloading https://files.pythonhosted.org/packages/7a/6b/5600647404ba15545ec37d2f7f58844d690baf2f81f3a60b862e48f29287/Markdown-3.0.1-py2.py3-none-any.whl (89kB)\n",
      "Collecting werkzeug>=0.11.10 (from tensorboard<1.13.0,>=1.12.0->tensorflow>=1.10.0->azureml-train-automl==1.0.8.*; extra == \"automl\"->azureml-sdk[automl,notebooks])\n",
      "  Downloading https://files.pythonhosted.org/packages/20/c4/12e3e56473e52375aa29c4764e70d1b8f3efa6682bef8d0aae04fe335243/Werkzeug-0.14.1-py2.py3-none-any.whl (322kB)\n",
      "Collecting h5py (from keras-applications>=1.0.6->tensorflow>=1.10.0->azureml-train-automl==1.0.8.*; extra == \"automl\"->azureml-sdk[automl,notebooks])\n",
      "  Downloading https://files.pythonhosted.org/packages/30/99/d7d4fbf2d02bb30fb76179911a250074b55b852d34e98dd452a9f394ac06/h5py-2.9.0-cp36-cp36m-manylinux1_x86_64.whl (2.8MB)\n",
      "Requirement already satisfied: setuptools in /opt/conda/envs/aml-sdk-conda-env/lib/python3.6/site-packages (from protobuf>=3.6.1->tensorflow>=1.10.0->azureml-train-automl==1.0.8.*; extra == \"automl\"->azureml-sdk[automl,notebooks]) (40.6.2)\n",
      "Requirement already satisfied: jsonschema in /opt/conda/envs/aml-sdk-conda-env/lib/python3.6/site-packages (from JsonForm>=0.0.2->resource>=0.1.8->azureml-train-automl==1.0.8.*; extra == \"automl\"->azureml-sdk[automl,notebooks]) (2.6.0)\n",
      "Requirement already satisfied: ipython-genutils in /opt/conda/envs/aml-sdk-conda-env/lib/python3.6/site-packages (from traitlets>=4.3.1->ipywidgets>=7.0.0->azureml-widgets==1.0.8.*; extra == \"notebooks\"->azureml-sdk[automl,notebooks]) (0.2.0)\n",
      "Requirement already satisfied: decorator in /opt/conda/envs/aml-sdk-conda-env/lib/python3.6/site-packages (from traitlets>=4.3.1->ipywidgets>=7.0.0->azureml-widgets==1.0.8.*; extra == \"notebooks\"->azureml-sdk[automl,notebooks]) (4.3.0)\n",
      "Requirement already satisfied: jupyter-core in /opt/conda/envs/aml-sdk-conda-env/lib/python3.6/site-packages (from nbformat>=4.2.0->ipywidgets>=7.0.0->azureml-widgets==1.0.8.*; extra == \"notebooks\"->azureml-sdk[automl,notebooks]) (4.4.0)\n",
      "Requirement already satisfied: tornado>=4.2 in /opt/conda/envs/aml-sdk-conda-env/lib/python3.6/site-packages (from ipykernel>=4.5.1->ipywidgets>=7.0.0->azureml-widgets==1.0.8.*; extra == \"notebooks\"->azureml-sdk[automl,notebooks]) (5.1.1)\n",
      "Requirement already satisfied: jupyter-client in /opt/conda/envs/aml-sdk-conda-env/lib/python3.6/site-packages (from ipykernel>=4.5.1->ipywidgets>=7.0.0->azureml-widgets==1.0.8.*; extra == \"notebooks\"->azureml-sdk[automl,notebooks]) (5.2.3)\n",
      "Requirement already satisfied: pickleshare in /opt/conda/envs/aml-sdk-conda-env/lib/python3.6/site-packages (from ipython>=4.0.0; python_version >= \"3.3\"->ipywidgets>=7.0.0->azureml-widgets==1.0.8.*; extra == \"notebooks\"->azureml-sdk[automl,notebooks]) (0.7.5)\n",
      "Requirement already satisfied: pexpect; sys_platform != \"win32\" in /opt/conda/envs/aml-sdk-conda-env/lib/python3.6/site-packages (from ipython>=4.0.0; python_version >= \"3.3\"->ipywidgets>=7.0.0->azureml-widgets==1.0.8.*; extra == \"notebooks\"->azureml-sdk[automl,notebooks]) (4.6.0)\n",
      "Requirement already satisfied: prompt-toolkit<2.1.0,>=2.0.0 in /opt/conda/envs/aml-sdk-conda-env/lib/python3.6/site-packages (from ipython>=4.0.0; python_version >= \"3.3\"->ipywidgets>=7.0.0->azureml-widgets==1.0.8.*; extra == \"notebooks\"->azureml-sdk[automl,notebooks]) (2.0.7)\n",
      "Requirement already satisfied: jedi>=0.10 in /opt/conda/envs/aml-sdk-conda-env/lib/python3.6/site-packages (from ipython>=4.0.0; python_version >= \"3.3\"->ipywidgets>=7.0.0->azureml-widgets==1.0.8.*; extra == \"notebooks\"->azureml-sdk[automl,notebooks]) (0.13.1)\n",
      "Requirement already satisfied: backcall in /opt/conda/envs/aml-sdk-conda-env/lib/python3.6/site-packages (from ipython>=4.0.0; python_version >= \"3.3\"->ipywidgets>=7.0.0->azureml-widgets==1.0.8.*; extra == \"notebooks\"->azureml-sdk[automl,notebooks]) (0.1.0)\n",
      "Requirement already satisfied: notebook>=4.4.1 in /opt/conda/envs/aml-sdk-conda-env/lib/python3.6/site-packages (from widgetsnbextension~=3.4.0->ipywidgets>=7.0.0->azureml-widgets==1.0.8.*; extra == \"notebooks\"->azureml-sdk[automl,notebooks]) (5.6.0)\n",
      "Requirement already satisfied: pyzmq>=13 in /opt/conda/envs/aml-sdk-conda-env/lib/python3.6/site-packages (from jupyter-client->ipykernel>=4.5.1->ipywidgets>=7.0.0->azureml-widgets==1.0.8.*; extra == \"notebooks\"->azureml-sdk[automl,notebooks]) (17.1.2)\n",
      "Requirement already satisfied: ptyprocess>=0.5 in /opt/conda/envs/aml-sdk-conda-env/lib/python3.6/site-packages (from pexpect; sys_platform != \"win32\"->ipython>=4.0.0; python_version >= \"3.3\"->ipywidgets>=7.0.0->azureml-widgets==1.0.8.*; extra == \"notebooks\"->azureml-sdk[automl,notebooks]) (0.6.0)\n",
      "Requirement already satisfied: wcwidth in /opt/conda/envs/aml-sdk-conda-env/lib/python3.6/site-packages (from prompt-toolkit<2.1.0,>=2.0.0->ipython>=4.0.0; python_version >= \"3.3\"->ipywidgets>=7.0.0->azureml-widgets==1.0.8.*; extra == \"notebooks\"->azureml-sdk[automl,notebooks]) (0.1.7)\n",
      "Requirement already satisfied: parso>=0.3.0 in /opt/conda/envs/aml-sdk-conda-env/lib/python3.6/site-packages (from jedi>=0.10->ipython>=4.0.0; python_version >= \"3.3\"->ipywidgets>=7.0.0->azureml-widgets==1.0.8.*; extra == \"notebooks\"->azureml-sdk[automl,notebooks]) (0.3.1)\n",
      "Requirement already satisfied: jinja2 in /opt/conda/envs/aml-sdk-conda-env/lib/python3.6/site-packages (from notebook>=4.4.1->widgetsnbextension~=3.4.0->ipywidgets>=7.0.0->azureml-widgets==1.0.8.*; extra == \"notebooks\"->azureml-sdk[automl,notebooks]) (2.10)\n"
     ]
    },
    {
     "name": "stdout",
     "output_type": "stream",
     "text": [
      "Requirement already satisfied: nbconvert in /opt/conda/envs/aml-sdk-conda-env/lib/python3.6/site-packages (from notebook>=4.4.1->widgetsnbextension~=3.4.0->ipywidgets>=7.0.0->azureml-widgets==1.0.8.*; extra == \"notebooks\"->azureml-sdk[automl,notebooks]) (5.3.1)\n",
      "Requirement already satisfied: prometheus-client in /opt/conda/envs/aml-sdk-conda-env/lib/python3.6/site-packages (from notebook>=4.4.1->widgetsnbextension~=3.4.0->ipywidgets>=7.0.0->azureml-widgets==1.0.8.*; extra == \"notebooks\"->azureml-sdk[automl,notebooks]) (0.4.2)\n",
      "Requirement already satisfied: Send2Trash in /opt/conda/envs/aml-sdk-conda-env/lib/python3.6/site-packages (from notebook>=4.4.1->widgetsnbextension~=3.4.0->ipywidgets>=7.0.0->azureml-widgets==1.0.8.*; extra == \"notebooks\"->azureml-sdk[automl,notebooks]) (1.5.0)\n",
      "Requirement already satisfied: terminado>=0.8.1 in /opt/conda/envs/aml-sdk-conda-env/lib/python3.6/site-packages (from notebook>=4.4.1->widgetsnbextension~=3.4.0->ipywidgets>=7.0.0->azureml-widgets==1.0.8.*; extra == \"notebooks\"->azureml-sdk[automl,notebooks]) (0.8.1)\n",
      "Requirement already satisfied: MarkupSafe>=0.23 in /opt/conda/envs/aml-sdk-conda-env/lib/python3.6/site-packages (from jinja2->notebook>=4.4.1->widgetsnbextension~=3.4.0->ipywidgets>=7.0.0->azureml-widgets==1.0.8.*; extra == \"notebooks\"->azureml-sdk[automl,notebooks]) (1.1.0)\n",
      "Requirement already satisfied: mistune>=0.7.4 in /opt/conda/envs/aml-sdk-conda-env/lib/python3.6/site-packages (from nbconvert->notebook>=4.4.1->widgetsnbextension~=3.4.0->ipywidgets>=7.0.0->azureml-widgets==1.0.8.*; extra == \"notebooks\"->azureml-sdk[automl,notebooks]) (0.8.4)\n",
      "Requirement already satisfied: bleach in /opt/conda/envs/aml-sdk-conda-env/lib/python3.6/site-packages (from nbconvert->notebook>=4.4.1->widgetsnbextension~=3.4.0->ipywidgets>=7.0.0->azureml-widgets==1.0.8.*; extra == \"notebooks\"->azureml-sdk[automl,notebooks]) (3.0.2)\n",
      "Requirement already satisfied: testpath in /opt/conda/envs/aml-sdk-conda-env/lib/python3.6/site-packages (from nbconvert->notebook>=4.4.1->widgetsnbextension~=3.4.0->ipywidgets>=7.0.0->azureml-widgets==1.0.8.*; extra == \"notebooks\"->azureml-sdk[automl,notebooks]) (0.4.2)\n",
      "Requirement already satisfied: pandocfilters>=1.4.1 in /opt/conda/envs/aml-sdk-conda-env/lib/python3.6/site-packages (from nbconvert->notebook>=4.4.1->widgetsnbextension~=3.4.0->ipywidgets>=7.0.0->azureml-widgets==1.0.8.*; extra == \"notebooks\"->azureml-sdk[automl,notebooks]) (1.4.2)\n",
      "Requirement already satisfied: entrypoints>=0.2.2 in /opt/conda/envs/aml-sdk-conda-env/lib/python3.6/site-packages (from nbconvert->notebook>=4.4.1->widgetsnbextension~=3.4.0->ipywidgets>=7.0.0->azureml-widgets==1.0.8.*; extra == \"notebooks\"->azureml-sdk[automl,notebooks]) (0.2.3)\n",
      "Requirement already satisfied: webencodings in /opt/conda/envs/aml-sdk-conda-env/lib/python3.6/site-packages (from bleach->nbconvert->notebook>=4.4.1->widgetsnbextension~=3.4.0->ipywidgets>=7.0.0->azureml-widgets==1.0.8.*; extra == \"notebooks\"->azureml-sdk[automl,notebooks]) (0.5.1)\n",
      "Building wheels for collected packages: pathspec, SecretStorage, dill, pyyaml, tabulate, futures, antlr4-python3-runtime, absl-py, termcolor, gast, JsonSir, JsonForm, pycparser\n",
      "  Running setup.py bdist_wheel for pathspec: started\n",
      "  Running setup.py bdist_wheel for pathspec: finished with status 'done'\n",
      "  Stored in directory: /root/.cache/pip/wheels/45/cb/7e/ce6e6062c69446e39e328170524ca8213498bc66a74c6a210b\n",
      "  Running setup.py bdist_wheel for SecretStorage: started\n",
      "  Running setup.py bdist_wheel for SecretStorage: finished with status 'done'\n",
      "  Stored in directory: /root/.cache/pip/wheels/4e/5b/1b/be8c8a830a0243af85b2946a0aece2c6743d7f7f946977ed67\n",
      "  Running setup.py bdist_wheel for dill: started\n",
      "  Running setup.py bdist_wheel for dill: finished with status 'done'\n",
      "  Stored in directory: /root/.cache/pip/wheels/5b/d7/0f/e58eae695403de585269f4e4a94e0cd6ca60ec0c202936fa4a\n",
      "  Running setup.py bdist_wheel for pyyaml: started\n",
      "  Running setup.py bdist_wheel for pyyaml: finished with status 'done'\n",
      "  Stored in directory: /root/.cache/pip/wheels/d2/ab/e6/df7b6c9e3b43272fe0164d6a012e4e02e63baaddae4ca6a0d0\n",
      "  Running setup.py bdist_wheel for tabulate: started\n",
      "  Running setup.py bdist_wheel for tabulate: finished with status 'done'\n",
      "  Stored in directory: /root/.cache/pip/wheels/2a/85/33/2f6da85d5f10614cbe5a625eab3b3aebfdf43e7b857f25f829\n",
      "  Running setup.py bdist_wheel for futures: started\n",
      "  Running setup.py bdist_wheel for futures: finished with status 'done'\n",
      "  Stored in directory: /root/.cache/pip/wheels/f3/f9/c7/4fbf1faa6038faf183f6e3ea61f17a5f7eea5ab9a1dd7753fd\n",
      "  Running setup.py bdist_wheel for antlr4-python3-runtime: started\n",
      "  Running setup.py bdist_wheel for antlr4-python3-runtime: finished with status 'done'\n",
      "  Stored in directory: /root/.cache/pip/wheels/03/65/47/b6700d23b7529a49513f7601b4f96174a4fa9efdbec03e7ea3\n",
      "  Running setup.py bdist_wheel for absl-py: started\n",
      "  Running setup.py bdist_wheel for absl-py: finished with status 'done'\n",
      "  Stored in directory: /root/.cache/pip/wheels/90/db/f8/2c3101f72ef1ad434e4662853174126ce30201a3e163dcbeca\n",
      "  Running setup.py bdist_wheel for termcolor: started\n",
      "  Running setup.py bdist_wheel for termcolor: finished with status 'done'\n",
      "  Stored in directory: /root/.cache/pip/wheels/7c/06/54/bc84598ba1daf8f970247f550b175aaaee85f68b4b0c5ab2c6\n",
      "  Running setup.py bdist_wheel for gast: started\n",
      "  Running setup.py bdist_wheel for gast: finished with status 'done'\n",
      "  Stored in directory: /root/.cache/pip/wheels/5c/2e/7e/a1d4d4fcebe6c381f378ce7743a3ced3699feb89bcfbdadadd\n",
      "  Running setup.py bdist_wheel for JsonSir: started\n",
      "  Running setup.py bdist_wheel for JsonSir: finished with status 'done'\n",
      "  Stored in directory: /root/.cache/pip/wheels/ee/30/5c/3a3b5e1386c8db9a3be5f5c3933644ae0533c1351c6a8eb4b5\n",
      "  Running setup.py bdist_wheel for JsonForm: started\n",
      "  Running setup.py bdist_wheel for JsonForm: finished with status 'done'\n",
      "  Stored in directory: /root/.cache/pip/wheels/e8/74/51/42c2d41c02bdc6f0e604476b7e4293b8c98d0bcbfa1dff78c8\n",
      "  Running setup.py bdist_wheel for pycparser: started\n",
      "  Running setup.py bdist_wheel for pycparser: finished with status 'done'\n",
      "  Stored in directory: /root/.cache/pip/wheels/f2/9a/90/de94f8556265ddc9d9c8b271b0f63e57b26fb1d67a45564511\n",
      "Successfully built pathspec SecretStorage dill pyyaml tabulate futures antlr4-python3-runtime absl-py termcolor gast JsonSir JsonForm pycparser\n",
      "\u001b[91mazure-cli-core 2.0.55 has requirement azure-mgmt-resource==2.0.0, but you'll have azure-mgmt-resource 2.1.0 which is incompatible.\n",
      "azureml-train-automl 1.0.8 has requirement numpy<1.15.0,>=1.11.0, but you'll have numpy 1.15.4 which is incompatible.\n",
      "\u001b[0mInstalling collected packages: pyyaml, azure-nspkg, azure-cli-nspkg, humanfriendly, PyJWT, colorama, applicationinsights, portalocker, azure-cli-telemetry, jmespath, argcomplete, tabulate, knack, pycparser, cffi, asn1crypto, cryptography, idna, chardet, urllib3, requests, adal, isodate, oauthlib, requests-oauthlib, msrest, azure-common, msrestazure, azure-mgmt-resource, pyopenssl, bcrypt, pyasn1, pynacl, paramiko, futures, wheel, antlr4-python3-runtime, azure-cli-core, azure-storage-nspkg, azure-cli-command-modules-nspkg, azure-cli-profile, pathspec, contextlib2, pytz, SecretStorage, azure-mgmt-authorization, azure-mgmt-nspkg, azure-mgmt-keyvault, azure-storage-common, azure-storage-blob, docker-pycreds, websocket-client, docker, ndg-httpsclient, ruamel.yaml, azure-mgmt-containerregistry, backports.weakref, backports.tempfile, azure-mgmt-storage, azure-graphrbac, jsonpickle, azureml-core, azureml-telemetry, azureml-train-restclients-hyperdrive, azureml-train-core, azureml-train, azureml-pipeline-core, azureml-pipeline-steps, azureml-pipeline, keras-preprocessing, protobuf, markdown, grpcio, werkzeug, tensorboard, h5py, keras-applications, absl-py, astor, termcolor, gast, tensorflow, scikit-learn, pandas, lightgbm, JsonSir, JsonForm, python-easyconfig, resource, dill, azureml-dataprep-native, distro, dotnetcore2, azureml-dataprep, sklearn-pandas, azureml-train-automl, widgetsnbextension, ipywidgets, azureml-widgets, azureml-sdk\n",
      "  Found existing installation: wheel 0.32.3\n",
      "    Uninstalling wheel-0.32.3:\n",
      "      Successfully uninstalled wheel-0.32.3\n"
     ]
    },
    {
     "name": "stdout",
     "output_type": "stream",
     "text": [
      "  Found existing installation: scikit-learn 0.20.1\n",
      "    Uninstalling scikit-learn-0.20.1:\n",
      "      Successfully uninstalled scikit-learn-0.20.1\n",
      "Successfully installed JsonForm-0.0.2 JsonSir-0.0.2 PyJWT-1.7.1 SecretStorage-2.3.1 absl-py-0.7.0 adal-1.2.0 antlr4-python3-runtime-4.7.2 applicationinsights-0.11.7 argcomplete-1.9.4 asn1crypto-0.24.0 astor-0.7.1 azure-cli-command-modules-nspkg-2.0.2 azure-cli-core-2.0.55 azure-cli-nspkg-3.0.3 azure-cli-profile-2.1.2 azure-cli-telemetry-1.0.0 azure-common-1.1.17 azure-graphrbac-0.53.0 azure-mgmt-authorization-0.51.1 azure-mgmt-containerregistry-2.6.0 azure-mgmt-keyvault-1.1.0 azure-mgmt-nspkg-3.0.2 azure-mgmt-resource-2.1.0 azure-mgmt-storage-3.1.1 azure-nspkg-3.0.2 azure-storage-blob-1.4.0 azure-storage-common-1.4.0 azure-storage-nspkg-3.1.0 azureml-core-1.0.8 azureml-dataprep-1.0.7 azureml-dataprep-native-11.2.1 azureml-pipeline-1.0.8 azureml-pipeline-core-1.0.8 azureml-pipeline-steps-1.0.8 azureml-sdk-1.0.8 azureml-telemetry-1.0.8 azureml-train-1.0.8 azureml-train-automl-1.0.8 azureml-train-core-1.0.8 azureml-train-restclients-hyperdrive-1.0.8 azureml-widgets-1.0.8 backports.tempfile-1.0 backports.weakref-1.0.post1 bcrypt-3.1.6 cffi-1.11.5 chardet-3.0.4 colorama-0.4.1 contextlib2-0.5.5 cryptography-2.5 dill-0.2.9 distro-1.3.0 docker-3.7.0 docker-pycreds-0.4.0 dotnetcore2-2.1.7 futures-3.1.1 gast-0.2.2 grpcio-1.18.0 h5py-2.9.0 humanfriendly-4.17 idna-2.8 ipywidgets-7.4.2 isodate-0.6.0 jmespath-0.9.3 jsonpickle-1.1 keras-applications-1.0.6 keras-preprocessing-1.0.5 knack-0.5.1 lightgbm-2.2.1 markdown-3.0.1 msrest-0.6.4 msrestazure-0.6.0 ndg-httpsclient-0.5.1 oauthlib-3.0.0 pandas-0.23.4 paramiko-2.4.2 pathspec-0.5.9 portalocker-1.2.1 protobuf-3.6.1 pyasn1-0.4.5 pycparser-2.19 pynacl-1.3.0 pyopenssl-19.0.0 python-easyconfig-0.1.7 pytz-2018.9 pyyaml-4.2b4 requests-2.21.0 requests-oauthlib-1.2.0 resource-0.2.1 ruamel.yaml-0.15.51 scikit-learn-0.19.1 sklearn-pandas-1.7.0 tabulate-0.8.2 tensorboard-1.12.2 tensorflow-1.12.0 termcolor-1.1.0 urllib3-1.23 websocket-client-0.54.0 werkzeug-0.14.1 wheel-0.30.0 widgetsnbextension-3.4.2\n",
      "Removing intermediate container a35ddee965d1\n",
      " ---> 3ccecb1f0d90\n",
      "Step 9/10 : RUN [ \"/bin/bash\",\"-c\",\"source activate aml-sdk-conda-env &&                         jupyter nbextension install --py --user azureml.widgets  &&                         jupyter nbextension enable --py --user azureml.widgets\"]\n",
      " ---> Running in 0e6a0b34e03a\n",
      "\u001b[91mInstalling /opt/conda/envs/aml-sdk-conda-env/lib/python3.6/site-packages/azureml/widgets/static -> azureml_widgets\n",
      "\u001b[0m\u001b[91mMaking directory: /root/.local/share/jupyter/nbextensions/azureml_widgets/\n",
      "\u001b[0m\u001b[91mCopying: /opt/conda/envs/aml-sdk-conda-env/lib/python3.6/site-packages/azureml/widgets/static/index.js -> /root/.local/share/jupyter/nbextensions/azureml_widgets/index.js\n",
      "\u001b[0m\u001b[91mCopying: /opt/conda/envs/aml-sdk-conda-env/lib/python3.6/site-packages/azureml/widgets/static/extension.js -> /root/.local/share/jupyter/nbextensions/azureml_widgets/extension.js\n",
      "\u001b[0m\u001b[91mMaking directory: /root/.local/share/jupyter/nbextensions/azureml_widgets/packages\n",
      "\u001b[0m\u001b[91mMaking directory: /root/.local/share/jupyter/nbextensions/azureml_widgets/packages/labextension\n",
      "\u001b[0m\u001b[91mCopying: /opt/conda/envs/aml-sdk-conda-env/lib/python3.6/site-packages/azureml/widgets/static/packages/labextension/azureml_widgets-1.0.0.tgz -> /root/.local/share/jupyter/nbextensions/azureml_widgets/packages/labextension/azureml_widgets-1.0.0.tgz\n",
      "\u001b[0m\u001b[91m- Validating: \u001b[32mOK\u001b[0m\n",
      "\u001b[0m\u001b[91m\n",
      "    To initialize this nbextension in the browser every time the notebook (or other app) loads:\n",
      "    \n",
      "          jupyter nbextension enable azureml.widgets --user --py\n",
      "    \n",
      "\u001b[0m\u001b[91mEnabling notebook extension azureml_widgets/extension...\n",
      "\u001b[0m\u001b[91m      - Validating: \u001b[32mOK\u001b[0m\n",
      "\u001b[0mRemoving intermediate container 0e6a0b34e03a\n",
      " ---> bba5d1c25339\n",
      "Step 10/10 : CMD [ \"/bin/bash\",\"-c\",\"source activate aml-sdk-conda-env\"]\n",
      " ---> Running in 7b943a5f1ef2\n",
      "Removing intermediate container 7b943a5f1ef2\n",
      " ---> 39dda4d4a160\n",
      "Successfully built 39dda4d4a160\n",
      "Successfully tagged georgedockeraccount/aml-sdk_docker:sdk.v.1.0.8\n"
     ]
    }
   ],
   "source": [
    "!echo docker build -t $docker_image_name -f $docker_file_path $working_path --no-cache\n",
    "!     docker build -t $docker_image_name -f $docker_file_path $working_path --no-cache"
   ]
  },
  {
   "cell_type": "code",
   "execution_count": 11,
   "metadata": {
    "nbpresent": {
     "id": "468b09b6-55a8-4b09-bbc9-f857e41a51e0"
    }
   },
   "outputs": [
    {
     "data": {
      "text/plain": [
       "'/datadrive01/prj/PowerAIWithDocker/amlsdk/docker_run_dir'"
      ]
     },
     "execution_count": 11,
     "metadata": {},
     "output_type": "execute_result"
    },
    {
     "name": "stdout",
     "output_type": "stream",
     "text": [
      "total 0\r\n"
     ]
    }
   ],
   "source": [
    "local_dir = !pwd\n",
    "crt_local_dir = os.path.join(*([local_dir.s, 'docker_run_dir']))\n",
    "crt_local_dir \n",
    "!mkdir -p $crt_local_dir\n",
    "!rm -rf $crt_local_dir/test_*\n",
    "!ls -l $crt_local_dir\n",
    "# ! chmod -R ugo=rwx $crt_local_dir"
   ]
  },
  {
   "cell_type": "code",
   "execution_count": 12,
   "metadata": {},
   "outputs": [],
   "source": [
    "!mkdir -p ./docker_history\n",
    "!cp $docker_file_path ./docker_history/"
   ]
  },
  {
   "cell_type": "markdown",
   "metadata": {},
   "source": [
    "#### Push image to ([dockerhub](https://hub.docker.com/)) registry (optional step)"
   ]
  },
  {
   "cell_type": "code",
   "execution_count": 13,
   "metadata": {},
   "outputs": [],
   "source": [
    "# !docker login -u=$docker_login -p="
   ]
  },
  {
   "cell_type": "code",
   "execution_count": 14,
   "metadata": {},
   "outputs": [
    {
     "name": "stdout",
     "output_type": "stream",
     "text": [
      "The push refers to repository [docker.io/georgedockeraccount/aml-sdk_docker]\n",
      "\n",
      "\u001b[1Ba13b0376: Preparing \n",
      "\u001b[1B64eeef00: Preparing \n",
      "\u001b[1B35df9271: Preparing \n",
      "\u001b[1B857ceca6: Preparing \n",
      "\u001b[1B289484d4: Preparing \n",
      "\u001b[1Bb5c98f73: Preparing \n",
      "\u001b[1B31f7d329: Preparing \n",
      "\u001b[1Bcc4bbc9d: Preparing \n",
      "\u001b[1Bae060f2d: Preparing \n",
      "\u001b[8B35df9271: Pushed   1.372GB/1.336GB\u001b[7A\u001b[1K\u001b[K\u001b[10A\u001b[1K\u001b[K\u001b[7A\u001b[1K\u001b[K\u001b[10A\u001b[1K\u001b[K\u001b[9A\u001b[1K\u001b[K\u001b[10A\u001b[1K\u001b[K\u001b[9A\u001b[1K\u001b[K\u001b[9A\u001b[1K\u001b[K\u001b[8A\u001b[1K\u001b[K\u001b[9A\u001b[1K\u001b[K\u001b[8A\u001b[1K\u001b[K\u001b[6A\u001b[1K\u001b[K\u001b[8A\u001b[1K\u001b[K\u001b[6A\u001b[1K\u001b[K\u001b[9A\u001b[1K\u001b[K\u001b[6A\u001b[1K\u001b[K\u001b[9A\u001b[1K\u001b[K\u001b[6A\u001b[1K\u001b[K\u001b[9A\u001b[1K\u001b[K\u001b[8A\u001b[1K\u001b[K\u001b[9A\u001b[1K\u001b[K\u001b[8A\u001b[1K\u001b[K\u001b[10A\u001b[1K\u001b[K\u001b[8A\u001b[1K\u001b[K\u001b[6A\u001b[1K\u001b[K\u001b[8A\u001b[1K\u001b[K\u001b[6A\u001b[1K\u001b[K\u001b[9A\u001b[1K\u001b[K\u001b[6A\u001b[1K\u001b[K\u001b[9A\u001b[1K\u001b[K\u001b[4A\u001b[1K\u001b[K\u001b[9A\u001b[1K\u001b[K\u001b[6A\u001b[1K\u001b[K\u001b[3A\u001b[1K\u001b[K\u001b[8A\u001b[1K\u001b[K\u001b[9A\u001b[1K\u001b[K\u001b[8A\u001b[1K\u001b[K\u001b[9A\u001b[1K\u001b[K\u001b[8A\u001b[1K\u001b[K\u001b[1A\u001b[1K\u001b[K\u001b[9A\u001b[1K\u001b[K\u001b[9A\u001b[1K\u001b[K\u001b[9A\u001b[1K\u001b[K\u001b[K\u001b[9A\u001b[1K\u001b[K\u001b[9A\u001b[1K\u001b[K\u001b[9A\u001b[1K\u001b[K\u001b[9A\u001b[1K\u001b[K\u001b[8A\u001b[1K\u001b[K\u001b[9A\u001b[1K\u001b[K\u001b[8A\u001b[1K\u001b[K\u001b[9A\u001b[1K\u001b[K\u001b[8A\u001b[1K\u001b[K\u001b[9A\u001b[1K\u001b[K\u001b[9A\u001b[1K\u001b[K\u001b[8A\u001b[1K\u001b[K\u001b[6A\u001b[1K\u001b[K\u001b[8A\u001b[1K\u001b[K\u001b[9A\u001b[1K\u001b[K\u001b[8A\u001b[1K\u001b[K\u001b[9A\u001b[1K\u001b[K\u001b[9A\u001b[1K\u001b[K\u001b[9A\u001b[1K\u001b[K\u001b[8A\u001b[1K\u001b[K\u001b[9A\u001b[1K\u001b[K\u001b[9A\u001b[1K\u001b[K\u001b[9A\u001b[1K\u001b[K\u001b[8A\u001b[1K\u001b[K\u001b[9A\u001b[1K\u001b[K\u001b[8A\u001b[1K\u001b[K\u001b[9A\u001b[1K\u001b[K\u001b[8A\u001b[1K\u001b[K\u001b[9A\u001b[1K\u001b[K\u001b[9A\u001b[1K\u001b[K\u001b[8A\u001b[1K\u001b[K\u001b[9A\u001b[1K\u001b[K\u001b[9A\u001b[1K\u001b[K\u001b[8A\u001b[1K\u001b[K\u001b[9A\u001b[1K\u001b[K\u001b[8A\u001b[1K\u001b[K\u001b[9A\u001b[1K\u001b[K\u001b[8A\u001b[1K\u001b[K\u001b[9A\u001b[1K\u001b[K\u001b[9A\u001b[1K\u001b[K\u001b[9A\u001b[1K\u001b[K\u001b[8A\u001b[1K\u001b[K\u001b[9A\u001b[1K\u001b[K\u001b[9A\u001b[1K\u001b[K\u001b[9A\u001b[1K\u001b[K\u001b[9A\u001b[1K\u001b[K\u001b[8A\u001b[1K\u001b[K\u001b[9A\u001b[1K\u001b[K\u001b[9A\u001b[1K\u001b[K\u001b[8A\u001b[1K\u001b[K\u001b[9A\u001b[1K\u001b[K\u001b[8A\u001b[1K\u001b[K\u001b[9A\u001b[1K\u001b[K\u001b[8A\u001b[1K\u001b[K\u001b[9A\u001b[1K\u001b[K\u001b[9A\u001b[1K\u001b[K\u001b[9A\u001b[1K\u001b[K\u001b[9A\u001b[1K\u001b[K\u001b[8A\u001b[1K\u001b[K\u001b[9A\u001b[1K\u001b[K\u001b[8A\u001b[1K\u001b[K\u001b[9A\u001b[1K\u001b[K\u001b[8A\u001b[1K\u001b[K\u001b[9A\u001b[1K\u001b[K\u001b[8A\u001b[1K\u001b[K\u001b[9A\u001b[1K\u001b[K\u001b[8A\u001b[1K\u001b[K\u001b[9A\u001b[1K\u001b[K\u001b[8A\u001b[1K\u001b[K\u001b[9A\u001b[1K\u001b[KPushing  205.8MB/1.336GB\u001b[9A\u001b[1K\u001b[K\u001b[8A\u001b[1K\u001b[K\u001b[9A\u001b[1K\u001b[K\u001b[8A\u001b[1K\u001b[K\u001b[9A\u001b[1K\u001b[K\u001b[9A\u001b[1K\u001b[K\u001b[8A\u001b[1K\u001b[K\u001b[9A\u001b[1K\u001b[K\u001b[8A\u001b[1K\u001b[K\u001b[9A\u001b[1K\u001b[K\u001b[8A\u001b[1K\u001b[K\u001b[9A\u001b[1K\u001b[K\u001b[9A\u001b[1K\u001b[K\u001b[9A\u001b[1K\u001b[K\u001b[8A\u001b[1K\u001b[K\u001b[9A\u001b[1K\u001b[K\u001b[8A\u001b[1K\u001b[K\u001b[9A\u001b[1K\u001b[K\u001b[8A\u001b[1K\u001b[K\u001b[9A\u001b[1K\u001b[K\u001b[8A\u001b[1K\u001b[K\u001b[9A\u001b[1K\u001b[K\u001b[8A\u001b[1K\u001b[K\u001b[9A\u001b[1K\u001b[K\u001b[8A\u001b[1K\u001b[K\u001b[9A\u001b[1K\u001b[K\u001b[8A\u001b[1K\u001b[K\u001b[9A\u001b[1K\u001b[K\u001b[8A\u001b[1K\u001b[K\u001b[9A\u001b[1K\u001b[K\u001b[8A\u001b[1K\u001b[K\u001b[8A\u001b[1K\u001b[K\u001b[8A\u001b[1K\u001b[K\u001b[9A\u001b[1K\u001b[K\u001b[8A\u001b[1K\u001b[K\u001b[9A\u001b[1K\u001b[K\u001b[9A\u001b[1K\u001b[K\u001b[9A\u001b[1K\u001b[K\u001b[9A\u001b[1K\u001b[K\u001b[9A\u001b[1K\u001b[K\u001b[8A\u001b[1K\u001b[K\u001b[9A\u001b[1K\u001b[K\u001b[9A\u001b[1K\u001b[K\u001b[9A\u001b[1K\u001b[K\u001b[9A\u001b[1K\u001b[K\u001b[8A\u001b[1K\u001b[K\u001b[9A\u001b[1K\u001b[K\u001b[9A\u001b[1K\u001b[K\u001b[8A\u001b[1K\u001b[K\u001b[9A\u001b[1K\u001b[K\u001b[8A\u001b[1K\u001b[K\u001b[9A\u001b[1K\u001b[K\u001b[8A\u001b[1K\u001b[K\u001b[9A\u001b[1K\u001b[K\u001b[8A\u001b[1K\u001b[K\u001b[9A\u001b[1K\u001b[K\u001b[8A\u001b[1K\u001b[K\u001b[9A\u001b[1K\u001b[K\u001b[8A\u001b[1K\u001b[K\u001b[9A\u001b[1K\u001b[K\u001b[8A\u001b[1K\u001b[K\u001b[9A\u001b[1K\u001b[K\u001b[8A\u001b[1K\u001b[K\u001b[9A\u001b[1K\u001b[K\u001b[8A\u001b[1K\u001b[K\u001b[9A\u001b[1K\u001b[K\u001b[8A\u001b[1K\u001b[K\u001b[9A\u001b[1K\u001b[K\u001b[8A\u001b[1K\u001b[K\u001b[9A\u001b[1K\u001b[K\u001b[8A\u001b[1K\u001b[K\u001b[9A\u001b[1K\u001b[K\u001b[8A\u001b[1K\u001b[K\u001b[9A\u001b[1K\u001b[K\u001b[8A\u001b[1K\u001b[K\u001b[9A\u001b[1K\u001b[K\u001b[8A\u001b[1K\u001b[K\u001b[9A\u001b[1K\u001b[K\u001b[8A\u001b[1K\u001b[K\u001b[9A\u001b[1K\u001b[K\u001b[9A\u001b[1K\u001b[K\u001b[9A\u001b[1K\u001b[K\u001b[8A\u001b[1K\u001b[K\u001b[9A\u001b[1K\u001b[K\u001b[8A\u001b[1K\u001b[K\u001b[9A\u001b[1K\u001b[K\u001b[9A\u001b[1K\u001b[K\u001b[8A\u001b[1K\u001b[K\u001b[9A\u001b[1K\u001b[K\u001b[8A\u001b[1K\u001b[K\u001b[9A\u001b[1K\u001b[K\u001b[8A\u001b[1K\u001b[K\u001b[9A\u001b[1K\u001b[K\u001b[8A\u001b[1K\u001b[K\u001b[9A\u001b[1K\u001b[K\u001b[8A\u001b[1K\u001b[K\u001b[9A\u001b[1K\u001b[K\u001b[8A\u001b[1K\u001b[K\u001b[9A\u001b[1K\u001b[K\u001b[8A\u001b[1K\u001b[K\u001b[9A\u001b[1K\u001b[K\u001b[8A\u001b[1K\u001b[K\u001b[8A\u001b[1K\u001b[K\u001b[8A\u001b[1K\u001b[K\u001b[9A\u001b[1K\u001b[K\u001b[8A\u001b[1K\u001b[K\u001b[8A\u001b[1K\u001b[K\u001b[8A\u001b[1K\u001b[K\u001b[9A\u001b[1K\u001b[K\u001b[8A\u001b[1K\u001b[K\u001b[9A\u001b[1K\u001b[K\u001b[8A\u001b[1K\u001b[K\u001b[9A\u001b[1K\u001b[K\u001b[8A\u001b[1K\u001b[K\u001b[8A\u001b[1K\u001b[K\u001b[8A\u001b[1K\u001b[K\u001b[9A\u001b[1K\u001b[K\u001b[9A\u001b[1K\u001b[K\u001b[9A\u001b[1K\u001b[K\u001b[8A\u001b[1K\u001b[K\u001b[9A\u001b[1K\u001b[K\u001b[9A\u001b[1K\u001b[K\u001b[9A\u001b[1K\u001b[K\u001b[8A\u001b[1K\u001b[K\u001b[9A\u001b[1K\u001b[K\u001b[8A\u001b[1K\u001b[K\u001b[9A\u001b[1K\u001b[K\u001b[9A\u001b[1K\u001b[K\u001b[8A\u001b[1K\u001b[K\u001b[9A\u001b[1K\u001b[K\u001b[8A\u001b[1K\u001b[K\u001b[9A\u001b[1K\u001b[K\u001b[8A\u001b[1K\u001b[K\u001b[9A\u001b[1K\u001b[K\u001b[8A\u001b[1K\u001b[K\u001b[9A\u001b[1K\u001b[K\u001b[9A\u001b[1K\u001b[K\u001b[8A\u001b[1K\u001b[K\u001b[9A\u001b[1K\u001b[K\u001b[8A\u001b[1K\u001b[K\u001b[9A\u001b[1K\u001b[K\u001b[8A\u001b[1K\u001b[K\u001b[9A\u001b[1K\u001b[K\u001b[8A\u001b[1K\u001b[K\u001b[9A\u001b[1K\u001b[K\u001b[9A\u001b[1K\u001b[K\u001b[8A\u001b[1K\u001b[K\u001b[9A\u001b[1K\u001b[K\u001b[8A\u001b[1K\u001b[K\u001b[9A\u001b[1K\u001b[K\u001b[8A\u001b[1K\u001b[K\u001b[9A\u001b[1K\u001b[K\u001b[8A\u001b[1K\u001b[K\u001b[9A\u001b[1K\u001b[K\u001b[8A\u001b[1K\u001b[K\u001b[8A\u001b[1K\u001b[K\u001b[9A\u001b[1K\u001b[K\u001b[8A\u001b[1K\u001b[K\u001b[8A\u001b[1K\u001b[K\u001b[9A\u001b[1K\u001b[K\u001b[9A\u001b[1K\u001b[K\u001b[8A\u001b[1K\u001b[K\u001b[9A\u001b[1K\u001b[K\u001b[8A\u001b[1K\u001b[K\u001b[9A\u001b[1K\u001b[K\u001b[9A\u001b[1K\u001b[K\u001b[9A\u001b[1K\u001b[K\u001b[9A\u001b[1K\u001b[K\u001b[9A\u001b[1K\u001b[K\u001b[8A\u001b[1K\u001b[K\u001b[9A\u001b[1K\u001b[K\u001b[8A\u001b[1K\u001b[K\u001b[9A\u001b[1K\u001b[K\u001b[9A\u001b[1K\u001b[K\u001b[8A\u001b[1K\u001b[K\u001b[9A\u001b[1K\u001b[K\u001b[8A\u001b[1K\u001b[K\u001b[9A\u001b[1K\u001b[K\u001b[8A\u001b[1K\u001b[K\u001b[8A\u001b[1K\u001b[K\u001b[9A\u001b[1K\u001b[K\u001b[9A\u001b[1K\u001b[K\u001b[9A\u001b[1K\u001b[K\u001b[9A\u001b[1K\u001b[K\u001b[9A\u001b[1K\u001b[K\u001b[9A\u001b[1K\u001b[K\u001b[9A\u001b[1K\u001b[K\u001b[9A\u001b[1K\u001b[K\u001b[8A\u001b[1K\u001b[K\u001b[8A\u001b[1K\u001b[K\u001b[8A\u001b[1K\u001b[K\u001b[9A\u001b[1K\u001b[K\u001b[8A\u001b[1K\u001b[K\u001b[9A\u001b[1K\u001b[K\u001b[8A\u001b[1K\u001b[K\u001b[9A\u001b[1K\u001b[K\u001b[8A\u001b[1K\u001b[K\u001b[9A\u001b[1K\u001b[K\u001b[9A\u001b[1K\u001b[K\u001b[9A\u001b[1K\u001b[K\u001b[8A\u001b[1K\u001b[K\u001b[9A\u001b[1K\u001b[K\u001b[8A\u001b[1K\u001b[K\u001b[9A\u001b[1K\u001b[K\u001b[9A\u001b[1K\u001b[K\u001b[9A\u001b[1K\u001b[K\u001b[8A\u001b[1K\u001b[K\u001b[9A\u001b[1K\u001b[K\u001b[8A\u001b[1K\u001b[K\u001b[9A\u001b[1K\u001b[K\u001b[9A\u001b[1K\u001b[K\u001b[9A\u001b[1K\u001b[K\u001b[9A\u001b[1K\u001b[K\u001b[8A\u001b[1K\u001b[K\u001b[9A\u001b[1K\u001b[K\u001b[8A\u001b[1K\u001b[K\u001b[9A\u001b[1K\u001b[K\u001b[8A\u001b[1K\u001b[K\u001b[9A\u001b[1K\u001b[K\u001b[8A\u001b[1K\u001b[K\u001b[9A\u001b[1K\u001b[K\u001b[8A\u001b[1K\u001b[K\u001b[9A\u001b[1K\u001b[K\u001b[8A\u001b[1K\u001b[K\u001b[9A\u001b[1K\u001b[K\u001b[8A\u001b[1K\u001b[K\u001b[9A\u001b[1K\u001b[K\u001b[8A\u001b[1K\u001b[K\u001b[9A\u001b[1K\u001b[K\u001b[8A\u001b[1K\u001b[K\u001b[9A\u001b[1K\u001b[K\u001b[8A\u001b[1K\u001b[K\u001b[9A\u001b[1K\u001b[K\u001b[8A\u001b[1K\u001b[K\u001b[9A\u001b[1K\u001b[K\u001b[8A\u001b[1K\u001b[K\u001b[9A\u001b[1K\u001b[K\u001b[8A\u001b[1K\u001b[K\u001b[9A\u001b[1K\u001b[K\u001b[9A\u001b[1K\u001b[K\u001b[8A\u001b[1K\u001b[K\u001b[9A\u001b[1K\u001b[K\u001b[8A\u001b[1K\u001b[K\u001b[9A\u001b[1K\u001b[K\u001b[8A\u001b[1K\u001b[K\u001b[9A\u001b[1K\u001b[K\u001b[9A\u001b[1K\u001b[K\u001b[8A\u001b[1K\u001b[K\u001b[9A\u001b[1K\u001b[K\u001b[8A\u001b[1K\u001b[K\u001b[9A\u001b[1K\u001b[K\u001b[8A\u001b[1K\u001b[K\u001b[9A\u001b[1K\u001b[K\u001b[8A\u001b[1K\u001b[K\u001b[8A\u001b[1K\u001b[K\u001b[9A\u001b[1K\u001b[K\u001b[8A\u001b[1K\u001b[K\u001b[8A\u001b[1K\u001b[K\u001b[8A\u001b[1K\u001b[K\u001b[8A\u001b[1K\u001b[K\u001b[8A\u001b[1K\u001b[K\u001b[9A\u001b[1K\u001b[K\u001b[9A\u001b[1K\u001b[K\u001b[8A\u001b[1K\u001b[K\u001b[9A\u001b[1K\u001b[K\u001b[8A\u001b[1K\u001b[K\u001b[9A\u001b[1K\u001b[K\u001b[8A\u001b[1K\u001b[K\u001b[8A\u001b[1K\u001b[K\u001b[9A\u001b[1K\u001b[K\u001b[8A\u001b[1K\u001b[K\u001b[9A\u001b[1K\u001b[K\u001b[8A\u001b[1K\u001b[K\u001b[8A\u001b[1K\u001b[K\u001b[8A\u001b[1K\u001b[K\u001b[9A\u001b[1K\u001b[K\u001b[8A\u001b[1K\u001b[K\u001b[9A\u001b[1K\u001b[K\u001b[8A\u001b[1K\u001b[K\u001b[9A\u001b[1K\u001b[K\u001b[9A\u001b[1K\u001b[K\u001b[9A\u001b[1K\u001b[K\u001b[8A\u001b[1K\u001b[K\u001b[9A\u001b[1K\u001b[K\u001b[8A\u001b[1K\u001b[K\u001b[9A\u001b[1K\u001b[K\u001b[8A\u001b[1K\u001b[K\u001b[9A\u001b[1K\u001b[K\u001b[8A\u001b[1K\u001b[K\u001b[9A\u001b[1K\u001b[K\u001b[8A\u001b[1K\u001b[K\u001b[9A\u001b[1K\u001b[K\u001b[8A\u001b[1K\u001b[K\u001b[9A\u001b[1K\u001b[K\u001b[8A\u001b[1K\u001b[K\u001b[9A\u001b[1K\u001b[K\u001b[8A\u001b[1K\u001b[K\u001b[9A\u001b[1K\u001b[K\u001b[8A\u001b[1K\u001b[K\u001b[9A\u001b[1K\u001b[K\u001b[8A\u001b[1K\u001b[K\u001b[9A\u001b[1K\u001b[K\u001b[9A\u001b[1K\u001b[K\u001b[8A\u001b[1K\u001b[K\u001b[9A\u001b[1K\u001b[K\u001b[8A\u001b[1K\u001b[K\u001b[9A\u001b[1K\u001b[K\u001b[8A\u001b[1K\u001b[K\u001b[8A\u001b[1K\u001b[K\u001b[8A\u001b[1K\u001b[K\u001b[8A\u001b[1K\u001b[K\u001b[8A\u001b[1K\u001b[K\u001b[8A\u001b[1K\u001b[K\u001b[9A\u001b[1K\u001b[K\u001b[9A\u001b[1K\u001b[K\u001b[8A\u001b[1K\u001b[K\u001b[9A\u001b[1K\u001b[K\u001b[9A\u001b[1K\u001b[K\u001b[9A\u001b[1K\u001b[K\u001b[8A\u001b[1K\u001b[K\u001b[9A\u001b[1K\u001b[K\u001b[8A\u001b[1K\u001b[K\u001b[9A\u001b[1K\u001b[K\u001b[8A\u001b[1K\u001b[K\u001b[8A\u001b[1K\u001b[K\u001b[9A\u001b[1K\u001b[K\u001b[8A\u001b[1K\u001b[K\u001b[9A\u001b[1K\u001b[K\u001b[8A\u001b[1K\u001b[K\u001b[9A\u001b[1K\u001b[K\u001b[8A\u001b[1K\u001b[K\u001b[9A\u001b[1K\u001b[K\u001b[8A\u001b[1K\u001b[K\u001b[8A\u001b[1K\u001b[K\u001b[8A\u001b[1K\u001b[K\u001b[9A\u001b[1K\u001b[K\u001b[8A\u001b[1K\u001b[K\u001b[9A\u001b[1K\u001b[K\u001b[9A\u001b[1K\u001b[K\u001b[9A\u001b[1K\u001b[K\u001b[9A\u001b[1K\u001b[K\u001b[9A\u001b[1K\u001b[K\u001b[8A\u001b[1K\u001b[K\u001b[9A\u001b[1K\u001b[K\u001b[9A\u001b[1K\u001b[K\u001b[9A\u001b[1K\u001b[K\u001b[8A\u001b[1K\u001b[K\u001b[9A\u001b[1K\u001b[K\u001b[8A\u001b[1K\u001b[K\u001b[9A\u001b[1K\u001b[K\u001b[8A\u001b[1K\u001b[K\u001b[8A\u001b[1K\u001b[K\u001b[9A\u001b[1K\u001b[K\u001b[9A\u001b[1K\u001b[K\u001b[8A\u001b[1K\u001b[K\u001b[9A\u001b[1K\u001b[K\u001b[9A\u001b[1K\u001b[K\u001b[8A\u001b[1K\u001b[K\u001b[9A\u001b[1K\u001b[K\u001b[8A\u001b[1K\u001b[K\u001b[9A\u001b[1K\u001b[K\u001b[8A\u001b[1K\u001b[K\u001b[9A\u001b[1K\u001b[K\u001b[8A\u001b[1K\u001b[K\u001b[9A\u001b[1K\u001b[K\u001b[8A\u001b[1K\u001b[K\u001b[9A\u001b[1K\u001b[K\u001b[8A\u001b[1K\u001b[K\u001b[9A\u001b[1K\u001b[K\u001b[8A\u001b[1K\u001b[K\u001b[9A\u001b[1K\u001b[K\u001b[8A\u001b[1K\u001b[K\u001b[8A\u001b[1K\u001b[K\u001b[9A\u001b[1K\u001b[K\u001b[8A\u001b[1K\u001b[K\u001b[9A\u001b[1K\u001b[K\u001b[9A\u001b[1K\u001b[K\u001b[9A\u001b[1K\u001b[K\u001b[9A\u001b[1K\u001b[K\u001b[8A\u001b[1K\u001b[K\u001b[9A\u001b[1K\u001b[K\u001b[8A\u001b[1K\u001b[K\u001b[8A\u001b[1K\u001b[K\u001b[8A\u001b[1K\u001b[K\u001b[8A\u001b[1K\u001b[K\u001b[8A\u001b[1K\u001b[K\u001b[8A\u001b[1K\u001b[K\u001b[8A\u001b[1K\u001b[K\u001b[8A\u001b[1K\u001b[K\u001b[8A\u001b[1K\u001b[K\u001b[8A\u001b[1K\u001b[K\u001b[8A\u001b[1K\u001b[K\u001b[8A\u001b[1K\u001b[K\u001b[8A\u001b[1K\u001b[K\u001b[8A\u001b[1K\u001b[K\u001b[8A\u001b[1K\u001b[K\u001b[8A\u001b[1K\u001b[K\u001b[8A\u001b[1K\u001b[K\u001b[8A\u001b[1K\u001b[K\u001b[8A\u001b[1K\u001b[K\u001b[8A\u001b[1K\u001b[K\u001b[8A\u001b[1K\u001b[KPushing  885.6MB/1.336GB\u001b[8A\u001b[1K\u001b[K\u001b[8A\u001b[1K\u001b[K\u001b[8A\u001b[1K\u001b[K\u001b[8A\u001b[1K\u001b[K\u001b[8A\u001b[1K\u001b[K\u001b[8A\u001b[1K\u001b[K\u001b[8A\u001b[1K\u001b[K\u001b[8A\u001b[1K\u001b[K\u001b[8A\u001b[1K\u001b[K\u001b[8A\u001b[1K\u001b[K\u001b[8A\u001b[1K\u001b[K\u001b[8A\u001b[1K\u001b[K\u001b[8A\u001b[1K\u001b[K\u001b[8A\u001b[1K\u001b[K\u001b[8A\u001b[1K\u001b[K\u001b[8A\u001b[1K\u001b[K\u001b[8A\u001b[1K\u001b[K\u001b[8A\u001b[1K\u001b[K\u001b[8A\u001b[1K\u001b[K\u001b[8A\u001b[1K\u001b[K\u001b[8A\u001b[1K\u001b[K\u001b[8A\u001b[1K\u001b[K\u001b[8A\u001b[1K\u001b[K\u001b[8A\u001b[1K\u001b[K\u001b[8A\u001b[1K\u001b[K\u001b[8A\u001b[1K\u001b[K\u001b[8A\u001b[1K\u001b[K\u001b[8A\u001b[1K\u001b[K\u001b[8A\u001b[1K\u001b[K\u001b[8A\u001b[1K\u001b[K\u001b[8A\u001b[1K\u001b[K\u001b[9A\u001b[1K\u001b[K\u001b[8A\u001b[1K\u001b[K\u001b[8A\u001b[1K\u001b[K\u001b[8A\u001b[1K\u001b[K\u001b[8A\u001b[1K\u001b[K\u001b[8A\u001b[1K\u001b[K\u001b[8A\u001b[1K\u001b[K\u001b[8A\u001b[1K\u001b[K\u001b[8A\u001b[1K\u001b[K\u001b[8A\u001b[1K\u001b[K\u001b[8A\u001b[1K\u001b[K\u001b[8A\u001b[1K\u001b[K\u001b[8A\u001b[1K\u001b[K\u001b[8A\u001b[1K\u001b[K\u001b[8A\u001b[1K\u001b[K\u001b[8A\u001b[1K\u001b[K\u001b[8A\u001b[1K\u001b[K\u001b[8A\u001b[1K\u001b[K\u001b[8A\u001b[1K\u001b[K\u001b[8A\u001b[1K\u001b[K\u001b[8A\u001b[1K\u001b[K\u001b[8A\u001b[1K\u001b[K\u001b[8A\u001b[1K\u001b[K\u001b[8A\u001b[1K\u001b[K\u001b[8A\u001b[1K\u001b[K\u001b[8A\u001b[1K\u001b[K\u001b[8A\u001b[1K\u001b[K\u001b[8A\u001b[1K\u001b[K\u001b[8A\u001b[1K\u001b[K\u001b[8A\u001b[1K\u001b[K\u001b[8A\u001b[1K\u001b[K\u001b[8A\u001b[1K\u001b[K\u001b[8A\u001b[1K\u001b[K\u001b[8A\u001b[1K\u001b[K\u001b[8A\u001b[1K\u001b[K\u001b[8A\u001b[1K\u001b[K\u001b[8A\u001b[1K\u001b[K\u001b[8A\u001b[1K\u001b[K\u001b[8A\u001b[1K\u001b[K\u001b[8A\u001b[1K\u001b[K\u001b[8A\u001b[1K\u001b[K\u001b[8A\u001b[1K\u001b[K\u001b[8A\u001b[1K\u001b[K\u001b[8A\u001b[1K\u001b[K\u001b[8A\u001b[1K\u001b[K\u001b[8A\u001b[1K\u001b[K\u001b[8A\u001b[1K\u001b[K\u001b[8A\u001b[1K\u001b[K\u001b[8A\u001b[1K\u001b[K\u001b[8A\u001b[1K\u001b[K\u001b[8A\u001b[1K\u001b[K\u001b[8A\u001b[1K\u001b[K\u001b[8A\u001b[1K\u001b[K\u001b[8A\u001b[1K\u001b[K\u001b[8A\u001b[1K\u001b[K\u001b[8A\u001b[1K\u001b[K\u001b[8A\u001b[1K\u001b[K\u001b[8A\u001b[1K\u001b[K\u001b[8A\u001b[1K\u001b[K\u001b[8A\u001b[1K\u001b[K\u001b[8A\u001b[1K\u001b[K\u001b[8A\u001b[1K\u001b[K\u001b[8A\u001b[1K\u001b[K\u001b[8A\u001b[1K\u001b[K\u001b[8A\u001b[1K\u001b[K\u001b[8A\u001b[1K\u001b[K\u001b[8A\u001b[1K\u001b[K\u001b[8A\u001b[1K\u001b[K\u001b[8A\u001b[1K\u001b[K\u001b[8A\u001b[1K\u001b[K\u001b[8A\u001b[1K\u001b[K\u001b[8A\u001b[1K\u001b[K\u001b[8A\u001b[1K\u001b[K\u001b[8A\u001b[1K\u001b[K\u001b[8A\u001b[1K\u001b[K\u001b[8A\u001b[1K\u001b[K\u001b[8A\u001b[1K\u001b[K\u001b[8A\u001b[1K\u001b[K\u001b[8A\u001b[1K\u001b[K\u001b[8A\u001b[1K\u001b[K\u001b[8A\u001b[1K\u001b[K\u001b[8A\u001b[1K\u001b[K\u001b[8A\u001b[1K\u001b[K\u001b[8A\u001b[1K\u001b[K\u001b[8A\u001b[1K\u001b[K\u001b[8A\u001b[1K\u001b[K\u001b[8A\u001b[1K\u001b[K\u001b[8A\u001b[1K\u001b[K\u001b[8A\u001b[1K\u001b[K\u001b[8A\u001b[1K\u001b[K\u001b[8A\u001b[1K\u001b[K\u001b[8A\u001b[1K\u001b[K\u001b[8A\u001b[1K\u001b[K\u001b[8A\u001b[1K\u001b[K\u001b[8A\u001b[1K\u001b[K\u001b[8A\u001b[1K\u001b[K\u001b[8A\u001b[1K\u001b[K\u001b[8A\u001b[1K\u001b[K\u001b[8A\u001b[1K\u001b[K\u001b[8A\u001b[1K\u001b[K\u001b[8A\u001b[1K\u001b[K\u001b[8A\u001b[1K\u001b[K\u001b[8A\u001b[1K\u001b[K\u001b[8A\u001b[1K\u001b[K\u001b[8A\u001b[1K\u001b[K\u001b[8A\u001b[1K\u001b[K\u001b[8A\u001b[1K\u001b[K\u001b[8A\u001b[1K\u001b[K\u001b[8A\u001b[1K\u001b[K\u001b[8A\u001b[1K\u001b[K\u001b[8A\u001b[1K\u001b[K\u001b[8A\u001b[1K\u001b[K\u001b[8A\u001b[1K\u001b[K\u001b[8A\u001b[1K\u001b[K\u001b[8A\u001b[1K\u001b[K\u001b[8A\u001b[1K\u001b[K\u001b[8A\u001b[1K\u001b[K\u001b[8A\u001b[1K\u001b[K\u001b[8A\u001b[1K\u001b[K\u001b[8A\u001b[1K\u001b[K\u001b[8A\u001b[1K\u001b[K\u001b[8A\u001b[1K\u001b[K\u001b[8A\u001b[1K\u001b[K\u001b[8A\u001b[1K\u001b[K\u001b[8A\u001b[1K\u001b[K\u001b[8A\u001b[1K\u001b[K\u001b[8A\u001b[1K\u001b[K\u001b[8A\u001b[1K\u001b[K\u001b[8A\u001b[1K\u001b[K\u001b[8A\u001b[1K\u001b[K\u001b[8A\u001b[1K\u001b[K\u001b[8A\u001b[1K\u001b[K\u001b[8A\u001b[1K\u001b[K\u001b[8A\u001b[1K\u001b[K\u001b[8A\u001b[1K\u001b[K\u001b[8A\u001b[1K\u001b[K\u001b[8A\u001b[1K\u001b[K\u001b[8A\u001b[1K\u001b[K\u001b[8A\u001b[1K\u001b[K\u001b[8A\u001b[1K\u001b[K\u001b[8A\u001b[1K\u001b[K\u001b[8A\u001b[1K\u001b[K\u001b[8A\u001b[1K\u001b[K\u001b[8A\u001b[1K\u001b[K\u001b[8A\u001b[1K\u001b[K\u001b[8A\u001b[1K\u001b[K\u001b[8A\u001b[1K\u001b[K\u001b[8A\u001b[1K\u001b[K\u001b[8A\u001b[1K\u001b[K\u001b[8A\u001b[1K\u001b[K\u001b[8A\u001b[1K\u001b[Ksdk.v.1.0.8: digest: sha256:c94f3f71b88dd70743baafb12a14b0784aba87a9c63f5f7abc2caa9e604f0af1 size: 2425\n"
     ]
    }
   ],
   "source": [
    "!docker push $docker_image_name"
   ]
  },
  {
   "cell_type": "markdown",
   "metadata": {},
   "source": [
    "### To run aml SDK, ssh into a vm, run the command below and then go to: \n",
    "ghiordanxrgpuvm.eastus2.cloudapp.azure.com:9001/  \n",
    "  \n",
    "Make sure the host port (9001) is open in the VM.  "
   ]
  },
  {
   "cell_type": "code",
   "execution_count": 15,
   "metadata": {},
   "outputs": [
    {
     "name": "stdout",
     "output_type": "stream",
     "text": [
      "docker run -it -p 9001:8888 -v /datadrive01/prj/PowerAIWithDocker/amlsdk/../:/workspace:rw georgedockeraccount/aml-sdk_docker:sdk.v.1.0.8 /bin/bash -c \"source activate aml-sdk-conda-env && jupyter notebook --notebook-dir=/workspace --ip=* --port=8888 --no-browser --allow-root\"\r\n"
     ]
    }
   ],
   "source": [
    "!echo docker run -it -p 9001:8888 -v $(pwd)/../:/workspace:rw $docker_image_name /bin/bash -c '\"source activate aml-sdk-conda-env && jupyter notebook --notebook-dir=/workspace --ip='*' --port=8888 --no-browser --allow-root\"'"
   ]
  },
  {
   "cell_type": "markdown",
   "metadata": {},
   "source": [
    "### Run a short test\n",
    "Run ' import azureml.core; print(\"AML SDK version:\", azureml.core.VERSION) ' in a notebook"
   ]
  },
  {
   "cell_type": "code",
   "execution_count": 16,
   "metadata": {},
   "outputs": [],
   "source": [
    "test_notebook_base_name = 'test_aml_sdk_docker_image'\n",
    "test_notebook_name = test_notebook_base_name+'.ipynb'"
   ]
  },
  {
   "cell_type": "code",
   "execution_count": 17,
   "metadata": {},
   "outputs": [
    {
     "name": "stdout",
     "output_type": "stream",
     "text": [
      "Writing /datadrive01/prj/PowerAIWithDocker/amlsdk/docker_run_dir/test_aml_sdk_docker_image.ipynb\n"
     ]
    }
   ],
   "source": [
    "%%writefile $crt_local_dir/$test_notebook_name\n",
    "\n",
    "{\n",
    " \"cells\": [\n",
    "  {\n",
    "   \"cell_type\": \"code\",\n",
    "   \"execution_count\": 3,\n",
    "   \"metadata\": {},\n",
    "   \"outputs\": [\n",
    "    {\n",
    "     \"name\": \"stdout\",\n",
    "     \"output_type\": \"stream\",\n",
    "     \"text\": [\n",
    "      \"AML SDK version: 0.1.68\\n\"\n",
    "     ]\n",
    "    }\n",
    "   ],\n",
    "   \"source\": [\n",
    "    \"# Check core SDK version number\\n\",\n",
    "    \"import azureml.core\\n\",\n",
    "    \"\\n\",\n",
    "    \"print(\\\"AML SDK version:\\\", azureml.core.VERSION)\"\n",
    "   ]\n",
    "  },\n",
    "  {\n",
    "   \"cell_type\": \"code\",\n",
    "   \"execution_count\": null,\n",
    "   \"metadata\": {},\n",
    "   \"outputs\": [],\n",
    "   \"source\": []\n",
    "  }\n",
    " ],\n",
    " \"metadata\": {\n",
    "  \"kernelspec\": {\n",
    "   \"display_name\": \"Python [conda env:aml-sdk-conda-env]\",\n",
    "   \"language\": \"python\",\n",
    "   \"name\": \"conda-env-aml-sdk-conda-env-py\"\n",
    "  },\n",
    "  \"language_info\": {\n",
    "   \"codemirror_mode\": {\n",
    "    \"name\": \"ipython\",\n",
    "    \"version\": 3\n",
    "   },\n",
    "   \"file_extension\": \".py\",\n",
    "   \"mimetype\": \"text/x-python\",\n",
    "   \"name\": \"python\",\n",
    "   \"nbconvert_exporter\": \"python\",\n",
    "   \"pygments_lexer\": \"ipython3\",\n",
    "   \"version\": \"3.6.6\"\n",
    "  }\n",
    " },\n",
    " \"nbformat\": 4,\n",
    " \"nbformat_minor\": 2\n",
    "}\n"
   ]
  },
  {
   "cell_type": "code",
   "execution_count": 18,
   "metadata": {},
   "outputs": [
    {
     "name": "stdout",
     "output_type": "stream",
     "text": [
      "total 4\r\n",
      "-rw-rw-r-- 1 loginvm001 loginvm001 982 Jan 23 19:59 test_aml_sdk_docker_image.ipynb\r\n"
     ]
    }
   ],
   "source": [
    "!ls -l $crt_local_dir"
   ]
  },
  {
   "cell_type": "markdown",
   "metadata": {},
   "source": [
    "### Quick testing SDK docker image (see cell response \"AML SDK version: <latest version>\").\n",
    "Compare the SDK version against latest AML SDK [relese notes](https://docs.microsoft.com/en-us/azure/machine-learning/service/azure-machine-learning-release-notes)"
   ]
  },
  {
   "cell_type": "code",
   "execution_count": 19,
   "metadata": {},
   "outputs": [
    {
     "name": "stdout",
     "output_type": "stream",
     "text": [
      "Available kernels:\n",
      "  python3    /opt/conda/envs/aml-sdk-conda-env/share/jupyter/kernels/python3\n",
      "[NbConvertApp] Converting notebook /workspace/test_aml_sdk_docker_image.ipynb to notebook\n",
      "[NbConvertApp] Executing notebook with kernel: python3\n",
      "[NbConvertApp] Writing 978 bytes to /workspace/test_aml_sdk_docker_image.nbconvert.ipynb\n"
     ]
    }
   ],
   "source": [
    "!docker run -v $crt_local_dir:/workspace:rw $docker_image_name /bin/bash -c \"source activate aml-sdk-conda-env && jupyter kernelspec list && jupyter nbconvert --ExecutePreprocessor.kernel_name=python3 --execute --to notebook  /workspace/test_aml_sdk_docker_image.ipynb\""
   ]
  },
  {
   "cell_type": "code",
   "execution_count": 20,
   "metadata": {},
   "outputs": [
    {
     "name": "stdout",
     "output_type": "stream",
     "text": [
      "{\r\n",
      " \"cells\": [\r\n",
      "  {\r\n",
      "   \"cell_type\": \"code\",\r\n",
      "   \"execution_count\": 1,\r\n",
      "   \"metadata\": {},\r\n",
      "   \"outputs\": [\r\n",
      "    {\r\n",
      "     \"name\": \"stdout\",\r\n",
      "     \"output_type\": \"stream\",\r\n",
      "     \"text\": [\r\n",
      "      \"AML SDK version: 1.0.8\\n\"\r\n",
      "     ]\r\n",
      "    }\r\n",
      "   ],\r\n",
      "   \"source\": [\r\n",
      "    \"# Check core SDK version number\\n\",\r\n",
      "    \"import azureml.core\\n\",\r\n",
      "    \"\\n\",\r\n",
      "    \"print(\\\"AML SDK version:\\\", azureml.core.VERSION)\"\r\n",
      "   ]\r\n",
      "  },\r\n",
      "  {\r\n",
      "   \"cell_type\": \"code\",\r\n",
      "   \"execution_count\": 2,\r\n",
      "   \"metadata\": {},\r\n",
      "   \"outputs\": [],\r\n",
      "   \"source\": []\r\n",
      "  }\r\n",
      " ],\r\n",
      " \"metadata\": {\r\n",
      "  \"kernelspec\": {\r\n",
      "   \"display_name\": \"Python [conda env:aml-sdk-conda-env]\",\r\n",
      "   \"language\": \"python\",\r\n",
      "   \"name\": \"conda-env-aml-sdk-conda-env-py\"\r\n",
      "  },\r\n",
      "  \"language_info\": {\r\n",
      "   \"codemirror_mode\": {\r\n",
      "    \"name\": \"ipython\",\r\n",
      "    \"version\": 3\r\n",
      "   },\r\n",
      "   \"file_extension\": \".py\",\r\n",
      "   \"mimetype\": \"text/x-python\",\r\n",
      "   \"name\": \"python\",\r\n",
      "   \"nbconvert_exporter\": \"python\",\r\n",
      "   \"pygments_lexer\": \"ipython3\",\r\n",
      "   \"version\": \"3.6.6\"\r\n",
      "  }\r\n",
      " },\r\n",
      " \"nbformat\": 4,\r\n",
      " \"nbformat_minor\": 2\r\n",
      "}\r\n"
     ]
    }
   ],
   "source": [
    "output_file = test_notebook_base_name+'.nbconvert.ipynb'\n",
    "!cat $crt_local_dir/$output_file"
   ]
  },
  {
   "cell_type": "code",
   "execution_count": 21,
   "metadata": {
    "nbpresent": {
     "id": "3cac05d2-2fbc-420e-90c3-823f734fe26e"
    }
   },
   "outputs": [
    {
     "name": "stdout",
     "output_type": "stream",
     "text": [
      "[NbConvertApp] Converting notebook createAMLSDKDocker.ipynb to html\n",
      "[NbConvertApp] Writing 337186 bytes to createAMLSDKDocker.html\n"
     ]
    }
   ],
   "source": [
    "!jupyter nbconvert --to html createAMLSDKDocker.ipynb"
   ]
  }
 ],
 "metadata": {
  "kernelspec": {
   "display_name": "Python [conda env:py35]",
   "language": "python",
   "name": "conda-env-py35-py"
  },
  "language_info": {
   "codemirror_mode": {
    "name": "ipython",
    "version": 3
   },
   "file_extension": ".py",
   "mimetype": "text/x-python",
   "name": "python",
   "nbconvert_exporter": "python",
   "pygments_lexer": "ipython3",
   "version": "3.5.5"
  }
 },
 "nbformat": 4,
 "nbformat_minor": 2
}
