{
 "cells": [
  {
   "cell_type": "markdown",
   "metadata": {},
   "source": [
    "### Create AML SDK docker file and build and test image"
   ]
  },
  {
   "cell_type": "markdown",
   "metadata": {},
   "source": [
    "To run this notebook, start it via a plain Jupyter notebook session on your Ubuntu_Azure_VM:\n",
    "\n",
    "* login (ssh) into the VM:\n",
    "```\n",
    "loginname1@Ubuntu_Azure_VM:/datadrive01/prj/regularR_Realtime$ jupyter notebook --notebook-dir=$(pwd) --ip='*' --port=9000 --no-browser --allow-root\n",
    "```\n",
    "  \n",
    "   \n",
    "* then go to:    \n",
    "http://Ubuntu_Azure_VM.eastus2.cloudapp.azure.com:9000/ \n",
    "  \n",
    "  \n",
    "https://docs.microsoft.com/en-us/azure/machine-learning/service/azure-machine-learning-release-notes  \n",
    "2019-03-11\n",
    "Azure Machine Learning SDK for Python v1.0.18  \n",
    "   \n",
    "Note: As of 02/13/2019, latest versions are:  \n",
    "Python 3.7.2 (https://www.python.org/downloads/, https://anaconda.org/anaconda/python)  \n",
    "miniconda3 4.5.12 (https://hub.docker.com/r/continuumio/miniconda3/tags)  \n",
    "AML SDK  v.1.0.15 (https://docs.microsoft.com/en-us/python/api/overview/azure/ml/install?view=azure-ml-py)  \n",
    "Ubuntu 19.04 (https://hub.docker.com/_/ubuntu?tab=tags)  "
   ]
  },
  {
   "cell_type": "code",
   "execution_count": 10,
   "metadata": {},
   "outputs": [],
   "source": [
    "# Allow multiple displays per cell\n",
    "from IPython.core.interactiveshell import InteractiveShell\n",
    "InteractiveShell.ast_node_interactivity = \"all\" "
   ]
  },
  {
   "cell_type": "code",
   "execution_count": 11,
   "metadata": {
    "nbpresent": {
     "id": "4ccb1b65-3d22-42d6-900b-dfcf80c59f9a"
    }
   },
   "outputs": [
    {
     "name": "stdout",
     "output_type": "stream",
     "text": [
      "The dotenv extension is already loaded. To reload it, use:\n",
      "  %reload_ext dotenv\n"
     ]
    }
   ],
   "source": [
    "%load_ext dotenv\n",
    "# import dotenv\n",
    "# print (dir(dotenv))"
   ]
  },
  {
   "cell_type": "code",
   "execution_count": 12,
   "metadata": {
    "nbpresent": {
     "id": "799f7d9a-13d5-462d-982b-cdaf17bcbb25"
    }
   },
   "outputs": [
    {
     "name": "stdout",
     "output_type": "stream",
     "text": [
      "Overwriting .env\n"
     ]
    }
   ],
   "source": [
    "%%writefile .env\n",
    "\n",
    "# Your docker login and image repository name\n",
    "docker_login = 'georgedockeraccount'\n",
    "image_tag = \"aml-sdk_docker_image\"\n",
    "image_version = 'sdk.v1.0.43' # also set this in conda file below"
   ]
  },
  {
   "cell_type": "code",
   "execution_count": 13,
   "metadata": {
    "nbpresent": {
     "id": "9d0e3def-da72-4a6f-934a-6aa251a2be7a"
    }
   },
   "outputs": [],
   "source": [
    "%dotenv\n",
    "docker_file_location = 'docker_build'\n",
    "\n",
    "import os\n",
    "docker_file_name = 'dockerfile'+ '_' + os.getenv('image_tag') + '_' + os.getenv('image_version')\n",
    "conda_dependency_file = 'aml_sdk_conda_dep_file.yml'"
   ]
  },
  {
   "cell_type": "code",
   "execution_count": 14,
   "metadata": {
    "nbpresent": {
     "id": "5df01165-3fcc-431c-89b0-a934207b1fa7"
    }
   },
   "outputs": [
    {
     "data": {
      "text/plain": [
       "'/datadrive01/prj/PowerAIWithDocker/amlsdk/docker_build'"
      ]
     },
     "execution_count": 14,
     "metadata": {},
     "output_type": "execute_result"
    },
    {
     "data": {
      "text/plain": [
       "'/datadrive01/prj/PowerAIWithDocker/amlsdk/docker_build/dockerfile_aml-sdk_docker_image_sdk.v1.0.43'"
      ]
     },
     "execution_count": 14,
     "metadata": {},
     "output_type": "execute_result"
    },
    {
     "data": {
      "text/plain": [
       "'/datadrive01/prj/PowerAIWithDocker/amlsdk/docker_build/aml_sdk_conda_dep_file.yml'"
      ]
     },
     "execution_count": 14,
     "metadata": {},
     "output_type": "execute_result"
    },
    {
     "name": "stdout",
     "output_type": "stream",
     "text": [
      "total 0\r\n"
     ]
    }
   ],
   "source": [
    "local_dir = !pwd\n",
    "docker_file_dir = os.path.join(*([local_dir.s, docker_file_location]))\n",
    "docker_file_dir\n",
    " \n",
    "docker_file_path = os.path.join(*([docker_file_dir]+[docker_file_name]))\n",
    "docker_file_path\n",
    "\n",
    "conda_dependency_file_path = os.path.join(*([docker_file_dir]+[conda_dependency_file]))\n",
    "conda_dependency_file_path\n",
    "\n",
    "#clean previous history (i.e. content of amlsdk/docker)\n",
    "!mkdir -p {docker_file_dir}\n",
    "!chmod -R ugo=rwx $docker_file_dir\n",
    "!rm -rf $docker_file_dir/*\n",
    "!ls -l $docker_file_dir"
   ]
  },
  {
   "cell_type": "code",
   "execution_count": 15,
   "metadata": {
    "nbpresent": {
     "id": "5cd2704f-7ad0-445d-a0f1-ffd318e6ddca"
    }
   },
   "outputs": [
    {
     "name": "stdout",
     "output_type": "stream",
     "text": [
      "Writing /datadrive01/prj/PowerAIWithDocker/amlsdk/docker_build/aml_sdk_conda_dep_file.yml\n"
     ]
    }
   ],
   "source": [
    "%%writefile $conda_dependency_file_path\n",
    "name: aml_sdk_conda_env02\n",
    "    \n",
    "channels:\n",
    "  - anaconda\n",
    "dependencies:\n",
    "  - python=3.6 # 3.6 req by tf, which seems to be req by automl, not 3.7.2 \n",
    "  - numpy\n",
    "  - cython\n",
    "  - notebook \n",
    "  - nb_conda\n",
    "  - scikit-learn\n",
    "  - pip\n",
    "  - pip:\n",
    "    - python-dotenv\n",
    "    - papermill[azure]\n",
    "    - docker\n",
    "    - azureml-sdk[notebooks,automl,explain]==1.0.43 "
   ]
  },
  {
   "cell_type": "code",
   "execution_count": 16,
   "metadata": {
    "nbpresent": {
     "id": "2168b1a2-9e5a-4812-be38-fd98a42a568f"
    }
   },
   "outputs": [
    {
     "name": "stdout",
     "output_type": "stream",
     "text": [
      "Writing /datadrive01/prj/PowerAIWithDocker/amlsdk/docker_build/dockerfile_aml-sdk_docker_image_sdk.v1.0.43\n"
     ]
    }
   ],
   "source": [
    "%%writefile $docker_file_path \n",
    "\n",
    "# FROM continuumio/miniconda3:4.5.12 as AzureMLSDKOnly \n",
    "FROM continuumio/miniconda3:4.6.14 as AzureMLSDKOnly    \n",
    "MAINTAINER George Iordanescu <ghiordan@microsoft.com>\n",
    "\n",
    "RUN apt-get update --fix-missing && apt-get install -y --no-install-recommends \\\n",
    "    gcc g++ \\\n",
    "    wget bzip2 \\\n",
    "    curl apt-transport-https lsb-release gpg \\\n",
    "    git make \\\n",
    "    sudo && \\\n",
    "    apt-get clean && \\\n",
    "    rm -rf /var/lib/apt/lists/*\n",
    "\n",
    "ADD aml_sdk_conda_dep_file.yml /tmp/aml_sdk_conda_dep_file.yml\n",
    "ENV CONDA_DIR /opt/conda\n",
    "ENV CONDA_ENV_NAME aml-sdk-conda-env    \n",
    "\n",
    "# reate aml sdk conda env defined by .yml file\n",
    "RUN /opt/conda/bin/conda env create -q --name $CONDA_ENV_NAME -f /tmp/aml_sdk_conda_dep_file.yml && \\\n",
    "    /opt/conda/bin/conda clean  --yes --all \n",
    "ENV CONDA_AUTO_UPDATE_CONDA=false\n",
    "ENV CONDA_DEFAULT_ENV=$CONDA_ENV_NAME\n",
    "ENV CONDA_PREFIX=$CONDA_DIR/envs/$CONDA_DEFAULT_ENV\n",
    "ENV PATH=$CONDA_PREFIX/bin:/opt/conda/bin:$PATH         \n",
    "\n",
    "# FROM AzureMLSDKOnly as AzureMLSDKAndSudo\n",
    "# ENV AML_USER azuremluser \n",
    "# RUN adduser --disabled-password --gecos '' $AML_USER && \\\n",
    "#     adduser $AML_USER sudo && \\\n",
    "#     echo '%sudo ALL=(ALL) NOPASSWD:ALL' >> /etc/sudoers && \\\n",
    "#     chown $AML_USER $CONDA_DIR -R \n",
    "\n",
    "# USER $AML_USER        \n",
    "        \n",
    "FROM AzureMLSDKOnly as AzureMLSDKAndAzCli\n",
    "# Install Azure CLI\n",
    "ENV AZ_CLI_REPO=stretch   \n",
    "RUN echo \"deb [arch=amd64] https://packages.microsoft.com/repos/azure-cli/ $AZ_CLI_REPO main\" | \\\n",
    "    tee /etc/apt/sources.list.d/azure-cli.list && \\\n",
    "    curl -L https://packages.microsoft.com/keys/microsoft.asc | apt-key add - && \\\n",
    "    apt-get update && \\\n",
    "    apt-get install -y --no-install-recommends \\\n",
    "    azure-cli \n",
    "    \n",
    "# Install AzCopy\n",
    "RUN mkdir -p /tmp/azcopy && mkdir -p /azcopy10 && \\\n",
    "    wget -O /tmp/azcopy/azcopyv10.tar.gz https://aka.ms/downloadazcopy-v10-linux &&  \\\n",
    "    tar -xf /tmp/azcopy/azcopyv10.tar.gz -C /azcopy10 \n",
    "RUN rm -rf /tmp/azcopy\n",
    "ENV PATH=/azcopy10/azcopy_linux_amd64_10.1.2:$PATH\n",
    "    \n",
    "FROM AzureMLSDKAndAzCli as AzureMLSDKAndAzCliAndAZDevOps\n",
    "#https://marketplace.visualstudio.com/items?itemName=ms-vsts.cli\n",
    "RUN az extension add --name azure-devops\n",
    "        \n",
    "CMD /bin/bash\n"
   ]
  },
  {
   "cell_type": "code",
   "execution_count": 17,
   "metadata": {
    "nbpresent": {
     "id": "527cb6fe-fd7b-48fd-8c28-2e59ced35adc"
    }
   },
   "outputs": [
    {
     "data": {
      "text/plain": [
       "'/datadrive01/prj/PowerAIWithDocker/amlsdk/docker_build/dockerfile_aml-sdk_docker_image_sdk.v1.0.43'"
      ]
     },
     "execution_count": 17,
     "metadata": {},
     "output_type": "execute_result"
    },
    {
     "data": {
      "text/plain": [
       "'georgedockeraccount/aml-sdk_docker_image:sdk.v1.0.43'"
      ]
     },
     "execution_count": 17,
     "metadata": {},
     "output_type": "execute_result"
    },
    {
     "data": {
      "text/plain": [
       "'georgedockeraccount/aml-sdk_docker_imageazcli:sdk.v1.0.43'"
      ]
     },
     "execution_count": 17,
     "metadata": {},
     "output_type": "execute_result"
    },
    {
     "data": {
      "text/plain": [
       "'georgedockeraccount/aml-sdk_docker_imageazcliazdevops:sdk.v1.0.43'"
      ]
     },
     "execution_count": 17,
     "metadata": {},
     "output_type": "execute_result"
    },
    {
     "data": {
      "text/plain": [
       "'/datadrive01/prj/PowerAIWithDocker/amlsdk/docker_build'"
      ]
     },
     "execution_count": 17,
     "metadata": {},
     "output_type": "execute_result"
    },
    {
     "name": "stdout",
     "output_type": "stream",
     "text": [
      "total 8\r\n",
      "-rw-rw-r-- 1 loginvm001 loginvm001  334 Jun 24 15:26 aml_sdk_conda_dep_file.yml\r\n",
      "-rw-rw-r-- 1 loginvm001 loginvm001 2109 Jun 24 15:26 dockerfile_aml-sdk_docker_image_sdk.v1.0.43\r\n"
     ]
    }
   ],
   "source": [
    "%dotenv\n",
    "\n",
    "#add docker image version info only if image_version has been set to a non-empty string, otherwise let docker increment it\n",
    "image_version_string = os.getenv('image_version')\n",
    "if image_version_string!=\"\":\n",
    "    image_version_string = ':'  + image_version_string\n",
    "    \n",
    "aml_docker_image_name = os.getenv('docker_login') + '/' + os.getenv('image_tag') + \\\n",
    "image_version_string\n",
    "# aml_sudo_docker_image_name = os.getenv('docker_login') + '/' + os.getenv('image_tag') + \\\n",
    "# 'sudo' + image_version_string\n",
    "aml_azcli_docker_image_name = os.getenv('docker_login') + '/' + os.getenv('image_tag') + \\\n",
    "'azcli' + image_version_string\n",
    "aml_azcli_azdevops_docker_image_name = os.getenv('docker_login') + '/' + os.getenv('image_tag') + \\\n",
    "'azcliazdevops'  + image_version_string\n",
    "\n",
    "\n",
    "docker_file_path\n",
    "aml_docker_image_name\n",
    "# aml_sudo_docker_image_name\n",
    "aml_azcli_docker_image_name\n",
    "aml_azcli_azdevops_docker_image_name\n",
    "\n",
    "docker_file_dir\n",
    "\n",
    "working_path = docker_file_dir\n",
    "! ls -l $working_path\n"
   ]
  },
  {
   "cell_type": "code",
   "execution_count": 18,
   "metadata": {},
   "outputs": [
    {
     "name": "stdout",
     "output_type": "stream",
     "text": [
      "docker build -t georgedockeraccount/aml-sdk_docker_image:sdk.v1.0.43 --target AzureMLSDKOnly -f /datadrive01/prj/PowerAIWithDocker/amlsdk/docker_build/dockerfile_aml-sdk_docker_image_sdk.v1.0.43 /datadrive01/prj/PowerAIWithDocker/amlsdk/docker_build --no-cache\n",
      "Sending build context to Docker daemon   5.12kB\n",
      "Step 1/11 : FROM continuumio/miniconda3:4.6.14 as AzureMLSDKOnly\n",
      " ---> 6b5cf97566c3\n",
      "Step 2/11 : MAINTAINER George Iordanescu <ghiordan@microsoft.com>\n",
      " ---> Using cache\n",
      " ---> decc10e91628\n",
      "Step 3/11 : RUN apt-get update --fix-missing && apt-get install -y --no-install-recommends     gcc g++     wget bzip2     curl apt-transport-https lsb-release gpg     git make     sudo &&     apt-get clean &&     rm -rf /var/lib/apt/lists/*\n",
      " ---> Using cache\n",
      " ---> ce3a85d525b8\n",
      "Step 4/11 : ADD aml_sdk_conda_dep_file.yml /tmp/aml_sdk_conda_dep_file.yml\n",
      " ---> Using cache\n",
      " ---> cead0e71d139\n",
      "Step 5/11 : ENV CONDA_DIR /opt/conda\n",
      " ---> Using cache\n",
      " ---> 161f873a47de\n",
      "Step 6/11 : ENV CONDA_ENV_NAME aml-sdk-conda-env\n",
      " ---> Using cache\n",
      " ---> e1fe72e0802f\n",
      "Step 7/11 : RUN /opt/conda/bin/conda env create -q --name $CONDA_ENV_NAME -f /tmp/aml_sdk_conda_dep_file.yml &&     /opt/conda/bin/conda clean  --yes --all\n",
      " ---> Using cache\n",
      " ---> 5bb20f4aee88\n",
      "Step 8/11 : ENV CONDA_AUTO_UPDATE_CONDA=false\n",
      " ---> Using cache\n",
      " ---> 9605d6307446\n",
      "Step 9/11 : ENV CONDA_DEFAULT_ENV=$CONDA_ENV_NAME\n",
      " ---> Using cache\n",
      " ---> 321ed8da3a4d\n",
      "Step 10/11 : ENV CONDA_PREFIX=$CONDA_DIR/envs/$CONDA_DEFAULT_ENV\n",
      " ---> Using cache\n",
      " ---> 1620c5195f8a\n",
      "Step 11/11 : ENV PATH=$CONDA_PREFIX/bin:/opt/conda/bin:$PATH\n",
      " ---> Using cache\n",
      " ---> 731fa7fa74a8\n",
      "Successfully built 731fa7fa74a8\n",
      "Successfully tagged georgedockeraccount/aml-sdk_docker_image:sdk.v1.0.43\n",
      "Sending build context to Docker daemon   5.12kB\n",
      "Step 1/17 : FROM continuumio/miniconda3:4.6.14 as AzureMLSDKOnly\n",
      " ---> 6b5cf97566c3\n",
      "Step 2/17 : MAINTAINER George Iordanescu <ghiordan@microsoft.com>\n",
      " ---> Using cache\n",
      " ---> decc10e91628\n",
      "Step 3/17 : RUN apt-get update --fix-missing && apt-get install -y --no-install-recommends     gcc g++     wget bzip2     curl apt-transport-https lsb-release gpg     git make     sudo &&     apt-get clean &&     rm -rf /var/lib/apt/lists/*\n",
      " ---> Using cache\n",
      " ---> ce3a85d525b8\n",
      "Step 4/17 : ADD aml_sdk_conda_dep_file.yml /tmp/aml_sdk_conda_dep_file.yml\n",
      " ---> Using cache\n",
      " ---> cead0e71d139\n",
      "Step 5/17 : ENV CONDA_DIR /opt/conda\n",
      " ---> Using cache\n",
      " ---> 161f873a47de\n",
      "Step 6/17 : ENV CONDA_ENV_NAME aml-sdk-conda-env\n",
      " ---> Using cache\n",
      " ---> e1fe72e0802f\n",
      "Step 7/17 : RUN /opt/conda/bin/conda env create -q --name $CONDA_ENV_NAME -f /tmp/aml_sdk_conda_dep_file.yml &&     /opt/conda/bin/conda clean  --yes --all\n",
      " ---> Using cache\n",
      " ---> 5bb20f4aee88\n",
      "Step 8/17 : ENV CONDA_AUTO_UPDATE_CONDA=false\n",
      " ---> Using cache\n",
      " ---> 9605d6307446\n",
      "Step 9/17 : ENV CONDA_DEFAULT_ENV=$CONDA_ENV_NAME\n",
      " ---> Using cache\n",
      " ---> 321ed8da3a4d\n",
      "Step 10/17 : ENV CONDA_PREFIX=$CONDA_DIR/envs/$CONDA_DEFAULT_ENV\n",
      " ---> Using cache\n",
      " ---> 1620c5195f8a\n",
      "Step 11/17 : ENV PATH=$CONDA_PREFIX/bin:/opt/conda/bin:$PATH\n",
      " ---> Using cache\n",
      " ---> 731fa7fa74a8\n",
      "Step 12/17 : FROM AzureMLSDKOnly as AzureMLSDKAndAzCli\n",
      " ---> 731fa7fa74a8\n",
      "Step 13/17 : ENV AZ_CLI_REPO=stretch\n",
      " ---> Using cache\n",
      " ---> ac57a2d2a308\n",
      "Step 14/17 : RUN echo \"deb [arch=amd64] https://packages.microsoft.com/repos/azure-cli/ $AZ_CLI_REPO main\" |     tee /etc/apt/sources.list.d/azure-cli.list &&     curl -L https://packages.microsoft.com/keys/microsoft.asc | apt-key add - &&     apt-get update &&     apt-get install -y --no-install-recommends     azure-cli\n",
      " ---> Running in c2adc7472040\n",
      "deb [arch=amd64] https://packages.microsoft.com/repos/azure-cli/ stretch main\n",
      "\u001b[91m  % Total    % Received % Xferd  Average Speed   T\u001b[0m\u001b[91mime    Time     Time  Current\n",
      "                          \u001b[0m\u001b[91m       Dlo\u001b[0m\u001b[91mad  Uplo\u001b[0m\u001b[91mad\u001b[0m\u001b[91m   \u001b[0m\u001b[91mTotal\u001b[0m\u001b[91m   Sp\u001b[0m\u001b[91ment\u001b[0m\u001b[91m    Le\u001b[0m\u001b[91mft  S\u001b[0m\u001b[91mpeed\n",
      "100   983  100   983    0     0  46950      0 --:--:-- \u001b[0m\u001b[91m--:--:-- --:--:-- 49\u001b[0m\u001b[91m150\u001b[0m\u001b[91m\u001b[91m   0\u001b[0m\u001b[91m\n",
      "\u001b[0m\u001b[91mWarning: apt-key output should not be parsed (stdout is not a terminal)\n",
      "\u001b[0mOK\n",
      "Ign:1 http://deb.debian.org/debian stretch InRelease\n",
      "Get:2 http://deb.debian.org/debian stretch-updates InRelease [91.0 kB]\n",
      "Get:3 http://deb.debian.org/debian stretch Release [118 kB]\n",
      "Get:4 http://deb.debian.org/debian stretch Release.gpg [2434 B]\n",
      "Get:5 https://packages.microsoft.com/repos/azure-cli stretch InRelease [3192 B]\n",
      "Get:6 http://security.debian.org/debian-security stretch/updates InRelease [94.3 kB]\n",
      "Get:7 http://deb.debian.org/debian stretch-updates/main amd64 Packages [27.2 kB]\n",
      "Get:8 http://deb.debian.org/debian stretch/main amd64 Packages [7082 kB]\n",
      "Get:9 https://packages.microsoft.com/repos/azure-cli stretch/main amd64 Packages [6946 B]\n",
      "Get:10 http://security.debian.org/debian-security stretch/updates/main amd64 Packages [499 kB]\n",
      "Fetched 7924 kB in 1s (6525 kB/s)\n",
      "Reading package lists...\n",
      "Reading package lists...\n",
      "Building dependency tree...\n",
      "Reading state information...\n",
      "The following NEW packages will be installed:\n",
      "  azure-cli\n",
      "0 upgraded, 1 newly installed, 0 to remove and 4 not upgraded.\n",
      "Need to get 44.8 MB of archives.\n",
      "After this operation, 435 MB of additional disk space will be used.\n",
      "Get:1 https://packages.microsoft.com/repos/azure-cli stretch/main amd64 azure-cli all 2.0.67-1~stretch [44.8 MB]\n",
      "\u001b[91mdebconf: delaying package configuration, since apt-utils is not installed\n",
      "\u001b[0mFetched 44.8 MB in 0s (49.1 MB/s)\n",
      "Selecting previously unselected package azure-cli.\n",
      "(Reading database ... 14455 files and directories currently installed.)\n",
      "Preparing to unpack .../azure-cli_2.0.67-1~stretch_all.deb ...\n",
      "Unpacking azure-cli (2.0.67-1~stretch) ...\n",
      "Setting up azure-cli (2.0.67-1~stretch) ...\n",
      "Removing intermediate container c2adc7472040\n",
      " ---> a196119717ff\n",
      "Step 15/17 : RUN mkdir -p /tmp/azcopy && mkdir -p /azcopy10 &&     wget -O /tmp/azcopy/azcopyv10.tar.gz https://aka.ms/downloadazcopy-v10-linux &&      tar -xf /tmp/azcopy/azcopyv10.tar.gz -C /azcopy10\n",
      " ---> Running in 75e0d43801b5\n",
      "\u001b[91m--2019-06-24 15:29:07--  https://aka.ms/downloadazcopy-v10-linux\n",
      "\u001b[0m\u001b[91mResolving aka.ms (aka.ms)... \u001b[0m\u001b[91m23.57.58.91\n",
      "Connecting to aka.ms (aka.ms)|23.57.58.91|:443... \u001b[0m\u001b[91mconnected.\n",
      "\u001b[0m\u001b[91mHTTP request sent, awaiting response... \u001b[0m\u001b[91m301 Moved Permanently\n",
      "Location: https://azcopyvnext.azureedge.net/release20190517/azcopy_linux_amd64_10.1.2.tar.gz [following]\n",
      "--2019-06-24 15:29:07--  https://azcopyvnext.azureedge.net/release20190517/azcopy_linux_amd64_10.1.2.tar.gz\n",
      "Resolving azcopyvnext.azureedge.net (azcopyvnext.azureedge.net)... \u001b[0m\u001b[91m23.45.181.216, 23.45.180.227, 2600:1408:9000::172d:b4b1, ...\n",
      "Connecting to azcopyvnext.azureedge.net (azcopyvnext.azureedge.net)|23.45.181.216|:443... \u001b[0m\u001b[91mconnected.\n",
      "\u001b[0m\u001b[91mHTTP request sent, awaiting response... \u001b[0m\u001b[91m200 OK\n",
      "Length: 6450201 (6.2M) [application/x-gzip]\n",
      "\u001b[0m\u001b[91mSaving to: ‘/tmp/azcopy/azcopyv10.tar.gz’\n",
      "\u001b[0m\u001b[91m\n",
      "     0K .......... ......\u001b[0m\u001b[91m.... .......... .\u001b[0m\u001b[91m..\u001b[0m\u001b[91m....... .\u001b[0m\u001b[91m........\u001b[0m\u001b[91m.  0% 33.6M 0s\n",
      "    50K .......\u001b[0m\u001b[91m... .....\u001b[0m\u001b[91m..... ...\u001b[0m\u001b[91m....... .........\u001b[0m\u001b[91m. ..........  1%  278M 0s\n",
      "   100K .....\u001b[0m\u001b[91m..... ...\u001b[0m\u001b[91m....... .........\u001b[0m\u001b[91m. .......... .....\u001b[0m\u001b[91m.....  2% 92.5M 0s\n",
      "   150K ...\u001b[0m\u001b[91m....... .....\u001b[0m\u001b[91m....\u001b[0m\u001b[91m. .......... .....\u001b[0m\u001b[91m..... ..........  3%\u001b[0m\u001b[91m 79.2M 0s\n",
      "   200K .\u001b[0m\u001b[91m.......\u001b[0m\u001b[91m.. ......\u001b[0m\u001b[91m.... ....\u001b[0m\u001b[91m...... ..........\u001b[0m\u001b[91m ........\u001b[0m\u001b[91m..  3% 86.5M 0s\n",
      "   250K ..........\u001b[0m\u001b[91m ........\u001b[0m\u001b[91m.. ......\u001b[0m\u001b[91m.... ....\u001b[0m\u001b[91m...... ..\u001b[0m\u001b[91m........  4%  274M 0s\u001b[0m\u001b[91m\n",
      "   300K .......... ......\u001b[0m\u001b[91m.... ....\u001b[0m\u001b[91m...... ..\u001b[0m\u001b[91m........\u001b[0m\u001b[91m ........\u001b[0m\u001b[91m..  5% 94.9M 0s\n",
      "   350K ......\u001b[0m\u001b[91m.... .......... ..\u001b[0m\u001b[91m........\u001b[0m\u001b[91m .......... .\u001b[0m\u001b[91m.........  6% 91.6M 0s\u001b[0m\u001b[91m\n",
      "   400K .......\u001b[0m\u001b[91m... .....\u001b[0m\u001b[91m..... ...\u001b[0m\u001b[91m....... .\u001b[0m\u001b[91m........\u001b[0m\u001b[91m. .......\u001b[0m\u001b[91m...  7%  113M 0s\n",
      "   450K .....\u001b[0m\u001b[91m..... ...\u001b[0m\u001b[91m....... .\u001b[0m\u001b[91m......... .......\u001b[0m\u001b[91m... ..........  7% 98.7M\u001b[0m\u001b[91m 0s\n",
      "   500K ...\u001b[0m\u001b[91m....... .\u001b[0m\u001b[91m......... ...\u001b[0m\u001b[91m....... .\u001b[0m\u001b[91m........\u001b[0m\u001b[91m. ..........  8% 75.9M 0s\u001b[0m\u001b[91m\n",
      "   550K .....\u001b[0m\u001b[91m.\u001b[0m\u001b[91m.... ...\u001b[0m\u001b[91m....... \u001b[0m\u001b[91m.\u001b[0m\u001b[91m.......\u001b[0m\u001b[91m.. ......\u001b[0m\u001b[91m.... ....\u001b[0m\u001b[91m.\u001b[0m\u001b[91m.....  9% 75.0M 0s\n",
      "   600K ..\u001b[0m\u001b[91m........\u001b[0m\u001b[91m ........\u001b[0m\u001b[91m.. ......\u001b[0m\u001b[91m.... ....\u001b[0m\u001b[91m...... ..\u001b[0m\u001b[91m........ 10%  111M 0s\u001b[0m\u001b[91m\n",
      "   650K ....\u001b[0m\u001b[91m...... ..\u001b[0m\u001b[91m.\u001b[0m\u001b[91m.......\u001b[0m\u001b[91m ........\u001b[0m\u001b[91m.. ......\u001b[0m\u001b[91m.... ....\u001b[0m\u001b[91m...... 11%  155M 0s\n",
      "   700K ..\u001b[0m\u001b[91m........\u001b[0m\u001b[91m ........\u001b[0m\u001b[91m.. .....\u001b[0m\u001b[91m..... ...\u001b[0m\u001b[91m.......\u001b[0m\u001b[91m .\u001b[0m\u001b[91m........\u001b[0m\u001b[91m.\u001b[0m\u001b[91m 11%  134M 0s\n",
      "   750K .......\u001b[0m\u001b[91m... .....\u001b[0m\u001b[91m..... ...\u001b[0m\u001b[91m....... .\u001b[0m\u001b[91m....\u001b[0m\u001b[91m..... ...\u001b[0m\u001b[91m....... 12% 32.9M 0s\n",
      "   800K .\u001b[0m\u001b[91m......... .......\u001b[0m\u001b[91m.\u001b[0m\u001b[91m.. .....\u001b[0m\u001b[91m..... ...\u001b[0m\u001b[91m....... .\u001b[0m\u001b[91m......\u001b[0m\u001b[91m..\u001b[0m\u001b[91m. 13%  118M 0s\n",
      "   850K ...\u001b[0m\u001b[91m....\u001b[0m\u001b[91m... .......... ...\u001b[0m\u001b[91m....... .\u001b[0m\u001b[91m........\u001b[0m\u001b[91m. .......\u001b[0m\u001b[91m... 14%  224M 0s\n",
      "   900K ....\u001b[0m\u001b[91m...... ......\u001b[0m\u001b[91m.... ....\u001b[0m\u001b[91m...... ..\u001b[0m\u001b[91m........\u001b[0m\u001b[91m ........\u001b[0m\u001b[91m.. 15% 53.7M 0s\n",
      "   950K ......\u001b[0m\u001b[91m.... ....\u001b[0m\u001b[91m...... ..\u001b[0m\u001b[91m........ ........\u001b[0m\u001b[91m.. ......\u001b[0m\u001b[91m.... 15%  171M 0s\n"
     ]
    },
    {
     "name": "stdout",
     "output_type": "stream",
     "text": [
      "  1000K ....\u001b[0m\u001b[91m...... ..\u001b[0m\u001b[91m........ \u001b[0m\u001b[91m........\u001b[0m\u001b[91m.. ......\u001b[0m\u001b[91m.... .......\u001b[0m\u001b[91m... 16% 3.64M 0s\n",
      "  1050K .......... ...\u001b[0m\u001b[91m....... .........\u001b[0m\u001b[91m. .......\u001b[0m\u001b[91m... .......... 17%  184M 0s\n",
      "  1100K \u001b[0m\u001b[91m...\u001b[0m\u001b[91m.\u001b[0m\u001b[91m...... .\u001b[0m\u001b[91m........\u001b[0m\u001b[91m. .......\u001b[0m\u001b[91m... .....\u001b[0m\u001b[91m..... ...\u001b[0m\u001b[91m....... 18%  102M 0s\n",
      "  1150K .........\u001b[0m\u001b[91m. .......... ..\u001b[0m\u001b[91m...\u001b[0m\u001b[91m....\u001b[0m\u001b[91m. .......... .....\u001b[0m\u001b[91m..... 19% 9.33M 0s\n",
      "  1200K ...\u001b[0m\u001b[91m....... .\u001b[0m\u001b[91m.......\u001b[0m\u001b[91m.. ......\u001b[0m\u001b[91m.... ....\u001b[0m\u001b[91m...... ..\u001b[0m\u001b[91m........ 19%  231M 0s\u001b[0m\u001b[91m\n",
      "  1250K ........\u001b[0m\u001b[91m.. .......... ..\u001b[0m\u001b[91m..\u001b[0m\u001b[91m...... ..........\u001b[0m\u001b[91m ........\u001b[0m\u001b[91m.. 20% 99.2M 0s\n",
      "  1300K ...\u001b[0m\u001b[91m...\u001b[0m\u001b[91m....\u001b[0m\u001b[91m ........\u001b[0m\u001b[91m.. ......\u001b[0m\u001b[91m.... ....\u001b[0m\u001b[91m...... ..\u001b[0m\u001b[91m........ 21%  119M 0s\u001b[0m\u001b[91m\n",
      "  1350K .......... ......\u001b[0m\u001b[91m....\u001b[0m\u001b[91m ....\u001b[0m\u001b[91m...\u001b[0m\u001b[91m... ..\u001b[0m\u001b[91m........ ........\u001b[0m\u001b[91m.. 22% 80.2M 0s\n",
      "  1400K .....\u001b[0m\u001b[91m..... .......... .\u001b[0m\u001b[91m........\u001b[0m\u001b[91m. .......... .\u001b[0m\u001b[91m......... 23% 24.3M 0s\n",
      "  1450K ...\u001b[0m\u001b[91m....\u001b[0m\u001b[91m.\u001b[0m\u001b[91m.. .....\u001b[0m\u001b[91m..... ...\u001b[0m\u001b[91m....... .\u001b[0m\u001b[91m......... .......\u001b[0m\u001b[91m... 23%  127M 0s\n",
      "  1500K .....\u001b[0m\u001b[91m..... ...\u001b[0m\u001b[91m....... .\u001b[0m\u001b[91m......... ......\u001b[0m\u001b[91m.\u001b[0m\u001b[91m... .....\u001b[0m\u001b[91m..... 24%  136M 0s\n",
      "  1550K ...\u001b[0m\u001b[91m.......\u001b[0m\u001b[91m .......... ..\u001b[0m\u001b[91m........\u001b[0m\u001b[91m ........\u001b[0m\u001b[91m.. ......\u001b[0m\u001b[91m.... 25% 4.21M 0s\n",
      "  1600K ....\u001b[0m\u001b[91m...... ..\u001b[0m\u001b[91m........\u001b[0m\u001b[91m ........\u001b[0m\u001b[91m.. ......\u001b[0m\u001b[91m.... ..\u001b[0m\u001b[91m..\u001b[0m\u001b[91m...... 26%  166M 0s\n",
      "  1650K ..\u001b[0m\u001b[91m........ ........\u001b[0m\u001b[91m.. .......... ....\u001b[0m\u001b[91m...... ..\u001b[0m\u001b[91m........ 26%  208M 0s\n",
      "  1700K ....\u001b[0m\u001b[91m...... ..\u001b[0m\u001b[91m.\u001b[0m\u001b[91m.......\u001b[0m\u001b[91m ........\u001b[0m\u001b[91m.. ......\u001b[0m\u001b[91m.... ...\u001b[0m\u001b[91m....... 27%  170M 0s\u001b[0m\u001b[91m\n",
      "  1750K .\u001b[0m\u001b[91m........\u001b[0m\u001b[91m. .......\u001b[0m\u001b[91m... .....\u001b[0m\u001b[91m..... ...\u001b[0m\u001b[91m....... .........\u001b[0m\u001b[91m. 28% 97.8M 0s\n",
      "  1800K .......\u001b[0m\u001b[91m... .....\u001b[0m\u001b[91m.\u001b[0m\u001b[91m.... ...\u001b[0m\u001b[91m....... .....\u001b[0m\u001b[91m..... .......... 29%\u001b[0m\u001b[91m  162M 0s\n",
      "  1850K .\u001b[0m\u001b[91m......... .......\u001b[0m\u001b[91m... .....\u001b[0m\u001b[91m..... ...\u001b[0m\u001b[91m....... .\u001b[0m\u001b[91m......... 30% 78.5M 0s\n",
      "  1900K ....\u001b[0m\u001b[91m...\u001b[0m\u001b[91m... .....\u001b[0m\u001b[91m..... ...\u001b[0m\u001b[91m....... .........\u001b[0m\u001b[91m. ......\u001b[0m\u001b[91m.... 30%  171M 0s\n",
      "  1950K ....\u001b[0m\u001b[91m...... ......\u001b[0m\u001b[91m.... .......... ..\u001b[0m\u001b[91m........ ........\u001b[0m\u001b[91m.. 31% 7.20M 0s\n",
      "  2000K ...\u001b[0m\u001b[91m...\u001b[0m\u001b[91m.... ....\u001b[0m\u001b[91m...... ..\u001b[0m\u001b[91m........ ........\u001b[0m\u001b[91m.. ......\u001b[0m\u001b[91m.... 32%  127M 0s\n",
      "  2050K ....\u001b[0m\u001b[91m...... ..\u001b[0m\u001b[91m........\u001b[0m\u001b[91m ........\u001b[0m\u001b[91m.. .....\u001b[0m\u001b[91m.\u001b[0m\u001b[91m.... .......\u001b[0m\u001b[91m... 33%  146M\u001b[0m\u001b[91m 0s\n",
      "  2100K .....\u001b[0m\u001b[91m...\u001b[0m\u001b[91m.. ...\u001b[0m\u001b[91m....... .\u001b[0m\u001b[91m........\u001b[0m\u001b[91m. .......\u001b[0m\u001b[91m... .....\u001b[0m\u001b[91m..... 34%  180M 0s\n",
      "  2150K ...\u001b[0m\u001b[91m....... .........\u001b[0m\u001b[91m. ..\u001b[0m\u001b[91m.....\u001b[0m\u001b[91m... .....\u001b[0m\u001b[91m..... ...\u001b[0m\u001b[91m....... 34%  170M 0s\n",
      "  2200K .\u001b[0m\u001b[91m........\u001b[0m\u001b[91m. .......\u001b[0m\u001b[91m... .........\u001b[0m\u001b[91m. .......... .....\u001b[0m\u001b[91m..... 35% 2.78M 0s\n",
      "  2250K ...\u001b[0m\u001b[91m....... .\u001b[0m\u001b[91m......... .......\u001b[0m\u001b[91m... ....\u001b[0m\u001b[91m...... ..\u001b[0m\u001b[91m........ 36%  192M 0s\u001b[0m\u001b[91m\n",
      "  2300K ........\u001b[0m\u001b[91m.. ......\u001b[0m\u001b[91m.... ....\u001b[0m\u001b[91m...... ..........\u001b[0m\u001b[91m ........\u001b[0m\u001b[91m.. 37% 92.7M 0s\n",
      "  2350K ......\u001b[0m\u001b[91m....\u001b[0m\u001b[91m .......... ......\u001b[0m\u001b[91m.... .....\u001b[0m\u001b[91m..... ..\u001b[0m\u001b[91m........ 38% 56.0M 0s\u001b[0m\u001b[91m\n",
      "  2400K ........\u001b[0m\u001b[91m.. .....\u001b[0m\u001b[91m.\u001b[0m\u001b[91m.... ....\u001b[0m\u001b[91m...... ..\u001b[0m\u001b[91m.......\u001b[0m\u001b[91m. .......... 38%  146M 0s\n",
      "  2450K\u001b[0m\u001b[91m .....\u001b[0m\u001b[91m.....\u001b[0m\u001b[91m ...\u001b[0m\u001b[91m....... .\u001b[0m\u001b[91m.........\u001b[0m\u001b[91m .......\u001b[0m\u001b[91m... .\u001b[0m\u001b[91m........\u001b[0m\u001b[91m. 39%  138M 0s\n",
      "  2500K .......\u001b[0m\u001b[91m... .......... ...\u001b[0m\u001b[91m....... .\u001b[0m\u001b[91m........\u001b[0m\u001b[91m. .......\u001b[0m\u001b[91m... 40%  169M 0s\n",
      "  2550K .....\u001b[0m\u001b[91m..... ..\u001b[0m\u001b[91m.\u001b[0m\u001b[91m....... .\u001b[0m\u001b[91m...\u001b[0m\u001b[91m.....\u001b[0m\u001b[91m. .......\u001b[0m\u001b[91m... .....\u001b[0m\u001b[91m..... 41%  163M 0s\n",
      "  2600K ...\u001b[0m\u001b[91m.......\u001b[0m\u001b[91m ........\u001b[0m\u001b[91m.. ......\u001b[0m\u001b[91m.... ........\u001b[0m\u001b[91m.\u001b[0m\u001b[91m. .......... 42%  149M\u001b[0m\u001b[91m 0s\n",
      "  2650K ....\u001b[0m\u001b[91m...... .......... .......... .......... .......... 42%  193M 0s\n",
      "  2700K .......... .......... ......\u001b[0m\u001b[91m.... ....\u001b[0m\u001b[91m...... ..\u001b[0m\u001b[91m........ 43%\u001b[0m\u001b[91m  172M 0s\u001b[0m\u001b[91m\n",
      "  2750K .......... ......\u001b[0m\u001b[91m...\u001b[0m\u001b[91m. .......\u001b[0m\u001b[91m.\u001b[0m\u001b[91m.. .....\u001b[0m\u001b[91m..... ....\u001b[0m\u001b[91m...... 44%  147M 0s\n",
      "  2800K .\u001b[0m\u001b[91m.....\u001b[0m\u001b[91m...\u001b[0m\u001b[91m. .......... ....\u001b[0m\u001b[91m.\u001b[0m\u001b[91m..... ...\u001b[0m\u001b[91m....... .\u001b[0m\u001b[91m......... 45%  162M 0s\n",
      "  2850K .......\u001b[0m\u001b[91m... .....\u001b[0m\u001b[91m..... ...\u001b[0m\u001b[91m....... .\u001b[0m\u001b[91m....\u001b[0m\u001b[91m.\u001b[0m\u001b[91m.... .......... 46% 3.21M 0s\n",
      "  2900K \u001b[0m\u001b[91m.\u001b[0m\u001b[91m..\u001b[0m\u001b[91m......\u001b[0m\u001b[91m. .......\u001b[0m\u001b[91m... .....\u001b[0m\u001b[91m..... ...\u001b[0m\u001b[91m.......\u001b[0m\u001b[91m .......... 46%\u001b[0m\u001b[91m  133M 0s\n",
      "  2950K .....\u001b[0m\u001b[91m.\u001b[0m\u001b[91m.... ....\u001b[0m\u001b[91m...... ........\u001b[0m\u001b[91m..\u001b[0m\u001b[91m ........\u001b[0m\u001b[91m.. ......\u001b[0m\u001b[91m.... 47%  203M 0s\n",
      "  3000K ....\u001b[0m\u001b[91m...... ..\u001b[0m\u001b[91m....\u001b[0m\u001b[91m.... ....\u001b[0m\u001b[91m.\u001b[0m\u001b[91m..... ..\u001b[0m\u001b[91m........ ........\u001b[0m\u001b[91m.. 48%  137M 0s\n",
      "  3050K ......\u001b[0m\u001b[91m.\u001b[0m\u001b[91m... ....\u001b[0m\u001b[91m...... ..\u001b[0m\u001b[91m........\u001b[0m\u001b[91m .......\u001b[0m\u001b[91m.\u001b[0m\u001b[91m.. .....\u001b[0m\u001b[91m..... 49%  188M 0s\n",
      "  3100K ...\u001b[0m\u001b[91m....... .\u001b[0m\u001b[91m........\u001b[0m\u001b[91m. .......\u001b[0m\u001b[91m... .....\u001b[0m\u001b[91m..... ...\u001b[0m\u001b[91m....\u001b[0m\u001b[91m... 50% 11.6M 0s\n",
      "  3150K .......... ...\u001b[0m\u001b[91m....... .\u001b[0m\u001b[91m........\u001b[0m\u001b[91m. .......... ....\u001b[0m\u001b[91m.\u001b[0m\u001b[91m..... 50%  130M 0s\n",
      "  3200K ...\u001b[0m\u001b[91m....... .........\u001b[0m\u001b[91m. .......... ....\u001b[0m\u001b[91m.\u001b[0m\u001b[91m..... ...\u001b[0m\u001b[91m....... 51%  137M 0s\n",
      "  3250K .\u001b[0m\u001b[91m........\u001b[0m\u001b[91m. .......\u001b[0m\u001b[91m... .....\u001b[0m\u001b[91m...\u001b[0m\u001b[91m.. ......\u001b[0m\u001b[91m.... ....\u001b[0m\u001b[91m...... 52%\u001b[0m\u001b[91m  171M 0s\n",
      "  3300K ........\u001b[0m\u001b[91m..\u001b[0m\u001b[91m .......... ......\u001b[0m\u001b[91m.... ....\u001b[0m\u001b[91m...... ..\u001b[0m\u001b[91m........ 53%  225M 0s\u001b[0m\u001b[91m\n",
      "  3350K ........\u001b[0m\u001b[91m.. ......\u001b[0m\u001b[91m.... ....\u001b[0m\u001b[91m...... ..\u001b[0m\u001b[91m........\u001b[0m\u001b[91m ........\u001b[0m\u001b[91m.. 53%  215M 0s\n",
      "  3400K ......\u001b[0m\u001b[91m....\u001b[0m\u001b[91m ....\u001b[0m\u001b[91m....\u001b[0m\u001b[91m.. ......\u001b[0m\u001b[91m.... ....\u001b[0m\u001b[91m...... ..\u001b[0m\u001b[91m.......\u001b[0m\u001b[91m. 54% 23.9M 0s\n",
      "  3450K .......\u001b[0m\u001b[91m... .....\u001b[0m\u001b[91m..... .......... .\u001b[0m\u001b[91m........\u001b[0m\u001b[91m. .......\u001b[0m\u001b[91m... 55%  200M 0s\n",
      "  3500K .....\u001b[0m\u001b[91m..... ...\u001b[0m\u001b[91m....... .\u001b[0m\u001b[91m........\u001b[0m\u001b[91m. .......\u001b[0m\u001b[91m... .\u001b[0m\u001b[91m......... 56% 2.64M 0s\n",
      "  3550K .......\u001b[0m\u001b[91m... .....\u001b[0m\u001b[91m..... ...\u001b[0m\u001b[91m....... .\u001b[0m\u001b[91m........\u001b[0m\u001b[91m. .......\u001b[0m\u001b[91m... 57%  153M 0s\n",
      "  3600K .....\u001b[0m\u001b[91m..... ...\u001b[0m\u001b[91m.......\u001b[0m\u001b[91m ........\u001b[0m\u001b[91m.. ......\u001b[0m\u001b[91m.... .......... 57% 77.2M 0s\n",
      "  3650K\u001b[0m\u001b[91m ..\u001b[0m\u001b[91m........ ........\u001b[0m\u001b[91m.. ..\u001b[0m\u001b[91m........ .....\u001b[0m\u001b[91m...\u001b[0m\u001b[91m.. ......\u001b[0m\u001b[91m.... 58% 3.61M 0s\n",
      "  3700K ....\u001b[0m\u001b[91m...... ..........\u001b[0m\u001b[91m ........\u001b[0m\u001b[91m.. .......... \u001b[0m\u001b[91m....\u001b[0m\u001b[91m...... 59%  140M 0s\n",
      "  3750K ..\u001b[0m\u001b[91m........ ........\u001b[0m\u001b[91m.. ......\u001b[0m\u001b[91m.... .......... .......... 60%  272M 0s\u001b[0m\u001b[91m\n",
      "  3800K ...\u001b[0m\u001b[91m....... ....\u001b[0m\u001b[91m.....\u001b[0m\u001b[91m. .......\u001b[0m\u001b[91m... .....\u001b[0m\u001b[91m..... .......... 61%\u001b[0m\u001b[91m 23.0M 0s\n",
      "  3850K .\u001b[0m\u001b[91m.\u001b[0m\u001b[91m.......\u001b[0m\u001b[91m. .......\u001b[0m\u001b[91m... .....\u001b[0m\u001b[91m..... ...\u001b[0m\u001b[91m....... .\u001b[0m\u001b[91m........\u001b[0m\u001b[91m. 61%\u001b[0m\u001b[91m  150M 0s\n",
      "  3900K .......\u001b[0m\u001b[91m... .....\u001b[0m\u001b[91m..... ...\u001b[0m\u001b[91m....... .\u001b[0m\u001b[91m...\u001b[0m\u001b[91m...... .......... 62%\u001b[0m\u001b[91m  133M 0s\u001b[0m\u001b[91m\n",
      "  3950K ........\u001b[0m\u001b[91m.. ......\u001b[0m\u001b[91m.... ....\u001b[0m\u001b[91m...... ..\u001b[0m\u001b[91m........\u001b[0m\u001b[91m .......... 63%  152M 0s\u001b[0m\u001b[91m\n",
      "  4000K ......\u001b[0m\u001b[91m.... ....\u001b[0m\u001b[91m...... ..\u001b[0m\u001b[91m........\u001b[0m\u001b[91m ........\u001b[0m\u001b[91m.. ......\u001b[0m\u001b[91m.... 64%  190M 0s\n",
      "  4050K ....\u001b[0m\u001b[91m...... ......\u001b[0m\u001b[91m.... .......... ..\u001b[0m\u001b[91m........ ........\u001b[0m\u001b[91m.. 65%  142M 0s\n",
      "  4100K ......\u001b[0m\u001b[91m.... ....\u001b[0m\u001b[91m...... ......\u001b[0m\u001b[91m....\u001b[0m\u001b[91m .......\u001b[0m\u001b[91m... .....\u001b[0m\u001b[91m..... 65%  287M 0s\n",
      "  4150K ...\u001b[0m\u001b[91m....... .\u001b[0m\u001b[91m........\u001b[0m\u001b[91m. .......\u001b[0m\u001b[91m... .....\u001b[0m\u001b[91m..... .......\u001b[0m\u001b[91m... 66% 3.15M 0s\n",
      "  4200K .......... ...\u001b[0m\u001b[91m....... ..\u001b[0m\u001b[91m.......\u001b[0m\u001b[91m. .......\u001b[0m\u001b[91m... .....\u001b[0m\u001b[91m..... 67%  133M 0s\n",
      "  4250K \u001b[0m\u001b[91m...\u001b[0m\u001b[91m....... .\u001b[0m\u001b[91m........\u001b[0m\u001b[91m. ......\u001b[0m\u001b[91m.... .......... ..\u001b[0m\u001b[91m........ 68%  205M 0s\u001b[0m\u001b[91m\n",
      "  4300K ........\u001b[0m\u001b[91m.. ......\u001b[0m\u001b[91m.\u001b[0m\u001b[91m... ........\u001b[0m\u001b[91m.. ......\u001b[0m\u001b[91m.\u001b[0m\u001b[91m... ....\u001b[0m\u001b[91m...... 69%  192M 0s\n",
      "  4350K ..\u001b[0m\u001b[91m.......\u001b[0m\u001b[91m.\u001b[0m\u001b[91m ........\u001b[0m\u001b[91m.. ......\u001b[0m\u001b[91m.... ....\u001b[0m\u001b[91m...... ..\u001b[0m\u001b[91m........ 69%  161M 0s\u001b[0m\u001b[91m\n",
      "  4400K ........\u001b[0m\u001b[91m.. ......\u001b[0m\u001b[91m.... ....\u001b[0m\u001b[91m...... ..\u001b[0m\u001b[91m........ ..\u001b[0m\u001b[91m.....\u001b[0m\u001b[91m... 70%  181M 0s\n",
      "  4450K .........\u001b[0m\u001b[91m. .......\u001b[0m\u001b[91m... .....\u001b[0m\u001b[91m..... ...\u001b[0m\u001b[91m....... .\u001b[0m\u001b[91m.\u001b[0m\u001b[91m.......\u001b[0m\u001b[91m. 71% 83.7M 0s\n",
      "  4500K ..\u001b[0m\u001b[91m.....\u001b[0m\u001b[91m... .....\u001b[0m\u001b[91m.\u001b[0m\u001b[91m.... ...\u001b[0m\u001b[91m....... .\u001b[0m\u001b[91m.........\u001b[0m\u001b[91m .......\u001b[0m\u001b[91m... 72%  130M 0s\n",
      "  4550K .....\u001b[0m\u001b[91m..... ..\u001b[0m\u001b[91m.\u001b[0m\u001b[91m....... .\u001b[0m\u001b[91m........\u001b[0m\u001b[91m. .......... ....\u001b[0m\u001b[91m.\u001b[0m\u001b[91m..... 73%\u001b[0m\u001b[91m  158M 0s\n",
      "  4600K .......\u001b[0m\u001b[91m... .....\u001b[0m\u001b[91m..... ...\u001b[0m\u001b[91m.......\u001b[0m\u001b[91m ........\u001b[0m\u001b[91m.. ......\u001b[0m\u001b[91m.... 73%  169M 0s\n",
      "  4650K ....\u001b[0m\u001b[91m...... ..\u001b[0m\u001b[91m........\u001b[0m\u001b[91m ........\u001b[0m\u001b[91m.. ......\u001b[0m\u001b[91m.... ....\u001b[0m\u001b[91m...... 74%  290M 0s\n",
      "  4700K ..\u001b[0m\u001b[91m........ ........\u001b[0m\u001b[91m.. ..\u001b[0m\u001b[91m........ ........\u001b[0m\u001b[91m.. ......\u001b[0m\u001b[91m.... 75% 8.63M 0s\n",
      "  4750K ...\u001b[0m\u001b[91m.\u001b[0m\u001b[91m...... .........\u001b[0m\u001b[91m.\u001b[0m\u001b[91m ........\u001b[0m\u001b[91m.. ......\u001b[0m\u001b[91m.... ....\u001b[0m\u001b[91m...... 76%  125M 0s\n",
      "  4800K ..\u001b[0m\u001b[91m.......\u001b[0m\u001b[91m.\u001b[0m\u001b[91m ........\u001b[0m\u001b[91m.. ......\u001b[0m\u001b[91m.... ...\u001b[0m\u001b[91m....... .\u001b[0m\u001b[91m..\u001b[0m\u001b[91m......\u001b[0m\u001b[91m. 76%  130M 0s\n",
      "  4850K .\u001b[0m\u001b[91m......\u001b[0m\u001b[91m... .....\u001b[0m\u001b[91m....\u001b[0m\u001b[91m. .......\u001b[0m\u001b[91m... .....\u001b[0m\u001b[91m..... ...\u001b[0m\u001b[91m....... 77%  190M 0s\n",
      "  4900K .\u001b[0m\u001b[91m........\u001b[0m\u001b[91m. .......\u001b[0m\u001b[91m... .....\u001b[0m\u001b[91m..... ...\u001b[0m\u001b[91m....... .\u001b[0m\u001b[91m........\u001b[0m\u001b[91m. 78%  219M 0s\n"
     ]
    },
    {
     "name": "stdout",
     "output_type": "stream",
     "text": [
      "  4950K .......\u001b[0m\u001b[91m... .....\u001b[0m\u001b[91m..... ...\u001b[0m\u001b[91m....... ....\u001b[0m\u001b[91m...... .......... 79% 1.69M 0s\u001b[0m\u001b[91m\n",
      "  5000K .......... ......\u001b[0m\u001b[91m.... ....\u001b[0m\u001b[91m...... ..\u001b[0m\u001b[91m........\u001b[0m\u001b[91m .......... 80%  143M\u001b[0m\u001b[91m 0s\n",
      "  5050K ......\u001b[0m\u001b[91m.... .......... ..\u001b[0m\u001b[91m........\u001b[0m\u001b[91m ........\u001b[0m\u001b[91m.. ......\u001b[0m\u001b[91m.... 80%  210M 0s\n",
      "  5100K ....\u001b[0m\u001b[91m...... ......\u001b[0m\u001b[91m.... ....\u001b[0m\u001b[91m...... ..\u001b[0m\u001b[91m........\u001b[0m\u001b[91m ........\u001b[0m\u001b[91m.. 81% 53.5M 0s\n",
      "  5150K ......\u001b[0m\u001b[91m.... ....\u001b[0m\u001b[91m...... .\u001b[0m\u001b[91m........\u001b[0m\u001b[91m. .......\u001b[0m\u001b[91m... .....\u001b[0m\u001b[91m..... 82%  254M 0s\n",
      "  5200K ...\u001b[0m\u001b[91m....... .\u001b[0m\u001b[91m......... .......\u001b[0m\u001b[91m... .....\u001b[0m\u001b[91m..... .......\u001b[0m\u001b[91m... 83% 14.7M 0s\n",
      "  5250K .....\u001b[0m\u001b[91m..... ..\u001b[0m\u001b[91m.\u001b[0m\u001b[91m....... .\u001b[0m\u001b[91m........\u001b[0m\u001b[91m. \u001b[0m\u001b[91m.......\u001b[0m\u001b[91m... .....\u001b[0m\u001b[91m..... 84%  163M 0s\n",
      "  5300K ...\u001b[0m\u001b[91m....... .\u001b[0m\u001b[91m........\u001b[0m\u001b[91m. ......\u001b[0m\u001b[91m.... .......... .\u001b[0m\u001b[91m.\u001b[0m\u001b[91m........ 84%  187M 0s\u001b[0m\u001b[91m\n",
      "  5350K ........\u001b[0m\u001b[91m.. ......\u001b[0m\u001b[91m.... ........\u001b[0m\u001b[91m.. .......... ....\u001b[0m\u001b[91m...... 85% 63.2M 0s\n",
      "  5400K ..\u001b[0m\u001b[91m........\u001b[0m\u001b[91m \u001b[0m\u001b[91m.......... .\u001b[0m\u001b[91m.....\u001b[0m\u001b[91m.... ....\u001b[0m\u001b[91m...... ..........\u001b[0m\u001b[91m 86%  173M 0s\u001b[0m\u001b[91m\n",
      "  5450K\u001b[0m\u001b[91m ........\u001b[0m\u001b[91m.. ......\u001b[0m\u001b[91m.... .......... ..\u001b[0m\u001b[91m.......\u001b[0m\u001b[91m. .......\u001b[0m\u001b[91m... 87%  170M 0s\n",
      "  5500K ...\u001b[0m\u001b[91m..\u001b[0m\u001b[91m....\u001b[0m\u001b[91m. .......... .....\u001b[0m\u001b[91m..... .......... .\u001b[0m\u001b[91m........\u001b[0m\u001b[91m. 88% 6.04M\u001b[0m\u001b[91m 0s\n",
      "  5550K .......\u001b[0m\u001b[91m... .....\u001b[0m\u001b[91m..... ...\u001b[0m\u001b[91m....... .\u001b[0m\u001b[91m........\u001b[0m\u001b[91m.\u001b[0m\u001b[91m ..........\u001b[0m\u001b[91m 88%  163M\u001b[0m\u001b[91m 0s\n",
      "  5600K\u001b[0m\u001b[91m .\u001b[0m\u001b[91m....\u001b[0m\u001b[91m..... ..........\u001b[0m\u001b[91m .\u001b[0m\u001b[91m.......\u001b[0m\u001b[91m.. ......\u001b[0m\u001b[91m....\u001b[0m\u001b[91m .......... 89%  173M 0s\n",
      "  5650K ....\u001b[0m\u001b[91m..\u001b[0m\u001b[91m.... ....\u001b[0m\u001b[91m...... ..\u001b[0m\u001b[91m........\u001b[0m\u001b[91m .........\u001b[0m\u001b[91m. ......\u001b[0m\u001b[91m.... 90%  151M 0s\n",
      "  5700K ....\u001b[0m\u001b[91m...... ..\u001b[0m\u001b[91m......\u001b[0m\u001b[91m..\u001b[0m\u001b[91m ........\u001b[0m\u001b[91m.. ......\u001b[0m\u001b[91m.... .......... 91%  185M\u001b[0m\u001b[91m 0s\n",
      "  5750K ..\u001b[0m\u001b[91m........\u001b[0m\u001b[91m .......... ..\u001b[0m\u001b[91m........ ........\u001b[0m\u001b[91m.. .......... 92% 3.70M 0s\n",
      "  5800K ....\u001b[0m\u001b[91m...... ..\u001b[0m\u001b[91m........\u001b[0m\u001b[91m .......\u001b[0m\u001b[91m... .......... ..\u001b[0m\u001b[91m.\u001b[0m\u001b[91m....... 92%  142M 0s\n",
      "  5850K .\u001b[0m\u001b[91m........\u001b[0m\u001b[91m. .......\u001b[0m\u001b[91m... .....\u001b[0m\u001b[91m..... ...\u001b[0m\u001b[91m....... .\u001b[0m\u001b[91m........\u001b[0m\u001b[91m. 93%  109M 0s\n",
      "  5900K .......\u001b[0m\u001b[91m... .....\u001b[0m\u001b[91m..... ...\u001b[0m\u001b[91m....... .........\u001b[0m\u001b[91m. ...\u001b[0m\u001b[91m....... 94%  144M 0s\n",
      "  5950K .\u001b[0m\u001b[91m........\u001b[0m\u001b[91m. .......\u001b[0m\u001b[91m... .....\u001b[0m\u001b[91m..... ...\u001b[0m\u001b[91m....... .\u001b[0m\u001b[91m.......\u001b[0m\u001b[91m.. 95%  212M 0s\n",
      "  6000K ......\u001b[0m\u001b[91m.... ....\u001b[0m\u001b[91m...... ..\u001b[0m\u001b[91m........ ..\u001b[0m\u001b[91m..\u001b[0m\u001b[91m.\u001b[0m\u001b[91m..... ..........\u001b[0m\u001b[91m 96% 9.98M 0s\u001b[0m\u001b[91m\n",
      "  6050K .........\u001b[0m\u001b[91m. ......\u001b[0m\u001b[91m.... ....\u001b[0m\u001b[91m...... ..\u001b[0m\u001b[91m........\u001b[0m\u001b[91m ........\u001b[0m\u001b[91m.. 96%  162M 0s\n",
      "  6100K .....\u001b[0m\u001b[91m.\u001b[0m\u001b[91m.... ....\u001b[0m\u001b[91m...... ..\u001b[0m\u001b[91m........\u001b[0m\u001b[91m ........\u001b[0m\u001b[91m.. ......\u001b[0m\u001b[91m.... 97%  174M 0s\n",
      "  6150K ...\u001b[0m\u001b[91m....... .....\u001b[0m\u001b[91m..... ...\u001b[0m\u001b[91m....... .\u001b[0m\u001b[91m......... .......\u001b[0m\u001b[91m... 98%  138M 0s\n",
      "  6200K .....\u001b[0m\u001b[91m..... .......... .\u001b[0m\u001b[91m........\u001b[0m\u001b[91m. .......\u001b[0m\u001b[91m... .....\u001b[0m\u001b[91m..... 99%  236M 0s\n",
      "  6250K ...\u001b[0m\u001b[91m....... .\u001b[0m\u001b[91m........\u001b[0m\u001b[91m. .......\u001b[0m\u001b[91m... .....\u001b[0m\u001b[91m..... ...\u001b[0m\u001b[91m...... \u001b[0m\u001b[91m100%  247M=0.2s\n",
      "\n",
      "\u001b[0m\u001b[91m2019-06-24 15:29:08 (26.5 MB/s) - ‘/tmp/azcopy/azcopyv10.tar.gz’ saved [6450201/6450201]\n",
      "\n",
      "\u001b[0mRemoving intermediate container 75e0d43801b5\n",
      " ---> fd883f290cf0\n",
      "Step 16/17 : RUN rm -rf /tmp/azcopy\n",
      " ---> Running in 4c18284dc4de\n",
      "Removing intermediate container 4c18284dc4de\n",
      " ---> 3367b1880de2\n",
      "Step 17/17 : ENV PATH=/azcopy10/azcopy_linux_amd64_10.1.2:$PATH\n",
      " ---> Running in 15161bce3a0f\n",
      "Removing intermediate container 15161bce3a0f\n",
      " ---> 3363abb6f1ab\n",
      "Successfully built 3363abb6f1ab\n",
      "Successfully tagged georgedockeraccount/aml-sdk_docker_imageazcli:sdk.v1.0.43\n",
      "Sending build context to Docker daemon   5.12kB\n",
      "Step 1/20 : FROM continuumio/miniconda3:4.6.14 as AzureMLSDKOnly\n",
      " ---> 6b5cf97566c3\n",
      "Step 2/20 : MAINTAINER George Iordanescu <ghiordan@microsoft.com>\n",
      " ---> Using cache\n",
      " ---> decc10e91628\n",
      "Step 3/20 : RUN apt-get update --fix-missing && apt-get install -y --no-install-recommends     gcc g++     wget bzip2     curl apt-transport-https lsb-release gpg     git make     sudo &&     apt-get clean &&     rm -rf /var/lib/apt/lists/*\n",
      " ---> Using cache\n",
      " ---> ce3a85d525b8\n",
      "Step 4/20 : ADD aml_sdk_conda_dep_file.yml /tmp/aml_sdk_conda_dep_file.yml\n",
      " ---> Using cache\n",
      " ---> cead0e71d139\n",
      "Step 5/20 : ENV CONDA_DIR /opt/conda\n",
      " ---> Using cache\n",
      " ---> 161f873a47de\n",
      "Step 6/20 : ENV CONDA_ENV_NAME aml-sdk-conda-env\n",
      " ---> Using cache\n",
      " ---> e1fe72e0802f\n",
      "Step 7/20 : RUN /opt/conda/bin/conda env create -q --name $CONDA_ENV_NAME -f /tmp/aml_sdk_conda_dep_file.yml &&     /opt/conda/bin/conda clean  --yes --all\n",
      " ---> Using cache\n",
      " ---> 5bb20f4aee88\n",
      "Step 8/20 : ENV CONDA_AUTO_UPDATE_CONDA=false\n",
      " ---> Using cache\n",
      " ---> 9605d6307446\n",
      "Step 9/20 : ENV CONDA_DEFAULT_ENV=$CONDA_ENV_NAME\n",
      " ---> Using cache\n",
      " ---> 321ed8da3a4d\n",
      "Step 10/20 : ENV CONDA_PREFIX=$CONDA_DIR/envs/$CONDA_DEFAULT_ENV\n",
      " ---> Using cache\n",
      " ---> 1620c5195f8a\n",
      "Step 11/20 : ENV PATH=$CONDA_PREFIX/bin:/opt/conda/bin:$PATH\n",
      " ---> Using cache\n",
      " ---> 731fa7fa74a8\n",
      "Step 12/20 : FROM AzureMLSDKOnly as AzureMLSDKAndAzCli\n",
      " ---> 731fa7fa74a8\n",
      "Step 13/20 : ENV AZ_CLI_REPO=stretch\n",
      " ---> Using cache\n",
      " ---> ac57a2d2a308\n",
      "Step 14/20 : RUN echo \"deb [arch=amd64] https://packages.microsoft.com/repos/azure-cli/ $AZ_CLI_REPO main\" |     tee /etc/apt/sources.list.d/azure-cli.list &&     curl -L https://packages.microsoft.com/keys/microsoft.asc | apt-key add - &&     apt-get update &&     apt-get install -y --no-install-recommends     azure-cli\n",
      " ---> Using cache\n",
      " ---> a196119717ff\n",
      "Step 15/20 : RUN mkdir -p /tmp/azcopy && mkdir -p /azcopy10 &&     wget -O /tmp/azcopy/azcopyv10.tar.gz https://aka.ms/downloadazcopy-v10-linux &&      tar -xf /tmp/azcopy/azcopyv10.tar.gz -C /azcopy10\n",
      " ---> Using cache\n",
      " ---> fd883f290cf0\n",
      "Step 16/20 : RUN rm -rf /tmp/azcopy\n",
      " ---> Using cache\n",
      " ---> 3367b1880de2\n",
      "Step 17/20 : ENV PATH=/azcopy10/azcopy_linux_amd64_10.1.2:$PATH\n",
      " ---> Using cache\n",
      " ---> 3363abb6f1ab\n",
      "Step 18/20 : FROM AzureMLSDKAndAzCli as AzureMLSDKAndAzCliAndAZDevOps\n",
      " ---> 3363abb6f1ab\n",
      "Step 19/20 : RUN az extension add --name azure-devops\n",
      " ---> Running in c4c75008ae51\n",
      "Removing intermediate container c4c75008ae51\n",
      " ---> 4d5c416b45bd\n",
      "Step 20/20 : CMD /bin/bash\n",
      " ---> Running in 1767589cc409\n",
      "Removing intermediate container 1767589cc409\n",
      " ---> 9f5b0569d6d2\n",
      "Successfully built 9f5b0569d6d2\n",
      "Successfully tagged georgedockeraccount/aml-sdk_docker_imageazcliazdevops:sdk.v1.0.43\n"
     ]
    }
   ],
   "source": [
    "!echo docker build -t $aml_docker_image_name  --target AzureMLSDKOnly -f $docker_file_path $working_path --no-cache\n",
    "!     docker build -t $aml_docker_image_name  --target AzureMLSDKOnly -f $docker_file_path $working_path\n",
    "# !     docker build -t $aml_sudo_docker_image_name  --target AzureMLSDKAndSudo -f $docker_file_path $working_path\n",
    "!     docker build -t $aml_azcli_docker_image_name  --target AzureMLSDKAndAzCli -f $docker_file_path $working_path\n",
    "!     docker build -t $aml_azcli_azdevops_docker_image_name -f $docker_file_path $working_path\n"
   ]
  },
  {
   "cell_type": "code",
   "execution_count": 19,
   "metadata": {
    "nbpresent": {
     "id": "468b09b6-55a8-4b09-bbc9-f857e41a51e0"
    }
   },
   "outputs": [
    {
     "data": {
      "text/plain": [
       "'/datadrive01/prj/PowerAIWithDocker/amlsdk/docker_run_dir'"
      ]
     },
     "execution_count": 19,
     "metadata": {},
     "output_type": "execute_result"
    },
    {
     "name": "stdout",
     "output_type": "stream",
     "text": [
      "total 8\r\n",
      "-rwxrwxrwx 1 root root 5030 Jun 24 15:24 exported_conda_env.yml\r\n"
     ]
    }
   ],
   "source": [
    "local_dir = !pwd\n",
    "crt_local_dir = os.path.join(*([local_dir.s, 'docker_run_dir']))\n",
    "crt_local_dir \n",
    "!mkdir -p $crt_local_dir\n",
    "!rm -rf $crt_local_dir/test_*\n",
    "!ls -l $crt_local_dir\n",
    "# ! chmod -R ugo=rwx $crt_local_dir"
   ]
  },
  {
   "cell_type": "code",
   "execution_count": 20,
   "metadata": {},
   "outputs": [],
   "source": [
    "# export the resulted conda env\n",
    "!docker run  \\\n",
    "        -v $crt_local_dir:/workspace:rw \\\n",
    "        $aml_docker_image_name \\\n",
    "        /bin/bash -c \"conda env export > /workspace/exported_conda_env.yml\""
   ]
  },
  {
   "cell_type": "code",
   "execution_count": 21,
   "metadata": {},
   "outputs": [],
   "source": [
    "saved_conda_dependency_file = 'aml_sdk_conda_dep_file'+os.getenv('image_version')+'.yml'\n",
    "exported_conda_dependency_file = 'aml_sdk_conda_dep_file_exported'+os.getenv('image_version')+'.yml'\n",
    "\n",
    "!mkdir -p ./docker_history\n",
    "!cp $docker_file_path ./docker_history/\n",
    "!cp $conda_dependency_file_path ./docker_history/$saved_conda_dependency_file\n",
    "!cp {os.path.join(*([crt_local_dir, 'exported_conda_env.yml']))} ./docker_history/$exported_conda_dependency_file\n",
    "\n"
   ]
  },
  {
   "cell_type": "markdown",
   "metadata": {},
   "source": [
    "### To run aml SDK, ssh into a vm, run the command below and then go to: \n",
    "your_vm.eastus2.cloudapp.azure.com:9001/  \n",
    "  \n",
    "Make sure the host port (9001) is open in the VM.  "
   ]
  },
  {
   "cell_type": "code",
   "execution_count": 22,
   "metadata": {},
   "outputs": [
    {
     "name": "stdout",
     "output_type": "stream",
     "text": [
      "docker run -it -p 9001:8888 -v /datadrive01/prj/PowerAIWithDocker/amlsdk/../:/workspace:rw georgedockeraccount/aml-sdk_docker_image:sdk.v1.0.43 /bin/bash -c \"jupyter notebook --notebook-dir=/workspace --ip=* --port=8888 --no-browser --allow-root\"\r\n"
     ]
    }
   ],
   "source": [
    "!echo docker run -it -p 9001:8888 -v $(pwd)/../:/workspace:rw $aml_docker_image_name /bin/bash -c '\"jupyter notebook --notebook-dir=/workspace --ip='*' --port=8888 --no-browser --allow-root\"'"
   ]
  },
  {
   "cell_type": "markdown",
   "metadata": {},
   "source": [
    "### Run short tests\n",
    "Run ' import azureml.core; print(\"AML SDK version:\", azureml.core.VERSION) ' in plain python and in a notebook.\n",
    "  \n",
    "Compare the SDK version against latest AML SDK [relese notes](https://docs.microsoft.com/en-us/azure/machine-learning/service/azure-machine-learning-release-notes)"
   ]
  },
  {
   "cell_type": "code",
   "execution_count": 23,
   "metadata": {},
   "outputs": [
    {
     "name": "stdout",
     "output_type": "stream",
     "text": [
      "docker run georgedockeraccount/aml-sdk_docker_image:sdk.v1.0.43 /bin/bash -c python -c 'import azureml.core;print(azureml.core.VERSION)'\n",
      "1.0.43\n",
      "1.0.43\n",
      "azure-cli                         2.0.67\n",
      "\n",
      "acr                                2.2.9\n",
      "acs                                2.4.4\n",
      "advisor                            2.0.1\n",
      "ams                                0.4.7\n",
      "appservice                        0.2.21\n",
      "backup                             1.2.5\n",
      "batch                              4.0.3\n",
      "batchai                           0.4.10\n",
      "billing                            0.2.2\n",
      "botservice                         0.2.2\n",
      "cdn                                0.2.4\n",
      "cloud                              2.1.1\n",
      "cognitiveservices                  0.2.6\n",
      "command-modules-nspkg               2.0.2\n",
      "configure                         2.0.24\n",
      "consumption                        0.4.4\n",
      "container                         0.3.18\n",
      "core                              2.0.67\n",
      "cosmosdb                          0.2.11\n",
      "deploymentmanager                  0.1.1\n",
      "dla                                0.2.6\n",
      "dls                               0.1.10\n",
      "dms                                0.1.4\n",
      "eventgrid                          0.2.4\n",
      "eventhubs                          0.3.7\n",
      "extension                          0.2.5\n",
      "feedback                           2.2.1\n",
      "find                               0.3.4\n",
      "hdinsight                          0.3.5\n",
      "interactive                        0.4.5\n",
      "iot                               0.3.11\n",
      "iotcentral                         0.1.7\n",
      "keyvault                          2.2.16\n",
      "kusto                              0.2.3\n",
      "lab                                0.1.8\n",
      "maps                               0.3.5\n",
      "monitor                           0.2.15\n",
      "natgateway                         0.1.1\n",
      "network                            2.5.2\n",
      "nspkg                              3.0.3\n",
      "policyinsights                     0.1.4\n",
      "privatedns                         1.0.2\n",
      "profile                            2.1.5\n",
      "rdbms                             0.3.12\n",
      "redis                              0.4.4\n",
      "relay                              0.1.5\n",
      "reservations                       0.4.3\n",
      "resource                          2.1.16\n",
      "role                               2.6.4\n",
      "search                             0.1.2\n",
      "security                           0.1.2\n",
      "servicebus                         0.3.6\n",
      "servicefabric                     0.1.20\n",
      "signalr                            1.0.1\n",
      "sql                                2.2.5\n",
      "sqlvm                              0.2.0\n",
      "storage                            2.4.3\n",
      "telemetry                          1.0.2\n",
      "vm                                2.2.23\n",
      "\n",
      "Python location '/opt/az/bin/python3'\n",
      "Extensions directory '/root/.azure/cliextensions'\n",
      "\n",
      "Python (Linux) 3.6.5 (default, Jun 13 2019, 21:23:09) \n",
      "[GCC 6.3.0 20170516]\n",
      "\n",
      "Legal docs and information: aka.ms/AzureCliLegal\n",
      "\n",
      "\n",
      "Your CLI is up-to-date.\n",
      "AzCopy 10.1.2\n",
      "Project URL: github.com/Azure/azure-storage-azcopy\n",
      "\n",
      "AzCopy is a command line tool that moves data into/out of Azure Storage.\n",
      "To report issues or to learn more about the tool, go to github.com/Azure/azure-storage-azcopy\n",
      "\n",
      "The general format of the commands is: 'azcopy [command] [arguments] --[flag-name]=[flag-value]'.\n",
      "\n",
      "Usage:\n",
      "  azcopy [command]\n",
      "\n",
      "Available Commands:\n",
      "  copy        Copies source data to a destination location\n",
      "  env         Shows the environment variables that can configure AzCopy's behavior\n",
      "  help        Help about any command\n",
      "  jobs        Sub-commands related to managing jobs\n",
      "  list        List the entities in a given resource\n",
      "  login       Log in to Azure Active Directory to access Azure Storage resources.\n",
      "  logout      Log out to terminate access to Azure Storage resources.\n",
      "  make        Create a container/share/filesystem\n",
      "  remove      Delete blobs or files from Azure Storage\n",
      "  sync        Replicate source to the destination location\n",
      "\n",
      "Flags:\n",
      "  -h, --help                 help for azcopy\n",
      "      --output-type string   format of the command's output, the choices include: text, json. (default \"text\")\n",
      "      --version              version for azcopy\n",
      "\n",
      "Use \"azcopy [command] --help\" for more information about a command.\n",
      "1.0.43\n",
      "azure-cli                         2.0.67\n",
      "\n",
      "acr                                2.2.9\n",
      "acs                                2.4.4\n",
      "advisor                            2.0.1\n",
      "ams                                0.4.7\n",
      "appservice                        0.2.21\n",
      "backup                             1.2.5\n",
      "batch                              4.0.3\n",
      "batchai                           0.4.10\n",
      "billing                            0.2.2\n",
      "botservice                         0.2.2\n",
      "cdn                                0.2.4\n",
      "cloud                              2.1.1\n",
      "cognitiveservices                  0.2.6\n",
      "command-modules-nspkg               2.0.2\n",
      "configure                         2.0.24\n",
      "consumption                        0.4.4\n",
      "container                         0.3.18\n",
      "core                              2.0.67\n",
      "cosmosdb                          0.2.11\n",
      "deploymentmanager                  0.1.1\n",
      "dla                                0.2.6\n",
      "dls                               0.1.10\n",
      "dms                                0.1.4\n",
      "eventgrid                          0.2.4\n",
      "eventhubs                          0.3.7\n",
      "extension                          0.2.5\n",
      "feedback                           2.2.1\n",
      "find                               0.3.4\n",
      "hdinsight                          0.3.5\n",
      "interactive                        0.4.5\n",
      "iot                               0.3.11\n",
      "iotcentral                         0.1.7\n",
      "keyvault                          2.2.16\n",
      "kusto                              0.2.3\n",
      "lab                                0.1.8\n",
      "maps                               0.3.5\n",
      "monitor                           0.2.15\n",
      "natgateway                         0.1.1\n",
      "network                            2.5.2\n",
      "nspkg                              3.0.3\n",
      "policyinsights                     0.1.4\n",
      "privatedns                         1.0.2\n",
      "profile                            2.1.5\n",
      "rdbms                             0.3.12\n",
      "redis                              0.4.4\n",
      "relay                              0.1.5\n",
      "reservations                       0.4.3\n",
      "resource                          2.1.16\n",
      "role                               2.6.4\n",
      "search                             0.1.2\n",
      "security                           0.1.2\n",
      "servicebus                         0.3.6\n",
      "servicefabric                     0.1.20\n",
      "signalr                            1.0.1\n",
      "sql                                2.2.5\n",
      "sqlvm                              0.2.0\n",
      "storage                            2.4.3\n",
      "telemetry                          1.0.2\n",
      "vm                                2.2.23\n",
      "\n",
      "Extensions:\n",
      "azure-devops                      0.11.0\n",
      "\n",
      "Python location '/opt/az/bin/python3'\n",
      "Extensions directory '/root/.azure/cliextensions'\n",
      "\n",
      "Python (Linux) 3.6.5 (default, Jun 13 2019, 21:23:09) \n",
      "[GCC 6.3.0 20170516]\n",
      "\n",
      "Legal docs and information: aka.ms/AzureCliLegal\n",
      "\n",
      "\n",
      "Your CLI is up-to-date.\n",
      "\n",
      "Group\n",
      "    az devops : Manage Azure DevOps organization level operations.\n",
      "        Related Groups\n",
      "        az pipelines: Manage Azure Pipelines\n",
      "        az boards: Manage Azure Boards\n",
      "        az repos: Manage Azure Repos\n",
      "        az artifacts: Manage Azure Artifacts.\n",
      "\n",
      "Subgroups:\n",
      "    admin            : Manage administration operations.\n",
      "    extension        : Manage extensions.\n",
      "    project          : Manage team projects.\n",
      "    security         : Manage security related operations.\n",
      "    service-endpoint : Manage service endpoints/service connections.\n",
      "    team             : Manage teams.\n",
      "    user             : Manage users.\n",
      "    wiki             : Manage wikis.\n",
      "\n",
      "Commands:\n",
      "    configure        : Configure the Azure DevOps CLI or view your configuration.\n",
      "    feedback         : Displays information on how to provide feedback to the Azure DevOps CLI team.\n",
      "    invoke           : This command will invoke request for any DevOps area and resource. Please use\n",
      "                       only json output as the response of this command is not fixed. Helpful docs -\n",
      "                       https://docs.microsoft.com/en-us/rest/api/azure/devops/.\n",
      "    login            : Set the credential (PAT) to use for a particular organization.\n",
      "    logout           : Clear the credential for all or a particular organization.\n",
      "\n"
     ]
    }
   ],
   "source": [
    "!echo docker run  $aml_docker_image_name /bin/bash -c \"python -c 'import azureml.core;print(azureml.core.VERSION)'\"\n",
    "!docker run  $aml_docker_image_name /bin/bash -c \"python -c 'import azureml.core;print(azureml.core.VERSION)'\"\n",
    "\n",
    "!docker run  $aml_azcli_docker_image_name /bin/bash -c \"python -c 'import azureml.core;print(azureml.core.VERSION)'; az --version; azcopy -h\"\n",
    "!docker run  $aml_azcli_azdevops_docker_image_name /bin/bash -c \"python -c 'import azureml.core;print(azureml.core.VERSION)'; az --version; az devops -h\"\n"
   ]
  },
  {
   "cell_type": "markdown",
   "metadata": {},
   "source": [
    "#### Do the same in a  notebook"
   ]
  },
  {
   "cell_type": "code",
   "execution_count": 24,
   "metadata": {},
   "outputs": [],
   "source": [
    "test_notebook_base_name = 'test_aml_sdk_docker_image'\n",
    "test_notebook_name = test_notebook_base_name+'.ipynb'"
   ]
  },
  {
   "cell_type": "code",
   "execution_count": 25,
   "metadata": {},
   "outputs": [
    {
     "name": "stdout",
     "output_type": "stream",
     "text": [
      "Writing /datadrive01/prj/PowerAIWithDocker/amlsdk/docker_run_dir/test_aml_sdk_docker_image.ipynb\n"
     ]
    }
   ],
   "source": [
    "%%writefile $crt_local_dir/$test_notebook_name\n",
    "\n",
    "{\n",
    " \"cells\": [\n",
    "  {\n",
    "   \"cell_type\": \"code\",\n",
    "   \"execution_count\": 3,\n",
    "   \"metadata\": {},\n",
    "   \"outputs\": [\n",
    "    {\n",
    "     \"name\": \"stdout\",\n",
    "     \"output_type\": \"stream\",\n",
    "     \"text\": [\n",
    "      \"AML SDK version: 0.1.68\\n\"\n",
    "     ]\n",
    "    }\n",
    "   ],\n",
    "   \"source\": [\n",
    "    \"# Check core SDK version number\\n\",\n",
    "    \"import azureml.core\\n\",\n",
    "    \"\\n\",\n",
    "    \"print(\\\"AML SDK version:\\\", azureml.core.VERSION)\"\n",
    "   ]\n",
    "  },\n",
    "  {\n",
    "   \"cell_type\": \"code\",\n",
    "   \"execution_count\": null,\n",
    "   \"metadata\": {},\n",
    "   \"outputs\": [],\n",
    "   \"source\": []\n",
    "  }\n",
    " ],\n",
    " \"metadata\": {\n",
    "  \"kernelspec\": {\n",
    "   \"display_name\": \"Python [conda env:aml-sdk-conda-env]\",\n",
    "   \"language\": \"python\",\n",
    "   \"name\": \"conda-env-aml-sdk-conda-env-py\"\n",
    "  },\n",
    "  \"language_info\": {\n",
    "   \"codemirror_mode\": {\n",
    "    \"name\": \"ipython\",\n",
    "    \"version\": 3\n",
    "   },\n",
    "   \"file_extension\": \".py\",\n",
    "   \"mimetype\": \"text/x-python\",\n",
    "   \"name\": \"python\",\n",
    "   \"nbconvert_exporter\": \"python\",\n",
    "   \"pygments_lexer\": \"ipython3\",\n",
    "   \"version\": \"3.6.6\"\n",
    "  }\n",
    " },\n",
    " \"nbformat\": 4,\n",
    " \"nbformat_minor\": 2\n",
    "}\n"
   ]
  },
  {
   "cell_type": "code",
   "execution_count": 26,
   "metadata": {},
   "outputs": [
    {
     "name": "stdout",
     "output_type": "stream",
     "text": [
      "total 12\r\n",
      "-rwxrwxrwx 1 root       root       5031 Jun 24 15:29 exported_conda_env.yml\r\n",
      "-rw-rw-r-- 1 loginvm001 loginvm001  982 Jun 24 15:29 test_aml_sdk_docker_image.ipynb\r\n"
     ]
    }
   ],
   "source": [
    "!ls -l $crt_local_dir"
   ]
  },
  {
   "cell_type": "markdown",
   "metadata": {},
   "source": [
    "#### Run the notebook and see the new SDK version\n"
   ]
  },
  {
   "cell_type": "code",
   "execution_count": 27,
   "metadata": {},
   "outputs": [
    {
     "name": "stdout",
     "output_type": "stream",
     "text": [
      "Available kernels:\n",
      "  python3    /opt/conda/envs/aml-sdk-conda-env/share/jupyter/kernels/python3\n",
      "[NbConvertApp] Converting notebook /workspace/test_aml_sdk_docker_image.ipynb to notebook\n",
      "[NbConvertApp] Executing notebook with kernel: python3\n",
      "[NbConvertApp] Writing 982 bytes to /workspace/test_aml_sdk_docker_image.nbconvert.ipynb\n"
     ]
    }
   ],
   "source": [
    "!docker run -v $crt_local_dir:/workspace:rw $aml_docker_image_name /bin/bash -c \"jupyter kernelspec list && jupyter nbconvert --ExecutePreprocessor.kernel_name=python3 --execute --to notebook  /workspace/test_aml_sdk_docker_image.ipynb\""
   ]
  },
  {
   "cell_type": "code",
   "execution_count": 28,
   "metadata": {},
   "outputs": [
    {
     "name": "stdout",
     "output_type": "stream",
     "text": [
      "{\r\n",
      " \"cells\": [\r\n",
      "  {\r\n",
      "   \"cell_type\": \"code\",\r\n",
      "   \"execution_count\": 1,\r\n",
      "   \"metadata\": {},\r\n",
      "   \"outputs\": [\r\n",
      "    {\r\n",
      "     \"name\": \"stdout\",\r\n",
      "     \"output_type\": \"stream\",\r\n",
      "     \"text\": [\r\n",
      "      \"AML SDK version: 1.0.43\\n\"\r\n",
      "     ]\r\n",
      "    }\r\n",
      "   ],\r\n",
      "   \"source\": [\r\n",
      "    \"# Check core SDK version number\\n\",\r\n",
      "    \"import azureml.core\\n\",\r\n",
      "    \"\\n\",\r\n",
      "    \"print(\\\"AML SDK version:\\\", azureml.core.VERSION)\"\r\n",
      "   ]\r\n",
      "  },\r\n",
      "  {\r\n",
      "   \"cell_type\": \"code\",\r\n",
      "   \"execution_count\": null,\r\n",
      "   \"metadata\": {},\r\n",
      "   \"outputs\": [],\r\n",
      "   \"source\": []\r\n",
      "  }\r\n",
      " ],\r\n",
      " \"metadata\": {\r\n",
      "  \"kernelspec\": {\r\n",
      "   \"display_name\": \"Python [conda env:aml-sdk-conda-env]\",\r\n",
      "   \"language\": \"python\",\r\n",
      "   \"name\": \"conda-env-aml-sdk-conda-env-py\"\r\n",
      "  },\r\n",
      "  \"language_info\": {\r\n",
      "   \"codemirror_mode\": {\r\n",
      "    \"name\": \"ipython\",\r\n",
      "    \"version\": 3\r\n",
      "   },\r\n",
      "   \"file_extension\": \".py\",\r\n",
      "   \"mimetype\": \"text/x-python\",\r\n",
      "   \"name\": \"python\",\r\n",
      "   \"nbconvert_exporter\": \"python\",\r\n",
      "   \"pygments_lexer\": \"ipython3\",\r\n",
      "   \"version\": \"3.6.8\"\r\n",
      "  }\r\n",
      " },\r\n",
      " \"nbformat\": 4,\r\n",
      " \"nbformat_minor\": 2\r\n",
      "}\r\n"
     ]
    }
   ],
   "source": [
    "output_file = test_notebook_base_name+'.nbconvert.ipynb'\n",
    "!cat $crt_local_dir/$output_file"
   ]
  },
  {
   "cell_type": "markdown",
   "metadata": {},
   "source": [
    "#### Push image to ([dockerhub](https://hub.docker.com/)) registry (optional step)"
   ]
  },
  {
   "cell_type": "code",
   "execution_count": 29,
   "metadata": {},
   "outputs": [
    {
     "name": "stdout",
     "output_type": "stream",
     "text": [
      "The push refers to repository [docker.io/georgedockeraccount/aml-sdk_docker_image]\n",
      "\n",
      "\u001b[1Bad997adb: Preparing \n",
      "\u001b[1B1a5e1e16: Preparing \n",
      "\u001b[1B8d04e2fd: Preparing \n",
      "\u001b[1Bc65c8dc4: Preparing \n",
      "\u001b[1B2f5d7ee9: Preparing \n",
      "\u001b[1Bb1358a5a: Preparing \n",
      "\u001b[1B1ff9ade6: Preparing \n"
     ]
    },
    {
     "name": "stdout",
     "output_type": "stream",
     "text": [
      "\u001b[8Bad997adb: Pushing  1.909GB/2.535GB\u001b[7A\u001b[1K\u001b[K\u001b[8A\u001b[1K\u001b[K\u001b[4A\u001b[1K\u001b[K\u001b[3A\u001b[1K\u001b[K\u001b[6A\u001b[1K\u001b[K\u001b[2A\u001b[1K\u001b[K\u001b[6A\u001b[1K\u001b[K\u001b[8A\u001b[1K\u001b[K\u001b[1A\u001b[1K\u001b[K\u001b[8A\u001b[1K\u001b[K\u001b[8A\u001b[1K\u001b[K\u001b[6A\u001b[1K\u001b[K\u001b[6A\u001b[1K\u001b[K\u001b[6A\u001b[1K\u001b[K\u001b[8A\u001b[1K\u001b[K\u001b[6A\u001b[1K\u001b[K\u001b[6A\u001b[1K\u001b[K\u001b[7A\u001b[1K\u001b[K\u001b[6A\u001b[1K\u001b[K\u001b[6A\u001b[1K\u001b[K\u001b[6A\u001b[1K\u001b[K\u001b[8A\u001b[1K\u001b[K\u001b[8A\u001b[1K\u001b[K\u001b[8A\u001b[1K\u001b[K\u001b[8A\u001b[1K\u001b[K\u001b[6A\u001b[1K\u001b[K\u001b[8A\u001b[1K\u001b[K\u001b[6A\u001b[1K\u001b[K\u001b[8A\u001b[1K\u001b[K\u001b[8A\u001b[1K\u001b[K\u001b[6A\u001b[1K\u001b[K\u001b[8A\u001b[1K\u001b[K\u001b[6A\u001b[1K\u001b[K\u001b[8A\u001b[1K\u001b[K\u001b[6A\u001b[1K\u001b[K\u001b[8A\u001b[1K\u001b[K\u001b[6A\u001b[1K\u001b[K\u001b[6A\u001b[1K\u001b[K\u001b[8A\u001b[1K\u001b[K\u001b[6A\u001b[1K\u001b[K\u001b[8A\u001b[1K\u001b[K\u001b[6A\u001b[1K\u001b[K\u001b[6A\u001b[1K\u001b[K\u001b[8A\u001b[1K\u001b[K\u001b[6A\u001b[1K\u001b[K\u001b[8A\u001b[1K\u001b[K\u001b[6A\u001b[1K\u001b[K\u001b[8A\u001b[1K\u001b[K\u001b[6A\u001b[1K\u001b[K\u001b[6A\u001b[1K\u001b[K\u001b[8A\u001b[1K\u001b[K\u001b[6A\u001b[1K\u001b[K\u001b[8A\u001b[1K\u001b[K\u001b[6A\u001b[1K\u001b[KPushing  84.09MB/190.4MB\u001b[6A\u001b[1K\u001b[K\u001b[6A\u001b[1K\u001b[K\u001b[6A\u001b[1K\u001b[K\u001b[6A\u001b[1K\u001b[K\u001b[8A\u001b[1K\u001b[K\u001b[6A\u001b[1K\u001b[K\u001b[8A\u001b[1K\u001b[K\u001b[6A\u001b[1K\u001b[K\u001b[6A\u001b[1K\u001b[K\u001b[6A\u001b[1K\u001b[K\u001b[8A\u001b[1K\u001b[K\u001b[8A\u001b[1K\u001b[K\u001b[6A\u001b[1K\u001b[K\u001b[8A\u001b[1K\u001b[K\u001b[6A\u001b[1K\u001b[K\u001b[8A\u001b[1K\u001b[K\u001b[8A\u001b[1K\u001b[K\u001b[8A\u001b[1K\u001b[K\u001b[8A\u001b[1K\u001b[K\u001b[6A\u001b[1K\u001b[K\u001b[8A\u001b[1K\u001b[K\u001b[8A\u001b[1K\u001b[K\u001b[8A\u001b[1K\u001b[K\u001b[6A\u001b[1K\u001b[K\u001b[8A\u001b[1K\u001b[K\u001b[6A\u001b[1K\u001b[K\u001b[8A\u001b[1K\u001b[K\u001b[6A\u001b[1K\u001b[K\u001b[8A\u001b[1K\u001b[K\u001b[8A\u001b[1K\u001b[K\u001b[6A\u001b[1K\u001b[K\u001b[8A\u001b[1K\u001b[K\u001b[6A\u001b[1K\u001b[K\u001b[8A\u001b[1K\u001b[K\u001b[6A\u001b[1K\u001b[K\u001b[8A\u001b[1K\u001b[K\u001b[6A\u001b[1K\u001b[K\u001b[8A\u001b[1K\u001b[K\u001b[6A\u001b[1K\u001b[K\u001b[8A\u001b[1K\u001b[K\u001b[6A\u001b[1K\u001b[K\u001b[6A\u001b[1K\u001b[K\u001b[8A\u001b[1K\u001b[K\u001b[6A\u001b[1K\u001b[K\u001b[6A\u001b[1K\u001b[K\u001b[6A\u001b[1K\u001b[K\u001b[8A\u001b[1K\u001b[K\u001b[6A\u001b[1K\u001b[K\u001b[8A\u001b[1K\u001b[K\u001b[6A\u001b[1K\u001b[K\u001b[8A\u001b[1K\u001b[K\u001b[6A\u001b[1K\u001b[K\u001b[8A\u001b[1K\u001b[K\u001b[6A\u001b[1K\u001b[K\u001b[8A\u001b[1K\u001b[K\u001b[6A\u001b[1K\u001b[K\u001b[8A\u001b[1K\u001b[K\u001b[6A\u001b[1K\u001b[K\u001b[8A\u001b[1K\u001b[K\u001b[6A\u001b[1K\u001b[K\u001b[8A\u001b[1K\u001b[K\u001b[6A\u001b[1K\u001b[K\u001b[8A\u001b[1K\u001b[K\u001b[6A\u001b[1K\u001b[K\u001b[8A\u001b[1K\u001b[K\u001b[8A\u001b[1K\u001b[K\u001b[8A\u001b[1K\u001b[K\u001b[8A\u001b[1K\u001b[K\u001b[8A\u001b[1K\u001b[K\u001b[8A\u001b[1K\u001b[K\u001b[8A\u001b[1K\u001b[K\u001b[8A\u001b[1K\u001b[K\u001b[8A\u001b[1K\u001b[K\u001b[8A\u001b[1K\u001b[K\u001b[8A\u001b[1K\u001b[K\u001b[8A\u001b[1K\u001b[K\u001b[8A\u001b[1K\u001b[K\u001b[8A\u001b[1K\u001b[K\u001b[8A\u001b[1K\u001b[K\u001b[8A\u001b[1K\u001b[K\u001b[8A\u001b[1K\u001b[K\u001b[8A\u001b[1K\u001b[K\u001b[8A\u001b[1K\u001b[K\u001b[8A\u001b[1K\u001b[K\u001b[8A\u001b[1K\u001b[K\u001b[8A\u001b[1K\u001b[K\u001b[8A\u001b[1K\u001b[K\u001b[8A\u001b[1K\u001b[K\u001b[8A\u001b[1K\u001b[K\u001b[8A\u001b[1K\u001b[K\u001b[6A\u001b[1K\u001b[K\u001b[8A\u001b[1K\u001b[K\u001b[8A\u001b[1K\u001b[K\u001b[8A\u001b[1K\u001b[K\u001b[8A\u001b[1K\u001b[K\u001b[8A\u001b[1K\u001b[K\u001b[8A\u001b[1K\u001b[K\u001b[8A\u001b[1K\u001b[K\u001b[8A\u001b[1K\u001b[K\u001b[8A\u001b[1K\u001b[K\u001b[8A\u001b[1K\u001b[K\u001b[8A\u001b[1K\u001b[K\u001b[8A\u001b[1K\u001b[K\u001b[8A\u001b[1K\u001b[K\u001b[8A\u001b[1K\u001b[K\u001b[8A\u001b[1K\u001b[K\u001b[8A\u001b[1K\u001b[K\u001b[8A\u001b[1K\u001b[K\u001b[8A\u001b[1K\u001b[K\u001b[8A\u001b[1K\u001b[K\u001b[8A\u001b[1K\u001b[K\u001b[8A\u001b[1K\u001b[K\u001b[8A\u001b[1K\u001b[K\u001b[8A\u001b[1K\u001b[K\u001b[8A\u001b[1K\u001b[K\u001b[8A\u001b[1K\u001b[K\u001b[8A\u001b[1K\u001b[K\u001b[8A\u001b[1K\u001b[K\u001b[8A\u001b[1K\u001b[K\u001b[8A\u001b[1K\u001b[K\u001b[8A\u001b[1K\u001b[K\u001b[8A\u001b[1K\u001b[K\u001b[8A\u001b[1K\u001b[K\u001b[8A\u001b[1K\u001b[K\u001b[8A\u001b[1K\u001b[K\u001b[8A\u001b[1K\u001b[K\u001b[8A\u001b[1K\u001b[K\u001b[8A\u001b[1K\u001b[K\u001b[8A\u001b[1K\u001b[K\u001b[8A\u001b[1K\u001b[K\u001b[8A\u001b[1K\u001b[K\u001b[8A\u001b[1K\u001b[K\u001b[8A\u001b[1K\u001b[K\u001b[8A\u001b[1K\u001b[K\u001b[8A\u001b[1K\u001b[K\u001b[8A\u001b[1K\u001b[K\u001b[8A\u001b[1K\u001b[K\u001b[8A\u001b[1K\u001b[K\u001b[8A\u001b[1K\u001b[K\u001b[8A\u001b[1K\u001b[K\u001b[8A\u001b[1K\u001b[K\u001b[8A\u001b[1K\u001b[K\u001b[8A\u001b[1K\u001b[K\u001b[8A\u001b[1K\u001b[K\u001b[8A\u001b[1K\u001b[K\u001b[8A\u001b[1K\u001b[K\u001b[8A\u001b[1K\u001b[K\u001b[8A\u001b[1K\u001b[K\u001b[8A\u001b[1K\u001b[K\u001b[8A\u001b[1K\u001b[K\u001b[8A\u001b[1K\u001b[K\u001b[8A\u001b[1K\u001b[K\u001b[8A\u001b[1K\u001b[K\u001b[8A\u001b[1K\u001b[K\u001b[8A\u001b[1K\u001b[K\u001b[8A\u001b[1K\u001b[K\u001b[8A\u001b[1K\u001b[K\u001b[8A\u001b[1K\u001b[K\u001b[8A\u001b[1K\u001b[K\u001b[8A\u001b[1K\u001b[K\u001b[8A\u001b[1K\u001b[K\u001b[8A\u001b[1K\u001b[K\u001b[8A\u001b[1K\u001b[K\u001b[8A\u001b[1K\u001b[K\u001b[8A\u001b[1K\u001b[K\u001b[8A\u001b[1K\u001b[K\u001b[8A\u001b[1K\u001b[K\u001b[8A\u001b[1K\u001b[K\u001b[8A\u001b[1K\u001b[K\u001b[8A\u001b[1K\u001b[K\u001b[8A\u001b[1K\u001b[K\u001b[8A\u001b[1K\u001b[K\u001b[8A\u001b[1K\u001b[KPushing  528.2MB/2.535GB\u001b[8A\u001b[1K\u001b[K\u001b[8A\u001b[1K\u001b[K\u001b[8A\u001b[1K\u001b[K\u001b[8A\u001b[1K\u001b[K\u001b[8A\u001b[1K\u001b[K\u001b[8A\u001b[1K\u001b[K\u001b[8A\u001b[1K\u001b[K\u001b[8A\u001b[1K\u001b[K\u001b[8A\u001b[1K\u001b[K\u001b[8A\u001b[1K\u001b[K\u001b[8A\u001b[1K\u001b[K\u001b[8A\u001b[1K\u001b[K\u001b[8A\u001b[1K\u001b[K\u001b[8A\u001b[1K\u001b[K\u001b[8A\u001b[1K\u001b[K\u001b[8A\u001b[1K\u001b[K\u001b[8A\u001b[1K\u001b[K\u001b[8A\u001b[1K\u001b[K\u001b[8A\u001b[1K\u001b[K\u001b[8A\u001b[1K\u001b[K\u001b[8A\u001b[1K\u001b[K\u001b[8A\u001b[1K\u001b[K\u001b[8A\u001b[1K\u001b[K\u001b[8A\u001b[1K\u001b[K\u001b[8A\u001b[1K\u001b[K\u001b[8A\u001b[1K\u001b[K\u001b[8A\u001b[1K\u001b[K\u001b[8A\u001b[1K\u001b[K\u001b[8A\u001b[1K\u001b[K\u001b[8A\u001b[1K\u001b[K\u001b[8A\u001b[1K\u001b[K\u001b[8A\u001b[1K\u001b[K\u001b[8A\u001b[1K\u001b[K\u001b[8A\u001b[1K\u001b[K\u001b[8A\u001b[1K\u001b[K\u001b[8A\u001b[1K\u001b[K\u001b[8A\u001b[1K\u001b[K\u001b[8A\u001b[1K\u001b[K\u001b[8A\u001b[1K\u001b[K\u001b[8A\u001b[1K\u001b[K\u001b[8A\u001b[1K\u001b[K\u001b[8A\u001b[1K\u001b[K\u001b[8A\u001b[1K\u001b[K\u001b[8A\u001b[1K\u001b[K\u001b[8A\u001b[1K\u001b[K\u001b[8A\u001b[1K\u001b[K\u001b[8A\u001b[1K\u001b[K\u001b[8A\u001b[1K\u001b[K\u001b[8A\u001b[1K\u001b[K\u001b[8A\u001b[1K\u001b[K\u001b[8A\u001b[1K\u001b[K\u001b[8A\u001b[1K\u001b[K\u001b[8A\u001b[1K\u001b[K\u001b[8A\u001b[1K\u001b[K\u001b[8A\u001b[1K\u001b[K\u001b[8A\u001b[1K\u001b[K\u001b[8A\u001b[1K\u001b[K\u001b[8A\u001b[1K\u001b[K\u001b[8A\u001b[1K\u001b[K\u001b[8A\u001b[1K\u001b[K\u001b[8A\u001b[1K\u001b[K\u001b[8A\u001b[1K\u001b[K\u001b[8A\u001b[1K\u001b[K\u001b[8A\u001b[1K\u001b[K\u001b[8A\u001b[1K\u001b[K\u001b[8A\u001b[1K\u001b[K\u001b[8A\u001b[1K\u001b[K\u001b[8A\u001b[1K\u001b[K\u001b[8A\u001b[1K\u001b[K\u001b[8A\u001b[1K\u001b[K\u001b[8A\u001b[1K\u001b[K\u001b[8A\u001b[1K\u001b[K\u001b[8A\u001b[1K\u001b[K\u001b[8A\u001b[1K\u001b[K\u001b[8A\u001b[1K\u001b[K\u001b[8A\u001b[1K\u001b[K\u001b[8A\u001b[1K\u001b[K\u001b[8A\u001b[1K\u001b[K\u001b[8A\u001b[1K\u001b[K\u001b[8A\u001b[1K\u001b[K\u001b[8A\u001b[1K\u001b[K\u001b[8A\u001b[1K\u001b[K\u001b[8A\u001b[1K\u001b[K\u001b[8A\u001b[1K\u001b[K\u001b[8A\u001b[1K\u001b[K\u001b[8A\u001b[1K\u001b[K\u001b[8A\u001b[1K\u001b[K\u001b[8A\u001b[1K\u001b[K\u001b[8A\u001b[1K\u001b[K\u001b[8A\u001b[1K\u001b[K\u001b[8A\u001b[1K\u001b[K\u001b[8A\u001b[1K\u001b[K\u001b[8A\u001b[1K\u001b[K\u001b[8A\u001b[1K\u001b[K\u001b[8A\u001b[1K\u001b[K\u001b[8A\u001b[1K\u001b[K\u001b[8A\u001b[1K\u001b[K\u001b[8A\u001b[1K\u001b[K\u001b[8A\u001b[1K\u001b[K\u001b[8A\u001b[1K\u001b[K\u001b[8A\u001b[1K\u001b[K\u001b[8A\u001b[1K\u001b[K\u001b[8A\u001b[1K\u001b[K\u001b[8A\u001b[1K\u001b[K\u001b[8A\u001b[1K\u001b[K\u001b[8A\u001b[1K\u001b[K\u001b[8A\u001b[1K\u001b[K\u001b[8A\u001b[1K\u001b[K\u001b[8A\u001b[1K\u001b[K\u001b[8A\u001b[1K\u001b[K\u001b[8A\u001b[1K\u001b[K\u001b[8A\u001b[1K\u001b[K\u001b[8A\u001b[1K\u001b[K\u001b[8A\u001b[1K\u001b[K\u001b[8A\u001b[1K\u001b[K\u001b[8A\u001b[1K\u001b[K\u001b[8A\u001b[1K\u001b[K\u001b[8A\u001b[1K\u001b[K\u001b[8A\u001b[1K\u001b[K\u001b[8A\u001b[1K\u001b[K\u001b[8A\u001b[1K\u001b[K\u001b[8A\u001b[1K\u001b[K\u001b[8A\u001b[1K\u001b[K\u001b[8A\u001b[1K\u001b[K\u001b[8A\u001b[1K\u001b[K\u001b[8A\u001b[1K\u001b[K\u001b[8A\u001b[1K\u001b[K\u001b[8A\u001b[1K\u001b[K\u001b[8A\u001b[1K\u001b[K\u001b[8A\u001b[1K\u001b[K\u001b[8A\u001b[1K\u001b[K\u001b[8A\u001b[1K\u001b[K\u001b[8A\u001b[1K\u001b[K\u001b[8A\u001b[1K\u001b[K\u001b[8A\u001b[1K\u001b[K\u001b[8A\u001b[1K\u001b[K\u001b[8A\u001b[1K\u001b[K\u001b[8A\u001b[1K\u001b[K\u001b[8A\u001b[1K\u001b[K\u001b[8A\u001b[1K\u001b[K\u001b[8A\u001b[1K\u001b[K\u001b[8A\u001b[1K\u001b[K\u001b[8A\u001b[1K\u001b[K\u001b[8A\u001b[1K\u001b[K\u001b[8A\u001b[1K\u001b[K\u001b[8A\u001b[1K\u001b[K\u001b[8A\u001b[1K\u001b[K\u001b[8A\u001b[1K\u001b[K\u001b[8A\u001b[1K\u001b[K\u001b[8A\u001b[1K\u001b[K\u001b[8A\u001b[1K\u001b[K\u001b[8A\u001b[1K\u001b[K\u001b[8A\u001b[1K\u001b[K\u001b[8A\u001b[1K\u001b[K\u001b[8A\u001b[1K\u001b[K\u001b[8A\u001b[1K\u001b[K\u001b[8A\u001b[1K\u001b[K\u001b[8A\u001b[1K\u001b[K\u001b[8A\u001b[1K\u001b[K\u001b[8A\u001b[1K\u001b[K\u001b[8A\u001b[1K\u001b[K\u001b[8A\u001b[1K\u001b[K\u001b[8A\u001b[1K\u001b[K\u001b[8A\u001b[1K\u001b[K\u001b[8A\u001b[1K\u001b[K\u001b[8A\u001b[1K\u001b[K\u001b[8A\u001b[1K\u001b[K\u001b[8A\u001b[1K\u001b[K\u001b[8A\u001b[1K\u001b[K\u001b[8A\u001b[1K\u001b[K\u001b[8A\u001b[1K\u001b[K\u001b[8A\u001b[1K\u001b[K\u001b[8A\u001b[1K\u001b[K\u001b[8A\u001b[1K\u001b[K\u001b[8A\u001b[1K\u001b[K\u001b[8A\u001b[1K\u001b[K\u001b[8A\u001b[1K\u001b[K\u001b[8A\u001b[1K\u001b[K\u001b[8A\u001b[1K\u001b[K\u001b[8A\u001b[1K\u001b[K\u001b[8A\u001b[1K\u001b[K\u001b[8A\u001b[1K\u001b[K\u001b[8A\u001b[1K\u001b[K\u001b[8A\u001b[1K\u001b[K\u001b[8A\u001b[1K\u001b[K\u001b[8A\u001b[1K\u001b[K\u001b[8A\u001b[1K\u001b[K\u001b[8A\u001b[1K\u001b[K\u001b[8A\u001b[1K\u001b[K\u001b[8A\u001b[1K\u001b[KPushing  1.025GB/2.535GB\u001b[8A\u001b[1K\u001b[K\u001b[8A\u001b[1K\u001b[K\u001b[8A\u001b[1K\u001b[K\u001b[8A\u001b[1K\u001b[K\u001b[8A\u001b[1K\u001b[K\u001b[8A\u001b[1K\u001b[K\u001b[8A\u001b[1K\u001b[K\u001b[8A\u001b[1K\u001b[K\u001b[8A\u001b[1K\u001b[K\u001b[8A\u001b[1K\u001b[K\u001b[8A\u001b[1K\u001b[K\u001b[8A\u001b[1K\u001b[K\u001b[8A\u001b[1K\u001b[K\u001b[8A\u001b[1K\u001b[K\u001b[8A\u001b[1K\u001b[K\u001b[8A\u001b[1K\u001b[K\u001b[8A\u001b[1K\u001b[K\u001b[8A\u001b[1K\u001b[K\u001b[8A\u001b[1K\u001b[K\u001b[8A\u001b[1K\u001b[K\u001b[8A\u001b[1K\u001b[K\u001b[8A\u001b[1K\u001b[K\u001b[8A\u001b[1K\u001b[K\u001b[8A\u001b[1K\u001b[K\u001b[8A\u001b[1K\u001b[K\u001b[8A\u001b[1K\u001b[K\u001b[8A\u001b[1K\u001b[K\u001b[8A\u001b[1K\u001b[K\u001b[8A\u001b[1K\u001b[K\u001b[8A\u001b[1K\u001b[K\u001b[8A\u001b[1K\u001b[KPushing    1.1GB/2.535GB\u001b[8A\u001b[1K\u001b[K\u001b[8A\u001b[1K\u001b[K\u001b[8A\u001b[1K\u001b[K\u001b[8A\u001b[1K\u001b[K\u001b[8A\u001b[1K\u001b[K\u001b[8A\u001b[1K\u001b[K\u001b[8A\u001b[1K\u001b[K\u001b[8A\u001b[1K\u001b[K\u001b[8A\u001b[1K\u001b[K\u001b[8A\u001b[1K\u001b[K\u001b[8A\u001b[1K\u001b[K\u001b[8A\u001b[1K\u001b[K\u001b[8A\u001b[1K\u001b[K\u001b[8A\u001b[1K\u001b[K\u001b[8A\u001b[1K\u001b[K\u001b[8A\u001b[1K\u001b[K\u001b[8A\u001b[1K\u001b[K\u001b[8A\u001b[1K\u001b[K\u001b[8A\u001b[1K\u001b[K\u001b[8A\u001b[1K\u001b[K\u001b[8A\u001b[1K\u001b[K\u001b[8A\u001b[1K\u001b[K\u001b[8A\u001b[1K\u001b[K\u001b[8A\u001b[1K\u001b[K\u001b[8A\u001b[1K\u001b[K\u001b[8A\u001b[1K\u001b[K\u001b[8A\u001b[1K\u001b[K\u001b[8A\u001b[1K\u001b[K\u001b[8A\u001b[1K\u001b[K\u001b[8A\u001b[1K\u001b[K\u001b[8A\u001b[1K\u001b[K\u001b[8A\u001b[1K\u001b[K\u001b[8A\u001b[1K\u001b[K\u001b[8A\u001b[1K\u001b[K\u001b[8A\u001b[1K\u001b[K\u001b[8A\u001b[1K\u001b[K\u001b[8A\u001b[1K\u001b[K\u001b[8A\u001b[1K\u001b[K\u001b[8A\u001b[1K\u001b[K\u001b[8A\u001b[1K\u001b[K\u001b[8A\u001b[1K\u001b[K\u001b[8A\u001b[1K\u001b[K\u001b[8A\u001b[1K\u001b[K\u001b[8A\u001b[1K\u001b[K\u001b[8A\u001b[1K\u001b[K\u001b[8A\u001b[1K\u001b[K\u001b[8A\u001b[1K\u001b[K\u001b[8A\u001b[1K\u001b[K\u001b[8A\u001b[1K\u001b[K\u001b[8A\u001b[1K\u001b[K\u001b[8A\u001b[1K\u001b[K\u001b[8A\u001b[1K\u001b[K\u001b[8A\u001b[1K\u001b[K\u001b[8A\u001b[1K\u001b[K\u001b[8A\u001b[1K\u001b[K\u001b[8A\u001b[1K\u001b[K\u001b[8A\u001b[1K\u001b[K\u001b[8A\u001b[1K\u001b[K\u001b[8A\u001b[1K\u001b[K\u001b[8A\u001b[1K\u001b[K\u001b[8A\u001b[1K\u001b[K\u001b[8A\u001b[1K\u001b[K\u001b[8A\u001b[1K\u001b[K\u001b[8A\u001b[1K\u001b[K\u001b[8A\u001b[1K\u001b[K\u001b[8A\u001b[1K\u001b[K\u001b[8A\u001b[1K\u001b[K\u001b[8A\u001b[1K\u001b[K\u001b[8A\u001b[1K\u001b[K\u001b[8A\u001b[1K\u001b[K\u001b[8A\u001b[1K\u001b[K\u001b[8A\u001b[1K\u001b[K\u001b[8A\u001b[1K\u001b[K\u001b[8A\u001b[1K\u001b[K\u001b[8A\u001b[1K\u001b[K\u001b[8A\u001b[1K\u001b[K\u001b[8A\u001b[1K\u001b[K\u001b[8A\u001b[1K\u001b[K\u001b[8A\u001b[1K\u001b[K\u001b[8A\u001b[1K\u001b[K\u001b[8A\u001b[1K\u001b[K\u001b[8A\u001b[1K\u001b[K\u001b[8A\u001b[1K\u001b[K\u001b[8A\u001b[1K\u001b[K\u001b[8A\u001b[1K\u001b[K\u001b[8A\u001b[1K\u001b[K\u001b[8A\u001b[1K\u001b[K\u001b[8A\u001b[1K\u001b[K\u001b[8A\u001b[1K\u001b[K\u001b[8A\u001b[1K\u001b[K\u001b[8A\u001b[1K\u001b[K\u001b[8A\u001b[1K\u001b[K\u001b[8A\u001b[1K\u001b[K\u001b[8A\u001b[1K\u001b[K\u001b[8A\u001b[1K\u001b[K\u001b[8A\u001b[1K\u001b[K\u001b[8A\u001b[1K\u001b[K\u001b[8A\u001b[1K\u001b[K\u001b[8A\u001b[1K\u001b[K\u001b[8A\u001b[1K\u001b[K\u001b[8A\u001b[1K\u001b[K\u001b[8A\u001b[1K\u001b[K\u001b[8A\u001b[1K\u001b[K\u001b[8A\u001b[1K\u001b[K\u001b[8A\u001b[1K\u001b[K\u001b[8A\u001b[1K\u001b[K\u001b[8A\u001b[1K\u001b[K\u001b[8A\u001b[1K\u001b[K\u001b[8A\u001b[1K\u001b[K\u001b[8A\u001b[1K\u001b[K\u001b[8A\u001b[1K\u001b[K\u001b[8A\u001b[1K\u001b[K\u001b[8A\u001b[1K\u001b[K\u001b[8A\u001b[1K\u001b[K\u001b[8A\u001b[1K\u001b[K\u001b[8A\u001b[1K\u001b[K\u001b[8A\u001b[1K\u001b[K\u001b[8A\u001b[1K\u001b[K\u001b[8A\u001b[1K\u001b[K\u001b[8A\u001b[1K\u001b[K\u001b[8A\u001b[1K\u001b[K\u001b[8A\u001b[1K\u001b[K\u001b[8A\u001b[1K\u001b[K\u001b[8A\u001b[1K\u001b[K\u001b[8A\u001b[1K\u001b[K\u001b[8A\u001b[1K\u001b[K\u001b[8A\u001b[1K\u001b[K\u001b[8A\u001b[1K\u001b[K\u001b[8A\u001b[1K\u001b[K\u001b[8A\u001b[1K\u001b[K\u001b[8A\u001b[1K\u001b[K\u001b[8A\u001b[1K\u001b[K\u001b[8A\u001b[1K\u001b[K\u001b[8A\u001b[1K\u001b[K\u001b[8A\u001b[1K\u001b[K\u001b[8A\u001b[1K\u001b[K\u001b[8A\u001b[1K\u001b[K\u001b[8A\u001b[1K\u001b[K\u001b[8A\u001b[1K\u001b[K\u001b[8A\u001b[1K\u001b[K\u001b[8A\u001b[1K\u001b[K\u001b[8A\u001b[1K\u001b[K\u001b[8A\u001b[1K\u001b[K\u001b[8A\u001b[1K\u001b[K\u001b[8A\u001b[1K\u001b[K\u001b[8A\u001b[1K\u001b[K\u001b[8A\u001b[1K\u001b[K\u001b[8A\u001b[1K\u001b[K\u001b[8A\u001b[1K\u001b[K\u001b[8A\u001b[1K\u001b[K\u001b[8A\u001b[1K\u001b[K\u001b[8A\u001b[1K\u001b[K\u001b[8A\u001b[1K\u001b[K\u001b[8A\u001b[1K\u001b[K\u001b[8A\u001b[1K\u001b[K\u001b[8A\u001b[1K\u001b[K\u001b[8A\u001b[1K\u001b[K\u001b[8A\u001b[1K\u001b[K\u001b[8A\u001b[1K\u001b[K\u001b[8A\u001b[1K\u001b[K\u001b[8A\u001b[1K\u001b[K\u001b[8A\u001b[1K\u001b[K\u001b[8A\u001b[1K\u001b[K\u001b[8A\u001b[1K\u001b[K\u001b[8A\u001b[1K\u001b[K\u001b[8A\u001b[1K\u001b[K\u001b[8A\u001b[1K\u001b[K\u001b[8A\u001b[1K\u001b[K\u001b[8A\u001b[1K\u001b[K\u001b[8A\u001b[1K\u001b[K\u001b[8A\u001b[1K\u001b[K\u001b[8A\u001b[1K\u001b[K\u001b[8A\u001b[1K\u001b[K\u001b[8A\u001b[1K\u001b[K\u001b[8A\u001b[1K\u001b[K\u001b[8A\u001b[1K\u001b[K\u001b[8A\u001b[1K\u001b[K\u001b[8A\u001b[1K\u001b[K\u001b[8A\u001b[1K\u001b[K\u001b[8A\u001b[1K\u001b[K\u001b[8A\u001b[1K\u001b[K\u001b[8A\u001b[1K\u001b[K\u001b[8A\u001b[1K\u001b[K\u001b[8A\u001b[1K\u001b[K\u001b[8A\u001b[1K\u001b[K\u001b[8A\u001b[1K\u001b[K\u001b[8A\u001b[1K\u001b[K\u001b[8A\u001b[1K\u001b[K\u001b[8A\u001b[1K\u001b[K\u001b[8A\u001b[1K\u001b[K\u001b[8A\u001b[1K\u001b[K\u001b[8A\u001b[1K\u001b[K\u001b[8A\u001b[1K\u001b[K\u001b[8A\u001b[1K\u001b[K\u001b[8A\u001b[1K\u001b[K\u001b[8A\u001b[1K\u001b[K\u001b[8A\u001b[1K\u001b[K\u001b[8A\u001b[1K\u001b[K\u001b[8A\u001b[1K\u001b[K\u001b[8A\u001b[1K\u001b[K\u001b[8A\u001b[1K\u001b[K\u001b[8A\u001b[1K\u001b[K\u001b[8A\u001b[1K\u001b[K\u001b[8A\u001b[1K\u001b[K\u001b[8A\u001b[1K\u001b[K\u001b[8A\u001b[1K\u001b[K\u001b[8A\u001b[1K\u001b[K\u001b[8A\u001b[1K\u001b[K\u001b[8A\u001b[1K\u001b[K\u001b[8A\u001b[1K\u001b[K\u001b[8A\u001b[1K\u001b[K\u001b[8A\u001b[1K\u001b[K\u001b[8A\u001b[1K\u001b[K\u001b[8A\u001b[1K\u001b[K\u001b[8A\u001b[1K\u001b[K\u001b[8A\u001b[1K\u001b[K\u001b[8A\u001b[1K\u001b[K\u001b[8A\u001b[1K\u001b[K\u001b[8A\u001b[1K\u001b[K\u001b[8A\u001b[1K\u001b[K\u001b[8A\u001b[1K\u001b[K\u001b[8A\u001b[1K\u001b[K\u001b[8A\u001b[1K\u001b[K\u001b[8A\u001b[1K\u001b[K\u001b[8A\u001b[1K\u001b[K\u001b[8A\u001b[1K\u001b[K\u001b[8A\u001b[1K\u001b[K\u001b[8A\u001b[1K\u001b[K\u001b[8A\u001b[1K\u001b[K\u001b[8A\u001b[1K\u001b[K\u001b[8A\u001b[1K\u001b[K\u001b[8A\u001b[1K\u001b[K\u001b[8A\u001b[1K\u001b[K\u001b[8A\u001b[1K\u001b[K\u001b[8A\u001b[1K\u001b[K\u001b[8A\u001b[1K\u001b[K\u001b[8A\u001b[1K\u001b[K\u001b[8A\u001b[1K\u001b[K\u001b[8A\u001b[1K\u001b[K\u001b[8A\u001b[1K\u001b[K\u001b[8A\u001b[1K\u001b[K\u001b[8A\u001b[1K\u001b[K\u001b[8A\u001b[1K\u001b[K\u001b[8A\u001b[1K\u001b[K\u001b[8A\u001b[1K\u001b[K\u001b[8A\u001b[1K\u001b[K\u001b[8A\u001b[1K\u001b[K\u001b[8A\u001b[1K\u001b[K\u001b[8A\u001b[1K\u001b[K\u001b[8A\u001b[1K\u001b[K\u001b[8A\u001b[1K\u001b[K\u001b[8A\u001b[1K\u001b[K\u001b[8A\u001b[1K\u001b[K\u001b[8A\u001b[1K\u001b[K\u001b[8A\u001b[1K\u001b[K\u001b[8A\u001b[1K\u001b[K\u001b[8A\u001b[1K\u001b[K\u001b[8A\u001b[1K\u001b[K\u001b[8A\u001b[1K\u001b[K\u001b[8A\u001b[1K\u001b[K\u001b[8A\u001b[1K\u001b[K\u001b[8A\u001b[1K\u001b[K\u001b[8A\u001b[1K\u001b[K\u001b[8A\u001b[1K\u001b[K\u001b[8A\u001b[1K\u001b[K\u001b[8A\u001b[1K\u001b[K\u001b[8A\u001b[1K\u001b[K\u001b[8A\u001b[1K\u001b[K\u001b[8A\u001b[1K\u001b[K\u001b[8A\u001b[1K\u001b[K\u001b[8A\u001b[1K\u001b[K\u001b[8A\u001b[1K\u001b[K\u001b[8A\u001b[1K\u001b[K\u001b[8A\u001b[1K\u001b[K\u001b[8A\u001b[1K\u001b[K\u001b[8A\u001b[1K\u001b[K\u001b[8A\u001b[1K\u001b[K\u001b[8A\u001b[1K\u001b[K\u001b[8A\u001b[1K\u001b[K\u001b[8A\u001b[1K\u001b[K\u001b[8A\u001b[1K\u001b[K\u001b[8A\u001b[1K\u001b[K\u001b[8A\u001b[1K\u001b[K\u001b[8A\u001b[1K\u001b[K\u001b[8A\u001b[1K\u001b[K"
     ]
    },
    {
     "name": "stdout",
     "output_type": "stream",
     "text": [
      "\u001b[8Bad997adb: Pushed   2.587GB/2.535GB\u001b[8A\u001b[1K\u001b[K\u001b[8A\u001b[1K\u001b[K\u001b[8A\u001b[1K\u001b[K\u001b[8A\u001b[1K\u001b[K\u001b[8A\u001b[1K\u001b[K\u001b[8A\u001b[1K\u001b[K\u001b[8A\u001b[1K\u001b[K\u001b[8A\u001b[1K\u001b[KPushing  1.939GB/2.535GB\u001b[8A\u001b[1K\u001b[K\u001b[8A\u001b[1K\u001b[K\u001b[8A\u001b[1K\u001b[K\u001b[8A\u001b[1K\u001b[K\u001b[8A\u001b[1K\u001b[K\u001b[8A\u001b[1K\u001b[K\u001b[8A\u001b[1K\u001b[K\u001b[8A\u001b[1K\u001b[K\u001b[8A\u001b[1K\u001b[K\u001b[8A\u001b[1K\u001b[K\u001b[8A\u001b[1K\u001b[K\u001b[8A\u001b[1K\u001b[K\u001b[8A\u001b[1K\u001b[K\u001b[8A\u001b[1K\u001b[K\u001b[8A\u001b[1K\u001b[K\u001b[8A\u001b[1K\u001b[K\u001b[8A\u001b[1K\u001b[K\u001b[8A\u001b[1K\u001b[K\u001b[8A\u001b[1K\u001b[K\u001b[8A\u001b[1K\u001b[K\u001b[8A\u001b[1K\u001b[K\u001b[8A\u001b[1K\u001b[K\u001b[8A\u001b[1K\u001b[K\u001b[8A\u001b[1K\u001b[K\u001b[8A\u001b[1K\u001b[K\u001b[8A\u001b[1K\u001b[K\u001b[8A\u001b[1K\u001b[K\u001b[8A\u001b[1K\u001b[K\u001b[8A\u001b[1K\u001b[K\u001b[8A\u001b[1K\u001b[K\u001b[8A\u001b[1K\u001b[K\u001b[8A\u001b[1K\u001b[K\u001b[8A\u001b[1K\u001b[K\u001b[8A\u001b[1K\u001b[K\u001b[8A\u001b[1K\u001b[K\u001b[8A\u001b[1K\u001b[K\u001b[8A\u001b[1K\u001b[K\u001b[8A\u001b[1K\u001b[K\u001b[8A\u001b[1K\u001b[K\u001b[8A\u001b[1K\u001b[K\u001b[8A\u001b[1K\u001b[K\u001b[8A\u001b[1K\u001b[K\u001b[8A\u001b[1K\u001b[K\u001b[8A\u001b[1K\u001b[K\u001b[8A\u001b[1K\u001b[K\u001b[8A\u001b[1K\u001b[K\u001b[8A\u001b[1K\u001b[K\u001b[8A\u001b[1K\u001b[K\u001b[8A\u001b[1K\u001b[K\u001b[8A\u001b[1K\u001b[K\u001b[8A\u001b[1K\u001b[K\u001b[8A\u001b[1K\u001b[K\u001b[8A\u001b[1K\u001b[K\u001b[8A\u001b[1K\u001b[K\u001b[8A\u001b[1K\u001b[K\u001b[8A\u001b[1K\u001b[K\u001b[8A\u001b[1K\u001b[K\u001b[8A\u001b[1K\u001b[K\u001b[8A\u001b[1K\u001b[K\u001b[8A\u001b[1K\u001b[K\u001b[8A\u001b[1K\u001b[K\u001b[8A\u001b[1K\u001b[K\u001b[8A\u001b[1K\u001b[K\u001b[8A\u001b[1K\u001b[K\u001b[8A\u001b[1K\u001b[K\u001b[8A\u001b[1K\u001b[K\u001b[8A\u001b[1K\u001b[K\u001b[8A\u001b[1K\u001b[K\u001b[8A\u001b[1K\u001b[K\u001b[8A\u001b[1K\u001b[K\u001b[8A\u001b[1K\u001b[K\u001b[8A\u001b[1K\u001b[K\u001b[8A\u001b[1K\u001b[K\u001b[8A\u001b[1K\u001b[K\u001b[8A\u001b[1K\u001b[K\u001b[8A\u001b[1K\u001b[K\u001b[8A\u001b[1K\u001b[K\u001b[8A\u001b[1K\u001b[K\u001b[8A\u001b[1K\u001b[K\u001b[8A\u001b[1K\u001b[K\u001b[8A\u001b[1K\u001b[K\u001b[8A\u001b[1K\u001b[K\u001b[8A\u001b[1K\u001b[K\u001b[8A\u001b[1K\u001b[K\u001b[8A\u001b[1K\u001b[K\u001b[8A\u001b[1K\u001b[K\u001b[8A\u001b[1K\u001b[K\u001b[8A\u001b[1K\u001b[K\u001b[8A\u001b[1K\u001b[K\u001b[8A\u001b[1K\u001b[K\u001b[8A\u001b[1K\u001b[K\u001b[8A\u001b[1K\u001b[K\u001b[8A\u001b[1K\u001b[K\u001b[8A\u001b[1K\u001b[K\u001b[8A\u001b[1K\u001b[K\u001b[8A\u001b[1K\u001b[K\u001b[8A\u001b[1K\u001b[K\u001b[8A\u001b[1K\u001b[K\u001b[8A\u001b[1K\u001b[K\u001b[8A\u001b[1K\u001b[K\u001b[8A\u001b[1K\u001b[K\u001b[8A\u001b[1K\u001b[K\u001b[8A\u001b[1K\u001b[K\u001b[8A\u001b[1K\u001b[K\u001b[8A\u001b[1K\u001b[K\u001b[8A\u001b[1K\u001b[K\u001b[8A\u001b[1K\u001b[K\u001b[8A\u001b[1K\u001b[K\u001b[8A\u001b[1K\u001b[K\u001b[8A\u001b[1K\u001b[K\u001b[8A\u001b[1K\u001b[K\u001b[8A\u001b[1K\u001b[K\u001b[8A\u001b[1K\u001b[K\u001b[8A\u001b[1K\u001b[K\u001b[8A\u001b[1K\u001b[K\u001b[8A\u001b[1K\u001b[K\u001b[8A\u001b[1K\u001b[K\u001b[8A\u001b[1K\u001b[K\u001b[8A\u001b[1K\u001b[K\u001b[8A\u001b[1K\u001b[K\u001b[8A\u001b[1K\u001b[K\u001b[8A\u001b[1K\u001b[K\u001b[8A\u001b[1K\u001b[K\u001b[8A\u001b[1K\u001b[K\u001b[8A\u001b[1K\u001b[K\u001b[8A\u001b[1K\u001b[K\u001b[8A\u001b[1K\u001b[K\u001b[8A\u001b[1K\u001b[K\u001b[8A\u001b[1K\u001b[K\u001b[8A\u001b[1K\u001b[K\u001b[8A\u001b[1K\u001b[K\u001b[8A\u001b[1K\u001b[K\u001b[8A\u001b[1K\u001b[K\u001b[8A\u001b[1K\u001b[K\u001b[8A\u001b[1K\u001b[K\u001b[8A\u001b[1K\u001b[K\u001b[8A\u001b[1K\u001b[K\u001b[8A\u001b[1K\u001b[K\u001b[8A\u001b[1K\u001b[K\u001b[8A\u001b[1K\u001b[K\u001b[8A\u001b[1K\u001b[K\u001b[8A\u001b[1K\u001b[K\u001b[8A\u001b[1K\u001b[K\u001b[8A\u001b[1K\u001b[K\u001b[8A\u001b[1K\u001b[K\u001b[8A\u001b[1K\u001b[K\u001b[8A\u001b[1K\u001b[K\u001b[8A\u001b[1K\u001b[K\u001b[8A\u001b[1K\u001b[K\u001b[8A\u001b[1K\u001b[K\u001b[8A\u001b[1K\u001b[K\u001b[8A\u001b[1K\u001b[K\u001b[8A\u001b[1K\u001b[K\u001b[8A\u001b[1K\u001b[K\u001b[8A\u001b[1K\u001b[K\u001b[8A\u001b[1K\u001b[K\u001b[8A\u001b[1K\u001b[K\u001b[8A\u001b[1K\u001b[K\u001b[8A\u001b[1K\u001b[K\u001b[8A\u001b[1K\u001b[K\u001b[8A\u001b[1K\u001b[K\u001b[8A\u001b[1K\u001b[K\u001b[8A\u001b[1K\u001b[K\u001b[8A\u001b[1K\u001b[K\u001b[8A\u001b[1K\u001b[K\u001b[8A\u001b[1K\u001b[K\u001b[8A\u001b[1K\u001b[K\u001b[8A\u001b[1K\u001b[K\u001b[8A\u001b[1K\u001b[K\u001b[8A\u001b[1K\u001b[K\u001b[8A\u001b[1K\u001b[K\u001b[8A\u001b[1K\u001b[K\u001b[8A\u001b[1K\u001b[K\u001b[8A\u001b[1K\u001b[K\u001b[8A\u001b[1K\u001b[K\u001b[8A\u001b[1K\u001b[K\u001b[8A\u001b[1K\u001b[K\u001b[8A\u001b[1K\u001b[K\u001b[8A\u001b[1K\u001b[K\u001b[8A\u001b[1K\u001b[K\u001b[8A\u001b[1K\u001b[K\u001b[8A\u001b[1K\u001b[K\u001b[8A\u001b[1K\u001b[K\u001b[8A\u001b[1K\u001b[K\u001b[8A\u001b[1K\u001b[K\u001b[8A\u001b[1K\u001b[K\u001b[8A\u001b[1K\u001b[K\u001b[8A\u001b[1K\u001b[K\u001b[8A\u001b[1K\u001b[K\u001b[8A\u001b[1K\u001b[K\u001b[8A\u001b[1K\u001b[K\u001b[8A\u001b[1K\u001b[K\u001b[8A\u001b[1K\u001b[K\u001b[8A\u001b[1K\u001b[K\u001b[8A\u001b[1K\u001b[K\u001b[8A\u001b[1K\u001b[K\u001b[8A\u001b[1K\u001b[K\u001b[8A\u001b[1K\u001b[K\u001b[8A\u001b[1K\u001b[K\u001b[8A\u001b[1K\u001b[K\u001b[8A\u001b[1K\u001b[K\u001b[8A\u001b[1K\u001b[K\u001b[8A\u001b[1K\u001b[K\u001b[8A\u001b[1K\u001b[K\u001b[8A\u001b[1K\u001b[K\u001b[8A\u001b[1K\u001b[K\u001b[8A\u001b[1K\u001b[K\u001b[8A\u001b[1K\u001b[K\u001b[8A\u001b[1K\u001b[K\u001b[8A\u001b[1K\u001b[K\u001b[8A\u001b[1K\u001b[K\u001b[8A\u001b[1K\u001b[K\u001b[8A\u001b[1K\u001b[K\u001b[8A\u001b[1K\u001b[K\u001b[8A\u001b[1K\u001b[K\u001b[8A\u001b[1K\u001b[K\u001b[8A\u001b[1K\u001b[K\u001b[8A\u001b[1K\u001b[K\u001b[8A\u001b[1K\u001b[K\u001b[8A\u001b[1K\u001b[Ksdk.v1.0.43: digest: sha256:444446097de40d8842a8a232ba0448f2a1605e9d15941829b58e46243ff8bca6 size: 2003\n",
      "The push refers to repository [docker.io/georgedockeraccount/aml-sdk_docker_imageazcli]\n",
      "\n",
      "\u001b[1B654cb7c7: Preparing \n",
      "\u001b[1B4b112b3a: Preparing \n",
      "\u001b[1B25707968: Preparing \n",
      "\u001b[1Bad997adb: Preparing \n",
      "\u001b[1B1a5e1e16: Preparing \n",
      "\u001b[1B8d04e2fd: Preparing \n",
      "\u001b[1Bc65c8dc4: Preparing \n",
      "\u001b[1B2f5d7ee9: Preparing \n",
      "\u001b[1Bb1358a5a: Preparing \n",
      "\u001b[1B1ff9ade6: Preparing \n",
      "\u001b[9B25707968: Pushed   458.4MB/423.5MBraccount/aml-sdk_docker_image \u001b[7A\u001b[1K\u001b[K\u001b[9A\u001b[1K\u001b[K\u001b[10A\u001b[1K\u001b[K\u001b[6A\u001b[1K\u001b[K\u001b[10A\u001b[1K\u001b[K\u001b[10A\u001b[1K\u001b[K\u001b[9A\u001b[1K\u001b[K\u001b[10A\u001b[1K\u001b[K\u001b[1A\u001b[1K\u001b[K\u001b[10A\u001b[1K\u001b[K\u001b[9A\u001b[1K\u001b[K\u001b[10A\u001b[1K\u001b[K\u001b[9A\u001b[1K\u001b[K\u001b[10A\u001b[1K\u001b[K\u001b[9A\u001b[1K\u001b[K\u001b[10A\u001b[1K\u001b[K\u001b[9A\u001b[1K\u001b[K\u001b[10A\u001b[1K\u001b[K\u001b[9A\u001b[1K\u001b[K\u001b[10A\u001b[1K\u001b[K\u001b[9A\u001b[1K\u001b[K\u001b[9A\u001b[1K\u001b[K\u001b[9A\u001b[1K\u001b[K\u001b[9A\u001b[1K\u001b[K\u001b[9A\u001b[1K\u001b[K\u001b[9A\u001b[1K\u001b[K\u001b[9A\u001b[1K\u001b[K\u001b[9A\u001b[1K\u001b[K\u001b[9A\u001b[1K\u001b[K\u001b[9A\u001b[1K\u001b[K\u001b[9A\u001b[1K\u001b[K\u001b[9A\u001b[1K\u001b[K\u001b[9A\u001b[1K\u001b[K\u001b[9A\u001b[1K\u001b[K\u001b[9A\u001b[1K\u001b[K\u001b[9A\u001b[1K\u001b[K\u001b[9A\u001b[1K\u001b[K\u001b[9A\u001b[1K\u001b[K\u001b[9A\u001b[1K\u001b[K\u001b[9A\u001b[1K\u001b[K\u001b[9A\u001b[1K\u001b[K\u001b[9A\u001b[1K\u001b[K\u001b[9A\u001b[1K\u001b[K\u001b[9A\u001b[1K\u001b[K\u001b[9A\u001b[1K\u001b[K\u001b[9A\u001b[1K\u001b[K\u001b[9A\u001b[1K\u001b[K\u001b[9A\u001b[1K\u001b[K\u001b[9A\u001b[1K\u001b[K\u001b[9A\u001b[1K\u001b[K\u001b[9A\u001b[1K\u001b[K\u001b[9A\u001b[1K\u001b[K\u001b[9A\u001b[1K\u001b[K\u001b[9A\u001b[1K\u001b[K\u001b[9A\u001b[1K\u001b[K\u001b[9A\u001b[1K\u001b[K\u001b[9A\u001b[1K\u001b[K\u001b[9A\u001b[1K\u001b[K\u001b[9A\u001b[1K\u001b[K\u001b[9A\u001b[1K\u001b[K\u001b[9A\u001b[1K\u001b[K\u001b[9A\u001b[1K\u001b[K\u001b[9A\u001b[1K\u001b[K\u001b[9A\u001b[1K\u001b[K\u001b[9A\u001b[1K\u001b[K\u001b[9A\u001b[1K\u001b[K\u001b[9A\u001b[1K\u001b[K\u001b[9A\u001b[1K\u001b[K\u001b[9A\u001b[1K\u001b[K\u001b[9A\u001b[1K\u001b[K\u001b[9A\u001b[1K\u001b[K\u001b[9A\u001b[1K\u001b[K\u001b[9A\u001b[1K\u001b[K\u001b[9A\u001b[1K\u001b[K\u001b[9A\u001b[1K\u001b[K\u001b[9A\u001b[1K\u001b[K\u001b[9A\u001b[1K\u001b[K\u001b[9A\u001b[1K\u001b[K\u001b[9A\u001b[1K\u001b[K\u001b[9A\u001b[1K\u001b[K\u001b[9A\u001b[1K\u001b[K\u001b[9A\u001b[1K\u001b[K\u001b[9A\u001b[1K\u001b[K\u001b[9A\u001b[1K\u001b[K\u001b[9A\u001b[1K\u001b[K\u001b[9A\u001b[1K\u001b[K\u001b[9A\u001b[1K\u001b[K\u001b[9A\u001b[1K\u001b[K\u001b[9A\u001b[1K\u001b[K\u001b[9A\u001b[1K\u001b[K\u001b[9A\u001b[1K\u001b[K\u001b[9A\u001b[1K\u001b[K\u001b[9A\u001b[1K\u001b[K\u001b[9A\u001b[1K\u001b[K\u001b[9A\u001b[1K\u001b[K\u001b[9A\u001b[1K\u001b[K\u001b[9A\u001b[1K\u001b[K\u001b[9A\u001b[1K\u001b[K\u001b[9A\u001b[1K\u001b[K\u001b[9A\u001b[1K\u001b[K\u001b[9A\u001b[1K\u001b[K\u001b[9A\u001b[1K\u001b[K\u001b[9A\u001b[1K\u001b[K\u001b[9A\u001b[1K\u001b[K\u001b[9A\u001b[1K\u001b[K\u001b[9A\u001b[1K\u001b[K\u001b[9A\u001b[1K\u001b[K\u001b[9A\u001b[1K\u001b[K\u001b[9A\u001b[1K\u001b[K\u001b[9A\u001b[1K\u001b[K\u001b[9A\u001b[1K\u001b[K\u001b[9A\u001b[1K\u001b[K\u001b[9A\u001b[1K\u001b[K\u001b[9A\u001b[1K\u001b[K\u001b[9A\u001b[1K\u001b[K\u001b[9A\u001b[1K\u001b[K\u001b[9A\u001b[1K\u001b[K\u001b[9A\u001b[1K\u001b[K\u001b[9A\u001b[1K\u001b[K\u001b[9A\u001b[1K\u001b[K\u001b[9A\u001b[1K\u001b[K\u001b[9A\u001b[1K\u001b[K\u001b[9A\u001b[1K\u001b[K\u001b[9A\u001b[1K\u001b[K\u001b[9A\u001b[1K\u001b[K\u001b[9A\u001b[1K\u001b[K\u001b[9A\u001b[1K\u001b[K\u001b[9A\u001b[1K\u001b[K\u001b[9A\u001b[1K\u001b[K\u001b[9A\u001b[1K\u001b[K\u001b[9A\u001b[1K\u001b[K\u001b[9A\u001b[1K\u001b[K\u001b[9A\u001b[1K\u001b[K\u001b[9A\u001b[1K\u001b[K\u001b[9A\u001b[1K\u001b[K\u001b[9A\u001b[1K\u001b[K\u001b[9A\u001b[1K\u001b[K\u001b[9A\u001b[1K\u001b[K\u001b[9A\u001b[1K\u001b[K\u001b[9A\u001b[1K\u001b[K\u001b[9A\u001b[1K\u001b[K\u001b[9A\u001b[1K\u001b[K\u001b[9A\u001b[1K\u001b[K\u001b[9A\u001b[1K\u001b[K\u001b[9A\u001b[1K\u001b[K\u001b[9A\u001b[1K\u001b[K\u001b[9A\u001b[1K\u001b[K\u001b[9A\u001b[1K\u001b[K\u001b[9A\u001b[1K\u001b[K\u001b[9A\u001b[1K\u001b[K\u001b[9A\u001b[1K\u001b[K\u001b[9A\u001b[1K\u001b[K\u001b[9A\u001b[1K\u001b[K\u001b[9A\u001b[1K\u001b[K\u001b[9A\u001b[1K\u001b[K\u001b[9A\u001b[1K\u001b[K\u001b[9A\u001b[1K\u001b[K\u001b[9A\u001b[1K\u001b[K\u001b[9A\u001b[1K\u001b[K\u001b[9A\u001b[1K\u001b[K\u001b[9A\u001b[1K\u001b[K\u001b[9A\u001b[1K\u001b[K\u001b[9A\u001b[1K\u001b[K\u001b[9A\u001b[1K\u001b[Ksdk.v1.0.43: digest: sha256:a62ea330c62b6d200084d6c29da9f6818e1b07d6891ff280ab9601a9e171ac2d size: 2634\n",
      "The push refers to repository [docker.io/georgedockeraccount/aml-sdk_docker_imageazcliazdevops]\n",
      "\n",
      "\u001b[1Bc2776ec7: Preparing \n",
      "\u001b[1B654cb7c7: Preparing \n",
      "\u001b[1B4b112b3a: Preparing \n",
      "\u001b[1B25707968: Preparing \n",
      "\u001b[1Bad997adb: Preparing \n",
      "\u001b[1B1a5e1e16: Preparing \n",
      "\u001b[1B8d04e2fd: Preparing \n",
      "\u001b[1Bc65c8dc4: Preparing \n",
      "\u001b[1B2f5d7ee9: Preparing \n",
      "\u001b[1Bb1358a5a: Preparing \n",
      "\u001b[1B1ff9ade6: Preparing \n",
      "\u001b[12B2776ec7: Pushed   16.98MB/15.59MBraccount/aml-sdk_docker_imageazcli \u001b[9A\u001b[1K\u001b[K\u001b[12A\u001b[1K\u001b[K\u001b[5A\u001b[1K\u001b[K\u001b[12A\u001b[1K\u001b[K\u001b[4A\u001b[1K\u001b[K\u001b[7A\u001b[1K\u001b[K\u001b[12A\u001b[1K\u001b[K\u001b[12A\u001b[1K\u001b[K\u001b[12A\u001b[1K\u001b[K\u001b[12A\u001b[1K\u001b[Ksdk.v1.0.43: digest: sha256:29f218c48da4fb7a7c09b197c3ca3443cd1f58d30a61a0b88d00ad8afde1bef4 size: 2845\n"
     ]
    }
   ],
   "source": [
    "# !docker login -u=$docker_login -p=\n",
    "!docker push $aml_docker_image_name\n",
    "# !docker push $aml_sudo_docker_image_name\n",
    "!docker push $aml_azcli_docker_image_name\n",
    "!docker push $aml_azcli_azdevops_docker_image_name"
   ]
  },
  {
   "cell_type": "code",
   "execution_count": 30,
   "metadata": {
    "nbpresent": {
     "id": "3cac05d2-2fbc-420e-90c3-823f734fe26e"
    }
   },
   "outputs": [
    {
     "name": "stdout",
     "output_type": "stream",
     "text": [
      "[NbConvertApp] Converting notebook createAMLSDKDocker.ipynb to html\n",
      "[NbConvertApp] Writing 420443 bytes to createAMLSDKDocker.html\n"
     ]
    }
   ],
   "source": [
    "!jupyter nbconvert --to html createAMLSDKDocker.ipynb"
   ]
  }
 ],
 "metadata": {
  "kernelspec": {
   "display_name": "Python [conda env:py35]",
   "language": "python",
   "name": "conda-env-py35-py"
  },
  "language_info": {
   "codemirror_mode": {
    "name": "ipython",
    "version": 3
   },
   "file_extension": ".py",
   "mimetype": "text/x-python",
   "name": "python",
   "nbconvert_exporter": "python",
   "pygments_lexer": "ipython3",
   "version": "3.5.5"
  }
 },
 "nbformat": 4,
 "nbformat_minor": 2
}
