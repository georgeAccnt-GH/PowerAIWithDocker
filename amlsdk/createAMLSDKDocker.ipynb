{
 "cells": [
  {
   "cell_type": "markdown",
   "metadata": {},
   "source": [
    "### Create AML SDK docker file and build and test image"
   ]
  },
  {
   "cell_type": "markdown",
   "metadata": {},
   "source": [
    "To run this notebook, start it via a plain Jupyter notebook session on your Ubuntu_Azure_VM:\n",
    "\n",
    "* login (ssh) into the VM:\n",
    "```\n",
    "loginname1@Ubuntu_Azure_VM:/datadrive01/prj/regularR_Realtime$ jupyter notebook --notebook-dir=$(pwd) --ip='*' --port=9000 --no-browser --allow-root\n",
    "```\n",
    "  \n",
    "   \n",
    "* then go to:    \n",
    "http://Ubuntu_Azure_VM.eastus2.cloudapp.azure.com:9000/ \n",
    "  \n",
    "  \n",
    "https://docs.microsoft.com/en-us/azure/machine-learning/service/azure-machine-learning-release-notes  \n",
    "2019-03-11\n",
    "Azure Machine Learning SDK for Python v1.0.18  \n",
    "   \n",
    "Note: As of 02/13/2019, latest versions are:  \n",
    "Python 3.7.2 (https://www.python.org/downloads/, https://anaconda.org/anaconda/python)  \n",
    "miniconda3 4.5.12 (https://hub.docker.com/r/continuumio/miniconda3/tags)  \n",
    "AML SDK  v.1.0.15 (https://docs.microsoft.com/en-us/python/api/overview/azure/ml/install?view=azure-ml-py)  \n",
    "Ubuntu 19.04 (https://hub.docker.com/_/ubuntu?tab=tags)  "
   ]
  },
  {
   "cell_type": "code",
   "execution_count": 1,
   "metadata": {},
   "outputs": [],
   "source": [
    "# Allow multiple displays per cell\n",
    "from IPython.core.interactiveshell import InteractiveShell\n",
    "InteractiveShell.ast_node_interactivity = \"all\" "
   ]
  },
  {
   "cell_type": "code",
   "execution_count": 2,
   "metadata": {
    "nbpresent": {
     "id": "4ccb1b65-3d22-42d6-900b-dfcf80c59f9a"
    }
   },
   "outputs": [],
   "source": [
    "%load_ext dotenv\n",
    "# import dotenv\n",
    "# print (dir(dotenv))"
   ]
  },
  {
   "cell_type": "code",
   "execution_count": 3,
   "metadata": {
    "nbpresent": {
     "id": "799f7d9a-13d5-462d-982b-cdaf17bcbb25"
    }
   },
   "outputs": [
    {
     "name": "stdout",
     "output_type": "stream",
     "text": [
      "Overwriting .env\n"
     ]
    }
   ],
   "source": [
    "%%writefile .env\n",
    "\n",
    "# Your docker login and image repository name\n",
    "docker_login = 'georgedockeraccount'\n",
    "image_tag = \"aml-sdk_docker_image\"\n",
    "image_version = 'sdk.v1.0.41' # also set this in conda file below"
   ]
  },
  {
   "cell_type": "code",
   "execution_count": 4,
   "metadata": {
    "nbpresent": {
     "id": "9d0e3def-da72-4a6f-934a-6aa251a2be7a"
    }
   },
   "outputs": [],
   "source": [
    "%dotenv\n",
    "docker_file_location = 'docker_build'\n",
    "\n",
    "import os\n",
    "docker_file_name = 'dockerfile'+ '_' + os.getenv('image_tag') + '_' + os.getenv('image_version')\n",
    "conda_dependency_file = 'aml_sdk_conda_dep_file.yml'"
   ]
  },
  {
   "cell_type": "code",
   "execution_count": 5,
   "metadata": {
    "nbpresent": {
     "id": "5df01165-3fcc-431c-89b0-a934207b1fa7"
    }
   },
   "outputs": [
    {
     "data": {
      "text/plain": [
       "'/datadrive01/prj/PowerAIWithDocker/amlsdk/docker_build'"
      ]
     },
     "execution_count": 5,
     "metadata": {},
     "output_type": "execute_result"
    },
    {
     "data": {
      "text/plain": [
       "'/datadrive01/prj/PowerAIWithDocker/amlsdk/docker_build/dockerfile_aml-sdk_docker_image_sdk.v1.0.41'"
      ]
     },
     "execution_count": 5,
     "metadata": {},
     "output_type": "execute_result"
    },
    {
     "data": {
      "text/plain": [
       "'/datadrive01/prj/PowerAIWithDocker/amlsdk/docker_build/aml_sdk_conda_dep_file.yml'"
      ]
     },
     "execution_count": 5,
     "metadata": {},
     "output_type": "execute_result"
    },
    {
     "name": "stdout",
     "output_type": "stream",
     "text": [
      "total 0\r\n"
     ]
    }
   ],
   "source": [
    "local_dir = !pwd\n",
    "docker_file_dir = os.path.join(*([local_dir.s, docker_file_location]))\n",
    "docker_file_dir\n",
    " \n",
    "docker_file_path = os.path.join(*([docker_file_dir]+[docker_file_name]))\n",
    "docker_file_path\n",
    "\n",
    "conda_dependency_file_path = os.path.join(*([docker_file_dir]+[conda_dependency_file]))\n",
    "conda_dependency_file_path\n",
    "\n",
    "#clean previous history (i.e. content of amlsdk/docker)\n",
    "!mkdir -p {docker_file_dir}\n",
    "!chmod -R ugo=rwx $docker_file_dir\n",
    "!rm -rf $docker_file_dir/*\n",
    "!ls -l $docker_file_dir"
   ]
  },
  {
   "cell_type": "code",
   "execution_count": 6,
   "metadata": {
    "nbpresent": {
     "id": "5cd2704f-7ad0-445d-a0f1-ffd318e6ddca"
    }
   },
   "outputs": [
    {
     "name": "stdout",
     "output_type": "stream",
     "text": [
      "Writing /datadrive01/prj/PowerAIWithDocker/amlsdk/docker_build/aml_sdk_conda_dep_file.yml\n"
     ]
    }
   ],
   "source": [
    "%%writefile $conda_dependency_file_path\n",
    "name: aml_sdk_conda_env02\n",
    "    \n",
    "channels:\n",
    "  - anaconda\n",
    "dependencies:\n",
    "  - python=3.6 # 3.6 req by tf, which seems to be req by automl, not 3.7.2 \n",
    "  - numpy\n",
    "  - cython\n",
    "  - notebook \n",
    "  - nb_conda\n",
    "  - scikit-learn\n",
    "  - pip\n",
    "  - pip:\n",
    "    - python-dotenv\n",
    "    - papermill[azure]\n",
    "    - docker\n",
    "    - azureml-sdk[notebooks,automl,explain]==1.0.41 "
   ]
  },
  {
   "cell_type": "code",
   "execution_count": 7,
   "metadata": {
    "nbpresent": {
     "id": "2168b1a2-9e5a-4812-be38-fd98a42a568f"
    }
   },
   "outputs": [
    {
     "name": "stdout",
     "output_type": "stream",
     "text": [
      "Writing /datadrive01/prj/PowerAIWithDocker/amlsdk/docker_build/dockerfile_aml-sdk_docker_image_sdk.v1.0.41\n"
     ]
    }
   ],
   "source": [
    "%%writefile $docker_file_path \n",
    "\n",
    "# FROM continuumio/miniconda3:4.5.12 as AzureMLSDKOnly \n",
    "FROM continuumio/miniconda3:4.6.14 as AzureMLSDKOnly    \n",
    "MAINTAINER George Iordanescu <ghiordan@microsoft.com>\n",
    "\n",
    "RUN apt-get update --fix-missing && apt-get install -y --no-install-recommends \\\n",
    "    gcc g++ \\\n",
    "    wget bzip2 \\\n",
    "    curl apt-transport-https lsb-release gpg \\\n",
    "    git make && \\\n",
    "    apt-get clean && \\\n",
    "    rm -rf /var/lib/apt/lists/*\n",
    "\n",
    "ADD aml_sdk_conda_dep_file.yml /tmp/aml_sdk_conda_dep_file.yml\n",
    "ENV CONDA_DIR /opt/conda\n",
    "ENV CONDA_ENV_NAME aml-sdk-conda-env    \n",
    "\n",
    "# reate aml sdk conda env defined by .yml file\n",
    "RUN /opt/conda/bin/conda env create -q --name $CONDA_ENV_NAME -f /tmp/aml_sdk_conda_dep_file.yml && \\\n",
    "    /opt/conda/bin/conda clean  --yes --all \n",
    "ENV CONDA_AUTO_UPDATE_CONDA=false\n",
    "ENV CONDA_DEFAULT_ENV=$CONDA_ENV_NAME\n",
    "ENV CONDA_PREFIX=$CONDA_DIR/envs/$CONDA_DEFAULT_ENV\n",
    "ENV PATH=$CONDA_PREFIX/bin:/opt/conda/bin:$PATH         \n",
    "\n",
    "FROM AzureMLSDKOnly as AzureMLSDKAndAzCli\n",
    "# Install Azure CLI\n",
    "ENV AZ_CLI_REPO=stretch   \n",
    "RUN echo \"deb [arch=amd64] https://packages.microsoft.com/repos/azure-cli/ $AZ_CLI_REPO main\" | \\\n",
    "    tee /etc/apt/sources.list.d/azure-cli.list && \\\n",
    "    curl -L https://packages.microsoft.com/keys/microsoft.asc | apt-key add - && \\\n",
    "    apt-get update && \\\n",
    "    apt-get install -y --no-install-recommends \\\n",
    "    azure-cli \n",
    "    \n",
    "# Install AzCopy\n",
    "RUN mkdir -p /tmp/azcopy && mkdir -p /azcopy10 && \\\n",
    "    wget -O /tmp/azcopy/azcopyv10.tar.gz https://aka.ms/downloadazcopy-v10-linux &&  \\\n",
    "    tar -xf /tmp/azcopy/azcopyv10.tar.gz -C /azcopy10 \n",
    "RUN rm -rf /tmp/azcopy\n",
    "ENV PATH=/azcopy10/azcopy_linux_amd64_10.1.2:$PATH\n",
    "    \n",
    "FROM AzureMLSDKAndAzCli as AzureMLSDKAndAzCliAndAZDevOps\n",
    "#https://marketplace.visualstudio.com/items?itemName=ms-vsts.cli\n",
    "RUN az extension add --name azure-devops\n",
    "        \n",
    "        \n",
    "CMD /bin/bash\n"
   ]
  },
  {
   "cell_type": "code",
   "execution_count": 8,
   "metadata": {
    "nbpresent": {
     "id": "527cb6fe-fd7b-48fd-8c28-2e59ced35adc"
    }
   },
   "outputs": [
    {
     "data": {
      "text/plain": [
       "'/datadrive01/prj/PowerAIWithDocker/amlsdk/docker_build/dockerfile_aml-sdk_docker_image_sdk.v1.0.41'"
      ]
     },
     "execution_count": 8,
     "metadata": {},
     "output_type": "execute_result"
    },
    {
     "data": {
      "text/plain": [
       "'georgedockeraccount/aml-sdk_docker_image:sdk.v1.0.41'"
      ]
     },
     "execution_count": 8,
     "metadata": {},
     "output_type": "execute_result"
    },
    {
     "data": {
      "text/plain": [
       "'georgedockeraccount/aml-sdk_docker_imageazcli:sdk.v1.0.41'"
      ]
     },
     "execution_count": 8,
     "metadata": {},
     "output_type": "execute_result"
    },
    {
     "data": {
      "text/plain": [
       "'georgedockeraccount/aml-sdk_docker_imageazcliazdevops:sdk.v1.0.41'"
      ]
     },
     "execution_count": 8,
     "metadata": {},
     "output_type": "execute_result"
    },
    {
     "data": {
      "text/plain": [
       "'/datadrive01/prj/PowerAIWithDocker/amlsdk/docker_build'"
      ]
     },
     "execution_count": 8,
     "metadata": {},
     "output_type": "execute_result"
    },
    {
     "name": "stdout",
     "output_type": "stream",
     "text": [
      "total 8\r\n",
      "-rw-rw-r-- 1 loginvm001 loginvm001  334 Jun 15 04:52 aml_sdk_conda_dep_file.yml\r\n",
      "-rw-rw-r-- 1 loginvm001 loginvm001 1807 Jun 15 04:52 dockerfile_aml-sdk_docker_image_sdk.v1.0.41\r\n"
     ]
    }
   ],
   "source": [
    "%dotenv\n",
    "\n",
    "#add docker image version info only if image_version has been set to a non-empty string, otherwise let docker increment it\n",
    "image_version_string = os.getenv('image_version')\n",
    "if image_version_string!=\"\":\n",
    "    image_version_string = ':'  + image_version_string\n",
    "    \n",
    "aml_docker_image_name = os.getenv('docker_login') + '/' + os.getenv('image_tag') + \\\n",
    "image_version_string\n",
    "aml_azcli_docker_image_name = os.getenv('docker_login') + '/' + os.getenv('image_tag') + \\\n",
    "'azcli' + image_version_string\n",
    "aml_azcli_azdevops_docker_image_name = os.getenv('docker_login') + '/' + os.getenv('image_tag') + \\\n",
    "'azcliazdevops'  + image_version_string\n",
    "\n",
    "\n",
    "docker_file_path\n",
    "aml_docker_image_name\n",
    "aml_azcli_docker_image_name\n",
    "aml_azcli_azdevops_docker_image_name\n",
    "\n",
    "docker_file_dir\n",
    "\n",
    "working_path = docker_file_dir\n",
    "! ls -l $working_path\n"
   ]
  },
  {
   "cell_type": "code",
   "execution_count": 9,
   "metadata": {},
   "outputs": [
    {
     "name": "stdout",
     "output_type": "stream",
     "text": [
      "docker build -t georgedockeraccount/aml-sdk_docker_image:sdk.v1.0.41 --target AzureMLSDKOnly -f /datadrive01/prj/PowerAIWithDocker/amlsdk/docker_build/dockerfile_aml-sdk_docker_image_sdk.v1.0.41 /datadrive01/prj/PowerAIWithDocker/amlsdk/docker_build --no-cache\n",
      "Sending build context to Docker daemon  4.608kB\n",
      "Step 1/11 : FROM continuumio/miniconda3:4.6.14 as AzureMLSDKOnly\n",
      " ---> 6b5cf97566c3\n",
      "Step 2/11 : MAINTAINER George Iordanescu <ghiordan@microsoft.com>\n",
      " ---> Using cache\n",
      " ---> decc10e91628\n",
      "Step 3/11 : RUN apt-get update --fix-missing && apt-get install -y --no-install-recommends     gcc g++     wget bzip2     curl apt-transport-https lsb-release gpg     git make &&     apt-get clean &&     rm -rf /var/lib/apt/lists/*\n",
      " ---> Using cache\n",
      " ---> 019ae2fc4ed9\n",
      "Step 4/11 : ADD aml_sdk_conda_dep_file.yml /tmp/aml_sdk_conda_dep_file.yml\n",
      " ---> Using cache\n",
      " ---> c3492aed2c57\n",
      "Step 5/11 : ENV CONDA_DIR /opt/conda\n",
      " ---> Using cache\n",
      " ---> bfb29ef9b2f3\n",
      "Step 6/11 : ENV CONDA_ENV_NAME aml-sdk-conda-env\n",
      " ---> Using cache\n",
      " ---> 59a7a90dcecd\n",
      "Step 7/11 : RUN /opt/conda/bin/conda env create -q --name $CONDA_ENV_NAME -f /tmp/aml_sdk_conda_dep_file.yml &&     /opt/conda/bin/conda clean  --yes --all\n",
      " ---> Using cache\n",
      " ---> 597b9e451f5e\n",
      "Step 8/11 : ENV CONDA_AUTO_UPDATE_CONDA=false\n",
      " ---> Using cache\n",
      " ---> f7cd18778cd1\n",
      "Step 9/11 : ENV CONDA_DEFAULT_ENV=$CONDA_ENV_NAME\n",
      " ---> Using cache\n",
      " ---> 53aa6b573898\n",
      "Step 10/11 : ENV CONDA_PREFIX=$CONDA_DIR/envs/$CONDA_DEFAULT_ENV\n",
      " ---> Using cache\n",
      " ---> 25ce6a5a7c92\n",
      "Step 11/11 : ENV PATH=$CONDA_PREFIX/bin:/opt/conda/bin:$PATH\n",
      " ---> Using cache\n",
      " ---> 761f005e87c8\n",
      "Successfully built 761f005e87c8\n",
      "Successfully tagged georgedockeraccount/aml-sdk_docker_image:sdk.v1.0.41\n",
      "Sending build context to Docker daemon  4.608kB\n",
      "Step 1/17 : FROM continuumio/miniconda3:4.6.14 as AzureMLSDKOnly\n",
      " ---> 6b5cf97566c3\n",
      "Step 2/17 : MAINTAINER George Iordanescu <ghiordan@microsoft.com>\n",
      " ---> Using cache\n",
      " ---> decc10e91628\n",
      "Step 3/17 : RUN apt-get update --fix-missing && apt-get install -y --no-install-recommends     gcc g++     wget bzip2     curl apt-transport-https lsb-release gpg     git make &&     apt-get clean &&     rm -rf /var/lib/apt/lists/*\n",
      " ---> Using cache\n",
      " ---> 019ae2fc4ed9\n",
      "Step 4/17 : ADD aml_sdk_conda_dep_file.yml /tmp/aml_sdk_conda_dep_file.yml\n",
      " ---> Using cache\n",
      " ---> c3492aed2c57\n",
      "Step 5/17 : ENV CONDA_DIR /opt/conda\n",
      " ---> Using cache\n",
      " ---> bfb29ef9b2f3\n",
      "Step 6/17 : ENV CONDA_ENV_NAME aml-sdk-conda-env\n",
      " ---> Using cache\n",
      " ---> 59a7a90dcecd\n",
      "Step 7/17 : RUN /opt/conda/bin/conda env create -q --name $CONDA_ENV_NAME -f /tmp/aml_sdk_conda_dep_file.yml &&     /opt/conda/bin/conda clean  --yes --all\n",
      " ---> Using cache\n",
      " ---> 597b9e451f5e\n",
      "Step 8/17 : ENV CONDA_AUTO_UPDATE_CONDA=false\n",
      " ---> Using cache\n",
      " ---> f7cd18778cd1\n",
      "Step 9/17 : ENV CONDA_DEFAULT_ENV=$CONDA_ENV_NAME\n",
      " ---> Using cache\n",
      " ---> 53aa6b573898\n",
      "Step 10/17 : ENV CONDA_PREFIX=$CONDA_DIR/envs/$CONDA_DEFAULT_ENV\n",
      " ---> Using cache\n",
      " ---> 25ce6a5a7c92\n",
      "Step 11/17 : ENV PATH=$CONDA_PREFIX/bin:/opt/conda/bin:$PATH\n",
      " ---> Using cache\n",
      " ---> 761f005e87c8\n",
      "Step 12/17 : FROM AzureMLSDKOnly as AzureMLSDKAndAzCli\n",
      " ---> 761f005e87c8\n",
      "Step 13/17 : ENV AZ_CLI_REPO=stretch\n",
      " ---> Using cache\n",
      " ---> 605024ebf04e\n",
      "Step 14/17 : RUN echo \"deb [arch=amd64] https://packages.microsoft.com/repos/azure-cli/ $AZ_CLI_REPO main\" |     tee /etc/apt/sources.list.d/azure-cli.list &&     curl -L https://packages.microsoft.com/keys/microsoft.asc | apt-key add - &&     apt-get update &&     apt-get install -y --no-install-recommends     azure-cli\n",
      " ---> Using cache\n",
      " ---> 3af2d6f167cb\n",
      "Step 15/17 : RUN mkdir -p /tmp/azcopy && mkdir -p /azcopy10 &&     wget -O /tmp/azcopy/azcopyv10.tar.gz https://aka.ms/downloadazcopy-v10-linux &&      tar -xf /tmp/azcopy/azcopyv10.tar.gz -C /azcopy10\n",
      " ---> Using cache\n",
      " ---> de3dbd1ce172\n",
      "Step 16/17 : RUN rm -rf /tmp/azcopy\n",
      " ---> Using cache\n",
      " ---> ceb24f697222\n",
      "Step 17/17 : ENV PATH=/azcopy10/azcopy_linux_amd64_10.1.2:$PATH\n",
      " ---> Using cache\n",
      " ---> dd6d69032835\n",
      "Successfully built dd6d69032835\n",
      "Successfully tagged georgedockeraccount/aml-sdk_docker_imageazcli:sdk.v1.0.41\n",
      "Sending build context to Docker daemon  4.608kB\n",
      "Step 1/20 : FROM continuumio/miniconda3:4.6.14 as AzureMLSDKOnly\n",
      " ---> 6b5cf97566c3\n",
      "Step 2/20 : MAINTAINER George Iordanescu <ghiordan@microsoft.com>\n",
      " ---> Using cache\n",
      " ---> decc10e91628\n",
      "Step 3/20 : RUN apt-get update --fix-missing && apt-get install -y --no-install-recommends     gcc g++     wget bzip2     curl apt-transport-https lsb-release gpg     git make &&     apt-get clean &&     rm -rf /var/lib/apt/lists/*\n",
      " ---> Using cache\n",
      " ---> 019ae2fc4ed9\n",
      "Step 4/20 : ADD aml_sdk_conda_dep_file.yml /tmp/aml_sdk_conda_dep_file.yml\n",
      " ---> Using cache\n",
      " ---> c3492aed2c57\n",
      "Step 5/20 : ENV CONDA_DIR /opt/conda\n",
      " ---> Using cache\n",
      " ---> bfb29ef9b2f3\n",
      "Step 6/20 : ENV CONDA_ENV_NAME aml-sdk-conda-env\n",
      " ---> Using cache\n",
      " ---> 59a7a90dcecd\n",
      "Step 7/20 : RUN /opt/conda/bin/conda env create -q --name $CONDA_ENV_NAME -f /tmp/aml_sdk_conda_dep_file.yml &&     /opt/conda/bin/conda clean  --yes --all\n",
      " ---> Using cache\n",
      " ---> 597b9e451f5e\n",
      "Step 8/20 : ENV CONDA_AUTO_UPDATE_CONDA=false\n",
      " ---> Using cache\n",
      " ---> f7cd18778cd1\n",
      "Step 9/20 : ENV CONDA_DEFAULT_ENV=$CONDA_ENV_NAME\n",
      " ---> Using cache\n",
      " ---> 53aa6b573898\n",
      "Step 10/20 : ENV CONDA_PREFIX=$CONDA_DIR/envs/$CONDA_DEFAULT_ENV\n",
      " ---> Using cache\n",
      " ---> 25ce6a5a7c92\n",
      "Step 11/20 : ENV PATH=$CONDA_PREFIX/bin:/opt/conda/bin:$PATH\n",
      " ---> Using cache\n",
      " ---> 761f005e87c8\n",
      "Step 12/20 : FROM AzureMLSDKOnly as AzureMLSDKAndAzCli\n",
      " ---> 761f005e87c8\n",
      "Step 13/20 : ENV AZ_CLI_REPO=stretch\n",
      " ---> Using cache\n",
      " ---> 605024ebf04e\n",
      "Step 14/20 : RUN echo \"deb [arch=amd64] https://packages.microsoft.com/repos/azure-cli/ $AZ_CLI_REPO main\" |     tee /etc/apt/sources.list.d/azure-cli.list &&     curl -L https://packages.microsoft.com/keys/microsoft.asc | apt-key add - &&     apt-get update &&     apt-get install -y --no-install-recommends     azure-cli\n",
      " ---> Using cache\n",
      " ---> 3af2d6f167cb\n",
      "Step 15/20 : RUN mkdir -p /tmp/azcopy && mkdir -p /azcopy10 &&     wget -O /tmp/azcopy/azcopyv10.tar.gz https://aka.ms/downloadazcopy-v10-linux &&      tar -xf /tmp/azcopy/azcopyv10.tar.gz -C /azcopy10\n",
      " ---> Using cache\n",
      " ---> de3dbd1ce172\n",
      "Step 16/20 : RUN rm -rf /tmp/azcopy\n",
      " ---> Using cache\n",
      " ---> ceb24f697222\n",
      "Step 17/20 : ENV PATH=/azcopy10/azcopy_linux_amd64_10.1.2:$PATH\n",
      " ---> Using cache\n",
      " ---> dd6d69032835\n",
      "Step 18/20 : FROM AzureMLSDKAndAzCli as AzureMLSDKAndAzCliAndAZDevOps\n",
      " ---> dd6d69032835\n",
      "Step 19/20 : RUN az extension add --name azure-devops\n",
      " ---> Using cache\n",
      " ---> f96a00f7dced\n",
      "Step 20/20 : CMD /bin/bash\n",
      " ---> Using cache\n",
      " ---> d28a9540b498\n",
      "Successfully built d28a9540b498\n",
      "Successfully tagged georgedockeraccount/aml-sdk_docker_imageazcliazdevops:sdk.v1.0.41\n"
     ]
    }
   ],
   "source": [
    "!echo docker build -t $aml_docker_image_name  --target AzureMLSDKOnly -f $docker_file_path $working_path --no-cache\n",
    "!     docker build -t $aml_docker_image_name  --target AzureMLSDKOnly -f $docker_file_path $working_path\n",
    "!     docker build -t $aml_azcli_docker_image_name  --target AzureMLSDKAndAzCli -f $docker_file_path $working_path\n",
    "!     docker build -t $aml_azcli_azdevops_docker_image_name -f $docker_file_path $working_path\n"
   ]
  },
  {
   "cell_type": "code",
   "execution_count": 10,
   "metadata": {
    "nbpresent": {
     "id": "468b09b6-55a8-4b09-bbc9-f857e41a51e0"
    }
   },
   "outputs": [
    {
     "data": {
      "text/plain": [
       "'/datadrive01/prj/PowerAIWithDocker/amlsdk/docker_run_dir'"
      ]
     },
     "execution_count": 10,
     "metadata": {},
     "output_type": "execute_result"
    },
    {
     "name": "stdout",
     "output_type": "stream",
     "text": [
      "total 8\r\n",
      "-rwxrwxrwx 1 root root 5146 Jun 14 21:46 exported_conda_env.yml\r\n"
     ]
    }
   ],
   "source": [
    "local_dir = !pwd\n",
    "crt_local_dir = os.path.join(*([local_dir.s, 'docker_run_dir']))\n",
    "crt_local_dir \n",
    "!mkdir -p $crt_local_dir\n",
    "!rm -rf $crt_local_dir/test_*\n",
    "!ls -l $crt_local_dir\n",
    "# ! chmod -R ugo=rwx $crt_local_dir"
   ]
  },
  {
   "cell_type": "code",
   "execution_count": 11,
   "metadata": {},
   "outputs": [],
   "source": [
    "# export the resulted conda env\n",
    "!docker run  \\\n",
    "        -v $crt_local_dir:/workspace:rw \\\n",
    "        $aml_docker_image_name \\\n",
    "        /bin/bash -c \"conda env export > /workspace/exported_conda_env.yml\""
   ]
  },
  {
   "cell_type": "code",
   "execution_count": 12,
   "metadata": {},
   "outputs": [],
   "source": [
    "saved_conda_dependency_file = 'aml_sdk_conda_dep_file'+os.getenv('image_version')+'.yml'\n",
    "exported_conda_dependency_file = 'aml_sdk_conda_dep_file_exported'+os.getenv('image_version')+'.yml'\n",
    "\n",
    "!mkdir -p ./docker_history\n",
    "!cp $docker_file_path ./docker_history/\n",
    "!cp $conda_dependency_file_path ./docker_history/$saved_conda_dependency_file\n",
    "!cp {os.path.join(*([crt_local_dir, 'exported_conda_env.yml']))} ./docker_history/$exported_conda_dependency_file\n",
    "\n"
   ]
  },
  {
   "cell_type": "markdown",
   "metadata": {},
   "source": [
    "### To run aml SDK, ssh into a vm, run the command below and then go to: \n",
    "your_vm.eastus2.cloudapp.azure.com:9001/  \n",
    "  \n",
    "Make sure the host port (9001) is open in the VM.  "
   ]
  },
  {
   "cell_type": "code",
   "execution_count": 13,
   "metadata": {},
   "outputs": [
    {
     "name": "stdout",
     "output_type": "stream",
     "text": [
      "docker run -it -p 9001:8888 -v /datadrive01/prj/PowerAIWithDocker/amlsdk/../:/workspace:rw georgedockeraccount/aml-sdk_docker_image:sdk.v1.0.41 /bin/bash -c \"jupyter notebook --notebook-dir=/workspace --ip=* --port=8888 --no-browser --allow-root\"\r\n"
     ]
    }
   ],
   "source": [
    "!echo docker run -it -p 9001:8888 -v $(pwd)/../:/workspace:rw $aml_docker_image_name /bin/bash -c '\"jupyter notebook --notebook-dir=/workspace --ip='*' --port=8888 --no-browser --allow-root\"'"
   ]
  },
  {
   "cell_type": "markdown",
   "metadata": {},
   "source": [
    "### Run short tests\n",
    "Run ' import azureml.core; print(\"AML SDK version:\", azureml.core.VERSION) ' in plain python and in a notebook.\n",
    "  \n",
    "Compare the SDK version against latest AML SDK [relese notes](https://docs.microsoft.com/en-us/azure/machine-learning/service/azure-machine-learning-release-notes)"
   ]
  },
  {
   "cell_type": "code",
   "execution_count": null,
   "metadata": {},
   "outputs": [
    {
     "name": "stdout",
     "output_type": "stream",
     "text": [
      "docker run georgedockeraccount/aml-sdk_docker_image:sdk.v1.0.41 /bin/bash -c python -c 'import azureml.core;print(azureml.core.VERSION)'\n",
      "1.0.41\n",
      "1.0.41\n",
      "azure-cli                         2.0.66\n",
      "\n",
      "acr                                2.2.8\n",
      "acs                                2.4.3\n",
      "advisor                            2.0.0\n",
      "ams                                0.4.6\n",
      "appservice                        0.2.20\n",
      "backup                             1.2.4\n",
      "batch                              4.0.2\n",
      "batchai                            0.4.9\n",
      "billing                            0.2.1\n",
      "botservice                         0.2.1\n",
      "cdn                                0.2.3\n",
      "cloud                              2.1.1\n",
      "cognitiveservices                  0.2.5\n",
      "command-modules-nspkg               2.0.2\n",
      "configure                         2.0.23\n",
      "consumption                        0.4.3\n",
      "container                         0.3.17\n",
      "core                              2.0.66\n",
      "cosmosdb                          0.2.10\n",
      "deploymentmanager                  0.1.0\n",
      "dla                                0.2.5\n",
      "dls                                0.1.9\n",
      "dms                                0.1.3\n",
      "eventgrid                          0.2.3\n",
      "eventhubs                          0.3.6\n",
      "extension                          0.2.5\n",
      "feedback                           2.2.1\n",
      "find                               0.3.3\n",
      "hdinsight                          0.3.4\n",
      "interactive                        0.4.4\n",
      "iot                               0.3.10\n",
      "iotcentral                         0.1.6\n",
      "keyvault                          2.2.15\n",
      "kusto                              0.2.2\n",
      "lab                                0.1.7\n",
      "maps                               0.3.4\n",
      "monitor                           0.2.14\n",
      "natgateway                         0.1.0\n",
      "network                            2.5.1\n",
      "nspkg                              3.0.3\n",
      "policyinsights                     0.1.3\n",
      "privatedns                         1.0.1\n",
      "profile                            2.1.5\n",
      "rdbms                             0.3.11\n",
      "redis                              0.4.3\n",
      "relay                              0.1.4\n",
      "reservations                       0.4.2\n",
      "resource                          2.1.15\n",
      "role                               2.6.3\n",
      "search                             0.1.1\n",
      "security                           0.1.1\n",
      "servicebus                         0.3.5\n",
      "servicefabric                     0.1.19\n",
      "signalr                            1.0.0\n",
      "sql                                2.2.4\n",
      "sqlvm                              0.1.1\n",
      "storage                            2.4.2\n",
      "telemetry                          1.0.2\n",
      "vm                                2.2.22\n",
      "\n",
      "Python location '/opt/az/bin/python3'\n",
      "Extensions directory '/root/.azure/cliextensions'\n",
      "\n",
      "Python (Linux) 3.6.5 (default, May 31 2019, 05:39:36) \n",
      "[GCC 6.3.0 20170516]\n",
      "\n",
      "Legal docs and information: aka.ms/AzureCliLegal\n",
      "\n",
      "\n",
      "Your CLI is up-to-date.\n",
      "AzCopy 10.1.2\n",
      "Project URL: github.com/Azure/azure-storage-azcopy\n",
      "\n",
      "AzCopy is a command line tool that moves data into/out of Azure Storage.\n",
      "To report issues or to learn more about the tool, go to github.com/Azure/azure-storage-azcopy\n",
      "\n",
      "The general format of the commands is: 'azcopy [command] [arguments] --[flag-name]=[flag-value]'.\n",
      "\n",
      "Usage:\n",
      "  azcopy [command]\n",
      "\n",
      "Available Commands:\n",
      "  copy        Copies source data to a destination location\n",
      "  env         Shows the environment variables that can configure AzCopy's behavior\n",
      "  help        Help about any command\n",
      "  jobs        Sub-commands related to managing jobs\n",
      "  list        List the entities in a given resource\n",
      "  login       Log in to Azure Active Directory to access Azure Storage resources.\n",
      "  logout      Log out to terminate access to Azure Storage resources.\n",
      "  make        Create a container/share/filesystem\n",
      "  remove      Delete blobs or files from Azure Storage\n",
      "  sync        Replicate source to the destination location\n",
      "\n",
      "Flags:\n",
      "  -h, --help                 help for azcopy\n",
      "      --output-type string   format of the command's output, the choices include: text, json. (default \"text\")\n",
      "      --version              version for azcopy\n",
      "\n",
      "Use \"azcopy [command] --help\" for more information about a command.\n"
     ]
    }
   ],
   "source": [
    "!echo docker run  $aml_docker_image_name /bin/bash -c \"python -c 'import azureml.core;print(azureml.core.VERSION)'\"\n",
    "!docker run  $aml_docker_image_name /bin/bash -c \"python -c 'import azureml.core;print(azureml.core.VERSION)'\"\n",
    "\n",
    "!docker run  $aml_azcli_docker_image_name /bin/bash -c \"python -c 'import azureml.core;print(azureml.core.VERSION)'; az --version; azcopy -h\"\n",
    "!docker run  $aml_azcli_azdevops_docker_image_name /bin/bash -c \"python -c 'import azureml.core;print(azureml.core.VERSION)'; az --version; az devops -h\"\n"
   ]
  },
  {
   "cell_type": "markdown",
   "metadata": {},
   "source": [
    "#### Do the same in a  notebook"
   ]
  },
  {
   "cell_type": "code",
   "execution_count": null,
   "metadata": {},
   "outputs": [],
   "source": [
    "test_notebook_base_name = 'test_aml_sdk_docker_image'\n",
    "test_notebook_name = test_notebook_base_name+'.ipynb'"
   ]
  },
  {
   "cell_type": "code",
   "execution_count": null,
   "metadata": {},
   "outputs": [],
   "source": [
    "%%writefile $crt_local_dir/$test_notebook_name\n",
    "\n",
    "{\n",
    " \"cells\": [\n",
    "  {\n",
    "   \"cell_type\": \"code\",\n",
    "   \"execution_count\": 3,\n",
    "   \"metadata\": {},\n",
    "   \"outputs\": [\n",
    "    {\n",
    "     \"name\": \"stdout\",\n",
    "     \"output_type\": \"stream\",\n",
    "     \"text\": [\n",
    "      \"AML SDK version: 0.1.68\\n\"\n",
    "     ]\n",
    "    }\n",
    "   ],\n",
    "   \"source\": [\n",
    "    \"# Check core SDK version number\\n\",\n",
    "    \"import azureml.core\\n\",\n",
    "    \"\\n\",\n",
    "    \"print(\\\"AML SDK version:\\\", azureml.core.VERSION)\"\n",
    "   ]\n",
    "  },\n",
    "  {\n",
    "   \"cell_type\": \"code\",\n",
    "   \"execution_count\": null,\n",
    "   \"metadata\": {},\n",
    "   \"outputs\": [],\n",
    "   \"source\": []\n",
    "  }\n",
    " ],\n",
    " \"metadata\": {\n",
    "  \"kernelspec\": {\n",
    "   \"display_name\": \"Python [conda env:aml-sdk-conda-env]\",\n",
    "   \"language\": \"python\",\n",
    "   \"name\": \"conda-env-aml-sdk-conda-env-py\"\n",
    "  },\n",
    "  \"language_info\": {\n",
    "   \"codemirror_mode\": {\n",
    "    \"name\": \"ipython\",\n",
    "    \"version\": 3\n",
    "   },\n",
    "   \"file_extension\": \".py\",\n",
    "   \"mimetype\": \"text/x-python\",\n",
    "   \"name\": \"python\",\n",
    "   \"nbconvert_exporter\": \"python\",\n",
    "   \"pygments_lexer\": \"ipython3\",\n",
    "   \"version\": \"3.6.6\"\n",
    "  }\n",
    " },\n",
    " \"nbformat\": 4,\n",
    " \"nbformat_minor\": 2\n",
    "}\n"
   ]
  },
  {
   "cell_type": "code",
   "execution_count": null,
   "metadata": {},
   "outputs": [],
   "source": [
    "!ls -l $crt_local_dir"
   ]
  },
  {
   "cell_type": "markdown",
   "metadata": {},
   "source": [
    "#### Run the notebook and see the new SDK version\n"
   ]
  },
  {
   "cell_type": "code",
   "execution_count": null,
   "metadata": {},
   "outputs": [],
   "source": [
    "!docker run -v $crt_local_dir:/workspace:rw $aml_docker_image_name /bin/bash -c \"jupyter kernelspec list && jupyter nbconvert --ExecutePreprocessor.kernel_name=python3 --execute --to notebook  /workspace/test_aml_sdk_docker_image.ipynb\""
   ]
  },
  {
   "cell_type": "code",
   "execution_count": null,
   "metadata": {},
   "outputs": [],
   "source": [
    "output_file = test_notebook_base_name+'.nbconvert.ipynb'\n",
    "!cat $crt_local_dir/$output_file"
   ]
  },
  {
   "cell_type": "markdown",
   "metadata": {},
   "source": [
    "#### Push image to ([dockerhub](https://hub.docker.com/)) registry (optional step)"
   ]
  },
  {
   "cell_type": "code",
   "execution_count": null,
   "metadata": {},
   "outputs": [],
   "source": [
    "# !docker login -u=$docker_login -p=\n",
    "!docker push $aml_docker_image_name\n",
    "!docker push $aml_azcli_docker_image_name\n",
    "!docker push $aml_azcli_azdevops_docker_image_name"
   ]
  },
  {
   "cell_type": "code",
   "execution_count": null,
   "metadata": {
    "nbpresent": {
     "id": "3cac05d2-2fbc-420e-90c3-823f734fe26e"
    }
   },
   "outputs": [],
   "source": [
    "!jupyter nbconvert --to html createAMLSDKDocker.ipynb"
   ]
  }
 ],
 "metadata": {
  "kernelspec": {
   "display_name": "Python [conda env:py35]",
   "language": "python",
   "name": "conda-env-py35-py"
  },
  "language_info": {
   "codemirror_mode": {
    "name": "ipython",
    "version": 3
   },
   "file_extension": ".py",
   "mimetype": "text/x-python",
   "name": "python",
   "nbconvert_exporter": "python",
   "pygments_lexer": "ipython3",
   "version": "3.5.5"
  }
 },
 "nbformat": 4,
 "nbformat_minor": 2
}
