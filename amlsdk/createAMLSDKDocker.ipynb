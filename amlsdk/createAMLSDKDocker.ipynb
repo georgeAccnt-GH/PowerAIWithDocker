{
 "cells": [
  {
   "cell_type": "markdown",
   "metadata": {},
   "source": [
    "### Create AML SDK docker file and build and test image"
   ]
  },
  {
   "cell_type": "markdown",
   "metadata": {},
   "source": [
    "To run this notebook, start it via a plain Jupyter notebook session on your Ubuntu_Azure_VM:\n",
    "\n",
    "* login (ssh) into the VM:\n",
    "```\n",
    "loginname1@Ubuntu_Azure_VM:/datadrive01/prj/regularR_Realtime$ jupyter notebook --notebook-dir=$(pwd) --ip='*' --port=9000 --no-browser --allow-root\n",
    "```\n",
    "  \n",
    "   \n",
    "* then go to:    \n",
    "http://Ubuntu_Azure_VM.eastus2.cloudapp.azure.com:9000/ \n",
    "  \n",
    "  \n",
    "Note: As of 02/13/2019, latest versions are:  \n",
    "Python 3.7.2 (https://www.python.org/downloads/, https://anaconda.org/anaconda/python)  \n",
    "miniconda3 4.5.12 (https://hub.docker.com/r/continuumio/miniconda3/tags)  \n",
    "AML SDK  v.1.0.15 (https://docs.microsoft.com/en-us/python/api/overview/azure/ml/install?view=azure-ml-py)  \n",
    "Ubuntu 19.04 (https://hub.docker.com/_/ubuntu?tab=tags)  "
   ]
  },
  {
   "cell_type": "code",
   "execution_count": 1,
   "metadata": {},
   "outputs": [],
   "source": [
    "# Allow multiple displays per cell\n",
    "from IPython.core.interactiveshell import InteractiveShell\n",
    "InteractiveShell.ast_node_interactivity = \"all\" "
   ]
  },
  {
   "cell_type": "code",
   "execution_count": 2,
   "metadata": {
    "nbpresent": {
     "id": "4ccb1b65-3d22-42d6-900b-dfcf80c59f9a"
    }
   },
   "outputs": [],
   "source": [
    "%load_ext dotenv\n",
    "# import dotenv\n",
    "# print (dir(dotenv))"
   ]
  },
  {
   "cell_type": "code",
   "execution_count": 3,
   "metadata": {
    "nbpresent": {
     "id": "799f7d9a-13d5-462d-982b-cdaf17bcbb25"
    }
   },
   "outputs": [
    {
     "name": "stdout",
     "output_type": "stream",
     "text": [
      "Overwriting .env\n"
     ]
    }
   ],
   "source": [
    "%%writefile .env\n",
    "\n",
    "# Your docker login and image repository name\n",
    "docker_login = 'georgedockeraccount'\n",
    "image_tag = \"aml-sdk_docker_image\"\n",
    "image_version = 'sdk.v.1.0.17'"
   ]
  },
  {
   "cell_type": "code",
   "execution_count": 4,
   "metadata": {
    "nbpresent": {
     "id": "9d0e3def-da72-4a6f-934a-6aa251a2be7a"
    }
   },
   "outputs": [],
   "source": [
    "%dotenv\n",
    "docker_file_location = 'docker'\n",
    "conda_dependency_file = 'aml_sdk_conda_dep_file.yml'\n",
    "\n",
    "import os\n",
    "docker_file_name = 'dockerfile'+ '_' + os.getenv('image_tag') + '_' + os.getenv('image_version')"
   ]
  },
  {
   "cell_type": "code",
   "execution_count": 5,
   "metadata": {
    "nbpresent": {
     "id": "5df01165-3fcc-431c-89b0-a934207b1fa7"
    }
   },
   "outputs": [
    {
     "data": {
      "text/plain": [
       "'/datadrive01/prj/PowerAIWithDocker/amlsdk/docker'"
      ]
     },
     "execution_count": 5,
     "metadata": {},
     "output_type": "execute_result"
    },
    {
     "data": {
      "text/plain": [
       "'/datadrive01/prj/PowerAIWithDocker/amlsdk/docker/dockerfile_aml-sdk_docker_image_sdk.v.1.0.17'"
      ]
     },
     "execution_count": 5,
     "metadata": {},
     "output_type": "execute_result"
    },
    {
     "data": {
      "text/plain": [
       "'/datadrive01/prj/PowerAIWithDocker/amlsdk/docker/aml_sdk_conda_dep_file.yml'"
      ]
     },
     "execution_count": 5,
     "metadata": {},
     "output_type": "execute_result"
    },
    {
     "name": "stdout",
     "output_type": "stream",
     "text": [
      "total 0\r\n"
     ]
    }
   ],
   "source": [
    "local_dir = !pwd\n",
    "docker_file_dir = os.path.join(*([local_dir.s, docker_file_location]))\n",
    "docker_file_dir\n",
    " \n",
    "docker_file_path = os.path.join(*([docker_file_dir]+[docker_file_name]))\n",
    "docker_file_path\n",
    "\n",
    "conda_dependency_file_path = os.path.join(*([docker_file_dir]+[conda_dependency_file]))\n",
    "conda_dependency_file_path\n",
    "\n",
    "!mkdir -p {docker_file_dir}\n",
    "! chmod -R ugo=rwx $docker_file_dir\n",
    "!rm -rf $docker_file_dir/*\n",
    "!ls -l $docker_file_dir"
   ]
  },
  {
   "cell_type": "code",
   "execution_count": 6,
   "metadata": {
    "nbpresent": {
     "id": "5cd2704f-7ad0-445d-a0f1-ffd318e6ddca"
    }
   },
   "outputs": [
    {
     "name": "stdout",
     "output_type": "stream",
     "text": [
      "Writing /datadrive01/prj/PowerAIWithDocker/amlsdk/docker/aml_sdk_conda_dep_file.yml\n"
     ]
    }
   ],
   "source": [
    "%%writefile $conda_dependency_file_path\n",
    "name: aml_sdk_conda_env02\n",
    "    \n",
    "channels:\n",
    "  - anaconda\n",
    "dependencies:\n",
    "  - python=3.6 # 3.6 req by tf, which seems to be req by automl, not 3.7.2 \n",
    "  - numpy\n",
    "  - cython\n",
    "  - notebook \n",
    "  - nb_conda\n",
    "  - scikit-learn\n",
    "  - pip:\n",
    "    - python-dotenv\n",
    "    - azureml-sdk[notebooks,automl,explain] "
   ]
  },
  {
   "cell_type": "code",
   "execution_count": 7,
   "metadata": {
    "nbpresent": {
     "id": "2168b1a2-9e5a-4812-be38-fd98a42a568f"
    }
   },
   "outputs": [
    {
     "name": "stdout",
     "output_type": "stream",
     "text": [
      "Writing /datadrive01/prj/PowerAIWithDocker/amlsdk/docker/dockerfile_aml-sdk_docker_image_sdk.v.1.0.17\n"
     ]
    }
   ],
   "source": [
    "%%writefile $docker_file_path \n",
    "\n",
    "FROM continuumio/miniconda3:4.5.12\n",
    "MAINTAINER George Iordanescu <ghiordan@microsoft.com>\n",
    "\n",
    "# basic system packages, plus gcc\n",
    "RUN apt-get update --fix-missing && apt-get install -y --no-install-recommends \\\n",
    "    gcc g++ \\\n",
    "    wget bzip2 ca-certificates curl git && \\\n",
    "    apt-get clean && \\\n",
    "    rm -rf /var/lib/apt/lists/*\n",
    "\n",
    "ADD aml_sdk_conda_dep_file.yml /tmp/aml_sdk_conda_dep_file.yml\n",
    "ENV CONDA_DIR /opt/conda\n",
    "ENV CONDA_ENV_NAME aml-sdk-conda-env    \n",
    "\n",
    "# reate aml sdk conda env defined by .yml file\n",
    "RUN /opt/conda/bin/conda env create -q --name $CONDA_ENV_NAME -f /tmp/aml_sdk_conda_dep_file.yml && \\\n",
    "    /opt/conda/bin/conda clean  --yes --all \n",
    "ENV CONDA_AUTO_UPDATE_CONDA=false\n",
    "ENV CONDA_DEFAULT_ENV=$CONDA_ENV_NAME\n",
    "ENV CONDA_PREFIX=$CONDA_DIR/envs/$CONDA_DEFAULT_ENV\n",
    "ENV PATH=$CONDA_PREFIX/bin:/opt/conda/bin:$PATH         \n",
    "\n",
    "CMD /bin/bash\n"
   ]
  },
  {
   "cell_type": "code",
   "execution_count": 8,
   "metadata": {
    "nbpresent": {
     "id": "527cb6fe-fd7b-48fd-8c28-2e59ced35adc"
    }
   },
   "outputs": [
    {
     "data": {
      "text/plain": [
       "'/datadrive01/prj/PowerAIWithDocker/amlsdk/docker/dockerfile_aml-sdk_docker_image_sdk.v.1.0.17'"
      ]
     },
     "execution_count": 8,
     "metadata": {},
     "output_type": "execute_result"
    },
    {
     "data": {
      "text/plain": [
       "'georgedockeraccount/aml-sdk_docker_image:sdk.v.1.0.17'"
      ]
     },
     "execution_count": 8,
     "metadata": {},
     "output_type": "execute_result"
    },
    {
     "data": {
      "text/plain": [
       "'/datadrive01/prj/PowerAIWithDocker/amlsdk/docker'"
      ]
     },
     "execution_count": 8,
     "metadata": {},
     "output_type": "execute_result"
    },
    {
     "name": "stdout",
     "output_type": "stream",
     "text": [
      "total 8\r\n",
      "-rw-rw-r-- 1 loginvm001 loginvm001 282 Feb 26 17:26 aml_sdk_conda_dep_file.yml\r\n",
      "-rw-rw-r-- 1 loginvm001 loginvm001 840 Feb 26 17:26 dockerfile_aml-sdk_docker_image_sdk.v.1.0.17\r\n"
     ]
    }
   ],
   "source": [
    "%dotenv\n",
    "\n",
    "#add docker image version info only if image_version has been set to a non-empty string, otherwise let docker increment it\n",
    "image_version_string = os.getenv('image_version')\n",
    "if image_version_string!=\"\":\n",
    "    image_version_string = ':'  + image_version_string\n",
    "    \n",
    "docker_image_name = os.getenv('docker_login') + '/' + os.getenv('image_tag') + image_version_string\n",
    "\n",
    "\n",
    "docker_file_path\n",
    "docker_image_name\n",
    "docker_file_dir\n",
    "\n",
    "working_path = docker_file_dir\n",
    "! ls -l $working_path\n"
   ]
  },
  {
   "cell_type": "code",
   "execution_count": 9,
   "metadata": {
    "nbpresent": {
     "id": "fba50410-e46c-4645-a1cc-64c390125adf"
    }
   },
   "outputs": [
    {
     "name": "stdout",
     "output_type": "stream",
     "text": [
      "docker build -t georgedockeraccount/aml-sdk_docker_image:sdk.v.1.0.17 -f /datadrive01/prj/PowerAIWithDocker/amlsdk/docker/dockerfile_aml-sdk_docker_image_sdk.v.1.0.17 /datadrive01/prj/PowerAIWithDocker/amlsdk/docker --no-cache\n",
      "Sending build context to Docker daemon  3.584kB\n",
      "Step 1/12 : FROM continuumio/miniconda3:4.5.12\n",
      " ---> ae46c364060f\n",
      "Step 2/12 : MAINTAINER George Iordanescu <ghiordan@microsoft.com>\n",
      " ---> Running in 61a79cf045d6\n",
      "Removing intermediate container 61a79cf045d6\n",
      " ---> 768cc7331bc3\n",
      "Step 3/12 : RUN apt-get update --fix-missing && apt-get install -y --no-install-recommends     gcc g++     wget bzip2 ca-certificates curl git &&     apt-get clean &&     rm -rf /var/lib/apt/lists/*\n",
      " ---> Running in 7e8e8639ea69\n",
      "Ign:1 http://deb.debian.org/debian stretch InRelease\n",
      "Get:2 http://deb.debian.org/debian stretch-updates InRelease [91.0 kB]\n",
      "Get:3 http://deb.debian.org/debian stretch Release [118 kB]\n",
      "Get:4 http://deb.debian.org/debian stretch Release.gpg [2434 B]\n",
      "Get:5 http://security.debian.org/debian-security stretch/updates InRelease [94.3 kB]\n",
      "Get:6 http://deb.debian.org/debian stretch-updates/main amd64 Packages [11.1 kB]\n",
      "Get:7 http://deb.debian.org/debian stretch/main amd64 Packages [7084 kB]\n",
      "Get:8 http://security.debian.org/debian-security stretch/updates/main amd64 Packages [474 kB]\n",
      "Fetched 7874 kB in 1s (5269 kB/s)\n",
      "Reading package lists...\n",
      "Reading package lists...\n",
      "Building dependency tree...\n",
      "Reading state information...\n",
      "bzip2 is already the newest version (1.0.6-8.1).\n",
      "ca-certificates is already the newest version (20161130+nmu1+deb9u1).\n",
      "wget is already the newest version (1.18-5+deb9u2).\n",
      "The following additional packages will be installed:\n",
      "  binutils cpp cpp-6 g++-6 gcc-6 libasan3 libatomic1 libc-dev-bin libc6\n",
      "  libc6-dev libcc1-0 libcilkrts5 libcurl3 libgcc-6-dev libgomp1 libisl15\n",
      "  libitm1 liblsan0 libmpc3 libmpfr4 libmpx2 libquadmath0 libstdc++-6-dev\n",
      "  libtsan0 libubsan0 linux-libc-dev\n",
      "Suggested packages:\n",
      "  binutils-doc cpp-doc gcc-6-locales g++-multilib g++-6-multilib gcc-6-doc\n",
      "  libstdc++6-6-dbg gcc-multilib make manpages-dev autoconf automake libtool\n",
      "  flex bison gdb gcc-doc gcc-6-multilib libgcc1-dbg libgomp1-dbg libitm1-dbg\n",
      "  libatomic1-dbg libasan3-dbg liblsan0-dbg libtsan0-dbg libubsan0-dbg\n",
      "  libcilkrts5-dbg libmpx2-dbg libquadmath0-dbg gettext-base git-daemon-run\n",
      "  | git-daemon-sysvinit git-doc git-el git-email git-gui gitk gitweb git-arch\n",
      "  git-cvs git-mediawiki git-svn glibc-doc libc-l10n locales libstdc++-6-doc\n",
      "Recommended packages:\n",
      "  manpages manpages-dev\n",
      "The following NEW packages will be installed:\n",
      "  binutils cpp cpp-6 g++ g++-6 gcc gcc-6 libasan3 libatomic1 libc-dev-bin\n",
      "  libc6-dev libcc1-0 libcilkrts5 libgcc-6-dev libgomp1 libisl15 libitm1\n",
      "  liblsan0 libmpc3 libmpfr4 libmpx2 libquadmath0 libstdc++-6-dev libtsan0\n",
      "  libubsan0 linux-libc-dev\n",
      "The following packages will be upgraded:\n",
      "  curl git libc6 libcurl3\n",
      "4 upgraded, 26 newly installed, 0 to remove and 23 not upgraded.\n",
      "Need to get 41.8 MB of archives.\n",
      "After this operation, 153 MB of additional disk space will be used.\n",
      "Get:1 http://deb.debian.org/debian stretch/main amd64 libc6 amd64 2.24-11+deb9u4 [2694 kB]\n",
      "Get:2 http://deb.debian.org/debian stretch/main amd64 git amd64 1:2.11.0-3+deb9u4 [4167 kB]\n",
      "Get:3 http://deb.debian.org/debian stretch/main amd64 binutils amd64 2.28-5 [3770 kB]\n",
      "Get:4 http://deb.debian.org/debian stretch/main amd64 libisl15 amd64 0.18-1 [564 kB]\n",
      "Get:5 http://deb.debian.org/debian stretch/main amd64 libmpfr4 amd64 3.1.5-1 [556 kB]\n",
      "Get:6 http://deb.debian.org/debian stretch/main amd64 libmpc3 amd64 1.0.3-1+b2 [39.9 kB]\n",
      "Get:7 http://deb.debian.org/debian stretch/main amd64 cpp-6 amd64 6.3.0-18+deb9u1 [6584 kB]\n",
      "Get:8 http://deb.debian.org/debian stretch/main amd64 cpp amd64 4:6.3.0-4 [18.7 kB]\n",
      "Get:9 http://deb.debian.org/debian stretch/main amd64 curl amd64 7.52.1-5+deb9u9 [227 kB]\n",
      "Get:10 http://deb.debian.org/debian stretch/main amd64 libcurl3 amd64 7.52.1-5+deb9u9 [292 kB]\n",
      "Get:11 http://deb.debian.org/debian stretch/main amd64 libcc1-0 amd64 6.3.0-18+deb9u1 [30.6 kB]\n",
      "Get:12 http://deb.debian.org/debian stretch/main amd64 libgomp1 amd64 6.3.0-18+deb9u1 [73.3 kB]\n",
      "Get:13 http://deb.debian.org/debian stretch/main amd64 libitm1 amd64 6.3.0-18+deb9u1 [27.3 kB]\n",
      "Get:14 http://deb.debian.org/debian stretch/main amd64 libatomic1 amd64 6.3.0-18+deb9u1 [8966 B]\n",
      "Get:15 http://deb.debian.org/debian stretch/main amd64 libasan3 amd64 6.3.0-18+deb9u1 [311 kB]\n",
      "Get:16 http://deb.debian.org/debian stretch/main amd64 liblsan0 amd64 6.3.0-18+deb9u1 [115 kB]\n",
      "Get:17 http://deb.debian.org/debian stretch/main amd64 libtsan0 amd64 6.3.0-18+deb9u1 [257 kB]\n",
      "Get:18 http://deb.debian.org/debian stretch/main amd64 libubsan0 amd64 6.3.0-18+deb9u1 [107 kB]\n",
      "Get:19 http://deb.debian.org/debian stretch/main amd64 libcilkrts5 amd64 6.3.0-18+deb9u1 [40.5 kB]\n",
      "Get:20 http://deb.debian.org/debian stretch/main amd64 libmpx2 amd64 6.3.0-18+deb9u1 [11.2 kB]\n",
      "Get:21 http://deb.debian.org/debian stretch/main amd64 libquadmath0 amd64 6.3.0-18+deb9u1 [131 kB]\n",
      "Get:22 http://deb.debian.org/debian stretch/main amd64 libgcc-6-dev amd64 6.3.0-18+deb9u1 [2296 kB]\n",
      "Get:23 http://deb.debian.org/debian stretch/main amd64 gcc-6 amd64 6.3.0-18+deb9u1 [6900 kB]\n",
      "Get:24 http://deb.debian.org/debian stretch/main amd64 gcc amd64 4:6.3.0-4 [5196 B]\n",
      "Get:25 http://deb.debian.org/debian stretch/main amd64 libc-dev-bin amd64 2.24-11+deb9u4 [259 kB]\n",
      "Get:26 http://deb.debian.org/debian stretch-updates/main amd64 linux-libc-dev amd64 4.9.144-3.1 [1394 kB]\n",
      "Get:27 http://deb.debian.org/debian stretch/main amd64 libc6-dev amd64 2.24-11+deb9u4 [2364 kB]\n",
      "Get:28 http://deb.debian.org/debian stretch/main amd64 libstdc++-6-dev amd64 6.3.0-18+deb9u1 [1420 kB]\n",
      "Get:29 http://deb.debian.org/debian stretch/main amd64 g++-6 amd64 6.3.0-18+deb9u1 [7094 kB]\n",
      "Get:30 http://deb.debian.org/debian stretch/main amd64 g++ amd64 4:6.3.0-4 [1546 B]\n",
      "\u001b[91mdebconf: delaying package configuration, since apt-utils is not installed\n",
      "\u001b[0mFetched 41.8 MB in 5s (7431 kB/s)\n",
      "(Reading database ... 10360 files and directories currently installed.)\n",
      "Preparing to unpack .../libc6_2.24-11+deb9u4_amd64.deb ...\n",
      "debconf: unable to initialize frontend: Dialog\n",
      "debconf: (TERM is not set, so the dialog frontend is not usable.)\n",
      "debconf: falling back to frontend: Readline\n",
      "Unpacking libc6:amd64 (2.24-11+deb9u4) over (2.24-11+deb9u3) ...\n",
      "Setting up libc6:amd64 (2.24-11+deb9u4) ...\n",
      "debconf: unable to initialize frontend: Dialog\n",
      "debconf: (TERM is not set, so the dialog frontend is not usable.)\n",
      "debconf: falling back to frontend: Readline\n",
      "(Reading database ... 10360 files and directories currently installed.)\n",
      "Preparing to unpack .../00-git_1%3a2.11.0-3+deb9u4_amd64.deb ...\n",
      "Unpacking git (1:2.11.0-3+deb9u4) over (1:2.11.0-3+deb9u3) ...\n",
      "Selecting previously unselected package binutils.\n",
      "Preparing to unpack .../01-binutils_2.28-5_amd64.deb ...\n",
      "Unpacking binutils (2.28-5) ...\n",
      "Selecting previously unselected package libisl15:amd64.\n",
      "Preparing to unpack .../02-libisl15_0.18-1_amd64.deb ...\n",
      "Unpacking libisl15:amd64 (0.18-1) ...\n",
      "Selecting previously unselected package libmpfr4:amd64.\n",
      "Preparing to unpack .../03-libmpfr4_3.1.5-1_amd64.deb ...\n",
      "Unpacking libmpfr4:amd64 (3.1.5-1) ...\n",
      "Selecting previously unselected package libmpc3:amd64.\n",
      "Preparing to unpack .../04-libmpc3_1.0.3-1+b2_amd64.deb ...\n",
      "Unpacking libmpc3:amd64 (1.0.3-1+b2) ...\n",
      "Selecting previously unselected package cpp-6.\n",
      "Preparing to unpack .../05-cpp-6_6.3.0-18+deb9u1_amd64.deb ...\n",
      "Unpacking cpp-6 (6.3.0-18+deb9u1) ...\n",
      "Selecting previously unselected package cpp.\n",
      "Preparing to unpack .../06-cpp_4%3a6.3.0-4_amd64.deb ...\n",
      "Unpacking cpp (4:6.3.0-4) ...\n",
      "Preparing to unpack .../07-curl_7.52.1-5+deb9u9_amd64.deb ...\n",
      "Unpacking curl (7.52.1-5+deb9u9) over (7.52.1-5+deb9u7) ...\n",
      "Preparing to unpack .../08-libcurl3_7.52.1-5+deb9u9_amd64.deb ...\n",
      "Unpacking libcurl3:amd64 (7.52.1-5+deb9u9) over (7.52.1-5+deb9u7) ...\n",
      "Selecting previously unselected package libcc1-0:amd64.\n",
      "Preparing to unpack .../09-libcc1-0_6.3.0-18+deb9u1_amd64.deb ...\n",
      "Unpacking libcc1-0:amd64 (6.3.0-18+deb9u1) ...\n",
      "Selecting previously unselected package libgomp1:amd64.\n",
      "Preparing to unpack .../10-libgomp1_6.3.0-18+deb9u1_amd64.deb ...\n",
      "Unpacking libgomp1:amd64 (6.3.0-18+deb9u1) ...\n"
     ]
    },
    {
     "name": "stdout",
     "output_type": "stream",
     "text": [
      "Selecting previously unselected package libitm1:amd64.\n",
      "Preparing to unpack .../11-libitm1_6.3.0-18+deb9u1_amd64.deb ...\n",
      "Unpacking libitm1:amd64 (6.3.0-18+deb9u1) ...\n",
      "Selecting previously unselected package libatomic1:amd64.\n",
      "Preparing to unpack .../12-libatomic1_6.3.0-18+deb9u1_amd64.deb ...\n",
      "Unpacking libatomic1:amd64 (6.3.0-18+deb9u1) ...\n",
      "Selecting previously unselected package libasan3:amd64.\n",
      "Preparing to unpack .../13-libasan3_6.3.0-18+deb9u1_amd64.deb ...\n",
      "Unpacking libasan3:amd64 (6.3.0-18+deb9u1) ...\n",
      "Selecting previously unselected package liblsan0:amd64.\n",
      "Preparing to unpack .../14-liblsan0_6.3.0-18+deb9u1_amd64.deb ...\n",
      "Unpacking liblsan0:amd64 (6.3.0-18+deb9u1) ...\n",
      "Selecting previously unselected package libtsan0:amd64.\n",
      "Preparing to unpack .../15-libtsan0_6.3.0-18+deb9u1_amd64.deb ...\n",
      "Unpacking libtsan0:amd64 (6.3.0-18+deb9u1) ...\n",
      "Selecting previously unselected package libubsan0:amd64.\n",
      "Preparing to unpack .../16-libubsan0_6.3.0-18+deb9u1_amd64.deb ...\n",
      "Unpacking libubsan0:amd64 (6.3.0-18+deb9u1) ...\n",
      "Selecting previously unselected package libcilkrts5:amd64.\n",
      "Preparing to unpack .../17-libcilkrts5_6.3.0-18+deb9u1_amd64.deb ...\n",
      "Unpacking libcilkrts5:amd64 (6.3.0-18+deb9u1) ...\n",
      "Selecting previously unselected package libmpx2:amd64.\n",
      "Preparing to unpack .../18-libmpx2_6.3.0-18+deb9u1_amd64.deb ...\n",
      "Unpacking libmpx2:amd64 (6.3.0-18+deb9u1) ...\n",
      "Selecting previously unselected package libquadmath0:amd64.\n",
      "Preparing to unpack .../19-libquadmath0_6.3.0-18+deb9u1_amd64.deb ...\n",
      "Unpacking libquadmath0:amd64 (6.3.0-18+deb9u1) ...\n",
      "Selecting previously unselected package libgcc-6-dev:amd64.\n",
      "Preparing to unpack .../20-libgcc-6-dev_6.3.0-18+deb9u1_amd64.deb ...\n",
      "Unpacking libgcc-6-dev:amd64 (6.3.0-18+deb9u1) ...\n",
      "Selecting previously unselected package gcc-6.\n",
      "Preparing to unpack .../21-gcc-6_6.3.0-18+deb9u1_amd64.deb ...\n",
      "Unpacking gcc-6 (6.3.0-18+deb9u1) ...\n",
      "Selecting previously unselected package gcc.\n",
      "Preparing to unpack .../22-gcc_4%3a6.3.0-4_amd64.deb ...\n",
      "Unpacking gcc (4:6.3.0-4) ...\n",
      "Selecting previously unselected package libc-dev-bin.\n",
      "Preparing to unpack .../23-libc-dev-bin_2.24-11+deb9u4_amd64.deb ...\n",
      "Unpacking libc-dev-bin (2.24-11+deb9u4) ...\n",
      "Selecting previously unselected package linux-libc-dev:amd64.\n",
      "Preparing to unpack .../24-linux-libc-dev_4.9.144-3.1_amd64.deb ...\n",
      "Unpacking linux-libc-dev:amd64 (4.9.144-3.1) ...\n",
      "Selecting previously unselected package libc6-dev:amd64.\n",
      "Preparing to unpack .../25-libc6-dev_2.24-11+deb9u4_amd64.deb ...\n",
      "Unpacking libc6-dev:amd64 (2.24-11+deb9u4) ...\n",
      "Selecting previously unselected package libstdc++-6-dev:amd64.\n",
      "Preparing to unpack .../26-libstdc++-6-dev_6.3.0-18+deb9u1_amd64.deb ...\n",
      "Unpacking libstdc++-6-dev:amd64 (6.3.0-18+deb9u1) ...\n",
      "Selecting previously unselected package g++-6.\n",
      "Preparing to unpack .../27-g++-6_6.3.0-18+deb9u1_amd64.deb ...\n",
      "Unpacking g++-6 (6.3.0-18+deb9u1) ...\n",
      "Selecting previously unselected package g++.\n",
      "Preparing to unpack .../28-g++_4%3a6.3.0-4_amd64.deb ...\n",
      "Unpacking g++ (4:6.3.0-4) ...\n",
      "Setting up libquadmath0:amd64 (6.3.0-18+deb9u1) ...\n",
      "Setting up libgomp1:amd64 (6.3.0-18+deb9u1) ...\n",
      "Setting up libatomic1:amd64 (6.3.0-18+deb9u1) ...\n",
      "Setting up libcc1-0:amd64 (6.3.0-18+deb9u1) ...\n",
      "Setting up libasan3:amd64 (6.3.0-18+deb9u1) ...\n",
      "Setting up libcurl3:amd64 (7.52.1-5+deb9u9) ...\n",
      "Setting up libcilkrts5:amd64 (6.3.0-18+deb9u1) ...\n",
      "Setting up libubsan0:amd64 (6.3.0-18+deb9u1) ...\n",
      "Setting up libtsan0:amd64 (6.3.0-18+deb9u1) ...\n",
      "Setting up linux-libc-dev:amd64 (4.9.144-3.1) ...\n",
      "Setting up liblsan0:amd64 (6.3.0-18+deb9u1) ...\n",
      "Setting up libmpx2:amd64 (6.3.0-18+deb9u1) ...\n",
      "Setting up libisl15:amd64 (0.18-1) ...\n",
      "Processing triggers for libc-bin (2.24-11+deb9u3) ...\n",
      "Setting up libmpfr4:amd64 (3.1.5-1) ...\n",
      "Setting up libmpc3:amd64 (1.0.3-1+b2) ...\n",
      "Setting up binutils (2.28-5) ...\n",
      "Setting up cpp-6 (6.3.0-18+deb9u1) ...\n",
      "Setting up libc-dev-bin (2.24-11+deb9u4) ...\n",
      "Setting up libc6-dev:amd64 (2.24-11+deb9u4) ...\n",
      "Setting up git (1:2.11.0-3+deb9u4) ...\n",
      "Setting up libitm1:amd64 (6.3.0-18+deb9u1) ...\n",
      "Setting up cpp (4:6.3.0-4) ...\n",
      "Setting up libgcc-6-dev:amd64 (6.3.0-18+deb9u1) ...\n",
      "Setting up libstdc++-6-dev:amd64 (6.3.0-18+deb9u1) ...\n",
      "Setting up curl (7.52.1-5+deb9u9) ...\n",
      "Setting up gcc-6 (6.3.0-18+deb9u1) ...\n",
      "Setting up g++-6 (6.3.0-18+deb9u1) ...\n",
      "Setting up gcc (4:6.3.0-4) ...\n",
      "Setting up g++ (4:6.3.0-4) ...\n",
      "update-alternatives: using /usr/bin/g++ to provide /usr/bin/c++ (c++) in auto mode\n",
      "Processing triggers for libc-bin (2.24-11+deb9u3) ...\n",
      "Removing intermediate container 7e8e8639ea69\n",
      " ---> 48828da7691f\n",
      "Step 4/12 : ADD aml_sdk_conda_dep_file.yml /tmp/aml_sdk_conda_dep_file.yml\n",
      " ---> 7123e85aea6f\n",
      "Step 5/12 : ENV CONDA_DIR /opt/conda\n",
      " ---> Running in 0ca8dc07732c\n",
      "Removing intermediate container 0ca8dc07732c\n",
      " ---> 38d74264f886\n",
      "Step 6/12 : ENV CONDA_ENV_NAME aml-sdk-conda-env\n",
      " ---> Running in 4c04dd8f332b\n",
      "Removing intermediate container 4c04dd8f332b\n",
      " ---> e18bb4376c18\n",
      "Step 7/12 : RUN /opt/conda/bin/conda env create -q --name $CONDA_ENV_NAME -f /tmp/aml_sdk_conda_dep_file.yml &&     /opt/conda/bin/conda clean  --yes --all\n",
      " ---> Running in 1f65b9e5aa0c\n",
      "Solving environment: ...working... done\n",
      "Preparing transaction: ...working... done\n",
      "Verifying transaction: ...working... done\n",
      "Executing transaction: ...working... + /opt/conda/envs/aml-sdk-conda-env/bin/python -m nb_conda_kernels.install --enable\n",
      "Enabling nb_conda_kernels...\n",
      "Status: enabled\n",
      "\n",
      "+ /opt/conda/envs/aml-sdk-conda-env/bin/jupyter-nbextension enable nb_conda --py --sys-prefix\n",
      "Enabling notebook extension nb_conda/main...\n",
      "      - Validating: \u001b[32mOK\u001b[0m\n",
      "Enabling tree extension nb_conda/tree...\n",
      "      - Validating: \u001b[32mOK\u001b[0m\n",
      "+ /opt/conda/envs/aml-sdk-conda-env/bin/jupyter-serverextension enable nb_conda --py --sys-prefix\n",
      "Enabling: nb_conda\n",
      "- Writing config: /opt/conda/envs/aml-sdk-conda-env/etc/jupyter\n",
      "    - Validating...\n",
      "      nb_conda 2.2.1 \u001b[32mOK\u001b[0m\n",
      "\n",
      "done\n",
      "Collecting python-dotenv (from -r /tmp/condaenv.lb7qnqql.requirements.txt (line 1))\n",
      "  Downloading https://files.pythonhosted.org/packages/8c/14/501508b016e7b1ad0eb91bba581e66ad9bfc7c66fcacbb580eaf9bc38458/python_dotenv-0.10.1-py2.py3-none-any.whl\n",
      "Collecting azureml-sdk[automl,explain,notebooks] (from -r /tmp/condaenv.lb7qnqql.requirements.txt (line 2))\n",
      "  Downloading https://files.pythonhosted.org/packages/b3/77/e73a59a701a0f81ce9555c529dae6c4235b0d7ddd8beeecaa8e6024df623/azureml_sdk-1.0.17-py3-none-any.whl\n",
      "Collecting azureml-train==1.0.17.* (from azureml-sdk[automl,explain,notebooks]->-r /tmp/condaenv.lb7qnqql.requirements.txt (line 2))\n",
      "  Downloading https://files.pythonhosted.org/packages/cc/93/e0e72a2cfa22aa9eff29eb458507b6b80f97bd9901413491388793842d47/azureml_train-1.0.17-py3-none-any.whl\n",
      "Collecting azureml-core==1.0.17.* (from azureml-sdk[automl,explain,notebooks]->-r /tmp/condaenv.lb7qnqql.requirements.txt (line 2))\n",
      "  Downloading https://files.pythonhosted.org/packages/98/ce/b520eb458e52d824dc05c056bac25884f5bf8cb67698072bd480d5d3f1f8/azureml_core-1.0.17-py2.py3-none-any.whl (719kB)\n",
      "Collecting azureml-pipeline==1.0.17.* (from azureml-sdk[automl,explain,notebooks]->-r /tmp/condaenv.lb7qnqql.requirements.txt (line 2))\n",
      "  Downloading https://files.pythonhosted.org/packages/b7/f0/51b3550a651b741335d9c08603480c13eab1a96bc2483bd5f5e2107e93b8/azureml_pipeline-1.0.17-py3-none-any.whl\n",
      "Collecting azureml-train-automl==1.0.17.*; extra == \"automl\" (from azureml-sdk[automl,explain,notebooks]->-r /tmp/condaenv.lb7qnqql.requirements.txt (line 2))\n",
      "  Downloading https://files.pythonhosted.org/packages/38/41/dd5152c7b8a124b8028eb0fb82af584ec855b249c1c46836891d39866803/azureml_train_automl-1.0.17-py3-none-any.whl (369kB)\n",
      "Collecting azureml-explain-model==1.0.17.*; extra == \"explain\" (from azureml-sdk[automl,explain,notebooks]->-r /tmp/condaenv.lb7qnqql.requirements.txt (line 2))\n",
      "  Downloading https://files.pythonhosted.org/packages/e6/03/d8af7f291cdda05a5b4ad146485412709d2a0e27280bec374532198ecd45/azureml_explain_model-1.0.17-py3-none-any.whl\n",
      "Collecting azureml-contrib-notebook==1.0.17.*; extra == \"notebooks\" (from azureml-sdk[automl,explain,notebooks]->-r /tmp/condaenv.lb7qnqql.requirements.txt (line 2))\n",
      "  Downloading https://files.pythonhosted.org/packages/a6/a9/50ef0f07e36b72a63cba89c6c5fa95516c664ea3eb20c621b9a84e7f7245/azureml_contrib_notebook-1.0.17-py2.py3-none-any.whl\n",
      "Collecting azureml-widgets==1.0.17.*; extra == \"notebooks\" (from azureml-sdk[automl,explain,notebooks]->-r /tmp/condaenv.lb7qnqql.requirements.txt (line 2))\n"
     ]
    },
    {
     "name": "stdout",
     "output_type": "stream",
     "text": [
      "  Downloading https://files.pythonhosted.org/packages/1e/41/3845b973c744b6314a1e124a81273e6064abcdbf156f40c7296ab7060be5/azureml_widgets-1.0.17-py3-none-any.whl (2.5MB)\n",
      "Collecting azureml-train-core==1.0.17.* (from azureml-train==1.0.17.*->azureml-sdk[automl,explain,notebooks]->-r /tmp/condaenv.lb7qnqql.requirements.txt (line 2))\n",
      "  Downloading https://files.pythonhosted.org/packages/13/6e/cfec5927a693740de14da628f8dbbecb13bb19dad69c6f0a91b096cd93e2/azureml_train_core-1.0.17-py3-none-any.whl\n",
      "Collecting requests>=2.19.1 (from azureml-core==1.0.17.*->azureml-sdk[automl,explain,notebooks]->-r /tmp/condaenv.lb7qnqql.requirements.txt (line 2))\n",
      "  Downloading https://files.pythonhosted.org/packages/7d/e3/20f3d364d6c8e5d2353c72a67778eb189176f08e873c9900e10c0287b84b/requests-2.21.0-py2.py3-none-any.whl (57kB)\n",
      "Collecting azure-mgmt-keyvault>=0.40.0 (from azureml-core==1.0.17.*->azureml-sdk[automl,explain,notebooks]->-r /tmp/condaenv.lb7qnqql.requirements.txt (line 2))\n",
      "  Downloading https://files.pythonhosted.org/packages/49/de/0d69aedae7c5f6428314640b65947203ab80409c12b5d4e66fb5b7a4182e/azure_mgmt_keyvault-1.1.0-py2.py3-none-any.whl (111kB)\n",
      "Collecting jsonpickle (from azureml-core==1.0.17.*->azureml-sdk[automl,explain,notebooks]->-r /tmp/condaenv.lb7qnqql.requirements.txt (line 2))\n",
      "  Downloading https://files.pythonhosted.org/packages/dc/12/8c44eabb501e2bc0aec0dd152b328074d98a50968d3a02be28f6037f0c6a/jsonpickle-1.1-py2.py3-none-any.whl\n",
      "Collecting pathspec (from azureml-core==1.0.17.*->azureml-sdk[automl,explain,notebooks]->-r /tmp/condaenv.lb7qnqql.requirements.txt (line 2))\n",
      "  Downloading https://files.pythonhosted.org/packages/84/2a/bfee636b1e2f7d6e30dd74f49201ccfa5c3cf322d44929ecc6c137c486c5/pathspec-0.5.9.tar.gz\n",
      "Collecting paramiko>=2.0.8 (from azureml-core==1.0.17.*->azureml-sdk[automl,explain,notebooks]->-r /tmp/condaenv.lb7qnqql.requirements.txt (line 2))\n",
      "  Downloading https://files.pythonhosted.org/packages/cf/ae/94e70d49044ccc234bfdba20114fa947d7ba6eb68a2e452d89b920e62227/paramiko-2.4.2-py2.py3-none-any.whl (193kB)\n",
      "Requirement already satisfied: python-dateutil>=2.7.3 in /opt/conda/envs/aml-sdk-conda-env/lib/python3.6/site-packages (from azureml-core==1.0.17.*->azureml-sdk[automl,explain,notebooks]->-r /tmp/condaenv.lb7qnqql.requirements.txt (line 2)) (2.7.5)\n",
      "Collecting backports.tempfile (from azureml-core==1.0.17.*->azureml-sdk[automl,explain,notebooks]->-r /tmp/condaenv.lb7qnqql.requirements.txt (line 2))\n",
      "  Downloading https://files.pythonhosted.org/packages/b4/5c/077f910632476281428fe254807952eb47ca78e720d059a46178c541e669/backports.tempfile-1.0-py2.py3-none-any.whl\n",
      "Collecting azure-mgmt-containerregistry>=2.0.0 (from azureml-core==1.0.17.*->azureml-sdk[automl,explain,notebooks]->-r /tmp/condaenv.lb7qnqql.requirements.txt (line 2))\n",
      "  Downloading https://files.pythonhosted.org/packages/7a/4b/06040d992f93531e32c5f7cf7884f3edfec11f76f802dd9224c1116c3129/azure_mgmt_containerregistry-2.7.0-py2.py3-none-any.whl (509kB)\n",
      "Collecting ruamel.yaml<=0.15.51,>=0.15.35 (from azureml-core==1.0.17.*->azureml-sdk[automl,explain,notebooks]->-r /tmp/condaenv.lb7qnqql.requirements.txt (line 2))\n",
      "  Downloading https://files.pythonhosted.org/packages/d2/7f/9bb3ba89ceab600c4a0ea75d638ea945215ca3458ac6528e0e39fa3254e4/ruamel.yaml-0.15.51-cp36-cp36m-manylinux1_x86_64.whl (640kB)\n",
      "Collecting SecretStorage (from azureml-core==1.0.17.*->azureml-sdk[automl,explain,notebooks]->-r /tmp/condaenv.lb7qnqql.requirements.txt (line 2))\n",
      "  Downloading https://files.pythonhosted.org/packages/82/59/cb226752e20d83598d7fdcabd7819570b0329a61db07cfbdd21b2ef546e3/SecretStorage-3.1.1-py3-none-any.whl\n",
      "Collecting ndg-httpsclient (from azureml-core==1.0.17.*->azureml-sdk[automl,explain,notebooks]->-r /tmp/condaenv.lb7qnqql.requirements.txt (line 2))\n",
      "  Downloading https://files.pythonhosted.org/packages/fb/67/c2f508c00ed2a6911541494504b7cac16fe0b0473912568df65fd1801132/ndg_httpsclient-0.5.1-py3-none-any.whl\n",
      "Collecting docker (from azureml-core==1.0.17.*->azureml-sdk[automl,explain,notebooks]->-r /tmp/condaenv.lb7qnqql.requirements.txt (line 2))\n",
      "  Downloading https://files.pythonhosted.org/packages/7e/3c/b610f22b170b0f8fe4d8f78974878e116562389f666f99e6549567eb9d87/docker-3.7.0-py2.py3-none-any.whl (133kB)\n",
      "Collecting PyJWT (from azureml-core==1.0.17.*->azureml-sdk[automl,explain,notebooks]->-r /tmp/condaenv.lb7qnqql.requirements.txt (line 2))\n",
      "  Downloading https://files.pythonhosted.org/packages/87/8b/6a9f14b5f781697e51259d81657e6048fd31a113229cf346880bb7545565/PyJWT-1.7.1-py2.py3-none-any.whl\n",
      "Requirement already satisfied: six>=1.11.0 in /opt/conda/envs/aml-sdk-conda-env/lib/python3.6/site-packages (from azureml-core==1.0.17.*->azureml-sdk[automl,explain,notebooks]->-r /tmp/condaenv.lb7qnqql.requirements.txt (line 2)) (1.12.0)\n",
      "Collecting msrestazure>=0.4.33 (from azureml-core==1.0.17.*->azureml-sdk[automl,explain,notebooks]->-r /tmp/condaenv.lb7qnqql.requirements.txt (line 2))\n",
      "  Downloading https://files.pythonhosted.org/packages/46/ba/7870308e3d3b4b3956880eed2df20669a5690436793e6fc1442c8b73e01c/msrestazure-0.6.0-py2.py3-none-any.whl\n",
      "Collecting pyyaml>=3.13 (from azureml-core==1.0.17.*->azureml-sdk[automl,explain,notebooks]->-r /tmp/condaenv.lb7qnqql.requirements.txt (line 2))\n",
      "  Downloading https://files.pythonhosted.org/packages/9e/a3/1d13970c3f36777c583f136c136f804d70f500168edc1edea6daa7200769/PyYAML-3.13.tar.gz (270kB)\n",
      "Collecting adal>=1.2.0 (from azureml-core==1.0.17.*->azureml-sdk[automl,explain,notebooks]->-r /tmp/condaenv.lb7qnqql.requirements.txt (line 2))\n",
      "  Downloading https://files.pythonhosted.org/packages/00/72/53dce9e4f5d6c1aa57b8d408cb34dff1969ecbf10ab7e678f32c5e0e2397/adal-1.2.1-py2.py3-none-any.whl (52kB)\n",
      "Collecting cryptography!=1.9,!=2.0.*,!=2.1.*,!=2.2.* (from azureml-core==1.0.17.*->azureml-sdk[automl,explain,notebooks]->-r /tmp/condaenv.lb7qnqql.requirements.txt (line 2))\n",
      "  Downloading https://files.pythonhosted.org/packages/98/71/e632e222f34632e0527dd41799f7847305e701f38f512d81bdf96009bca4/cryptography-2.5-cp34-abi3-manylinux1_x86_64.whl (2.4MB)\n",
      "Collecting azure-graphrbac>=0.40.0 (from azureml-core==1.0.17.*->azureml-sdk[automl,explain,notebooks]->-r /tmp/condaenv.lb7qnqql.requirements.txt (line 2))\n",
      "  Downloading https://files.pythonhosted.org/packages/da/a8/3d3d6fe8458b2b07bad10195c79928ea9ba87b5cc0c08903b387dd27c6f0/azure_graphrbac-0.53.0-py2.py3-none-any.whl (108kB)\n",
      "Collecting azure-common>=1.1.12 (from azureml-core==1.0.17.*->azureml-sdk[automl,explain,notebooks]->-r /tmp/condaenv.lb7qnqql.requirements.txt (line 2))\n",
      "  Downloading https://files.pythonhosted.org/packages/c3/f8/46248b201fd38b7e93c6da644e2fc3bc5a39118f253562751fd295a8cc77/azure_common-1.1.18-py2.py3-none-any.whl\n",
      "Collecting jmespath (from azureml-core==1.0.17.*->azureml-sdk[automl,explain,notebooks]->-r /tmp/condaenv.lb7qnqql.requirements.txt (line 2))\n",
      "  Downloading https://files.pythonhosted.org/packages/83/94/7179c3832a6d45b266ddb2aac329e101367fbdb11f425f13771d27f225bb/jmespath-0.9.4-py2.py3-none-any.whl\n",
      "Collecting azure-mgmt-storage>=1.5.0 (from azureml-core==1.0.17.*->azureml-sdk[automl,explain,notebooks]->-r /tmp/condaenv.lb7qnqql.requirements.txt (line 2))\n",
      "  Downloading https://files.pythonhosted.org/packages/d9/87/ab44b9d9627ff91825ba5f5a39092ebfe97a90679008609db4c479036591/azure_mgmt_storage-3.1.1-py2.py3-none-any.whl (696kB)\n",
      "Collecting azure-mgmt-authorization>=0.40.0 (from azureml-core==1.0.17.*->azureml-sdk[automl,explain,notebooks]->-r /tmp/condaenv.lb7qnqql.requirements.txt (line 2))\n",
      "  Downloading https://files.pythonhosted.org/packages/a1/71/9a20913e92771b3c23564f1bea54d376d09fb30a75585087c70b769d75c8/azure_mgmt_authorization-0.51.1-py2.py3-none-any.whl (111kB)\n",
      "Collecting azure-mgmt-resource>=1.2.1 (from azureml-core==1.0.17.*->azureml-sdk[automl,explain,notebooks]->-r /tmp/condaenv.lb7qnqql.requirements.txt (line 2))\n",
      "  Downloading https://files.pythonhosted.org/packages/2b/2e/e79a278bedfc21308ab0c632759cfda5d7ff02d62260bcc4632449937dcf/azure_mgmt_resource-2.1.0-py2.py3-none-any.whl (757kB)\n",
      "Collecting pytz (from azureml-core==1.0.17.*->azureml-sdk[automl,explain,notebooks]->-r /tmp/condaenv.lb7qnqql.requirements.txt (line 2))\n",
      "  Downloading https://files.pythonhosted.org/packages/61/28/1d3920e4d1d50b19bc5d24398a7cd85cc7b9a75a490570d5a30c57622d34/pytz-2018.9-py2.py3-none-any.whl (510kB)\n"
     ]
    },
    {
     "name": "stdout",
     "output_type": "stream",
     "text": [
      "Collecting contextlib2 (from azureml-core==1.0.17.*->azureml-sdk[automl,explain,notebooks]->-r /tmp/condaenv.lb7qnqql.requirements.txt (line 2))\n",
      "  Downloading https://files.pythonhosted.org/packages/a2/71/8273a7eeed0aff6a854237ab5453bc9aa67deb49df4832801c21f0ff3782/contextlib2-0.5.5-py2.py3-none-any.whl\n",
      "Collecting urllib3>=1.23 (from azureml-core==1.0.17.*->azureml-sdk[automl,explain,notebooks]->-r /tmp/condaenv.lb7qnqql.requirements.txt (line 2))\n",
      "  Downloading https://files.pythonhosted.org/packages/62/00/ee1d7de624db8ba7090d1226aebefab96a2c71cd5cfa7629d6ad3f61b79e/urllib3-1.24.1-py2.py3-none-any.whl (118kB)\n",
      "Collecting pyopenssl (from azureml-core==1.0.17.*->azureml-sdk[automl,explain,notebooks]->-r /tmp/condaenv.lb7qnqql.requirements.txt (line 2))\n",
      "  Downloading https://files.pythonhosted.org/packages/01/c8/ceb170d81bd3941cbeb9940fc6cc2ef2ca4288d0ca8929ea4db5905d904d/pyOpenSSL-19.0.0-py2.py3-none-any.whl (53kB)\n",
      "Collecting msrest>=0.5.1 (from azureml-core==1.0.17.*->azureml-sdk[automl,explain,notebooks]->-r /tmp/condaenv.lb7qnqql.requirements.txt (line 2))\n",
      "  Downloading https://files.pythonhosted.org/packages/eb/96/1cf56e4cfd221b7f6eb6ab096dc23b0d21361393f0784276531e49b0b2a1/msrest-0.6.4-py2.py3-none-any.whl (81kB)\n",
      "Collecting azureml-pipeline-steps==1.0.17.* (from azureml-pipeline==1.0.17.*->azureml-sdk[automl,explain,notebooks]->-r /tmp/condaenv.lb7qnqql.requirements.txt (line 2))\n",
      "  Downloading https://files.pythonhosted.org/packages/84/11/2327615b63a430b4aa4634c638901772f8124db4c551b2e860bd15e48f15/azureml_pipeline_steps-1.0.17-py3-none-any.whl\n",
      "Collecting azureml-pipeline-core==1.0.17.* (from azureml-pipeline==1.0.17.*->azureml-sdk[automl,explain,notebooks]->-r /tmp/condaenv.lb7qnqql.requirements.txt (line 2))\n",
      "  Downloading https://files.pythonhosted.org/packages/b1/3b/a57705bd68d37ee35ece2d929e57f41d60d02c7bd5c957bf9256fcc7b97d/azureml_pipeline_core-1.0.17-py3-none-any.whl (132kB)\n",
      "Collecting pandas<=0.23.4,>=0.21.0 (from azureml-train-automl==1.0.17.*; extra == \"automl\"->azureml-sdk[automl,explain,notebooks]->-r /tmp/condaenv.lb7qnqql.requirements.txt (line 2))\n",
      "  Downloading https://files.pythonhosted.org/packages/e1/d8/feeb346d41f181e83fba45224ab14a8d8af019b48af742e047f3845d8cff/pandas-0.23.4-cp36-cp36m-manylinux1_x86_64.whl (8.9MB)\n",
      "Collecting sklearn-pandas<=1.7.0,>=1.4.0 (from azureml-train-automl==1.0.17.*; extra == \"automl\"->azureml-sdk[automl,explain,notebooks]->-r /tmp/condaenv.lb7qnqql.requirements.txt (line 2))\n",
      "  Downloading https://files.pythonhosted.org/packages/7e/9c/c94f46b40b86d2c77c46c4c1b858fc66c117b4390665eca28f2e0812db45/sklearn_pandas-1.7.0-py2.py3-none-any.whl\n",
      "Collecting lightgbm<=2.2.1,>=2.0.11 (from azureml-train-automl==1.0.17.*; extra == \"automl\"->azureml-sdk[automl,explain,notebooks]->-r /tmp/condaenv.lb7qnqql.requirements.txt (line 2))\n",
      "  Downloading https://files.pythonhosted.org/packages/78/7e/bc87e7951cfaa998cffaf39e6c721f5bd04efb2e139486206356edb289a5/lightgbm-2.2.1-py2.py3-none-manylinux1_x86_64.whl (1.1MB)\n",
      "Collecting numpy<1.15.0,>=1.11.0 (from azureml-train-automl==1.0.17.*; extra == \"automl\"->azureml-sdk[automl,explain,notebooks]->-r /tmp/condaenv.lb7qnqql.requirements.txt (line 2))\n",
      "  Downloading https://files.pythonhosted.org/packages/e5/c4/395ebb218053ba44d64935b3729bc88241ec279915e72100c5979db10945/numpy-1.14.6-cp36-cp36m-manylinux1_x86_64.whl (13.8MB)\n",
      "Collecting dill>=0.2.8 (from azureml-train-automl==1.0.17.*; extra == \"automl\"->azureml-sdk[automl,explain,notebooks]->-r /tmp/condaenv.lb7qnqql.requirements.txt (line 2))\n",
      "  Downloading https://files.pythonhosted.org/packages/fe/42/bfe2e0857bc284cbe6a011d93f2a9ad58a22cb894461b199ae72cfef0f29/dill-0.2.9.tar.gz (150kB)\n",
      "Collecting wheel==0.30.0 (from azureml-train-automl==1.0.17.*; extra == \"automl\"->azureml-sdk[automl,explain,notebooks]->-r /tmp/condaenv.lb7qnqql.requirements.txt (line 2))\n",
      "  Downloading https://files.pythonhosted.org/packages/0c/80/16a85b47702a1f47a63c104c91abdd0a6704ee8ae3b4ce4afc49bc39f9d9/wheel-0.30.0-py2.py3-none-any.whl (49kB)\n",
      "Collecting azureml-telemetry==1.0.17.* (from azureml-train-automl==1.0.17.*; extra == \"automl\"->azureml-sdk[automl,explain,notebooks]->-r /tmp/condaenv.lb7qnqql.requirements.txt (line 2))\n",
      "  Downloading https://files.pythonhosted.org/packages/3b/82/7be815ca28d581332a3b8dd414af2b6a3c54ca6c520b16c9073766afb0c6/azureml_telemetry-1.0.17-py3-none-any.whl\n",
      "Collecting azureml-dataprep<1.1.0,>=0.5.2 (from azureml-train-automl==1.0.17.*; extra == \"automl\"->azureml-sdk[automl,explain,notebooks]->-r /tmp/condaenv.lb7qnqql.requirements.txt (line 2))\n",
      "  Downloading https://files.pythonhosted.org/packages/50/3f/0f725182c8c33213db6f67e21ba53e61a6707e11aeca6bcb344b80136d4b/azureml_dataprep-1.0.15-py3-none-any.whl (24.9MB)\n",
      "Collecting scikit-learn==0.19.1 (from azureml-train-automl==1.0.17.*; extra == \"automl\"->azureml-sdk[automl,explain,notebooks]->-r /tmp/condaenv.lb7qnqql.requirements.txt (line 2))\n",
      "  Downloading https://files.pythonhosted.org/packages/3d/2d/9fbc7baa5f44bc9e88ffb7ed32721b879bfa416573e85031e16f52569bc9/scikit_learn-0.19.1-cp36-cp36m-manylinux1_x86_64.whl (12.4MB)\n",
      "Collecting tensorflow>=1.10.0 (from azureml-train-automl==1.0.17.*; extra == \"automl\"->azureml-sdk[automl,explain,notebooks]->-r /tmp/condaenv.lb7qnqql.requirements.txt (line 2))\n",
      "  Downloading https://files.pythonhosted.org/packages/22/cc/ca70b78087015d21c5f3f93694107f34ebccb3be9624385a911d4b52ecef/tensorflow-1.12.0-cp36-cp36m-manylinux1_x86_64.whl (83.1MB)\n",
      "Collecting scipy<=1.1.0,>=1.0.0 (from azureml-train-automl==1.0.17.*; extra == \"automl\"->azureml-sdk[automl,explain,notebooks]->-r /tmp/condaenv.lb7qnqql.requirements.txt (line 2))\n",
      "  Downloading https://files.pythonhosted.org/packages/a8/0b/f163da98d3a01b3e0ef1cab8dd2123c34aee2bafbb1c5bffa354cc8a1730/scipy-1.1.0-cp36-cp36m-manylinux1_x86_64.whl (31.2MB)\n",
      "Collecting resource>=0.1.8 (from azureml-train-automl==1.0.17.*; extra == \"automl\"->azureml-sdk[automl,explain,notebooks]->-r /tmp/condaenv.lb7qnqql.requirements.txt (line 2))\n",
      "  Downloading https://files.pythonhosted.org/packages/34/ad/9cd037c01c075f9a273c23557f8e71195d773d59d3881bbb26011d396c8b/Resource-0.2.1-py2.py3-none-any.whl\n",
      "Collecting shap<=0.28.5,>=0.20.0 (from azureml-explain-model==1.0.17.*; extra == \"explain\"->azureml-sdk[automl,explain,notebooks]->-r /tmp/condaenv.lb7qnqql.requirements.txt (line 2))\n",
      "  Downloading https://files.pythonhosted.org/packages/30/b3/866b0101cbd1829844c35964af68c14ba522a5cce7a1e8d0f7937411d910/shap-0.28.5.tar.gz (223kB)\n",
      "Requirement already satisfied: ipython in /opt/conda/envs/aml-sdk-conda-env/lib/python3.6/site-packages (from azureml-contrib-notebook==1.0.17.*; extra == \"notebooks\"->azureml-sdk[automl,explain,notebooks]->-r /tmp/condaenv.lb7qnqql.requirements.txt (line 2)) (7.2.0)\n",
      "Collecting ipywidgets>=7.0.0 (from azureml-widgets==1.0.17.*; extra == \"notebooks\"->azureml-sdk[automl,explain,notebooks]->-r /tmp/condaenv.lb7qnqql.requirements.txt (line 2))\n",
      "  Downloading https://files.pythonhosted.org/packages/30/9a/a008c7b1183fac9e52066d80a379b3c64eab535bd9d86cdc29a0b766fd82/ipywidgets-7.4.2-py2.py3-none-any.whl (111kB)\n",
      "Collecting azureml-train-restclients-hyperdrive==1.0.17.* (from azureml-train-core==1.0.17.*->azureml-train==1.0.17.*->azureml-sdk[automl,explain,notebooks]->-r /tmp/condaenv.lb7qnqql.requirements.txt (line 2))\n",
      "  Downloading https://files.pythonhosted.org/packages/72/76/ef517f6aa79a7af0eebb605c1e06c7e155c7c6680bf5232210cbb81b5a94/azureml_train_restclients_hyperdrive-1.0.17-py3-none-any.whl\n",
      "Collecting chardet<3.1.0,>=3.0.2 (from requests>=2.19.1->azureml-core==1.0.17.*->azureml-sdk[automl,explain,notebooks]->-r /tmp/condaenv.lb7qnqql.requirements.txt (line 2))\n",
      "  Downloading https://files.pythonhosted.org/packages/bc/a9/01ffebfb562e4274b6487b4bb1ddec7ca55ec7510b22e4c51f14098443b8/chardet-3.0.4-py2.py3-none-any.whl (133kB)\n",
      "Collecting idna<2.9,>=2.5 (from requests>=2.19.1->azureml-core==1.0.17.*->azureml-sdk[automl,explain,notebooks]->-r /tmp/condaenv.lb7qnqql.requirements.txt (line 2))\n",
      "  Downloading https://files.pythonhosted.org/packages/14/2c/cd551d81dbe15200be1cf41cd03869a46fe7226e7450af7a6545bfc474c9/idna-2.8-py2.py3-none-any.whl (58kB)\n",
      "Requirement already satisfied: certifi>=2017.4.17 in /opt/conda/envs/aml-sdk-conda-env/lib/python3.6/site-packages (from requests>=2.19.1->azureml-core==1.0.17.*->azureml-sdk[automl,explain,notebooks]->-r /tmp/condaenv.lb7qnqql.requirements.txt (line 2)) (2018.11.29)\n"
     ]
    },
    {
     "name": "stdout",
     "output_type": "stream",
     "text": [
      "Collecting azure-mgmt-nspkg>=2.0.0 (from azure-mgmt-keyvault>=0.40.0->azureml-core==1.0.17.*->azureml-sdk[automl,explain,notebooks]->-r /tmp/condaenv.lb7qnqql.requirements.txt (line 2))\n",
      "  Downloading https://files.pythonhosted.org/packages/b3/c2/af4b47845f27dc7d206ed4908b9e580f8bc94a4b2f3956a0d87c40719d90/azure_mgmt_nspkg-3.0.2-py3-none-any.whl\n",
      "Collecting pynacl>=1.0.1 (from paramiko>=2.0.8->azureml-core==1.0.17.*->azureml-sdk[automl,explain,notebooks]->-r /tmp/condaenv.lb7qnqql.requirements.txt (line 2))\n",
      "  Downloading https://files.pythonhosted.org/packages/27/15/2cd0a203f318c2240b42cd9dd13c931ddd61067809fee3479f44f086103e/PyNaCl-1.3.0-cp34-abi3-manylinux1_x86_64.whl (759kB)\n",
      "Collecting pyasn1>=0.1.7 (from paramiko>=2.0.8->azureml-core==1.0.17.*->azureml-sdk[automl,explain,notebooks]->-r /tmp/condaenv.lb7qnqql.requirements.txt (line 2))\n",
      "  Downloading https://files.pythonhosted.org/packages/7b/7c/c9386b82a25115cccf1903441bba3cbadcfae7b678a20167347fa8ded34c/pyasn1-0.4.5-py2.py3-none-any.whl (73kB)\n",
      "Collecting bcrypt>=3.1.3 (from paramiko>=2.0.8->azureml-core==1.0.17.*->azureml-sdk[automl,explain,notebooks]->-r /tmp/condaenv.lb7qnqql.requirements.txt (line 2))\n",
      "  Downloading https://files.pythonhosted.org/packages/d0/79/79a4d167a31cc206117d9b396926615fa9c1fdbd52017bcced80937ac501/bcrypt-3.1.6-cp34-abi3-manylinux1_x86_64.whl (55kB)\n",
      "Collecting backports.weakref (from backports.tempfile->azureml-core==1.0.17.*->azureml-sdk[automl,explain,notebooks]->-r /tmp/condaenv.lb7qnqql.requirements.txt (line 2))\n",
      "  Downloading https://files.pythonhosted.org/packages/88/ec/f598b633c3d5ffe267aaada57d961c94fdfa183c5c3ebda2b6d151943db6/backports.weakref-1.0.post1-py2.py3-none-any.whl\n",
      "Collecting jeepney (from SecretStorage->azureml-core==1.0.17.*->azureml-sdk[automl,explain,notebooks]->-r /tmp/condaenv.lb7qnqql.requirements.txt (line 2))\n",
      "  Downloading https://files.pythonhosted.org/packages/2b/f7/ff23b9b59534f501d47c327576aadda59da5b83d76ff837e6075bc325b9f/jeepney-0.4-py3-none-any.whl (59kB)\n",
      "Collecting websocket-client>=0.32.0 (from docker->azureml-core==1.0.17.*->azureml-sdk[automl,explain,notebooks]->-r /tmp/condaenv.lb7qnqql.requirements.txt (line 2))\n",
      "  Downloading https://files.pythonhosted.org/packages/38/54/684db2ba1b7a203602808446b8686ee786f93b4a7e080cdc440cc7e06e56/websocket_client-0.55.0-py2.py3-none-any.whl (200kB)\n",
      "Collecting docker-pycreds>=0.4.0 (from docker->azureml-core==1.0.17.*->azureml-sdk[automl,explain,notebooks]->-r /tmp/condaenv.lb7qnqql.requirements.txt (line 2))\n",
      "  Downloading https://files.pythonhosted.org/packages/f5/e8/f6bd1eee09314e7e6dee49cbe2c5e22314ccdb38db16c9fc72d2fa80d054/docker_pycreds-0.4.0-py2.py3-none-any.whl\n",
      "Collecting cffi!=1.11.3,>=1.8 (from cryptography!=1.9,!=2.0.*,!=2.1.*,!=2.2.*->azureml-core==1.0.17.*->azureml-sdk[automl,explain,notebooks]->-r /tmp/condaenv.lb7qnqql.requirements.txt (line 2))\n",
      "  Downloading https://files.pythonhosted.org/packages/20/f7/87b62a8895bf7c93e907b05b97bc4459c81a38a61151f03a6eae13d863aa/cffi-1.12.2-cp36-cp36m-manylinux1_x86_64.whl (428kB)\n",
      "Collecting asn1crypto>=0.21.0 (from cryptography!=1.9,!=2.0.*,!=2.1.*,!=2.2.*->azureml-core==1.0.17.*->azureml-sdk[automl,explain,notebooks]->-r /tmp/condaenv.lb7qnqql.requirements.txt (line 2))\n",
      "  Downloading https://files.pythonhosted.org/packages/ea/cd/35485615f45f30a510576f1a56d1e0a7ad7bd8ab5ed7cdc600ef7cd06222/asn1crypto-0.24.0-py2.py3-none-any.whl (101kB)\n",
      "Collecting isodate>=0.6.0 (from msrest>=0.5.1->azureml-core==1.0.17.*->azureml-sdk[automl,explain,notebooks]->-r /tmp/condaenv.lb7qnqql.requirements.txt (line 2))\n",
      "  Downloading https://files.pythonhosted.org/packages/9b/9f/b36f7774ff5ea8e428fdcfc4bb332c39ee5b9362ddd3d40d9516a55221b2/isodate-0.6.0-py2.py3-none-any.whl (45kB)\n",
      "Collecting requests-oauthlib>=0.5.0 (from msrest>=0.5.1->azureml-core==1.0.17.*->azureml-sdk[automl,explain,notebooks]->-r /tmp/condaenv.lb7qnqql.requirements.txt (line 2))\n",
      "  Downloading https://files.pythonhosted.org/packages/c2/e2/9fd03d55ffb70fe51f587f20bcf407a6927eb121de86928b34d162f0b1ac/requests_oauthlib-1.2.0-py2.py3-none-any.whl\n",
      "Collecting applicationinsights (from azureml-telemetry==1.0.17.*->azureml-train-automl==1.0.17.*; extra == \"automl\"->azureml-sdk[automl,explain,notebooks]->-r /tmp/condaenv.lb7qnqql.requirements.txt (line 2))\n",
      "  Downloading https://files.pythonhosted.org/packages/e3/c8/7848a0dd85158930b859eb8be1e38fc76a91f0a040d491723ebb356d7358/applicationinsights-0.11.7-py2.py3-none-any.whl (56kB)\n",
      "Collecting dotnetcore2==2.1.7 (from azureml-dataprep<1.1.0,>=0.5.2->azureml-train-automl==1.0.17.*; extra == \"automl\"->azureml-sdk[automl,explain,notebooks]->-r /tmp/condaenv.lb7qnqql.requirements.txt (line 2))\n",
      "  Downloading https://files.pythonhosted.org/packages/5e/ad/563e291f291ddae9967fc6347b5240e5ee5fdb173c33e0780c30ca8cd4c2/dotnetcore2-2.1.7-py3-none-manylinux1_x86_64.whl (28.7MB)\n",
      "Collecting azureml-dataprep-native<12.0.0,>=11.2.2 (from azureml-dataprep<1.1.0,>=0.5.2->azureml-train-automl==1.0.17.*; extra == \"automl\"->azureml-sdk[automl,explain,notebooks]->-r /tmp/condaenv.lb7qnqql.requirements.txt (line 2))\n",
      "  Downloading https://files.pythonhosted.org/packages/85/82/1717ffb3e911afb3599f68133527d0843fdfe444574a4ec8b367390e6097/azureml_dataprep_native-11.2.2-cp36-cp36m-manylinux1_x86_64.whl (1.3MB)\n",
      "Collecting keras-applications>=1.0.6 (from tensorflow>=1.10.0->azureml-train-automl==1.0.17.*; extra == \"automl\"->azureml-sdk[automl,explain,notebooks]->-r /tmp/condaenv.lb7qnqql.requirements.txt (line 2))\n",
      "  Downloading https://files.pythonhosted.org/packages/90/85/64c82949765cfb246bbdaf5aca2d55f400f792655927a017710a78445def/Keras_Applications-1.0.7-py2.py3-none-any.whl (51kB)\n",
      "Collecting keras-preprocessing>=1.0.5 (from tensorflow>=1.10.0->azureml-train-automl==1.0.17.*; extra == \"automl\"->azureml-sdk[automl,explain,notebooks]->-r /tmp/condaenv.lb7qnqql.requirements.txt (line 2))\n",
      "  Downloading https://files.pythonhosted.org/packages/c0/bf/0315ef6a9fd3fc2346e85b0ff1f5f83ca17073f2c31ac719ab2e4da0d4a3/Keras_Preprocessing-1.0.9-py2.py3-none-any.whl (59kB)\n",
      "Collecting absl-py>=0.1.6 (from tensorflow>=1.10.0->azureml-train-automl==1.0.17.*; extra == \"automl\"->azureml-sdk[automl,explain,notebooks]->-r /tmp/condaenv.lb7qnqql.requirements.txt (line 2))\n",
      "  Downloading https://files.pythonhosted.org/packages/31/bc/ab68120d1d89ae23b694a55fe2aece2f91194313b71f9b05a80b32d3c24b/absl-py-0.7.0.tar.gz (96kB)\n",
      "Collecting astor>=0.6.0 (from tensorflow>=1.10.0->azureml-train-automl==1.0.17.*; extra == \"automl\"->azureml-sdk[automl,explain,notebooks]->-r /tmp/condaenv.lb7qnqql.requirements.txt (line 2))\n",
      "  Downloading https://files.pythonhosted.org/packages/35/6b/11530768cac581a12952a2aad00e1526b89d242d0b9f59534ef6e6a1752f/astor-0.7.1-py2.py3-none-any.whl\n",
      "Collecting gast>=0.2.0 (from tensorflow>=1.10.0->azureml-train-automl==1.0.17.*; extra == \"automl\"->azureml-sdk[automl,explain,notebooks]->-r /tmp/condaenv.lb7qnqql.requirements.txt (line 2))\n",
      "  Downloading https://files.pythonhosted.org/packages/4e/35/11749bf99b2d4e3cceb4d55ca22590b0d7c2c62b9de38ac4a4a7f4687421/gast-0.2.2.tar.gz\n",
      "Collecting grpcio>=1.8.6 (from tensorflow>=1.10.0->azureml-train-automl==1.0.17.*; extra == \"automl\"->azureml-sdk[automl,explain,notebooks]->-r /tmp/condaenv.lb7qnqql.requirements.txt (line 2))\n",
      "  Downloading https://files.pythonhosted.org/packages/51/a3/489ce6a67047263e9b0da8784b2925c4f89b688a6e33073c5bb6c4c2867f/grpcio-1.18.0-cp36-cp36m-manylinux1_x86_64.whl (10.6MB)\n",
      "Collecting tensorboard<1.13.0,>=1.12.0 (from tensorflow>=1.10.0->azureml-train-automl==1.0.17.*; extra == \"automl\"->azureml-sdk[automl,explain,notebooks]->-r /tmp/condaenv.lb7qnqql.requirements.txt (line 2))\n",
      "  Downloading https://files.pythonhosted.org/packages/07/53/8d32ce9471c18f8d99028b7cef2e5b39ea8765bd7ef250ca05b490880971/tensorboard-1.12.2-py3-none-any.whl (3.0MB)\n",
      "Collecting termcolor>=1.1.0 (from tensorflow>=1.10.0->azureml-train-automl==1.0.17.*; extra == \"automl\"->azureml-sdk[automl,explain,notebooks]->-r /tmp/condaenv.lb7qnqql.requirements.txt (line 2))\n",
      "  Downloading https://files.pythonhosted.org/packages/8a/48/a76be51647d0eb9f10e2a4511bf3ffb8cc1e6b14e9e4fab46173aa79f981/termcolor-1.1.0.tar.gz\n",
      "Collecting protobuf>=3.6.1 (from tensorflow>=1.10.0->azureml-train-automl==1.0.17.*; extra == \"automl\"->azureml-sdk[automl,explain,notebooks]->-r /tmp/condaenv.lb7qnqql.requirements.txt (line 2))\n"
     ]
    },
    {
     "name": "stdout",
     "output_type": "stream",
     "text": [
      "  Downloading https://files.pythonhosted.org/packages/c2/f9/28787754923612ca9bfdffc588daa05580ed70698add063a5629d1a4209d/protobuf-3.6.1-cp36-cp36m-manylinux1_x86_64.whl (1.1MB)\n",
      "Collecting python-easyconfig>=0.1.0 (from resource>=0.1.8->azureml-train-automl==1.0.17.*; extra == \"automl\"->azureml-sdk[automl,explain,notebooks]->-r /tmp/condaenv.lb7qnqql.requirements.txt (line 2))\n",
      "  Downloading https://files.pythonhosted.org/packages/b1/86/1138081cca360a02066eedaf301d0f358c35e0e0d67572acf9d6354edca9/Python_EasyConfig-0.1.7-py2.py3-none-any.whl\n",
      "Collecting JsonForm>=0.0.2 (from resource>=0.1.8->azureml-train-automl==1.0.17.*; extra == \"automl\"->azureml-sdk[automl,explain,notebooks]->-r /tmp/condaenv.lb7qnqql.requirements.txt (line 2))\n",
      "  Downloading https://files.pythonhosted.org/packages/4f/b7/b9491ba4b709d0616fab15a89f8efe4d3a7924652e1fdd4f15303e9ecdf0/JsonForm-0.0.2.tar.gz\n",
      "Collecting JsonSir>=0.0.2 (from resource>=0.1.8->azureml-train-automl==1.0.17.*; extra == \"automl\"->azureml-sdk[automl,explain,notebooks]->-r /tmp/condaenv.lb7qnqql.requirements.txt (line 2))\n",
      "  Downloading https://files.pythonhosted.org/packages/aa/bf/5c00c1dafaa3ca2c32e7641d9c2c6f9d6d76e127bde00eb600333a60c5bc/JsonSir-0.0.2.tar.gz\n",
      "Collecting matplotlib (from shap<=0.28.5,>=0.20.0->azureml-explain-model==1.0.17.*; extra == \"explain\"->azureml-sdk[automl,explain,notebooks]->-r /tmp/condaenv.lb7qnqql.requirements.txt (line 2))\n",
      "  Downloading https://files.pythonhosted.org/packages/71/07/16d781df15be30df4acfd536c479268f1208b2dfbc91e9ca5d92c9caf673/matplotlib-3.0.2-cp36-cp36m-manylinux1_x86_64.whl (12.9MB)\n",
      "Collecting tqdm (from shap<=0.28.5,>=0.20.0->azureml-explain-model==1.0.17.*; extra == \"explain\"->azureml-sdk[automl,explain,notebooks]->-r /tmp/condaenv.lb7qnqql.requirements.txt (line 2))\n",
      "  Downloading https://files.pythonhosted.org/packages/6c/4b/c38b5144cf167c4f52288517436ccafefe9dc01b8d1c190e18a6b154cd4a/tqdm-4.31.1-py2.py3-none-any.whl (48kB)\n",
      "Collecting scikit-image (from shap<=0.28.5,>=0.20.0->azureml-explain-model==1.0.17.*; extra == \"explain\"->azureml-sdk[automl,explain,notebooks]->-r /tmp/condaenv.lb7qnqql.requirements.txt (line 2))\n",
      "  Downloading https://files.pythonhosted.org/packages/24/06/d560630eb9e36d90d69fe57d9ff762d8f501664ce478b8a0ae132b3c3008/scikit_image-0.14.2-cp36-cp36m-manylinux1_x86_64.whl (25.3MB)\n",
      "Requirement already satisfied: setuptools>=18.5 in /opt/conda/envs/aml-sdk-conda-env/lib/python3.6/site-packages (from ipython->azureml-contrib-notebook==1.0.17.*; extra == \"notebooks\"->azureml-sdk[automl,explain,notebooks]->-r /tmp/condaenv.lb7qnqql.requirements.txt (line 2)) (40.8.0)\n",
      "Requirement already satisfied: backcall in /opt/conda/envs/aml-sdk-conda-env/lib/python3.6/site-packages (from ipython->azureml-contrib-notebook==1.0.17.*; extra == \"notebooks\"->azureml-sdk[automl,explain,notebooks]->-r /tmp/condaenv.lb7qnqql.requirements.txt (line 2)) (0.1.0)\n",
      "Requirement already satisfied: traitlets>=4.2 in /opt/conda/envs/aml-sdk-conda-env/lib/python3.6/site-packages (from ipython->azureml-contrib-notebook==1.0.17.*; extra == \"notebooks\"->azureml-sdk[automl,explain,notebooks]->-r /tmp/condaenv.lb7qnqql.requirements.txt (line 2)) (4.3.2)\n",
      "Requirement already satisfied: decorator in /opt/conda/envs/aml-sdk-conda-env/lib/python3.6/site-packages (from ipython->azureml-contrib-notebook==1.0.17.*; extra == \"notebooks\"->azureml-sdk[automl,explain,notebooks]->-r /tmp/condaenv.lb7qnqql.requirements.txt (line 2)) (4.3.2)\n",
      "Requirement already satisfied: pygments in /opt/conda/envs/aml-sdk-conda-env/lib/python3.6/site-packages (from ipython->azureml-contrib-notebook==1.0.17.*; extra == \"notebooks\"->azureml-sdk[automl,explain,notebooks]->-r /tmp/condaenv.lb7qnqql.requirements.txt (line 2)) (2.3.1)\n",
      "Requirement already satisfied: pickleshare in /opt/conda/envs/aml-sdk-conda-env/lib/python3.6/site-packages (from ipython->azureml-contrib-notebook==1.0.17.*; extra == \"notebooks\"->azureml-sdk[automl,explain,notebooks]->-r /tmp/condaenv.lb7qnqql.requirements.txt (line 2)) (0.7.5)\n",
      "Requirement already satisfied: jedi>=0.10 in /opt/conda/envs/aml-sdk-conda-env/lib/python3.6/site-packages (from ipython->azureml-contrib-notebook==1.0.17.*; extra == \"notebooks\"->azureml-sdk[automl,explain,notebooks]->-r /tmp/condaenv.lb7qnqql.requirements.txt (line 2)) (0.13.2)\n",
      "Requirement already satisfied: prompt-toolkit<2.1.0,>=2.0.0 in /opt/conda/envs/aml-sdk-conda-env/lib/python3.6/site-packages (from ipython->azureml-contrib-notebook==1.0.17.*; extra == \"notebooks\"->azureml-sdk[automl,explain,notebooks]->-r /tmp/condaenv.lb7qnqql.requirements.txt (line 2)) (2.0.8)\n",
      "Requirement already satisfied: pexpect; sys_platform != \"win32\" in /opt/conda/envs/aml-sdk-conda-env/lib/python3.6/site-packages (from ipython->azureml-contrib-notebook==1.0.17.*; extra == \"notebooks\"->azureml-sdk[automl,explain,notebooks]->-r /tmp/condaenv.lb7qnqql.requirements.txt (line 2)) (4.6.0)\n",
      "Collecting widgetsnbextension~=3.4.0 (from ipywidgets>=7.0.0->azureml-widgets==1.0.17.*; extra == \"notebooks\"->azureml-sdk[automl,explain,notebooks]->-r /tmp/condaenv.lb7qnqql.requirements.txt (line 2))\n",
      "  Downloading https://files.pythonhosted.org/packages/8a/81/35789a3952afb48238289171728072d26d6e76649ddc8b3588657a2d78c1/widgetsnbextension-3.4.2-py2.py3-none-any.whl (2.2MB)\n",
      "Requirement already satisfied: ipykernel>=4.5.1 in /opt/conda/envs/aml-sdk-conda-env/lib/python3.6/site-packages (from ipywidgets>=7.0.0->azureml-widgets==1.0.17.*; extra == \"notebooks\"->azureml-sdk[automl,explain,notebooks]->-r /tmp/condaenv.lb7qnqql.requirements.txt (line 2)) (5.1.0)\n",
      "Requirement already satisfied: nbformat>=4.2.0 in /opt/conda/envs/aml-sdk-conda-env/lib/python3.6/site-packages (from ipywidgets>=7.0.0->azureml-widgets==1.0.17.*; extra == \"notebooks\"->azureml-sdk[automl,explain,notebooks]->-r /tmp/condaenv.lb7qnqql.requirements.txt (line 2)) (4.4.0)\n",
      "Collecting azure-nspkg>=3.0.0 (from azure-mgmt-nspkg>=2.0.0->azure-mgmt-keyvault>=0.40.0->azureml-core==1.0.17.*->azureml-sdk[automl,explain,notebooks]->-r /tmp/condaenv.lb7qnqql.requirements.txt (line 2))\n",
      "  Downloading https://files.pythonhosted.org/packages/c4/0c/c562be95a9a2ed52454f598571cf300b1114d0db2aa27f5b8ed3bb9cd0c0/azure_nspkg-3.0.2-py3-none-any.whl\n",
      "Collecting pycparser (from cffi!=1.11.3,>=1.8->cryptography!=1.9,!=2.0.*,!=2.1.*,!=2.2.*->azureml-core==1.0.17.*->azureml-sdk[automl,explain,notebooks]->-r /tmp/condaenv.lb7qnqql.requirements.txt (line 2))\n",
      "  Downloading https://files.pythonhosted.org/packages/68/9e/49196946aee219aead1290e00d1e7fdeab8567783e83e1b9ab5585e6206a/pycparser-2.19.tar.gz (158kB)\n",
      "Collecting oauthlib>=3.0.0 (from requests-oauthlib>=0.5.0->msrest>=0.5.1->azureml-core==1.0.17.*->azureml-sdk[automl,explain,notebooks]->-r /tmp/condaenv.lb7qnqql.requirements.txt (line 2))\n",
      "  Downloading https://files.pythonhosted.org/packages/16/95/699466b05b72b94a41f662dc9edf87fda4289e3602ecd42d27fcaddf7b56/oauthlib-3.0.1-py2.py3-none-any.whl (142kB)\n",
      "Collecting distro>=1.2.0 (from dotnetcore2==2.1.7->azureml-dataprep<1.1.0,>=0.5.2->azureml-train-automl==1.0.17.*; extra == \"automl\"->azureml-sdk[automl,explain,notebooks]->-r /tmp/condaenv.lb7qnqql.requirements.txt (line 2))\n",
      "  Downloading https://files.pythonhosted.org/packages/ea/35/82f79b92fa4d937146c660a6482cee4f3dfa1f97ff3d2a6f3ecba33e712e/distro-1.4.0-py2.py3-none-any.whl\n",
      "Collecting h5py (from keras-applications>=1.0.6->tensorflow>=1.10.0->azureml-train-automl==1.0.17.*; extra == \"automl\"->azureml-sdk[automl,explain,notebooks]->-r /tmp/condaenv.lb7qnqql.requirements.txt (line 2))\n",
      "  Downloading https://files.pythonhosted.org/packages/30/99/d7d4fbf2d02bb30fb76179911a250074b55b852d34e98dd452a9f394ac06/h5py-2.9.0-cp36-cp36m-manylinux1_x86_64.whl (2.8MB)\n",
      "Collecting werkzeug>=0.11.10 (from tensorboard<1.13.0,>=1.12.0->tensorflow>=1.10.0->azureml-train-automl==1.0.17.*; extra == \"automl\"->azureml-sdk[automl,explain,notebooks]->-r /tmp/condaenv.lb7qnqql.requirements.txt (line 2))\n",
      "  Downloading https://files.pythonhosted.org/packages/20/c4/12e3e56473e52375aa29c4764e70d1b8f3efa6682bef8d0aae04fe335243/Werkzeug-0.14.1-py2.py3-none-any.whl (322kB)\n",
      "Collecting markdown>=2.6.8 (from tensorboard<1.13.0,>=1.12.0->tensorflow>=1.10.0->azureml-train-automl==1.0.17.*; extra == \"automl\"->azureml-sdk[automl,explain,notebooks]->-r /tmp/condaenv.lb7qnqql.requirements.txt (line 2))\n",
      "  Downloading https://files.pythonhosted.org/packages/7a/6b/5600647404ba15545ec37d2f7f58844d690baf2f81f3a60b862e48f29287/Markdown-3.0.1-py2.py3-none-any.whl (89kB)\n"
     ]
    },
    {
     "name": "stdout",
     "output_type": "stream",
     "text": [
      "Requirement already satisfied: jsonschema in /opt/conda/envs/aml-sdk-conda-env/lib/python3.6/site-packages (from JsonForm>=0.0.2->resource>=0.1.8->azureml-train-automl==1.0.17.*; extra == \"automl\"->azureml-sdk[automl,explain,notebooks]->-r /tmp/condaenv.lb7qnqql.requirements.txt (line 2)) (2.6.0)\n",
      "Collecting cycler>=0.10 (from matplotlib->shap<=0.28.5,>=0.20.0->azureml-explain-model==1.0.17.*; extra == \"explain\"->azureml-sdk[automl,explain,notebooks]->-r /tmp/condaenv.lb7qnqql.requirements.txt (line 2))\n",
      "  Downloading https://files.pythonhosted.org/packages/f7/d2/e07d3ebb2bd7af696440ce7e754c59dd546ffe1bbe732c8ab68b9c834e61/cycler-0.10.0-py2.py3-none-any.whl\n",
      "Collecting kiwisolver>=1.0.1 (from matplotlib->shap<=0.28.5,>=0.20.0->azureml-explain-model==1.0.17.*; extra == \"explain\"->azureml-sdk[automl,explain,notebooks]->-r /tmp/condaenv.lb7qnqql.requirements.txt (line 2))\n",
      "  Downloading https://files.pythonhosted.org/packages/69/a7/88719d132b18300b4369fbffa741841cfd36d1e637e1990f27929945b538/kiwisolver-1.0.1-cp36-cp36m-manylinux1_x86_64.whl (949kB)\n",
      "Collecting pyparsing!=2.0.4,!=2.1.2,!=2.1.6,>=2.0.1 (from matplotlib->shap<=0.28.5,>=0.20.0->azureml-explain-model==1.0.17.*; extra == \"explain\"->azureml-sdk[automl,explain,notebooks]->-r /tmp/condaenv.lb7qnqql.requirements.txt (line 2))\n",
      "  Downloading https://files.pythonhosted.org/packages/de/0a/001be530836743d8be6c2d85069f46fecf84ac6c18c7f5fb8125ee11d854/pyparsing-2.3.1-py2.py3-none-any.whl (61kB)\n",
      "Collecting PyWavelets>=0.4.0 (from scikit-image->shap<=0.28.5,>=0.20.0->azureml-explain-model==1.0.17.*; extra == \"explain\"->azureml-sdk[automl,explain,notebooks]->-r /tmp/condaenv.lb7qnqql.requirements.txt (line 2))\n",
      "  Downloading https://files.pythonhosted.org/packages/92/9a/2816f258df2e4e5885ebcb7695619c254f0d8f94f700c204c3eb77e8c0fd/PyWavelets-1.0.2-cp36-cp36m-manylinux1_x86_64.whl (4.4MB)\n",
      "Collecting dask[array]>=1.0.0 (from scikit-image->shap<=0.28.5,>=0.20.0->azureml-explain-model==1.0.17.*; extra == \"explain\"->azureml-sdk[automl,explain,notebooks]->-r /tmp/condaenv.lb7qnqql.requirements.txt (line 2))\n",
      "  Downloading https://files.pythonhosted.org/packages/06/d9/335788a25a72d4d4edbb01d6df3ca9dfc372737e1145cf73cda3a7d5e7de/dask-1.1.2-py2.py3-none-any.whl (704kB)\n",
      "Collecting cloudpickle>=0.2.1 (from scikit-image->shap<=0.28.5,>=0.20.0->azureml-explain-model==1.0.17.*; extra == \"explain\"->azureml-sdk[automl,explain,notebooks]->-r /tmp/condaenv.lb7qnqql.requirements.txt (line 2))\n",
      "  Downloading https://files.pythonhosted.org/packages/47/d5/efa7cacef5d3bdcd71d7053a698fb9b64a20fff5cb3c592efefa53ea5578/cloudpickle-0.8.0-py2.py3-none-any.whl\n",
      "Collecting pillow>=4.3.0 (from scikit-image->shap<=0.28.5,>=0.20.0->azureml-explain-model==1.0.17.*; extra == \"explain\"->azureml-sdk[automl,explain,notebooks]->-r /tmp/condaenv.lb7qnqql.requirements.txt (line 2))\n",
      "  Downloading https://files.pythonhosted.org/packages/85/5e/e91792f198bbc5a0d7d3055ad552bc4062942d27eaf75c3e2783cf64eae5/Pillow-5.4.1-cp36-cp36m-manylinux1_x86_64.whl (2.0MB)\n",
      "Collecting networkx>=1.8 (from scikit-image->shap<=0.28.5,>=0.20.0->azureml-explain-model==1.0.17.*; extra == \"explain\"->azureml-sdk[automl,explain,notebooks]->-r /tmp/condaenv.lb7qnqql.requirements.txt (line 2))\n",
      "  Downloading https://files.pythonhosted.org/packages/f3/f4/7e20ef40b118478191cec0b58c3192f822cace858c19505c7670961b76b2/networkx-2.2.zip (1.7MB)\n",
      "Requirement already satisfied: ipython-genutils in /opt/conda/envs/aml-sdk-conda-env/lib/python3.6/site-packages (from traitlets>=4.2->ipython->azureml-contrib-notebook==1.0.17.*; extra == \"notebooks\"->azureml-sdk[automl,explain,notebooks]->-r /tmp/condaenv.lb7qnqql.requirements.txt (line 2)) (0.2.0)\n",
      "Requirement already satisfied: parso>=0.3.0 in /opt/conda/envs/aml-sdk-conda-env/lib/python3.6/site-packages (from jedi>=0.10->ipython->azureml-contrib-notebook==1.0.17.*; extra == \"notebooks\"->azureml-sdk[automl,explain,notebooks]->-r /tmp/condaenv.lb7qnqql.requirements.txt (line 2)) (0.3.2)\n",
      "Requirement already satisfied: wcwidth in /opt/conda/envs/aml-sdk-conda-env/lib/python3.6/site-packages (from prompt-toolkit<2.1.0,>=2.0.0->ipython->azureml-contrib-notebook==1.0.17.*; extra == \"notebooks\"->azureml-sdk[automl,explain,notebooks]->-r /tmp/condaenv.lb7qnqql.requirements.txt (line 2)) (0.1.7)\n",
      "Requirement already satisfied: ptyprocess>=0.5 in /opt/conda/envs/aml-sdk-conda-env/lib/python3.6/site-packages (from pexpect; sys_platform != \"win32\"->ipython->azureml-contrib-notebook==1.0.17.*; extra == \"notebooks\"->azureml-sdk[automl,explain,notebooks]->-r /tmp/condaenv.lb7qnqql.requirements.txt (line 2)) (0.6.0)\n",
      "Requirement already satisfied: notebook>=4.4.1 in /opt/conda/envs/aml-sdk-conda-env/lib/python3.6/site-packages (from widgetsnbextension~=3.4.0->ipywidgets>=7.0.0->azureml-widgets==1.0.17.*; extra == \"notebooks\"->azureml-sdk[automl,explain,notebooks]->-r /tmp/condaenv.lb7qnqql.requirements.txt (line 2)) (5.7.4)\n",
      "Requirement already satisfied: jupyter-client in /opt/conda/envs/aml-sdk-conda-env/lib/python3.6/site-packages (from ipykernel>=4.5.1->ipywidgets>=7.0.0->azureml-widgets==1.0.17.*; extra == \"notebooks\"->azureml-sdk[automl,explain,notebooks]->-r /tmp/condaenv.lb7qnqql.requirements.txt (line 2)) (5.2.4)\n",
      "Requirement already satisfied: tornado>=4.2 in /opt/conda/envs/aml-sdk-conda-env/lib/python3.6/site-packages (from ipykernel>=4.5.1->ipywidgets>=7.0.0->azureml-widgets==1.0.17.*; extra == \"notebooks\"->azureml-sdk[automl,explain,notebooks]->-r /tmp/condaenv.lb7qnqql.requirements.txt (line 2)) (5.1.1)\n",
      "Requirement already satisfied: jupyter-core in /opt/conda/envs/aml-sdk-conda-env/lib/python3.6/site-packages (from nbformat>=4.2.0->ipywidgets>=7.0.0->azureml-widgets==1.0.17.*; extra == \"notebooks\"->azureml-sdk[automl,explain,notebooks]->-r /tmp/condaenv.lb7qnqql.requirements.txt (line 2)) (4.4.0)\n",
      "Collecting toolz>=0.7.3; extra == \"array\" (from dask[array]>=1.0.0->scikit-image->shap<=0.28.5,>=0.20.0->azureml-explain-model==1.0.17.*; extra == \"explain\"->azureml-sdk[automl,explain,notebooks]->-r /tmp/condaenv.lb7qnqql.requirements.txt (line 2))\n",
      "  Downloading https://files.pythonhosted.org/packages/14/d0/a73c15bbeda3d2e7b381a36afb0d9cd770a9f4adc5d1532691013ba881db/toolz-0.9.0.tar.gz (45kB)\n",
      "Requirement already satisfied: jinja2 in /opt/conda/envs/aml-sdk-conda-env/lib/python3.6/site-packages (from notebook>=4.4.1->widgetsnbextension~=3.4.0->ipywidgets>=7.0.0->azureml-widgets==1.0.17.*; extra == \"notebooks\"->azureml-sdk[automl,explain,notebooks]->-r /tmp/condaenv.lb7qnqql.requirements.txt (line 2)) (2.10)\n",
      "Requirement already satisfied: terminado>=0.8.1 in /opt/conda/envs/aml-sdk-conda-env/lib/python3.6/site-packages (from notebook>=4.4.1->widgetsnbextension~=3.4.0->ipywidgets>=7.0.0->azureml-widgets==1.0.17.*; extra == \"notebooks\"->azureml-sdk[automl,explain,notebooks]->-r /tmp/condaenv.lb7qnqql.requirements.txt (line 2)) (0.8.1)\n",
      "Requirement already satisfied: nbconvert in /opt/conda/envs/aml-sdk-conda-env/lib/python3.6/site-packages (from notebook>=4.4.1->widgetsnbextension~=3.4.0->ipywidgets>=7.0.0->azureml-widgets==1.0.17.*; extra == \"notebooks\"->azureml-sdk[automl,explain,notebooks]->-r /tmp/condaenv.lb7qnqql.requirements.txt (line 2)) (5.3.1)\n",
      "Requirement already satisfied: prometheus-client in /opt/conda/envs/aml-sdk-conda-env/lib/python3.6/site-packages (from notebook>=4.4.1->widgetsnbextension~=3.4.0->ipywidgets>=7.0.0->azureml-widgets==1.0.17.*; extra == \"notebooks\"->azureml-sdk[automl,explain,notebooks]->-r /tmp/condaenv.lb7qnqql.requirements.txt (line 2)) (0.5.0)\n",
      "Requirement already satisfied: pyzmq>=17 in /opt/conda/envs/aml-sdk-conda-env/lib/python3.6/site-packages (from notebook>=4.4.1->widgetsnbextension~=3.4.0->ipywidgets>=7.0.0->azureml-widgets==1.0.17.*; extra == \"notebooks\"->azureml-sdk[automl,explain,notebooks]->-r /tmp/condaenv.lb7qnqql.requirements.txt (line 2)) (17.1.2)\n",
      "Requirement already satisfied: Send2Trash in /opt/conda/envs/aml-sdk-conda-env/lib/python3.6/site-packages (from notebook>=4.4.1->widgetsnbextension~=3.4.0->ipywidgets>=7.0.0->azureml-widgets==1.0.17.*; extra == \"notebooks\"->azureml-sdk[automl,explain,notebooks]->-r /tmp/condaenv.lb7qnqql.requirements.txt (line 2)) (1.5.0)\n",
      "Requirement already satisfied: MarkupSafe>=0.23 in /opt/conda/envs/aml-sdk-conda-env/lib/python3.6/site-packages (from jinja2->notebook>=4.4.1->widgetsnbextension~=3.4.0->ipywidgets>=7.0.0->azureml-widgets==1.0.17.*; extra == \"notebooks\"->azureml-sdk[automl,explain,notebooks]->-r /tmp/condaenv.lb7qnqql.requirements.txt (line 2)) (1.1.0)\n",
      "Requirement already satisfied: entrypoints>=0.2.2 in /opt/conda/envs/aml-sdk-conda-env/lib/python3.6/site-packages (from nbconvert->notebook>=4.4.1->widgetsnbextension~=3.4.0->ipywidgets>=7.0.0->azureml-widgets==1.0.17.*; extra == \"notebooks\"->azureml-sdk[automl,explain,notebooks]->-r /tmp/condaenv.lb7qnqql.requirements.txt (line 2)) (0.3)\n",
      "Requirement already satisfied: pandocfilters>=1.4.1 in /opt/conda/envs/aml-sdk-conda-env/lib/python3.6/site-packages (from nbconvert->notebook>=4.4.1->widgetsnbextension~=3.4.0->ipywidgets>=7.0.0->azureml-widgets==1.0.17.*; extra == \"notebooks\"->azureml-sdk[automl,explain,notebooks]->-r /tmp/condaenv.lb7qnqql.requirements.txt (line 2)) (1.4.2)\n",
      "Requirement already satisfied: testpath in /opt/conda/envs/aml-sdk-conda-env/lib/python3.6/site-packages (from nbconvert->notebook>=4.4.1->widgetsnbextension~=3.4.0->ipywidgets>=7.0.0->azureml-widgets==1.0.17.*; extra == \"notebooks\"->azureml-sdk[automl,explain,notebooks]->-r /tmp/condaenv.lb7qnqql.requirements.txt (line 2)) (0.4.2)\n",
      "Requirement already satisfied: mistune>=0.7.4 in /opt/conda/envs/aml-sdk-conda-env/lib/python3.6/site-packages (from nbconvert->notebook>=4.4.1->widgetsnbextension~=3.4.0->ipywidgets>=7.0.0->azureml-widgets==1.0.17.*; extra == \"notebooks\"->azureml-sdk[automl,explain,notebooks]->-r /tmp/condaenv.lb7qnqql.requirements.txt (line 2)) (0.8.4)\n",
      "Requirement already satisfied: bleach in /opt/conda/envs/aml-sdk-conda-env/lib/python3.6/site-packages (from nbconvert->notebook>=4.4.1->widgetsnbextension~=3.4.0->ipywidgets>=7.0.0->azureml-widgets==1.0.17.*; extra == \"notebooks\"->azureml-sdk[automl,explain,notebooks]->-r /tmp/condaenv.lb7qnqql.requirements.txt (line 2)) (3.1.0)\n",
      "Requirement already satisfied: webencodings in /opt/conda/envs/aml-sdk-conda-env/lib/python3.6/site-packages (from bleach->nbconvert->notebook>=4.4.1->widgetsnbextension~=3.4.0->ipywidgets>=7.0.0->azureml-widgets==1.0.17.*; extra == \"notebooks\"->azureml-sdk[automl,explain,notebooks]->-r /tmp/condaenv.lb7qnqql.requirements.txt (line 2)) (0.5.1)\n",
      "Building wheels for collected packages: pathspec, pyyaml, dill, shap, absl-py, gast, termcolor, JsonForm, JsonSir, pycparser, networkx, toolz\n",
      "  Building wheel for pathspec (setup.py): started\n"
     ]
    },
    {
     "name": "stdout",
     "output_type": "stream",
     "text": [
      "  Building wheel for pathspec (setup.py): finished with status 'done'\n",
      "  Stored in directory: /root/.cache/pip/wheels/45/cb/7e/ce6e6062c69446e39e328170524ca8213498bc66a74c6a210b\n",
      "  Building wheel for pyyaml (setup.py): started\n",
      "  Building wheel for pyyaml (setup.py): finished with status 'done'\n",
      "  Stored in directory: /root/.cache/pip/wheels/ad/da/0c/74eb680767247273e2cf2723482cb9c924fe70af57c334513f\n",
      "  Building wheel for dill (setup.py): started\n",
      "  Building wheel for dill (setup.py): finished with status 'done'\n",
      "  Stored in directory: /root/.cache/pip/wheels/5b/d7/0f/e58eae695403de585269f4e4a94e0cd6ca60ec0c202936fa4a\n",
      "  Building wheel for shap (setup.py): started\n",
      "  Building wheel for shap (setup.py): finished with status 'done'\n",
      "  Stored in directory: /root/.cache/pip/wheels/bf/26/bd/912db1314f1cef0171d9b7f128dd01e8b8c92ed8d0062e632d\n",
      "  Building wheel for absl-py (setup.py): started\n",
      "  Building wheel for absl-py (setup.py): finished with status 'done'\n",
      "  Stored in directory: /root/.cache/pip/wheels/90/db/f8/2c3101f72ef1ad434e4662853174126ce30201a3e163dcbeca\n",
      "  Building wheel for gast (setup.py): started\n",
      "  Building wheel for gast (setup.py): finished with status 'done'\n",
      "  Stored in directory: /root/.cache/pip/wheels/5c/2e/7e/a1d4d4fcebe6c381f378ce7743a3ced3699feb89bcfbdadadd\n",
      "  Building wheel for termcolor (setup.py): started\n",
      "  Building wheel for termcolor (setup.py): finished with status 'done'\n",
      "  Stored in directory: /root/.cache/pip/wheels/7c/06/54/bc84598ba1daf8f970247f550b175aaaee85f68b4b0c5ab2c6\n",
      "  Building wheel for JsonForm (setup.py): started\n",
      "  Building wheel for JsonForm (setup.py): finished with status 'done'\n",
      "  Stored in directory: /root/.cache/pip/wheels/e8/74/51/42c2d41c02bdc6f0e604476b7e4293b8c98d0bcbfa1dff78c8\n",
      "  Building wheel for JsonSir (setup.py): started\n",
      "  Building wheel for JsonSir (setup.py): finished with status 'done'\n",
      "  Stored in directory: /root/.cache/pip/wheels/ee/30/5c/3a3b5e1386c8db9a3be5f5c3933644ae0533c1351c6a8eb4b5\n",
      "  Building wheel for pycparser (setup.py): started\n",
      "  Building wheel for pycparser (setup.py): finished with status 'done'\n",
      "  Stored in directory: /root/.cache/pip/wheels/f2/9a/90/de94f8556265ddc9d9c8b271b0f63e57b26fb1d67a45564511\n",
      "  Building wheel for networkx (setup.py): started\n",
      "  Building wheel for networkx (setup.py): finished with status 'done'\n",
      "  Stored in directory: /root/.cache/pip/wheels/68/f8/29/b53346a112a07d30a5a84d53f19aeadaa1a474897c0423af91\n",
      "  Building wheel for toolz (setup.py): started\n",
      "  Building wheel for toolz (setup.py): finished with status 'done'\n",
      "  Stored in directory: /root/.cache/pip/wheels/f4/0c/f6/ce6b2d1aa459ee97cc3c0f82236302bd62d89c86c700219463\n",
      "Successfully built pathspec pyyaml dill shap absl-py gast termcolor JsonForm JsonSir pycparser networkx toolz\n",
      "Installing collected packages: python-dotenv, chardet, urllib3, idna, requests, azure-common, azure-nspkg, azure-mgmt-nspkg, pycparser, cffi, asn1crypto, cryptography, PyJWT, adal, isodate, oauthlib, requests-oauthlib, msrest, msrestazure, azure-mgmt-keyvault, jsonpickle, pathspec, pynacl, pyasn1, bcrypt, paramiko, backports.weakref, backports.tempfile, azure-mgmt-containerregistry, ruamel.yaml, jeepney, SecretStorage, pyopenssl, ndg-httpsclient, websocket-client, docker-pycreds, docker, pyyaml, azure-graphrbac, jmespath, azure-mgmt-storage, azure-mgmt-authorization, azure-mgmt-resource, pytz, contextlib2, azureml-core, azureml-train-restclients-hyperdrive, applicationinsights, azureml-telemetry, azureml-train-core, azureml-train, azureml-pipeline-core, azureml-pipeline-steps, azureml-pipeline, numpy, pandas, scipy, scikit-learn, sklearn-pandas, lightgbm, dill, wheel, distro, dotnetcore2, azureml-dataprep-native, azureml-dataprep, h5py, keras-applications, keras-preprocessing, absl-py, astor, gast, grpcio, werkzeug, markdown, protobuf, tensorboard, termcolor, tensorflow, python-easyconfig, JsonForm, JsonSir, resource, azureml-train-automl, cycler, kiwisolver, pyparsing, matplotlib, tqdm, PyWavelets, toolz, dask, cloudpickle, pillow, networkx, scikit-image, shap, azureml-explain-model, azureml-contrib-notebook, widgetsnbextension, ipywidgets, azureml-widgets, azureml-sdk\n",
      "  Found existing installation: numpy 1.15.4\n",
      "    Uninstalling numpy-1.15.4:\n",
      "      Successfully uninstalled numpy-1.15.4\n",
      "  Found existing installation: scipy 1.2.1\n",
      "    Uninstalling scipy-1.2.1:\n",
      "      Successfully uninstalled scipy-1.2.1\n",
      "  Found existing installation: scikit-learn 0.20.2\n",
      "    Uninstalling scikit-learn-0.20.2:\n",
      "      Successfully uninstalled scikit-learn-0.20.2\n",
      "  Found existing installation: wheel 0.32.3\n",
      "    Uninstalling wheel-0.32.3:\n",
      "      Successfully uninstalled wheel-0.32.3\n",
      "Successfully installed JsonForm-0.0.2 JsonSir-0.0.2 PyJWT-1.7.1 PyWavelets-1.0.2 SecretStorage-3.1.1 absl-py-0.7.0 adal-1.2.1 applicationinsights-0.11.7 asn1crypto-0.24.0 astor-0.7.1 azure-common-1.1.18 azure-graphrbac-0.53.0 azure-mgmt-authorization-0.51.1 azure-mgmt-containerregistry-2.7.0 azure-mgmt-keyvault-1.1.0 azure-mgmt-nspkg-3.0.2 azure-mgmt-resource-2.1.0 azure-mgmt-storage-3.1.1 azure-nspkg-3.0.2 azureml-contrib-notebook-1.0.17 azureml-core-1.0.17 azureml-dataprep-1.0.15 azureml-dataprep-native-11.2.2 azureml-explain-model-1.0.17 azureml-pipeline-1.0.17 azureml-pipeline-core-1.0.17 azureml-pipeline-steps-1.0.17 azureml-sdk-1.0.17 azureml-telemetry-1.0.17 azureml-train-1.0.17 azureml-train-automl-1.0.17 azureml-train-core-1.0.17 azureml-train-restclients-hyperdrive-1.0.17 azureml-widgets-1.0.17 backports.tempfile-1.0 backports.weakref-1.0.post1 bcrypt-3.1.6 cffi-1.12.2 chardet-3.0.4 cloudpickle-0.8.0 contextlib2-0.5.5 cryptography-2.5 cycler-0.10.0 dask-1.1.2 dill-0.2.9 distro-1.4.0 docker-3.7.0 docker-pycreds-0.4.0 dotnetcore2-2.1.7 gast-0.2.2 grpcio-1.18.0 h5py-2.9.0 idna-2.8 ipywidgets-7.4.2 isodate-0.6.0 jeepney-0.4 jmespath-0.9.4 jsonpickle-1.1 keras-applications-1.0.7 keras-preprocessing-1.0.9 kiwisolver-1.0.1 lightgbm-2.2.1 markdown-3.0.1 matplotlib-3.0.2 msrest-0.6.4 msrestazure-0.6.0 ndg-httpsclient-0.5.1 networkx-2.2 numpy-1.14.6 oauthlib-3.0.1 pandas-0.23.4 paramiko-2.4.2 pathspec-0.5.9 pillow-5.4.1 protobuf-3.6.1 pyasn1-0.4.5 pycparser-2.19 pynacl-1.3.0 pyopenssl-19.0.0 pyparsing-2.3.1 python-dotenv-0.10.1 python-easyconfig-0.1.7 pytz-2018.9 pyyaml-3.13 requests-2.21.0 requests-oauthlib-1.2.0 resource-0.2.1 ruamel.yaml-0.15.51 scikit-image-0.14.2 scikit-learn-0.19.1 scipy-1.1.0 shap-0.28.5 sklearn-pandas-1.7.0 tensorboard-1.12.2 tensorflow-1.12.0 termcolor-1.1.0 toolz-0.9.0 tqdm-4.31.1 urllib3-1.24.1 websocket-client-0.55.0 werkzeug-0.14.1 wheel-0.30.0 widgetsnbextension-3.4.2\n",
      "Cache location: /opt/conda/pkgs\n",
      "Will remove the following tarballs:\n",
      "\n",
      "/opt/conda/pkgs\n",
      "---------------\n",
      "notebook-5.7.4-py36_0.tar.bz2                7.2 MB\n",
      "decorator-4.3.2-py36_0.tar.bz2                17 KB\n",
      "pickleshare-0.7.5-py36_0.tar.bz2              13 KB\n",
      "cython-0.29.5-py36he6710b0_0.tar.bz2         2.2 MB\n",
      "setuptools-40.8.0-py36_0.tar.bz2             647 KB\n",
      "ipython-7.2.0-py36h39e3cac_0.tar.bz2         1.0 MB\n",
      "pygments-2.3.1-py36_0.tar.bz2                1.4 MB\n",
      "six-1.12.0-py36_0.tar.bz2                     22 KB\n",
      "tornado-5.1.1-py36h7b6447c_0.tar.bz2         663 KB\n",
      "readline-7.0-h7b6447c_5.tar.bz2              392 KB\n",
      "sqlite-3.26.0-h7b6447c_0.tar.bz2             1.9 MB\n",
      "jupyter_core-4.4.0-py36_0.tar.bz2             63 KB\n",
      "nb_conda-2.2.1-py36_0.tar.bz2                 33 KB\n",
      "ptyprocess-0.6.0-py36_0.tar.bz2               23 KB\n",
      "libgcc-ng-8.2.0-hdf63c60_1.tar.bz2           7.6 MB\n",
      "markupsafe-1.1.0-py36h7b6447c_0.tar.bz2       26 KB\n",
      "libffi-3.2.1-h4deb6c0_3.tar.bz2               43 KB\n",
      "bleach-3.1.0-py36_0.tar.bz2                  226 KB\n",
      "nbformat-4.4.0-py36_0.tar.bz2                141 KB\n",
      "pexpect-4.6.0-py36_0.tar.bz2                  77 KB\n",
      "backcall-0.1.0-py36_0.tar.bz2                 19 KB\n",
      "python-3.6.8-h0371630_0.tar.bz2             34.4 MB\n",
      "entrypoints-0.3-py36_0.tar.bz2                12 KB\n",
      "openssl-1.1.1-h7b6447c_0.tar.bz2             5.0 MB\n",
      "xz-5.2.4-h14c3975_4.tar.bz2                  366 KB\n",
      "python-dateutil-2.7.5-py36_0.tar.bz2         275 KB\n",
      "nb_conda_kernels-2.2.0-py36_1.tar.bz2         37 KB\n",
      "wcwidth-0.1.7-py36_0.tar.bz2                  25 KB\n",
      "mistune-0.8.4-py36h7b6447c_0.tar.bz2          54 KB\n",
      "send2trash-1.5.0-py36_0.tar.bz2               16 KB\n",
      "zeromq-4.3.1-he6710b0_3.tar.bz2              666 KB\n",
      "pandocfilters-1.4.2-py36_1.tar.bz2            13 KB\n",
      "pyzmq-17.1.2-py36he6710b0_2.tar.bz2          462 KB\n",
      "libsodium-1.0.16-h1bed415_0.tar.bz2          302 KB\n",
      "webencodings-0.5.1-py36_1.tar.bz2             19 KB\n",
      "wheel-0.32.3-py36_0.tar.bz2                   35 KB\n",
      "traitlets-4.3.2-py36_0.tar.bz2               133 KB\n",
      "gmp-6.1.2-hb3b607b_0.tar.bz2                 744 KB\n",
      "numpy-1.15.4-py36h7e9f1db_0.tar.bz2           47 KB\n",
      "numpy-base-1.15.4-py36hde5b4d6_0.tar.bz2     4.3 MB\n",
      "nbconvert-5.3.1-py36_0.tar.bz2               406 KB\n",
      "pandoc-2.2.3.2-0.tar.bz2                    20.8 MB\n",
      "intel-openmp-2019.1-144.tar.bz2              885 KB\n",
      "ipykernel-5.1.0-py36h39e3cac_0.tar.bz2       156 KB\n",
      "parso-0.3.2-py36_0.tar.bz2                   119 KB\n",
      "scikit-learn-0.20.2-py36hd81dba3_0.tar.bz2     5.7 MB\n",
      "libgfortran-ng-7.3.0-hdf63c60_0.tar.bz2      1.3 MB\n",
      "jupyter_client-5.2.4-py36_0.tar.bz2          128 KB\n",
      "tk-8.6.8-hbc83047_0.tar.bz2                  3.1 MB\n",
      "libedit-3.1.20181209-hc058e9b_0.tar.bz2      188 KB\n",
      "libstdcxx-ng-8.2.0-hdf63c60_1.tar.bz2        2.9 MB\n",
      "jedi-0.13.2-py36_0.tar.bz2                   228 KB\n",
      "ipython_genutils-0.2.0-py36_0.tar.bz2         39 KB\n",
      "ncurses-6.1-he6710b0_1.tar.bz2               958 KB\n",
      "certifi-2018.11.29-py36_0.tar.bz2            146 KB\n",
      "zlib-1.2.11-h7b6447c_3.tar.bz2               120 KB\n",
      "prompt_toolkit-2.0.8-py_0.tar.bz2            222 KB\n",
      "jsonschema-2.6.0-py36_0.tar.bz2               62 KB\n",
      "prometheus_client-0.5.0-py36_0.tar.bz2        67 KB\n",
      "blas-1.0-mkl.tar.bz2                           6 KB\n",
      "pip-19.0.1-py36_0.tar.bz2                    1.8 MB\n",
      "scipy-1.2.1-py36h7c811a0_0.tar.bz2          17.7 MB\n",
      "jinja2-2.10-py36_0.tar.bz2                   184 KB\n",
      "mkl-2019.1-144.tar.bz2                     204.6 MB\n",
      "ca-certificates-2019.1.23-0.tar.bz2          126 KB\n",
      "terminado-0.8.1-py36_1.tar.bz2                21 KB\n",
      "testpath-0.4.2-py36_0.tar.bz2                 91 KB\n",
      "mkl_fft-1.0.10-py36ha843d7b_0.tar.bz2        170 KB\n",
      "mkl_random-1.0.2-py36hd81dba3_0.tar.bz2      407 KB\n",
      "\n",
      "---------------------------------------------------\n",
      "Total:                                     333.1 MB\n",
      "\n",
      "Removed notebook-5.7.4-py36_0.tar.bz2\n",
      "Removed decorator-4.3.2-py36_0.tar.bz2\n",
      "Removed pickleshare-0.7.5-py36_0.tar.bz2\n",
      "Removed cython-0.29.5-py36he6710b0_0.tar.bz2\n",
      "Removed setuptools-40.8.0-py36_0.tar.bz2\n",
      "Removed ipython-7.2.0-py36h39e3cac_0.tar.bz2\n",
      "Removed pygments-2.3.1-py36_0.tar.bz2\n",
      "Removed six-1.12.0-py36_0.tar.bz2\n",
      "Removed tornado-5.1.1-py36h7b6447c_0.tar.bz2\n",
      "Removed readline-7.0-h7b6447c_5.tar.bz2\n",
      "Removed sqlite-3.26.0-h7b6447c_0.tar.bz2\n",
      "Removed jupyter_core-4.4.0-py36_0.tar.bz2\n",
      "Removed nb_conda-2.2.1-py36_0.tar.bz2\n",
      "Removed ptyprocess-0.6.0-py36_0.tar.bz2\n",
      "Removed libgcc-ng-8.2.0-hdf63c60_1.tar.bz2\n",
      "Removed markupsafe-1.1.0-py36h7b6447c_0.tar.bz2\n",
      "Removed libffi-3.2.1-h4deb6c0_3.tar.bz2\n",
      "Removed bleach-3.1.0-py36_0.tar.bz2\n",
      "Removed nbformat-4.4.0-py36_0.tar.bz2\n",
      "Removed pexpect-4.6.0-py36_0.tar.bz2\n",
      "Removed backcall-0.1.0-py36_0.tar.bz2\n",
      "Removed python-3.6.8-h0371630_0.tar.bz2\n",
      "Removed entrypoints-0.3-py36_0.tar.bz2\n",
      "Removed openssl-1.1.1-h7b6447c_0.tar.bz2\n",
      "Removed xz-5.2.4-h14c3975_4.tar.bz2\n",
      "Removed python-dateutil-2.7.5-py36_0.tar.bz2\n",
      "Removed nb_conda_kernels-2.2.0-py36_1.tar.bz2\n",
      "Removed wcwidth-0.1.7-py36_0.tar.bz2\n",
      "Removed mistune-0.8.4-py36h7b6447c_0.tar.bz2\n",
      "Removed send2trash-1.5.0-py36_0.tar.bz2\n",
      "Removed zeromq-4.3.1-he6710b0_3.tar.bz2\n",
      "Removed pandocfilters-1.4.2-py36_1.tar.bz2\n",
      "Removed pyzmq-17.1.2-py36he6710b0_2.tar.bz2\n",
      "Removed libsodium-1.0.16-h1bed415_0.tar.bz2\n",
      "Removed webencodings-0.5.1-py36_1.tar.bz2\n",
      "Removed wheel-0.32.3-py36_0.tar.bz2\n",
      "Removed traitlets-4.3.2-py36_0.tar.bz2\n",
      "Removed gmp-6.1.2-hb3b607b_0.tar.bz2\n",
      "Removed numpy-1.15.4-py36h7e9f1db_0.tar.bz2\n",
      "Removed numpy-base-1.15.4-py36hde5b4d6_0.tar.bz2\n",
      "Removed nbconvert-5.3.1-py36_0.tar.bz2\n",
      "Removed pandoc-2.2.3.2-0.tar.bz2\n",
      "Removed intel-openmp-2019.1-144.tar.bz2\n",
      "Removed ipykernel-5.1.0-py36h39e3cac_0.tar.bz2\n",
      "Removed parso-0.3.2-py36_0.tar.bz2\n",
      "Removed scikit-learn-0.20.2-py36hd81dba3_0.tar.bz2\n",
      "Removed libgfortran-ng-7.3.0-hdf63c60_0.tar.bz2\n",
      "Removed jupyter_client-5.2.4-py36_0.tar.bz2\n",
      "Removed tk-8.6.8-hbc83047_0.tar.bz2\n",
      "Removed libedit-3.1.20181209-hc058e9b_0.tar.bz2\n",
      "Removed libstdcxx-ng-8.2.0-hdf63c60_1.tar.bz2\n",
      "Removed jedi-0.13.2-py36_0.tar.bz2\n",
      "Removed ipython_genutils-0.2.0-py36_0.tar.bz2\n",
      "Removed ncurses-6.1-he6710b0_1.tar.bz2\n",
      "Removed certifi-2018.11.29-py36_0.tar.bz2\n",
      "Removed zlib-1.2.11-h7b6447c_3.tar.bz2\n",
      "Removed prompt_toolkit-2.0.8-py_0.tar.bz2\n",
      "Removed jsonschema-2.6.0-py36_0.tar.bz2\n",
      "Removed prometheus_client-0.5.0-py36_0.tar.bz2\n",
      "Removed blas-1.0-mkl.tar.bz2\n",
      "Removed pip-19.0.1-py36_0.tar.bz2\n",
      "Removed scipy-1.2.1-py36h7c811a0_0.tar.bz2\n",
      "Removed jinja2-2.10-py36_0.tar.bz2\n",
      "Removed mkl-2019.1-144.tar.bz2\n",
      "Removed ca-certificates-2019.1.23-0.tar.bz2\n",
      "Removed terminado-0.8.1-py36_1.tar.bz2\n",
      "Removed testpath-0.4.2-py36_0.tar.bz2\n",
      "Removed mkl_fft-1.0.10-py36ha843d7b_0.tar.bz2\n",
      "Removed mkl_random-1.0.2-py36hd81dba3_0.tar.bz2\n",
      "Cache location: /opt/conda/pkgs\n",
      "Will remove the following packages:\n",
      "/opt/conda/pkgs\n",
      "---------------\n",
      "\n",
      "numpy-base-1.15.4-py36hde5b4d6_0            18.0 MB\n",
      "scikit-learn-0.20.2-py36hd81dba3_0          21.6 MB\n",
      "wheel-0.32.3-py36_0                          109 KB\n",
      "scipy-1.2.1-py36h7c811a0_0                  59.8 MB\n",
      "numpy-1.15.4-py36h7e9f1db_0                  249 KB\n",
      "blas-1.0-mkl                                  15 KB\n",
      "\n",
      "---------------------------------------------------\n",
      "Total:                                      99.7 MB\n",
      "\n",
      "removing numpy-base-1.15.4-py36hde5b4d6_0\n",
      "removing scikit-learn-0.20.2-py36hd81dba3_0\n",
      "removing wheel-0.32.3-py36_0\n",
      "removing scipy-1.2.1-py36h7c811a0_0\n",
      "removing numpy-1.15.4-py36h7e9f1db_0\n",
      "removing blas-1.0-mkl\n",
      "source cache (/opt/conda/conda-bld/src_cache)\n",
      "Size:                                           0 B\n",
      "\n",
      "git cache (/opt/conda/conda-bld/git_cache)\n",
      "Size:                                           0 B\n",
      "\n",
      "hg cache (/opt/conda/conda-bld/hg_cache)\n",
      "Size:                                           0 B\n",
      "\n",
      "svn cache (/opt/conda/conda-bld/svn_cache)\n",
      "Size:                                           0 B\n",
      "\n",
      "Total:                                          0 B\n",
      "Removing /opt/conda/conda-bld/src_cache\n",
      "Removing /opt/conda/conda-bld/git_cache\n",
      "Removing /opt/conda/conda-bld/hg_cache\n",
      "Removing /opt/conda/conda-bld/svn_cache\n"
     ]
    },
    {
     "name": "stdout",
     "output_type": "stream",
     "text": [
      "Removing intermediate container 1f65b9e5aa0c\n",
      " ---> 901dd53f034f\n",
      "Step 8/12 : ENV CONDA_AUTO_UPDATE_CONDA=false\n",
      " ---> Running in 86ebc37bc063\n",
      "Removing intermediate container 86ebc37bc063\n",
      " ---> 95761b772c83\n",
      "Step 9/12 : ENV CONDA_DEFAULT_ENV=$CONDA_ENV_NAME\n",
      " ---> Running in ff424888622c\n",
      "Removing intermediate container ff424888622c\n",
      " ---> 375ba049618c\n",
      "Step 10/12 : ENV CONDA_PREFIX=$CONDA_DIR/envs/$CONDA_DEFAULT_ENV\n",
      " ---> Running in dc847be21b99\n",
      "Removing intermediate container dc847be21b99\n",
      " ---> fbd82b363dc0\n",
      "Step 11/12 : ENV PATH=$CONDA_PREFIX/bin:/opt/conda/bin:$PATH\n",
      " ---> Running in ef74f9a4fae2\n",
      "Removing intermediate container ef74f9a4fae2\n",
      " ---> 4eeb54428300\n",
      "Step 12/12 : CMD /bin/bash\n",
      " ---> Running in 7642a377562a\n",
      "Removing intermediate container 7642a377562a\n",
      " ---> 885bd6967c7b\n",
      "Successfully built 885bd6967c7b\n",
      "Successfully tagged georgedockeraccount/aml-sdk_docker_image:sdk.v.1.0.17\n"
     ]
    }
   ],
   "source": [
    "!echo docker build -t $docker_image_name -f $docker_file_path $working_path --no-cache\n",
    "!     docker build -t $docker_image_name -f $docker_file_path $working_path --no-cache"
   ]
  },
  {
   "cell_type": "code",
   "execution_count": 10,
   "metadata": {
    "nbpresent": {
     "id": "468b09b6-55a8-4b09-bbc9-f857e41a51e0"
    }
   },
   "outputs": [
    {
     "data": {
      "text/plain": [
       "'/datadrive01/prj/PowerAIWithDocker/amlsdk/docker_run_dir'"
      ]
     },
     "execution_count": 10,
     "metadata": {},
     "output_type": "execute_result"
    },
    {
     "name": "stdout",
     "output_type": "stream",
     "text": [
      "total 0\r\n"
     ]
    }
   ],
   "source": [
    "local_dir = !pwd\n",
    "crt_local_dir = os.path.join(*([local_dir.s, 'docker_run_dir']))\n",
    "crt_local_dir \n",
    "!mkdir -p $crt_local_dir\n",
    "!rm -rf $crt_local_dir/test_*\n",
    "!ls -l $crt_local_dir\n",
    "# ! chmod -R ugo=rwx $crt_local_dir"
   ]
  },
  {
   "cell_type": "code",
   "execution_count": 11,
   "metadata": {},
   "outputs": [],
   "source": [
    "!mkdir -p ./docker_history\n",
    "!cp $docker_file_path ./docker_history/"
   ]
  },
  {
   "cell_type": "markdown",
   "metadata": {},
   "source": [
    "#### Push image to ([dockerhub](https://hub.docker.com/)) registry (optional step)"
   ]
  },
  {
   "cell_type": "code",
   "execution_count": 12,
   "metadata": {},
   "outputs": [
    {
     "name": "stdout",
     "output_type": "stream",
     "text": [
      "The push refers to repository [docker.io/georgedockeraccount/aml-sdk_docker_image]\n",
      "\n",
      "\u001b[1B83394d48: Preparing \n",
      "\u001b[1B85782e80: Preparing \n",
      "\u001b[1B06984a73: Preparing \n",
      "\u001b[1B6384d46a: Preparing \n",
      "\u001b[1B8fbc5764: Preparing \n",
      "\u001b[1B828fac1a: Preparing \n",
      "\u001b[1Bae060f2d: Preparing \n"
     ]
    },
    {
     "name": "stdout",
     "output_type": "stream",
     "text": [
      "\u001b[8B83394d48: Pushing  1.824GB/2.506GBA\u001b[1K\u001b[K\u001b[6A\u001b[1K\u001b[K\u001b[3A\u001b[1K\u001b[K\u001b[8A\u001b[1K\u001b[K\u001b[6A\u001b[1K\u001b[K\u001b[6A\u001b[1K\u001b[K\u001b[8A\u001b[1K\u001b[K\u001b[8A\u001b[1K\u001b[K\u001b[6A\u001b[1K\u001b[K\u001b[8A\u001b[1K\u001b[K\u001b[6A\u001b[1K\u001b[K\u001b[7A\u001b[1K\u001b[K\u001b[8A\u001b[1K\u001b[K\u001b[6A\u001b[1K\u001b[K\u001b[8A\u001b[1K\u001b[K\u001b[6A\u001b[1K\u001b[K\u001b[8A\u001b[1K\u001b[K\u001b[6A\u001b[1K\u001b[K\u001b[6A\u001b[1K\u001b[K\u001b[6A\u001b[1K\u001b[K\u001b[6A\u001b[1K\u001b[K\u001b[8A\u001b[1K\u001b[K\u001b[6A\u001b[1K\u001b[K\u001b[6A\u001b[1K\u001b[K\u001b[8A\u001b[1K\u001b[K\u001b[8A\u001b[1K\u001b[K\u001b[6A\u001b[1K\u001b[K\u001b[8A\u001b[1K\u001b[K\u001b[8A\u001b[1K\u001b[K\u001b[6A\u001b[1K\u001b[K\u001b[8A\u001b[1K\u001b[K\u001b[6A\u001b[1K\u001b[K\u001b[8A\u001b[1K\u001b[K\u001b[6A\u001b[1K\u001b[K\u001b[8A\u001b[1K\u001b[K\u001b[6A\u001b[1K\u001b[K\u001b[8A\u001b[1K\u001b[K\u001b[6A\u001b[1K\u001b[K\u001b[8A\u001b[1K\u001b[K\u001b[6A\u001b[1K\u001b[K\u001b[8A\u001b[1K\u001b[K\u001b[6A\u001b[1K\u001b[K\u001b[6A\u001b[1K\u001b[K\u001b[8A\u001b[1K\u001b[K\u001b[8A\u001b[1K\u001b[K\u001b[8A\u001b[1K\u001b[K\u001b[8A\u001b[1K\u001b[K\u001b[6A\u001b[1K\u001b[K\u001b[8A\u001b[1K\u001b[K\u001b[8A\u001b[1K\u001b[K\u001b[6A\u001b[1K\u001b[K\u001b[8A\u001b[1K\u001b[K\u001b[6A\u001b[1K\u001b[K\u001b[6A\u001b[1K\u001b[K\u001b[8A\u001b[1K\u001b[K\u001b[6A\u001b[1K\u001b[K\u001b[8A\u001b[1K\u001b[K\u001b[6A\u001b[1K\u001b[K\u001b[8A\u001b[1K\u001b[K\u001b[6A\u001b[1K\u001b[K\u001b[8A\u001b[1K\u001b[K\u001b[6A\u001b[1K\u001b[K\u001b[8A\u001b[1K\u001b[K\u001b[6A\u001b[1K\u001b[K\u001b[8A\u001b[1K\u001b[K\u001b[6A\u001b[1K\u001b[K\u001b[8A\u001b[1K\u001b[K\u001b[6A\u001b[1K\u001b[K\u001b[8A\u001b[1K\u001b[K\u001b[6A\u001b[1K\u001b[K\u001b[8A\u001b[1K\u001b[K\u001b[6A\u001b[1K\u001b[K\u001b[8A\u001b[1K\u001b[K\u001b[6A\u001b[1K\u001b[K\u001b[8A\u001b[1K\u001b[K\u001b[6A\u001b[1K\u001b[K\u001b[8A\u001b[1K\u001b[K\u001b[6A\u001b[1K\u001b[K\u001b[8A\u001b[1K\u001b[K\u001b[6A\u001b[1K\u001b[K\u001b[6A\u001b[1K\u001b[K\u001b[8A\u001b[1K\u001b[K\u001b[6A\u001b[1K\u001b[K\u001b[8A\u001b[1K\u001b[K\u001b[6A\u001b[1K\u001b[K\u001b[8A\u001b[1K\u001b[K\u001b[8A\u001b[1K\u001b[K\u001b[8A\u001b[1K\u001b[K\u001b[8A\u001b[1K\u001b[K\u001b[6A\u001b[1K\u001b[K\u001b[8A\u001b[1K\u001b[K\u001b[6A\u001b[1K\u001b[K\u001b[8A\u001b[1K\u001b[K\u001b[6A\u001b[1K\u001b[K\u001b[6A\u001b[1K\u001b[K\u001b[8A\u001b[1K\u001b[K\u001b[6A\u001b[1K\u001b[K\u001b[8A\u001b[1K\u001b[K\u001b[6A\u001b[1K\u001b[K\u001b[6A\u001b[1K\u001b[K\u001b[8A\u001b[1K\u001b[K\u001b[6A\u001b[1K\u001b[K\u001b[8A\u001b[1K\u001b[K\u001b[6A\u001b[1K\u001b[K\u001b[8A\u001b[1K\u001b[K\u001b[6A\u001b[1K\u001b[K\u001b[8A\u001b[1K\u001b[K\u001b[6A\u001b[1K\u001b[K\u001b[8A\u001b[1K\u001b[K\u001b[6A\u001b[1K\u001b[K\u001b[8A\u001b[1K\u001b[K\u001b[8A\u001b[1K\u001b[K\u001b[8A\u001b[1K\u001b[K\u001b[8A\u001b[1K\u001b[K\u001b[6A\u001b[1K\u001b[K\u001b[6A\u001b[1K\u001b[K\u001b[6A\u001b[1K\u001b[K\u001b[6A\u001b[1K\u001b[K\u001b[6A\u001b[1K\u001b[K\u001b[8A\u001b[1K\u001b[K\u001b[6A\u001b[1K\u001b[K\u001b[8A\u001b[1K\u001b[K\u001b[6A\u001b[1K\u001b[K\u001b[8A\u001b[1K\u001b[K\u001b[8A\u001b[1K\u001b[K\u001b[8A\u001b[1K\u001b[K\u001b[8A\u001b[1K\u001b[K\u001b[8A\u001b[1K\u001b[K\u001b[8A\u001b[1K\u001b[K\u001b[8A\u001b[1K\u001b[K\u001b[8A\u001b[1K\u001b[K\u001b[8A\u001b[1K\u001b[K\u001b[8A\u001b[1K\u001b[K\u001b[8A\u001b[1K\u001b[K\u001b[8A\u001b[1K\u001b[K\u001b[8A\u001b[1K\u001b[K\u001b[8A\u001b[1K\u001b[K\u001b[8A\u001b[1K\u001b[K\u001b[8A\u001b[1K\u001b[K\u001b[8A\u001b[1K\u001b[K\u001b[8A\u001b[1K\u001b[K\u001b[8A\u001b[1K\u001b[K\u001b[8A\u001b[1K\u001b[K\u001b[8A\u001b[1K\u001b[K\u001b[8A\u001b[1K\u001b[K\u001b[8A\u001b[1K\u001b[K\u001b[8A\u001b[1K\u001b[K\u001b[8A\u001b[1K\u001b[K\u001b[8A\u001b[1K\u001b[K\u001b[8A\u001b[1K\u001b[K\u001b[8A\u001b[1K\u001b[K\u001b[8A\u001b[1K\u001b[K\u001b[8A\u001b[1K\u001b[K\u001b[8A\u001b[1K\u001b[K\u001b[8A\u001b[1K\u001b[K\u001b[8A\u001b[1K\u001b[K\u001b[8A\u001b[1K\u001b[K\u001b[8A\u001b[1K\u001b[K\u001b[8A\u001b[1K\u001b[K\u001b[8A\u001b[1K\u001b[K\u001b[8A\u001b[1K\u001b[K\u001b[8A\u001b[1K\u001b[K\u001b[8A\u001b[1K\u001b[K\u001b[8A\u001b[1K\u001b[K\u001b[8A\u001b[1K\u001b[K\u001b[8A\u001b[1K\u001b[K\u001b[8A\u001b[1K\u001b[K\u001b[8A\u001b[1K\u001b[K\u001b[8A\u001b[1K\u001b[K\u001b[8A\u001b[1K\u001b[K\u001b[8A\u001b[1K\u001b[K\u001b[8A\u001b[1K\u001b[K\u001b[8A\u001b[1K\u001b[K\u001b[8A\u001b[1K\u001b[K\u001b[8A\u001b[1K\u001b[K\u001b[8A\u001b[1K\u001b[K\u001b[8A\u001b[1K\u001b[K\u001b[8A\u001b[1K\u001b[K\u001b[8A\u001b[1K\u001b[K\u001b[8A\u001b[1K\u001b[KPushing  382.9MB/2.506GB\u001b[8A\u001b[1K\u001b[K\u001b[8A\u001b[1K\u001b[K\u001b[8A\u001b[1K\u001b[K\u001b[8A\u001b[1K\u001b[K\u001b[8A\u001b[1K\u001b[K\u001b[8A\u001b[1K\u001b[K\u001b[8A\u001b[1K\u001b[K\u001b[8A\u001b[1K\u001b[K\u001b[8A\u001b[1K\u001b[K\u001b[8A\u001b[1K\u001b[K\u001b[8A\u001b[1K\u001b[K\u001b[8A\u001b[1K\u001b[K\u001b[8A\u001b[1K\u001b[K\u001b[8A\u001b[1K\u001b[K\u001b[8A\u001b[1K\u001b[K\u001b[8A\u001b[1K\u001b[K\u001b[8A\u001b[1K\u001b[K\u001b[8A\u001b[1K\u001b[K\u001b[8A\u001b[1K\u001b[K\u001b[8A\u001b[1K\u001b[K\u001b[8A\u001b[1K\u001b[K\u001b[8A\u001b[1K\u001b[K\u001b[8A\u001b[1K\u001b[K\u001b[8A\u001b[1K\u001b[K\u001b[8A\u001b[1K\u001b[K\u001b[8A\u001b[1K\u001b[K\u001b[8A\u001b[1K\u001b[K\u001b[8A\u001b[1K\u001b[K\u001b[8A\u001b[1K\u001b[K\u001b[8A\u001b[1K\u001b[K\u001b[8A\u001b[1K\u001b[K\u001b[8A\u001b[1K\u001b[K\u001b[8A\u001b[1K\u001b[K\u001b[8A\u001b[1K\u001b[K\u001b[8A\u001b[1K\u001b[K\u001b[8A\u001b[1K\u001b[K\u001b[8A\u001b[1K\u001b[K\u001b[8A\u001b[1K\u001b[K\u001b[8A\u001b[1K\u001b[K\u001b[8A\u001b[1K\u001b[K\u001b[8A\u001b[1K\u001b[K\u001b[8A\u001b[1K\u001b[K\u001b[8A\u001b[1K\u001b[K\u001b[8A\u001b[1K\u001b[K\u001b[8A\u001b[1K\u001b[K\u001b[8A\u001b[1K\u001b[K\u001b[8A\u001b[1K\u001b[K\u001b[8A\u001b[1K\u001b[K\u001b[8A\u001b[1K\u001b[K\u001b[8A\u001b[1K\u001b[K\u001b[8A\u001b[1K\u001b[K\u001b[8A\u001b[1K\u001b[K\u001b[8A\u001b[1K\u001b[K\u001b[8A\u001b[1K\u001b[K\u001b[8A\u001b[1K\u001b[K\u001b[8A\u001b[1K\u001b[K\u001b[8A\u001b[1K\u001b[K\u001b[8A\u001b[1K\u001b[K\u001b[8A\u001b[1K\u001b[K\u001b[8A\u001b[1K\u001b[K\u001b[8A\u001b[1K\u001b[K\u001b[8A\u001b[1K\u001b[K\u001b[8A\u001b[1K\u001b[K\u001b[8A\u001b[1K\u001b[K\u001b[8A\u001b[1K\u001b[K\u001b[8A\u001b[1K\u001b[K\u001b[8A\u001b[1K\u001b[K\u001b[8A\u001b[1K\u001b[K\u001b[8A\u001b[1K\u001b[K\u001b[8A\u001b[1K\u001b[K\u001b[8A\u001b[1K\u001b[K\u001b[8A\u001b[1K\u001b[K\u001b[8A\u001b[1K\u001b[K\u001b[8A\u001b[1K\u001b[K\u001b[8A\u001b[1K\u001b[K\u001b[8A\u001b[1K\u001b[K\u001b[8A\u001b[1K\u001b[K\u001b[8A\u001b[1K\u001b[K\u001b[8A\u001b[1K\u001b[K\u001b[8A\u001b[1K\u001b[K\u001b[8A\u001b[1K\u001b[K\u001b[8A\u001b[1K\u001b[K\u001b[8A\u001b[1K\u001b[K\u001b[8A\u001b[1K\u001b[K\u001b[8A\u001b[1K\u001b[K\u001b[8A\u001b[1K\u001b[K\u001b[8A\u001b[1K\u001b[K\u001b[8A\u001b[1K\u001b[K\u001b[8A\u001b[1K\u001b[K\u001b[8A\u001b[1K\u001b[K\u001b[8A\u001b[1K\u001b[K\u001b[8A\u001b[1K\u001b[K\u001b[8A\u001b[1K\u001b[K\u001b[8A\u001b[1K\u001b[K\u001b[8A\u001b[1K\u001b[K\u001b[8A\u001b[1K\u001b[K\u001b[8A\u001b[1K\u001b[K\u001b[8A\u001b[1K\u001b[K\u001b[8A\u001b[1K\u001b[K\u001b[8A\u001b[1K\u001b[K\u001b[8A\u001b[1K\u001b[K\u001b[8A\u001b[1K\u001b[K\u001b[8A\u001b[1K\u001b[K\u001b[8A\u001b[1K\u001b[K\u001b[8A\u001b[1K\u001b[KPushing  652.8MB/2.506GB\u001b[8A\u001b[1K\u001b[K\u001b[8A\u001b[1K\u001b[K\u001b[8A\u001b[1K\u001b[KPushing  659.5MB/2.506GB\u001b[8A\u001b[1K\u001b[K\u001b[8A\u001b[1K\u001b[K\u001b[8A\u001b[1K\u001b[K\u001b[8A\u001b[1K\u001b[K\u001b[8A\u001b[1K\u001b[K\u001b[8A\u001b[1K\u001b[K\u001b[8A\u001b[1K\u001b[K\u001b[8A\u001b[1K\u001b[K\u001b[8A\u001b[1K\u001b[K\u001b[8A\u001b[1K\u001b[K\u001b[8A\u001b[1K\u001b[K\u001b[8A\u001b[1K\u001b[K\u001b[8A\u001b[1K\u001b[K\u001b[8A\u001b[1K\u001b[K\u001b[8A\u001b[1K\u001b[K\u001b[8A\u001b[1K\u001b[K\u001b[8A\u001b[1K\u001b[K\u001b[8A\u001b[1K\u001b[K\u001b[8A\u001b[1K\u001b[K\u001b[8A\u001b[1K\u001b[K\u001b[8A\u001b[1K\u001b[K\u001b[8A\u001b[1K\u001b[K\u001b[8A\u001b[1K\u001b[K\u001b[8A\u001b[1K\u001b[K\u001b[8A\u001b[1K\u001b[K\u001b[8A\u001b[1K\u001b[K\u001b[8A\u001b[1K\u001b[K\u001b[8A\u001b[1K\u001b[K\u001b[8A\u001b[1K\u001b[K\u001b[8A\u001b[1K\u001b[K\u001b[8A\u001b[1K\u001b[K\u001b[8A\u001b[1K\u001b[K\u001b[8A\u001b[1K\u001b[K\u001b[8A\u001b[1K\u001b[K\u001b[8A\u001b[1K\u001b[K\u001b[8A\u001b[1K\u001b[K\u001b[8A\u001b[1K\u001b[K\u001b[8A\u001b[1K\u001b[K\u001b[8A\u001b[1K\u001b[K\u001b[8A\u001b[1K\u001b[K\u001b[8A\u001b[1K\u001b[K\u001b[8A\u001b[1K\u001b[K\u001b[8A\u001b[1K\u001b[K\u001b[8A\u001b[1K\u001b[K\u001b[8A\u001b[1K\u001b[K\u001b[8A\u001b[1K\u001b[K\u001b[8A\u001b[1K\u001b[K\u001b[8A\u001b[1K\u001b[K\u001b[8A\u001b[1K\u001b[K\u001b[8A\u001b[1K\u001b[K\u001b[8A\u001b[1K\u001b[K\u001b[8A\u001b[1K\u001b[K\u001b[8A\u001b[1K\u001b[K\u001b[8A\u001b[1K\u001b[K\u001b[8A\u001b[1K\u001b[K\u001b[8A\u001b[1K\u001b[K\u001b[8A\u001b[1K\u001b[K\u001b[8A\u001b[1K\u001b[K\u001b[8A\u001b[1K\u001b[K\u001b[8A\u001b[1K\u001b[K\u001b[8A\u001b[1K\u001b[K\u001b[8A\u001b[1K\u001b[K\u001b[8A\u001b[1K\u001b[K\u001b[8A\u001b[1K\u001b[K\u001b[8A\u001b[1K\u001b[K\u001b[8A\u001b[1K\u001b[K\u001b[8A\u001b[1K\u001b[K\u001b[8A\u001b[1K\u001b[K\u001b[8A\u001b[1K\u001b[K\u001b[8A\u001b[1K\u001b[K\u001b[8A\u001b[1K\u001b[K\u001b[8A\u001b[1K\u001b[K\u001b[8A\u001b[1K\u001b[K\u001b[8A\u001b[1K\u001b[K\u001b[8A\u001b[1K\u001b[K\u001b[8A\u001b[1K\u001b[K\u001b[8A\u001b[1K\u001b[K\u001b[8A\u001b[1K\u001b[K\u001b[8A\u001b[1K\u001b[K\u001b[8A\u001b[1K\u001b[K\u001b[8A\u001b[1K\u001b[K\u001b[8A\u001b[1K\u001b[K\u001b[8A\u001b[1K\u001b[K\u001b[8A\u001b[1K\u001b[K\u001b[8A\u001b[1K\u001b[K\u001b[8A\u001b[1K\u001b[K\u001b[8A\u001b[1K\u001b[K\u001b[8A\u001b[1K\u001b[K\u001b[8A\u001b[1K\u001b[K\u001b[8A\u001b[1K\u001b[K\u001b[8A\u001b[1K\u001b[K\u001b[8A\u001b[1K\u001b[K\u001b[8A\u001b[1K\u001b[K\u001b[8A\u001b[1K\u001b[K\u001b[8A\u001b[1K\u001b[K\u001b[8A\u001b[1K\u001b[K\u001b[8A\u001b[1K\u001b[K\u001b[8A\u001b[1K\u001b[K\u001b[8A\u001b[1K\u001b[K\u001b[8A\u001b[1K\u001b[K\u001b[8A\u001b[1K\u001b[K\u001b[8A\u001b[1K\u001b[K\u001b[8A\u001b[1K\u001b[K\u001b[8A\u001b[1K\u001b[K\u001b[8A\u001b[1K\u001b[K\u001b[8A\u001b[1K\u001b[K\u001b[8A\u001b[1K\u001b[K\u001b[8A\u001b[1K\u001b[K\u001b[8A\u001b[1K\u001b[K\u001b[8A\u001b[1K\u001b[K\u001b[8A\u001b[1K\u001b[K\u001b[8A\u001b[1K\u001b[K\u001b[8A\u001b[1K\u001b[K\u001b[8A\u001b[1K\u001b[K\u001b[8A\u001b[1K\u001b[K\u001b[8A\u001b[1K\u001b[K\u001b[8A\u001b[1K\u001b[K\u001b[8A\u001b[1K\u001b[K\u001b[8A\u001b[1K\u001b[K\u001b[8A\u001b[1K\u001b[K\u001b[8A\u001b[1K\u001b[K\u001b[8A\u001b[1K\u001b[K\u001b[8A\u001b[1K\u001b[K\u001b[8A\u001b[1K\u001b[K\u001b[8A\u001b[1K\u001b[K\u001b[8A\u001b[1K\u001b[K\u001b[8A\u001b[1K\u001b[K\u001b[8A\u001b[1K\u001b[K\u001b[8A\u001b[1K\u001b[K\u001b[8A\u001b[1K\u001b[K\u001b[8A\u001b[1K\u001b[K\u001b[8A\u001b[1K\u001b[K\u001b[8A\u001b[1K\u001b[K\u001b[8A\u001b[1K\u001b[K\u001b[8A\u001b[1K\u001b[K\u001b[8A\u001b[1K\u001b[K\u001b[8A\u001b[1K\u001b[K\u001b[8A\u001b[1K\u001b[K\u001b[8A\u001b[1K\u001b[K\u001b[8A\u001b[1K\u001b[K\u001b[8A\u001b[1K\u001b[K\u001b[8A\u001b[1K\u001b[K\u001b[8A\u001b[1K\u001b[K\u001b[8A\u001b[1K\u001b[K\u001b[8A\u001b[1K\u001b[K\u001b[8A\u001b[1K\u001b[K\u001b[8A\u001b[1K\u001b[K\u001b[8A\u001b[1K\u001b[K\u001b[8A\u001b[1K\u001b[K\u001b[8A\u001b[1K\u001b[K\u001b[8A\u001b[1K\u001b[K\u001b[8A\u001b[1K\u001b[K\u001b[8A\u001b[1K\u001b[K\u001b[8A\u001b[1K\u001b[K\u001b[8A\u001b[1K\u001b[K\u001b[8A\u001b[1K\u001b[K\u001b[8A\u001b[1K\u001b[K\u001b[8A\u001b[1K\u001b[K\u001b[8A\u001b[1K\u001b[K\u001b[8A\u001b[1K\u001b[K\u001b[8A\u001b[1K\u001b[K\u001b[8A\u001b[1K\u001b[K\u001b[8A\u001b[1K\u001b[K\u001b[8A\u001b[1K\u001b[K\u001b[8A\u001b[1K\u001b[K\u001b[8A\u001b[1K\u001b[K\u001b[8A\u001b[1K\u001b[K\u001b[8A\u001b[1K\u001b[K\u001b[8A\u001b[1K\u001b[K\u001b[8A\u001b[1K\u001b[K\u001b[8A\u001b[1K\u001b[K\u001b[8A\u001b[1K\u001b[K\u001b[8A\u001b[1K\u001b[K\u001b[8A\u001b[1K\u001b[K\u001b[8A\u001b[1K\u001b[K\u001b[8A\u001b[1K\u001b[K\u001b[8A\u001b[1K\u001b[K\u001b[8A\u001b[1K\u001b[K\u001b[8A\u001b[1K\u001b[K\u001b[8A\u001b[1K\u001b[K\u001b[8A\u001b[1K\u001b[K\u001b[8A\u001b[1K\u001b[K\u001b[8A\u001b[1K\u001b[K\u001b[8A\u001b[1K\u001b[K\u001b[8A\u001b[1K\u001b[K\u001b[8A\u001b[1K\u001b[K\u001b[8A\u001b[1K\u001b[K\u001b[8A\u001b[1K\u001b[K\u001b[8A\u001b[1K\u001b[K\u001b[8A\u001b[1K\u001b[K\u001b[8A\u001b[1K\u001b[K\u001b[8A\u001b[1K\u001b[K\u001b[8A\u001b[1K\u001b[K\u001b[8A\u001b[1K\u001b[K\u001b[8A\u001b[1K\u001b[K\u001b[8A\u001b[1K\u001b[K\u001b[8A\u001b[1K\u001b[K\u001b[8A\u001b[1K\u001b[K\u001b[8A\u001b[1K\u001b[K\u001b[8A\u001b[1K\u001b[K\u001b[8A\u001b[1K\u001b[K\u001b[8A\u001b[1K\u001b[K\u001b[8A\u001b[1K\u001b[K\u001b[8A\u001b[1K\u001b[K\u001b[8A\u001b[1K\u001b[K\u001b[8A\u001b[1K\u001b[K\u001b[8A\u001b[1K\u001b[K\u001b[8A\u001b[1K\u001b[K\u001b[8A\u001b[1K\u001b[K\u001b[8A\u001b[1K\u001b[K\u001b[8A\u001b[1K\u001b[K\u001b[8A\u001b[1K\u001b[K\u001b[8A\u001b[1K\u001b[K\u001b[8A\u001b[1K\u001b[K\u001b[8A\u001b[1K\u001b[K\u001b[8A\u001b[1K\u001b[K\u001b[8A\u001b[1K\u001b[K\u001b[8A\u001b[1K\u001b[K\u001b[8A\u001b[1K\u001b[K\u001b[8A\u001b[1K\u001b[K\u001b[8A\u001b[1K\u001b[K\u001b[8A\u001b[1K\u001b[K\u001b[8A\u001b[1K\u001b[K\u001b[8A\u001b[1K\u001b[K\u001b[8A\u001b[1K\u001b[K\u001b[8A\u001b[1K\u001b[K\u001b[8A\u001b[1K\u001b[K\u001b[8A\u001b[1K\u001b[K\u001b[8A\u001b[1K\u001b[K\u001b[8A\u001b[1K\u001b[K\u001b[8A\u001b[1K\u001b[K\u001b[8A\u001b[1K\u001b[K\u001b[8A\u001b[1K\u001b[K\u001b[8A\u001b[1K\u001b[K\u001b[8A\u001b[1K\u001b[K\u001b[8A\u001b[1K\u001b[K\u001b[8A\u001b[1K\u001b[K\u001b[8A\u001b[1K\u001b[K\u001b[8A\u001b[1K\u001b[K\u001b[8A\u001b[1K\u001b[K\u001b[8A\u001b[1K\u001b[K\u001b[8A\u001b[1K\u001b[K\u001b[8A\u001b[1K\u001b[K\u001b[8A\u001b[1K\u001b[K\u001b[8A\u001b[1K\u001b[K\u001b[8A\u001b[1K\u001b[K\u001b[8A\u001b[1K\u001b[K\u001b[8A\u001b[1K\u001b[K\u001b[8A\u001b[1K\u001b[K\u001b[8A\u001b[1K\u001b[K\u001b[8A\u001b[1K\u001b[K\u001b[8A\u001b[1K\u001b[K\u001b[8A\u001b[1K\u001b[K\u001b[8A\u001b[1K\u001b[K\u001b[8A\u001b[1K\u001b[K\u001b[8A\u001b[1K\u001b[K\u001b[8A\u001b[1K\u001b[K\u001b[8A\u001b[1K\u001b[K\u001b[8A\u001b[1K\u001b[K\u001b[8A\u001b[1K\u001b[K\u001b[8A\u001b[1K\u001b[K\u001b[8A\u001b[1K\u001b[K\u001b[8A\u001b[1K\u001b[K\u001b[8A\u001b[1K\u001b[K\u001b[8A\u001b[1K\u001b[K\u001b[8A\u001b[1K\u001b[K\u001b[8A\u001b[1K\u001b[K\u001b[8A\u001b[1K\u001b[K\u001b[8A\u001b[1K\u001b[K\u001b[8A\u001b[1K\u001b[K\u001b[8A\u001b[1K\u001b[K\u001b[8A\u001b[1K\u001b[K\u001b[8A\u001b[1K\u001b[K\u001b[8A\u001b[1K\u001b[K\u001b[8A\u001b[1K\u001b[K\u001b[8A\u001b[1K\u001b[K\u001b[8A\u001b[1K\u001b[K\u001b[8A\u001b[1K\u001b[K\u001b[8A\u001b[1K\u001b[K\u001b[8A\u001b[1K\u001b[K\u001b[8A\u001b[1K\u001b[K\u001b[8A\u001b[1K\u001b[K\u001b[8A\u001b[1K\u001b[K\u001b[8A\u001b[1K\u001b[K\u001b[8A\u001b[1K\u001b[K\u001b[8A\u001b[1K\u001b[K\u001b[8A\u001b[1K\u001b[K\u001b[8A\u001b[1K\u001b[K\u001b[8A\u001b[1K\u001b[K\u001b[8A\u001b[1K\u001b[K\u001b[8A\u001b[1K\u001b[K\u001b[8A\u001b[1K\u001b[K\u001b[8A\u001b[1K\u001b[K\u001b[8A\u001b[1K\u001b[K\u001b[8A\u001b[1K\u001b[K\u001b[8A\u001b[1K\u001b[K\u001b[8A\u001b[1K\u001b[K\u001b[8A\u001b[1K\u001b[K\u001b[8A\u001b[1K\u001b[K\u001b[8A\u001b[1K\u001b[K\u001b[8A\u001b[1K\u001b[K\u001b[8A\u001b[1K\u001b[K\u001b[8A\u001b[1K\u001b[K\u001b[8A\u001b[1K\u001b[K\u001b[8A\u001b[1K\u001b[K\u001b[8A\u001b[1K\u001b[K\u001b[8A\u001b[1K\u001b[K\u001b[8A\u001b[1K\u001b[K\u001b[8A\u001b[1K\u001b[K\u001b[8A\u001b[1K\u001b[K\u001b[8A\u001b[1K\u001b[K\u001b[8A\u001b[1K\u001b[K\u001b[8A\u001b[1K\u001b[K\u001b[8A\u001b[1K\u001b[K\u001b[8A\u001b[1K\u001b[K\u001b[8A\u001b[1K\u001b[K\u001b[8A\u001b[1K\u001b[K\u001b[8A\u001b[1K\u001b[K\u001b[8A\u001b[1K\u001b[K\u001b[8A\u001b[1K\u001b[K\u001b[8A\u001b[1K\u001b[K\u001b[8A\u001b[1K\u001b[K\u001b[8A\u001b[1K\u001b[K\u001b[8A\u001b[1K\u001b[K\u001b[8A\u001b[1K\u001b[K\u001b[8A\u001b[1K\u001b[K\u001b[8A\u001b[1K\u001b[K\u001b[8A\u001b[1K\u001b[K\u001b[8A\u001b[1K\u001b[K\u001b[8A\u001b[1K\u001b[K\u001b[8A\u001b[1K\u001b[K\u001b[8A\u001b[1K\u001b[K\u001b[8A\u001b[1K\u001b[K\u001b[8A\u001b[1K\u001b[K\u001b[8A\u001b[1K\u001b[K\u001b[8A\u001b[1K\u001b[K\u001b[8A\u001b[1K\u001b[K\u001b[8A\u001b[1K\u001b[K\u001b[8A\u001b[1K\u001b[K\u001b[8A\u001b[1K\u001b[K\u001b[8A\u001b[1K\u001b[K\u001b[8A\u001b[1K\u001b[K\u001b[8A\u001b[1K\u001b[K\u001b[8A\u001b[1K\u001b[K\u001b[8A\u001b[1K\u001b[K\u001b[8A\u001b[1K\u001b[K\u001b[8A\u001b[1K\u001b[K\u001b[8A\u001b[1K\u001b[K\u001b[8A\u001b[1K\u001b[K\u001b[8A\u001b[1K\u001b[K\u001b[8A\u001b[1K\u001b[K\u001b[8A\u001b[1K\u001b[K\u001b[8A\u001b[1K\u001b[K\u001b[8A\u001b[1K\u001b[K\u001b[8A\u001b[1K\u001b[K\u001b[8A\u001b[1K\u001b[K\u001b[8A\u001b[1K\u001b[K\u001b[8A\u001b[1K\u001b[K\u001b[8A\u001b[1K\u001b[K\u001b[8A\u001b[1K\u001b[K\u001b[8A\u001b[1K\u001b[K\u001b[8A\u001b[1K\u001b[K\u001b[8A\u001b[1K\u001b[K\u001b[8A\u001b[1K\u001b[K\u001b[8A\u001b[1K\u001b[K\u001b[8A\u001b[1K\u001b[K\u001b[8A\u001b[1K\u001b[K\u001b[8A\u001b[1K\u001b[K\u001b[8A\u001b[1K\u001b[K\u001b[8A\u001b[1K\u001b[K\u001b[8A\u001b[1K\u001b[K\u001b[8A\u001b[1K\u001b[K\u001b[8A\u001b[1K\u001b[K\u001b[8A\u001b[1K\u001b[K\u001b[8A\u001b[1K\u001b[K\u001b[8A\u001b[1K\u001b[K\u001b[8A\u001b[1K\u001b[K\u001b[8A\u001b[1K\u001b[KPushing  1.643GB/2.506GB\u001b[8A\u001b[1K\u001b[K\u001b[8A\u001b[1K\u001b[K\u001b[8A\u001b[1K\u001b[K\u001b[8A\u001b[1K\u001b[K\u001b[8A\u001b[1K\u001b[K\u001b[8A\u001b[1K\u001b[K\u001b[8A\u001b[1K\u001b[K\u001b[8A\u001b[1K\u001b[K\u001b[8A\u001b[1K\u001b[K\u001b[8A\u001b[1K\u001b[K\u001b[8A\u001b[1K\u001b[K\u001b[8A\u001b[1K\u001b[K\u001b[8A\u001b[1K\u001b[K\u001b[8A\u001b[1K\u001b[K\u001b[8A\u001b[1K\u001b[K\u001b[8A\u001b[1K\u001b[K\u001b[8A\u001b[1K\u001b[K\u001b[8A\u001b[1K\u001b[K\u001b[8A\u001b[1K\u001b[K\u001b[8A\u001b[1K\u001b[K\u001b[8A\u001b[1K\u001b[K\u001b[8A\u001b[1K\u001b[K\u001b[8A\u001b[1K\u001b[K\u001b[8A\u001b[1K\u001b[K\u001b[8A\u001b[1K\u001b[K\u001b[8A\u001b[1K\u001b[K\u001b[8A\u001b[1K\u001b[K\u001b[8A\u001b[1K\u001b[K\u001b[8A\u001b[1K\u001b[K\u001b[8A\u001b[1K\u001b[K\u001b[8A\u001b[1K\u001b[K\u001b[8A\u001b[1K\u001b[K\u001b[8A\u001b[1K\u001b[K\u001b[8A\u001b[1K\u001b[K\u001b[8A\u001b[1K\u001b[K\u001b[8A\u001b[1K\u001b[K\u001b[8A\u001b[1K\u001b[K\u001b[8A\u001b[1K\u001b[K\u001b[8A\u001b[1K\u001b[K\u001b[8A\u001b[1K\u001b[K\u001b[8A\u001b[1K\u001b[K\u001b[8A\u001b[1K\u001b[K\u001b[8A\u001b[1K\u001b[K\u001b[8A\u001b[1K\u001b[K\u001b[8A\u001b[1K\u001b[K\u001b[8A\u001b[1K\u001b[K\u001b[8A\u001b[1K\u001b[K\u001b[8A\u001b[1K\u001b[K\u001b[8A\u001b[1K\u001b[K\u001b[8A\u001b[1K\u001b[K\u001b[8A\u001b[1K\u001b[K\u001b[8A\u001b[1K\u001b[K\u001b[8A\u001b[1K\u001b[K\u001b[8A\u001b[1K\u001b[K\u001b[8A\u001b[1K\u001b[K\u001b[8A\u001b[1K\u001b[K\u001b[8A\u001b[1K\u001b[K\u001b[8A\u001b[1K\u001b[K\u001b[8A\u001b[1K\u001b[K\u001b[8A\u001b[1K\u001b[K\u001b[8A\u001b[1K\u001b[K\u001b[8A\u001b[1K\u001b[K\u001b[8A\u001b[1K\u001b[K\u001b[8A\u001b[1K\u001b[K\u001b[8A\u001b[1K\u001b[K\u001b[8A\u001b[1K\u001b[K\u001b[8A\u001b[1K\u001b[K"
     ]
    },
    {
     "name": "stdout",
     "output_type": "stream",
     "text": [
      "\u001b[8B83394d48: Pushed   2.556GB/2.506GB\u001b[8A\u001b[1K\u001b[K\u001b[8A\u001b[1K\u001b[K\u001b[8A\u001b[1K\u001b[K\u001b[8A\u001b[1K\u001b[K\u001b[8A\u001b[1K\u001b[K\u001b[8A\u001b[1K\u001b[K\u001b[8A\u001b[1K\u001b[K\u001b[8A\u001b[1K\u001b[K\u001b[8A\u001b[1K\u001b[K\u001b[8A\u001b[1K\u001b[K\u001b[8A\u001b[1K\u001b[K\u001b[8A\u001b[1K\u001b[K\u001b[8A\u001b[1K\u001b[K\u001b[8A\u001b[1K\u001b[K\u001b[8A\u001b[1K\u001b[K\u001b[8A\u001b[1K\u001b[K\u001b[8A\u001b[1K\u001b[K\u001b[8A\u001b[1K\u001b[K\u001b[8A\u001b[1K\u001b[K\u001b[8A\u001b[1K\u001b[K\u001b[8A\u001b[1K\u001b[K\u001b[8A\u001b[1K\u001b[K\u001b[8A\u001b[1K\u001b[K\u001b[8A\u001b[1K\u001b[K\u001b[8A\u001b[1K\u001b[K\u001b[8A\u001b[1K\u001b[K\u001b[8A\u001b[1K\u001b[K\u001b[8A\u001b[1K\u001b[K\u001b[8A\u001b[1K\u001b[K\u001b[8A\u001b[1K\u001b[K\u001b[8A\u001b[1K\u001b[K\u001b[8A\u001b[1K\u001b[K\u001b[8A\u001b[1K\u001b[K\u001b[8A\u001b[1K\u001b[K\u001b[8A\u001b[1K\u001b[K\u001b[8A\u001b[1K\u001b[K\u001b[8A\u001b[1K\u001b[K\u001b[8A\u001b[1K\u001b[K\u001b[8A\u001b[1K\u001b[K\u001b[8A\u001b[1K\u001b[K\u001b[8A\u001b[1K\u001b[K\u001b[8A\u001b[1K\u001b[K\u001b[8A\u001b[1K\u001b[K\u001b[8A\u001b[1K\u001b[K\u001b[8A\u001b[1K\u001b[K\u001b[8A\u001b[1K\u001b[K\u001b[8A\u001b[1K\u001b[K\u001b[8A\u001b[1K\u001b[K\u001b[8A\u001b[1K\u001b[K\u001b[8A\u001b[1K\u001b[K\u001b[8A\u001b[1K\u001b[K\u001b[8A\u001b[1K\u001b[K\u001b[8A\u001b[1K\u001b[K\u001b[8A\u001b[1K\u001b[K\u001b[8A\u001b[1K\u001b[K\u001b[8A\u001b[1K\u001b[K\u001b[8A\u001b[1K\u001b[K\u001b[8A\u001b[1K\u001b[K\u001b[8A\u001b[1K\u001b[K\u001b[8A\u001b[1K\u001b[K\u001b[8A\u001b[1K\u001b[K\u001b[8A\u001b[1K\u001b[K\u001b[8A\u001b[1K\u001b[K\u001b[8A\u001b[1K\u001b[K\u001b[8A\u001b[1K\u001b[K\u001b[8A\u001b[1K\u001b[K\u001b[8A\u001b[1K\u001b[K\u001b[8A\u001b[1K\u001b[K\u001b[8A\u001b[1K\u001b[K\u001b[8A\u001b[1K\u001b[K\u001b[8A\u001b[1K\u001b[K\u001b[8A\u001b[1K\u001b[K\u001b[8A\u001b[1K\u001b[K\u001b[8A\u001b[1K\u001b[K\u001b[8A\u001b[1K\u001b[K\u001b[8A\u001b[1K\u001b[K\u001b[8A\u001b[1K\u001b[K\u001b[8A\u001b[1K\u001b[K\u001b[8A\u001b[1K\u001b[K\u001b[8A\u001b[1K\u001b[K\u001b[8A\u001b[1K\u001b[K\u001b[8A\u001b[1K\u001b[K\u001b[8A\u001b[1K\u001b[K\u001b[8A\u001b[1K\u001b[K\u001b[8A\u001b[1K\u001b[K\u001b[8A\u001b[1K\u001b[K\u001b[8A\u001b[1K\u001b[K\u001b[8A\u001b[1K\u001b[K\u001b[8A\u001b[1K\u001b[K\u001b[8A\u001b[1K\u001b[K\u001b[8A\u001b[1K\u001b[K\u001b[8A\u001b[1K\u001b[K\u001b[8A\u001b[1K\u001b[K\u001b[8A\u001b[1K\u001b[K\u001b[8A\u001b[1K\u001b[K\u001b[8A\u001b[1K\u001b[K\u001b[8A\u001b[1K\u001b[K\u001b[8A\u001b[1K\u001b[K\u001b[8A\u001b[1K\u001b[K\u001b[8A\u001b[1K\u001b[K\u001b[8A\u001b[1K\u001b[K\u001b[8A\u001b[1K\u001b[K\u001b[8A\u001b[1K\u001b[K\u001b[8A\u001b[1K\u001b[K\u001b[8A\u001b[1K\u001b[K\u001b[8A\u001b[1K\u001b[K\u001b[8A\u001b[1K\u001b[K\u001b[8A\u001b[1K\u001b[K\u001b[8A\u001b[1K\u001b[K\u001b[8A\u001b[1K\u001b[K\u001b[8A\u001b[1K\u001b[K\u001b[8A\u001b[1K\u001b[K\u001b[8A\u001b[1K\u001b[K\u001b[8A\u001b[1K\u001b[K\u001b[8A\u001b[1K\u001b[K\u001b[8A\u001b[1K\u001b[K\u001b[8A\u001b[1K\u001b[K\u001b[8A\u001b[1K\u001b[K\u001b[8A\u001b[1K\u001b[K\u001b[8A\u001b[1K\u001b[K\u001b[8A\u001b[1K\u001b[K\u001b[8A\u001b[1K\u001b[K\u001b[8A\u001b[1K\u001b[K\u001b[8A\u001b[1K\u001b[K\u001b[8A\u001b[1K\u001b[K\u001b[8A\u001b[1K\u001b[K\u001b[8A\u001b[1K\u001b[K\u001b[8A\u001b[1K\u001b[K\u001b[8A\u001b[1K\u001b[K\u001b[8A\u001b[1K\u001b[K\u001b[8A\u001b[1K\u001b[K\u001b[8A\u001b[1K\u001b[K\u001b[8A\u001b[1K\u001b[K\u001b[8A\u001b[1K\u001b[K\u001b[8A\u001b[1K\u001b[K\u001b[8A\u001b[1K\u001b[K\u001b[8A\u001b[1K\u001b[K\u001b[8A\u001b[1K\u001b[K\u001b[8A\u001b[1K\u001b[K\u001b[8A\u001b[1K\u001b[K\u001b[8A\u001b[1K\u001b[K\u001b[8A\u001b[1K\u001b[K\u001b[8A\u001b[1K\u001b[K\u001b[8A\u001b[1K\u001b[K\u001b[8A\u001b[1K\u001b[K\u001b[8A\u001b[1K\u001b[K\u001b[8A\u001b[1K\u001b[K\u001b[8A\u001b[1K\u001b[K\u001b[8A\u001b[1K\u001b[K\u001b[8A\u001b[1K\u001b[K\u001b[8A\u001b[1K\u001b[K\u001b[8A\u001b[1K\u001b[K\u001b[8A\u001b[1K\u001b[K\u001b[8A\u001b[1K\u001b[K\u001b[8A\u001b[1K\u001b[K\u001b[8A\u001b[1K\u001b[K\u001b[8A\u001b[1K\u001b[K\u001b[8A\u001b[1K\u001b[K\u001b[8A\u001b[1K\u001b[K\u001b[8A\u001b[1K\u001b[K\u001b[8A\u001b[1K\u001b[K\u001b[8A\u001b[1K\u001b[K\u001b[8A\u001b[1K\u001b[K\u001b[8A\u001b[1K\u001b[K\u001b[8A\u001b[1K\u001b[K\u001b[8A\u001b[1K\u001b[K\u001b[8A\u001b[1K\u001b[K\u001b[8A\u001b[1K\u001b[K\u001b[8A\u001b[1K\u001b[K\u001b[8A\u001b[1K\u001b[K\u001b[8A\u001b[1K\u001b[K\u001b[8A\u001b[1K\u001b[K\u001b[8A\u001b[1K\u001b[K\u001b[8A\u001b[1K\u001b[K\u001b[8A\u001b[1K\u001b[K\u001b[8A\u001b[1K\u001b[K\u001b[8A\u001b[1K\u001b[K\u001b[8A\u001b[1K\u001b[K\u001b[8A\u001b[1K\u001b[K\u001b[8A\u001b[1K\u001b[K\u001b[8A\u001b[1K\u001b[K\u001b[8A\u001b[1K\u001b[K\u001b[8A\u001b[1K\u001b[K\u001b[8A\u001b[1K\u001b[K\u001b[8A\u001b[1K\u001b[K\u001b[8A\u001b[1K\u001b[K\u001b[8A\u001b[1K\u001b[K\u001b[8A\u001b[1K\u001b[K\u001b[8A\u001b[1K\u001b[K\u001b[8A\u001b[1K\u001b[K\u001b[8A\u001b[1K\u001b[K\u001b[8A\u001b[1K\u001b[K\u001b[8A\u001b[1K\u001b[K\u001b[8A\u001b[1K\u001b[K\u001b[8A\u001b[1K\u001b[K\u001b[8A\u001b[1K\u001b[K\u001b[8A\u001b[1K\u001b[K\u001b[8A\u001b[1K\u001b[K\u001b[8A\u001b[1K\u001b[K\u001b[8A\u001b[1K\u001b[K\u001b[8A\u001b[1K\u001b[K\u001b[8A\u001b[1K\u001b[K\u001b[8A\u001b[1K\u001b[K\u001b[8A\u001b[1K\u001b[K\u001b[8A\u001b[1K\u001b[K\u001b[8A\u001b[1K\u001b[K\u001b[8A\u001b[1K\u001b[K\u001b[8A\u001b[1K\u001b[K\u001b[8A\u001b[1K\u001b[K\u001b[8A\u001b[1K\u001b[K\u001b[8A\u001b[1K\u001b[K\u001b[8A\u001b[1K\u001b[K\u001b[8A\u001b[1K\u001b[K\u001b[8A\u001b[1K\u001b[K\u001b[8A\u001b[1K\u001b[K\u001b[8A\u001b[1K\u001b[K\u001b[8A\u001b[1K\u001b[K\u001b[8A\u001b[1K\u001b[K\u001b[8A\u001b[1K\u001b[K\u001b[8A\u001b[1K\u001b[K\u001b[8A\u001b[1K\u001b[K\u001b[8A\u001b[1K\u001b[K\u001b[8A\u001b[1K\u001b[K\u001b[8A\u001b[1K\u001b[K\u001b[8A\u001b[1K\u001b[K\u001b[8A\u001b[1K\u001b[K\u001b[8A\u001b[1K\u001b[K\u001b[8A\u001b[1K\u001b[K\u001b[8A\u001b[1K\u001b[K\u001b[8A\u001b[1K\u001b[K\u001b[8A\u001b[1K\u001b[K\u001b[8A\u001b[1K\u001b[Ksdk.v.1.0.17: digest: sha256:a62453827fd1410bf145c23809050c1cf8325337a3878c77d49b783694981b5c size: 2003\n"
     ]
    }
   ],
   "source": [
    "# !docker login -u=$docker_login -p=\n",
    "!docker push $docker_image_name"
   ]
  },
  {
   "cell_type": "markdown",
   "metadata": {},
   "source": [
    "### To run aml SDK, ssh into a vm, run the command below and then go to: \n",
    "your_vm.eastus2.cloudapp.azure.com:9001/  \n",
    "  \n",
    "Make sure the host port (9001) is open in the VM.  "
   ]
  },
  {
   "cell_type": "code",
   "execution_count": 13,
   "metadata": {},
   "outputs": [
    {
     "name": "stdout",
     "output_type": "stream",
     "text": [
      "docker run -it -p 9001:8888 -v /datadrive01/prj/PowerAIWithDocker/amlsdk/../:/workspace:rw georgedockeraccount/aml-sdk_docker_image:sdk.v.1.0.17 /bin/bash -c \"jupyter notebook --notebook-dir=/workspace --ip=* --port=8888 --no-browser --allow-root\"\r\n"
     ]
    }
   ],
   "source": [
    "!echo docker run -it -p 9001:8888 -v $(pwd)/../:/workspace:rw $docker_image_name /bin/bash -c '\"jupyter notebook --notebook-dir=/workspace --ip='*' --port=8888 --no-browser --allow-root\"'"
   ]
  },
  {
   "cell_type": "markdown",
   "metadata": {},
   "source": [
    "### Run short tests\n",
    "Run ' import azureml.core; print(\"AML SDK version:\", azureml.core.VERSION) ' in plain python and in a notebook.\n",
    "  \n",
    "Compare the SDK version against latest AML SDK [relese notes](https://docs.microsoft.com/en-us/azure/machine-learning/service/azure-machine-learning-release-notes)"
   ]
  },
  {
   "cell_type": "code",
   "execution_count": 14,
   "metadata": {},
   "outputs": [
    {
     "name": "stdout",
     "output_type": "stream",
     "text": [
      "docker run georgedockeraccount/aml-sdk_docker_image:sdk.v.1.0.17 /bin/bash -c python -c 'import azureml.core;print(azureml.core.VERSION)'\n",
      "1.0.17\n"
     ]
    }
   ],
   "source": [
    "!echo docker run  $docker_image_name /bin/bash -c \"python -c 'import azureml.core;print(azureml.core.VERSION)'\"\n",
    "!docker run  $docker_image_name /bin/bash -c \"python -c 'import azureml.core;print(azureml.core.VERSION)'\""
   ]
  },
  {
   "cell_type": "markdown",
   "metadata": {},
   "source": [
    "#### Do the same in a  notebook"
   ]
  },
  {
   "cell_type": "code",
   "execution_count": 15,
   "metadata": {},
   "outputs": [],
   "source": [
    "test_notebook_base_name = 'test_aml_sdk_docker_image'\n",
    "test_notebook_name = test_notebook_base_name+'.ipynb'"
   ]
  },
  {
   "cell_type": "code",
   "execution_count": 16,
   "metadata": {},
   "outputs": [
    {
     "name": "stdout",
     "output_type": "stream",
     "text": [
      "Writing /datadrive01/prj/PowerAIWithDocker/amlsdk/docker_run_dir/test_aml_sdk_docker_image.ipynb\n"
     ]
    }
   ],
   "source": [
    "%%writefile $crt_local_dir/$test_notebook_name\n",
    "\n",
    "{\n",
    " \"cells\": [\n",
    "  {\n",
    "   \"cell_type\": \"code\",\n",
    "   \"execution_count\": 3,\n",
    "   \"metadata\": {},\n",
    "   \"outputs\": [\n",
    "    {\n",
    "     \"name\": \"stdout\",\n",
    "     \"output_type\": \"stream\",\n",
    "     \"text\": [\n",
    "      \"AML SDK version: 0.1.68\\n\"\n",
    "     ]\n",
    "    }\n",
    "   ],\n",
    "   \"source\": [\n",
    "    \"# Check core SDK version number\\n\",\n",
    "    \"import azureml.core\\n\",\n",
    "    \"\\n\",\n",
    "    \"print(\\\"AML SDK version:\\\", azureml.core.VERSION)\"\n",
    "   ]\n",
    "  },\n",
    "  {\n",
    "   \"cell_type\": \"code\",\n",
    "   \"execution_count\": null,\n",
    "   \"metadata\": {},\n",
    "   \"outputs\": [],\n",
    "   \"source\": []\n",
    "  }\n",
    " ],\n",
    " \"metadata\": {\n",
    "  \"kernelspec\": {\n",
    "   \"display_name\": \"Python [conda env:aml-sdk-conda-env]\",\n",
    "   \"language\": \"python\",\n",
    "   \"name\": \"conda-env-aml-sdk-conda-env-py\"\n",
    "  },\n",
    "  \"language_info\": {\n",
    "   \"codemirror_mode\": {\n",
    "    \"name\": \"ipython\",\n",
    "    \"version\": 3\n",
    "   },\n",
    "   \"file_extension\": \".py\",\n",
    "   \"mimetype\": \"text/x-python\",\n",
    "   \"name\": \"python\",\n",
    "   \"nbconvert_exporter\": \"python\",\n",
    "   \"pygments_lexer\": \"ipython3\",\n",
    "   \"version\": \"3.6.6\"\n",
    "  }\n",
    " },\n",
    " \"nbformat\": 4,\n",
    " \"nbformat_minor\": 2\n",
    "}\n"
   ]
  },
  {
   "cell_type": "code",
   "execution_count": 17,
   "metadata": {},
   "outputs": [
    {
     "name": "stdout",
     "output_type": "stream",
     "text": [
      "total 4\r\n",
      "-rw-rw-r-- 1 loginvm001 loginvm001 982 Feb 26 17:34 test_aml_sdk_docker_image.ipynb\r\n"
     ]
    }
   ],
   "source": [
    "!ls -l $crt_local_dir"
   ]
  },
  {
   "cell_type": "markdown",
   "metadata": {},
   "source": [
    "#### Run the notebook and see the new SDK version\n"
   ]
  },
  {
   "cell_type": "code",
   "execution_count": 18,
   "metadata": {},
   "outputs": [
    {
     "name": "stdout",
     "output_type": "stream",
     "text": [
      "Available kernels:\n",
      "  python3    /opt/conda/envs/aml-sdk-conda-env/share/jupyter/kernels/python3\n",
      "[NbConvertApp] Converting notebook /workspace/test_aml_sdk_docker_image.ipynb to notebook\n",
      "[NbConvertApp] Executing notebook with kernel: python3\n",
      "[NbConvertApp] Writing 979 bytes to /workspace/test_aml_sdk_docker_image.nbconvert.ipynb\n"
     ]
    }
   ],
   "source": [
    "!docker run -v $crt_local_dir:/workspace:rw $docker_image_name /bin/bash -c \"jupyter kernelspec list && jupyter nbconvert --ExecutePreprocessor.kernel_name=python3 --execute --to notebook  /workspace/test_aml_sdk_docker_image.ipynb\""
   ]
  },
  {
   "cell_type": "code",
   "execution_count": 19,
   "metadata": {},
   "outputs": [
    {
     "name": "stdout",
     "output_type": "stream",
     "text": [
      "{\r\n",
      " \"cells\": [\r\n",
      "  {\r\n",
      "   \"cell_type\": \"code\",\r\n",
      "   \"execution_count\": 1,\r\n",
      "   \"metadata\": {},\r\n",
      "   \"outputs\": [\r\n",
      "    {\r\n",
      "     \"name\": \"stdout\",\r\n",
      "     \"output_type\": \"stream\",\r\n",
      "     \"text\": [\r\n",
      "      \"AML SDK version: 1.0.17\\n\"\r\n",
      "     ]\r\n",
      "    }\r\n",
      "   ],\r\n",
      "   \"source\": [\r\n",
      "    \"# Check core SDK version number\\n\",\r\n",
      "    \"import azureml.core\\n\",\r\n",
      "    \"\\n\",\r\n",
      "    \"print(\\\"AML SDK version:\\\", azureml.core.VERSION)\"\r\n",
      "   ]\r\n",
      "  },\r\n",
      "  {\r\n",
      "   \"cell_type\": \"code\",\r\n",
      "   \"execution_count\": 2,\r\n",
      "   \"metadata\": {},\r\n",
      "   \"outputs\": [],\r\n",
      "   \"source\": []\r\n",
      "  }\r\n",
      " ],\r\n",
      " \"metadata\": {\r\n",
      "  \"kernelspec\": {\r\n",
      "   \"display_name\": \"Python [conda env:aml-sdk-conda-env]\",\r\n",
      "   \"language\": \"python\",\r\n",
      "   \"name\": \"conda-env-aml-sdk-conda-env-py\"\r\n",
      "  },\r\n",
      "  \"language_info\": {\r\n",
      "   \"codemirror_mode\": {\r\n",
      "    \"name\": \"ipython\",\r\n",
      "    \"version\": 3\r\n",
      "   },\r\n",
      "   \"file_extension\": \".py\",\r\n",
      "   \"mimetype\": \"text/x-python\",\r\n",
      "   \"name\": \"python\",\r\n",
      "   \"nbconvert_exporter\": \"python\",\r\n",
      "   \"pygments_lexer\": \"ipython3\",\r\n",
      "   \"version\": \"3.6.6\"\r\n",
      "  }\r\n",
      " },\r\n",
      " \"nbformat\": 4,\r\n",
      " \"nbformat_minor\": 2\r\n",
      "}\r\n"
     ]
    }
   ],
   "source": [
    "output_file = test_notebook_base_name+'.nbconvert.ipynb'\n",
    "!cat $crt_local_dir/$output_file"
   ]
  },
  {
   "cell_type": "code",
   "execution_count": 20,
   "metadata": {
    "nbpresent": {
     "id": "3cac05d2-2fbc-420e-90c3-823f734fe26e"
    }
   },
   "outputs": [
    {
     "name": "stdout",
     "output_type": "stream",
     "text": [
      "[NbConvertApp] Converting notebook createAMLSDKDocker.ipynb to html\n",
      "[NbConvertApp] Writing 353677 bytes to createAMLSDKDocker.html\n"
     ]
    }
   ],
   "source": [
    "!jupyter nbconvert --to html createAMLSDKDocker.ipynb"
   ]
  }
 ],
 "metadata": {
  "kernelspec": {
   "display_name": "Python [conda env:py35]",
   "language": "python",
   "name": "conda-env-py35-py"
  },
  "language_info": {
   "codemirror_mode": {
    "name": "ipython",
    "version": 3
   },
   "file_extension": ".py",
   "mimetype": "text/x-python",
   "name": "python",
   "nbconvert_exporter": "python",
   "pygments_lexer": "ipython3",
   "version": "3.5.5"
  }
 },
 "nbformat": 4,
 "nbformat_minor": 2
}
